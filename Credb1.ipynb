{
 "cells": [
  {
   "cell_type": "code",
   "execution_count": 1,
   "metadata": {},
   "outputs": [
    {
     "data": {
      "text/html": [
       "'/Users/inkyoseo'"
      ],
      "text/latex": [
       "'/Users/inkyoseo'"
      ],
      "text/markdown": [
       "'/Users/inkyoseo'"
      ],
      "text/plain": [
       "[1] \"/Users/inkyoseo\""
      ]
     },
     "metadata": {},
     "output_type": "display_data"
    }
   ],
   "source": [
    "getwd()"
   ]
  },
  {
   "cell_type": "code",
   "execution_count": 11,
   "metadata": {},
   "outputs": [
    {
     "name": "stderr",
     "output_type": "stream",
     "text": [
      "Updating HTML index of packages in '.Library'\n",
      "Making 'packages.html' ... done\n"
     ]
    }
   ],
   "source": [
    "install.packages('reshape')"
   ]
  },
  {
   "cell_type": "code",
   "execution_count": 12,
   "metadata": {},
   "outputs": [
    {
     "name": "stderr",
     "output_type": "stream",
     "text": [
      "Warning message in install.packages(\"data.table\"):\n",
      "“installation of package ‘data.table’ had non-zero exit status”Updating HTML index of packages in '.Library'\n",
      "Making 'packages.html' ... done\n"
     ]
    }
   ],
   "source": [
    "install.packages('data.table')"
   ]
  },
  {
   "cell_type": "code",
   "execution_count": 13,
   "metadata": {},
   "outputs": [
    {
     "name": "stderr",
     "output_type": "stream",
     "text": [
      "Warning message in install.packages(\"purrr\"):\n",
      "“installation of package ‘purrr’ had non-zero exit status”Updating HTML index of packages in '.Library'\n",
      "Making 'packages.html' ... done\n"
     ]
    }
   ],
   "source": [
    "install.packages('purrr')"
   ]
  },
  {
   "cell_type": "code",
   "execution_count": 2,
   "metadata": {},
   "outputs": [],
   "source": [
    "setwd(\"/Users/inkyoseo/Desktop/Jupyter lab\")"
   ]
  },
  {
   "cell_type": "code",
   "execution_count": 3,
   "metadata": {},
   "outputs": [],
   "source": [
    "library(purrr)"
   ]
  },
  {
   "cell_type": "code",
   "execution_count": 4,
   "metadata": {},
   "outputs": [
    {
     "name": "stderr",
     "output_type": "stream",
     "text": [
      "\n",
      "Attaching package: ‘dplyr’\n",
      "\n",
      "The following objects are masked from ‘package:stats’:\n",
      "\n",
      "    filter, lag\n",
      "\n",
      "The following objects are masked from ‘package:base’:\n",
      "\n",
      "    intersect, setdiff, setequal, union\n",
      "\n"
     ]
    }
   ],
   "source": [
    "library(dplyr)"
   ]
  },
  {
   "cell_type": "code",
   "execution_count": 5,
   "metadata": {},
   "outputs": [
    {
     "name": "stderr",
     "output_type": "stream",
     "text": [
      "\n",
      "Attaching package: ‘data.table’\n",
      "\n",
      "The following objects are masked from ‘package:dplyr’:\n",
      "\n",
      "    between, first, last\n",
      "\n",
      "The following object is masked from ‘package:purrr’:\n",
      "\n",
      "    transpose\n",
      "\n"
     ]
    }
   ],
   "source": [
    "library(data.table)"
   ]
  },
  {
   "cell_type": "code",
   "execution_count": 6,
   "metadata": {},
   "outputs": [
    {
     "name": "stderr",
     "output_type": "stream",
     "text": [
      "\n",
      "Attaching package: ‘reshape’\n",
      "\n",
      "The following object is masked from ‘package:data.table’:\n",
      "\n",
      "    melt\n",
      "\n",
      "The following object is masked from ‘package:dplyr’:\n",
      "\n",
      "    rename\n",
      "\n"
     ]
    }
   ],
   "source": [
    "library(reshape)"
   ]
  },
  {
   "cell_type": "markdown",
   "metadata": {},
   "source": [
    "# 청구지급상세사유정보 테이블"
   ]
  },
  {
   "cell_type": "code",
   "execution_count": 7,
   "metadata": {},
   "outputs": [],
   "source": [
    "PMNT <- read.csv(file = \"SDBSAMPLE_I_PT_PMNTDTL.csv\", header = T, stringsAsFactors = T, sep = \",\")"
   ]
  },
  {
   "cell_type": "code",
   "execution_count": 15,
   "metadata": {},
   "outputs": [
    {
     "data": {
      "text/html": [
       "<table>\n",
       "<thead><tr><th scope=col>ACCD_SN</th><th scope=col>REQ_SN</th><th scope=col>SCTR_CD</th><th scope=col>POL_SN</th><th scope=col>VCTM_SN</th><th scope=col>PMNT_RESN_CD</th><th scope=col>PMNT_DT</th><th scope=col>PMNT_RESN_DTL_CD</th><th scope=col>PMNT_DTL_SN</th><th scope=col>PMNT_AMT</th></tr></thead>\n",
       "<tbody>\n",
       "\t<tr><td> 798431</td><td> 672648</td><td>6      </td><td>9215977</td><td> 665   </td><td>A1009  </td><td>201908 </td><td> 1     </td><td>1      </td><td>  36   </td></tr>\n",
       "\t<tr><td> 735257</td><td>  99192</td><td>6      </td><td>5078789</td><td>2547   </td><td>B2002  </td><td>201910 </td><td> 1     </td><td>1      </td><td> 230   </td></tr>\n",
       "\t<tr><td> 259878</td><td> 218505</td><td>6      </td><td>9522937</td><td>2063   </td><td>C1003  </td><td>202004 </td><td>12     </td><td>1      </td><td>1600   </td></tr>\n",
       "\t<tr><td>1170722</td><td> 986153</td><td>6      </td><td>9304011</td><td>1941   </td><td>C1003  </td><td>201912 </td><td>11     </td><td>1      </td><td> 150   </td></tr>\n",
       "\t<tr><td>1234990</td><td>1398659</td><td>8      </td><td>2956956</td><td>2947   </td><td>A1007  </td><td>202002 </td><td> 1     </td><td>1      </td><td> 160   </td></tr>\n",
       "\t<tr><td>1595026</td><td>1344185</td><td>6      </td><td>8932756</td><td> 665   </td><td>B2002  </td><td>201912 </td><td> 1     </td><td>1      </td><td>  10   </td></tr>\n",
       "</tbody>\n",
       "</table>\n"
      ],
      "text/latex": [
       "\\begin{tabular}{r|llllllllll}\n",
       " ACCD\\_SN & REQ\\_SN & SCTR\\_CD & POL\\_SN & VCTM\\_SN & PMNT\\_RESN\\_CD & PMNT\\_DT & PMNT\\_RESN\\_DTL\\_CD & PMNT\\_DTL\\_SN & PMNT\\_AMT\\\\\n",
       "\\hline\n",
       "\t  798431 &  672648 & 6       & 9215977 &  665    & A1009   & 201908  &  1      & 1       &   36   \\\\\n",
       "\t  735257 &   99192 & 6       & 5078789 & 2547    & B2002   & 201910  &  1      & 1       &  230   \\\\\n",
       "\t  259878 &  218505 & 6       & 9522937 & 2063    & C1003   & 202004  & 12      & 1       & 1600   \\\\\n",
       "\t 1170722 &  986153 & 6       & 9304011 & 1941    & C1003   & 201912  & 11      & 1       &  150   \\\\\n",
       "\t 1234990 & 1398659 & 8       & 2956956 & 2947    & A1007   & 202002  &  1      & 1       &  160   \\\\\n",
       "\t 1595026 & 1344185 & 6       & 8932756 &  665    & B2002   & 201912  &  1      & 1       &   10   \\\\\n",
       "\\end{tabular}\n"
      ],
      "text/markdown": [
       "\n",
       "| ACCD_SN | REQ_SN | SCTR_CD | POL_SN | VCTM_SN | PMNT_RESN_CD | PMNT_DT | PMNT_RESN_DTL_CD | PMNT_DTL_SN | PMNT_AMT |\n",
       "|---|---|---|---|---|---|---|---|---|---|\n",
       "|  798431 |  672648 | 6       | 9215977 |  665    | A1009   | 201908  |  1      | 1       |   36    |\n",
       "|  735257 |   99192 | 6       | 5078789 | 2547    | B2002   | 201910  |  1      | 1       |  230    |\n",
       "|  259878 |  218505 | 6       | 9522937 | 2063    | C1003   | 202004  | 12      | 1       | 1600    |\n",
       "| 1170722 |  986153 | 6       | 9304011 | 1941    | C1003   | 201912  | 11      | 1       |  150    |\n",
       "| 1234990 | 1398659 | 8       | 2956956 | 2947    | A1007   | 202002  |  1      | 1       |  160    |\n",
       "| 1595026 | 1344185 | 6       | 8932756 |  665    | B2002   | 201912  |  1      | 1       |   10    |\n",
       "\n"
      ],
      "text/plain": [
       "  ACCD_SN REQ_SN  SCTR_CD POL_SN  VCTM_SN PMNT_RESN_CD PMNT_DT PMNT_RESN_DTL_CD\n",
       "1  798431  672648 6       9215977  665    A1009        201908   1              \n",
       "2  735257   99192 6       5078789 2547    B2002        201910   1              \n",
       "3  259878  218505 6       9522937 2063    C1003        202004  12              \n",
       "4 1170722  986153 6       9304011 1941    C1003        201912  11              \n",
       "5 1234990 1398659 8       2956956 2947    A1007        202002   1              \n",
       "6 1595026 1344185 6       8932756  665    B2002        201912   1              \n",
       "  PMNT_DTL_SN PMNT_AMT\n",
       "1 1             36    \n",
       "2 1            230    \n",
       "3 1           1600    \n",
       "4 1            150    \n",
       "5 1            160    \n",
       "6 1             10    "
      ]
     },
     "metadata": {},
     "output_type": "display_data"
    }
   ],
   "source": [
    "head(PMNT)"
   ]
  },
  {
   "cell_type": "code",
   "execution_count": 16,
   "metadata": {},
   "outputs": [
    {
     "data": {
      "text/html": [
       "<ol class=list-inline>\n",
       "\t<li>'ACCD_SN'</li>\n",
       "\t<li>'REQ_SN'</li>\n",
       "\t<li>'SCTR_CD'</li>\n",
       "\t<li>'POL_SN'</li>\n",
       "\t<li>'VCTM_SN'</li>\n",
       "\t<li>'PMNT_RESN_CD'</li>\n",
       "\t<li>'PMNT_DT'</li>\n",
       "\t<li>'PMNT_RESN_DTL_CD'</li>\n",
       "\t<li>'PMNT_DTL_SN'</li>\n",
       "\t<li>'PMNT_AMT'</li>\n",
       "</ol>\n"
      ],
      "text/latex": [
       "\\begin{enumerate*}\n",
       "\\item 'ACCD\\_SN'\n",
       "\\item 'REQ\\_SN'\n",
       "\\item 'SCTR\\_CD'\n",
       "\\item 'POL\\_SN'\n",
       "\\item 'VCTM\\_SN'\n",
       "\\item 'PMNT\\_RESN\\_CD'\n",
       "\\item 'PMNT\\_DT'\n",
       "\\item 'PMNT\\_RESN\\_DTL\\_CD'\n",
       "\\item 'PMNT\\_DTL\\_SN'\n",
       "\\item 'PMNT\\_AMT'\n",
       "\\end{enumerate*}\n"
      ],
      "text/markdown": [
       "1. 'ACCD_SN'\n",
       "2. 'REQ_SN'\n",
       "3. 'SCTR_CD'\n",
       "4. 'POL_SN'\n",
       "5. 'VCTM_SN'\n",
       "6. 'PMNT_RESN_CD'\n",
       "7. 'PMNT_DT'\n",
       "8. 'PMNT_RESN_DTL_CD'\n",
       "9. 'PMNT_DTL_SN'\n",
       "10. 'PMNT_AMT'\n",
       "\n",
       "\n"
      ],
      "text/plain": [
       " [1] \"ACCD_SN\"          \"REQ_SN\"           \"SCTR_CD\"          \"POL_SN\"          \n",
       " [5] \"VCTM_SN\"          \"PMNT_RESN_CD\"     \"PMNT_DT\"          \"PMNT_RESN_DTL_CD\"\n",
       " [9] \"PMNT_DTL_SN\"      \"PMNT_AMT\"        "
      ]
     },
     "metadata": {},
     "output_type": "display_data"
    }
   ],
   "source": [
    "colnames(PMNT)"
   ]
  },
  {
   "cell_type": "code",
   "execution_count": 17,
   "metadata": {},
   "outputs": [
    {
     "name": "stdout",
     "output_type": "stream",
     "text": [
      "Classes ‘data.table’ and 'data.frame':\t7181 obs. of  10 variables:\n",
      " $ ACCD_SN         : int  798431 735257 259878 1170722 1234990 1595026 18124 1946240 1252605 474656 ...\n",
      " $ REQ_SN          : int  672648 99192 218505 986153 1398659 1344185 1784735 1640020 1208715 399239 ...\n",
      " $ SCTR_CD         : int  6 6 6 6 8 6 8 6 8 6 ...\n",
      " $ POL_SN          : int  9215977 5078789 9522937 9304011 2956956 8932756 280762 5479597 1355515 8012659 ...\n",
      " $ VCTM_SN         : int  665 2547 2063 1941 2947 665 652 260 2947 2456 ...\n",
      " $ PMNT_RESN_CD    : Factor w/ 46 levels \"A1001\",\"A1002\",..: 9 26 38 38 7 26 29 41 7 42 ...\n",
      " $ PMNT_DT         : int  201908 201910 202004 201912 202002 201912 201906 201811 201810 201808 ...\n",
      " $ PMNT_RESN_DTL_CD: int  1 1 12 11 1 1 1 14 1 14 ...\n",
      " $ PMNT_DTL_SN     : int  1 1 1 1 1 1 1 1 1 1 ...\n",
      " $ PMNT_AMT        : int  36 230 1600 150 160 10 10 750 810 730 ...\n",
      " - attr(*, \".internal.selfref\")=<externalptr> \n"
     ]
    }
   ],
   "source": [
    "str(PMNT)"
   ]
  },
  {
   "cell_type": "code",
   "execution_count": 18,
   "metadata": {},
   "outputs": [
    {
     "data": {
      "text/plain": [
       "\n",
       "201806 201807 201808 201809 201810 201811 201812 201901 201902 201903 201904 \n",
       "    80    155    190    248    219    261    247    280    281    288    290 \n",
       "201905 201906 201907 201908 201909 201910 201911 201912 202001 202002 202003 \n",
       "   300    295    345    313    308    317    371    390    402    311    307 \n",
       "202004 202005 202006 \n",
       "   301    335    347 "
      ]
     },
     "metadata": {},
     "output_type": "display_data"
    }
   ],
   "source": [
    "table(PMNT$PMNT_DT)"
   ]
  },
  {
   "cell_type": "code",
   "execution_count": 19,
   "metadata": {},
   "outputs": [
    {
     "data": {
      "text/html": [
       "<table>\n",
       "<thead><tr><th scope=col>ACCD_SN</th><th scope=col>REQ_SN</th><th scope=col>SCTR_CD</th><th scope=col>POL_SN</th><th scope=col>VCTM_SN</th><th scope=col>PMNT_RESN_CD</th><th scope=col>PMNT_DT</th><th scope=col>PMNT_RESN_DTL_CD</th><th scope=col>PMNT_DTL_SN</th><th scope=col>PMNT_AMT</th></tr></thead>\n",
       "<tbody>\n",
       "\t<tr><td> 798431</td><td> 672648</td><td>6      </td><td>9215977</td><td> 665   </td><td>A1009  </td><td>201908 </td><td> 1     </td><td>1      </td><td>  36   </td></tr>\n",
       "\t<tr><td> 735257</td><td>  99192</td><td>6      </td><td>5078789</td><td>2547   </td><td>B2002  </td><td>201910 </td><td> 1     </td><td>1      </td><td> 230   </td></tr>\n",
       "\t<tr><td> 259878</td><td> 218505</td><td>6      </td><td>9522937</td><td>2063   </td><td>C1003  </td><td>202004 </td><td>12     </td><td>1      </td><td>1600   </td></tr>\n",
       "\t<tr><td>1170722</td><td> 986153</td><td>6      </td><td>9304011</td><td>1941   </td><td>C1003  </td><td>201912 </td><td>11     </td><td>1      </td><td> 150   </td></tr>\n",
       "\t<tr><td>1234990</td><td>1398659</td><td>8      </td><td>2956956</td><td>2947   </td><td>A1007  </td><td>202002 </td><td> 1     </td><td>1      </td><td> 160   </td></tr>\n",
       "\t<tr><td>1595026</td><td>1344185</td><td>6      </td><td>8932756</td><td> 665   </td><td>B2002  </td><td>201912 </td><td> 1     </td><td>1      </td><td>  10   </td></tr>\n",
       "</tbody>\n",
       "</table>\n"
      ],
      "text/latex": [
       "\\begin{tabular}{r|llllllllll}\n",
       " ACCD\\_SN & REQ\\_SN & SCTR\\_CD & POL\\_SN & VCTM\\_SN & PMNT\\_RESN\\_CD & PMNT\\_DT & PMNT\\_RESN\\_DTL\\_CD & PMNT\\_DTL\\_SN & PMNT\\_AMT\\\\\n",
       "\\hline\n",
       "\t  798431 &  672648 & 6       & 9215977 &  665    & A1009   & 201908  &  1      & 1       &   36   \\\\\n",
       "\t  735257 &   99192 & 6       & 5078789 & 2547    & B2002   & 201910  &  1      & 1       &  230   \\\\\n",
       "\t  259878 &  218505 & 6       & 9522937 & 2063    & C1003   & 202004  & 12      & 1       & 1600   \\\\\n",
       "\t 1170722 &  986153 & 6       & 9304011 & 1941    & C1003   & 201912  & 11      & 1       &  150   \\\\\n",
       "\t 1234990 & 1398659 & 8       & 2956956 & 2947    & A1007   & 202002  &  1      & 1       &  160   \\\\\n",
       "\t 1595026 & 1344185 & 6       & 8932756 &  665    & B2002   & 201912  &  1      & 1       &   10   \\\\\n",
       "\\end{tabular}\n"
      ],
      "text/markdown": [
       "\n",
       "| ACCD_SN | REQ_SN | SCTR_CD | POL_SN | VCTM_SN | PMNT_RESN_CD | PMNT_DT | PMNT_RESN_DTL_CD | PMNT_DTL_SN | PMNT_AMT |\n",
       "|---|---|---|---|---|---|---|---|---|---|\n",
       "|  798431 |  672648 | 6       | 9215977 |  665    | A1009   | 201908  |  1      | 1       |   36    |\n",
       "|  735257 |   99192 | 6       | 5078789 | 2547    | B2002   | 201910  |  1      | 1       |  230    |\n",
       "|  259878 |  218505 | 6       | 9522937 | 2063    | C1003   | 202004  | 12      | 1       | 1600    |\n",
       "| 1170722 |  986153 | 6       | 9304011 | 1941    | C1003   | 201912  | 11      | 1       |  150    |\n",
       "| 1234990 | 1398659 | 8       | 2956956 | 2947    | A1007   | 202002  |  1      | 1       |  160    |\n",
       "| 1595026 | 1344185 | 6       | 8932756 |  665    | B2002   | 201912  |  1      | 1       |   10    |\n",
       "\n"
      ],
      "text/plain": [
       "  ACCD_SN REQ_SN  SCTR_CD POL_SN  VCTM_SN PMNT_RESN_CD PMNT_DT PMNT_RESN_DTL_CD\n",
       "1  798431  672648 6       9215977  665    A1009        201908   1              \n",
       "2  735257   99192 6       5078789 2547    B2002        201910   1              \n",
       "3  259878  218505 6       9522937 2063    C1003        202004  12              \n",
       "4 1170722  986153 6       9304011 1941    C1003        201912  11              \n",
       "5 1234990 1398659 8       2956956 2947    A1007        202002   1              \n",
       "6 1595026 1344185 6       8932756  665    B2002        201912   1              \n",
       "  PMNT_DTL_SN PMNT_AMT\n",
       "1 1             36    \n",
       "2 1            230    \n",
       "3 1           1600    \n",
       "4 1            150    \n",
       "5 1            160    \n",
       "6 1             10    "
      ]
     },
     "metadata": {},
     "output_type": "display_data"
    }
   ],
   "source": [
    "head(PMNT)"
   ]
  },
  {
   "cell_type": "code",
   "execution_count": 24,
   "metadata": {},
   "outputs": [
    {
     "name": "stdout",
     "output_type": "stream",
     "text": [
      "[1] \"dplyr\"\n"
     ]
    },
    {
     "data": {
      "text/html": [
       "<ol class=list-inline>\n",
       "\t<li>2097</li>\n",
       "\t<li>10</li>\n",
       "</ol>\n"
      ],
      "text/latex": [
       "\\begin{enumerate*}\n",
       "\\item 2097\n",
       "\\item 10\n",
       "\\end{enumerate*}\n"
      ],
      "text/markdown": [
       "1. 2097\n",
       "2. 10\n",
       "\n",
       "\n"
      ],
      "text/plain": [
       "[1] 2097   10"
      ]
     },
     "metadata": {},
     "output_type": "display_data"
    },
    {
     "data": {
      "text/html": [
       "<table>\n",
       "<thead><tr><th scope=col>ACCD_SN</th><th scope=col>REQ_SN</th><th scope=col>SCTR_CD</th><th scope=col>POL_SN</th><th scope=col>VCTM_SN</th><th scope=col>PMNT_RESN_CD</th><th scope=col>PMNT_DT</th><th scope=col>PMNT_RESN_DTL_CD</th><th scope=col>PMNT_DTL_SN</th><th scope=col>PMNT_AMT</th></tr></thead>\n",
       "<tbody>\n",
       "\t<tr><td> 798431</td><td> 672648</td><td>6      </td><td>9215977</td><td> 665   </td><td>A1009  </td><td>201908 </td><td>1      </td><td>1      </td><td> 36    </td></tr>\n",
       "\t<tr><td>1234990</td><td>1398659</td><td>8      </td><td>2956956</td><td>2947   </td><td>A1007  </td><td>202002 </td><td>1      </td><td>1      </td><td>160    </td></tr>\n",
       "\t<tr><td>1252605</td><td>1208715</td><td>8      </td><td>1355515</td><td>2947   </td><td>A1007  </td><td>201810 </td><td>1      </td><td>1      </td><td>810    </td></tr>\n",
       "\t<tr><td>1862936</td><td> 115150</td><td>8      </td><td>2179540</td><td>1274   </td><td>A1011  </td><td>201812 </td><td>1      </td><td>1      </td><td>220    </td></tr>\n",
       "\t<tr><td>1719803</td><td>1783087</td><td>6      </td><td> 585375</td><td>2547   </td><td>A1008  </td><td>201806 </td><td>1      </td><td>1      </td><td>320    </td></tr>\n",
       "\t<tr><td>  83572</td><td>1212218</td><td>6      </td><td>3542131</td><td>2547   </td><td>A1009  </td><td>201910 </td><td>1      </td><td>1      </td><td>270    </td></tr>\n",
       "</tbody>\n",
       "</table>\n"
      ],
      "text/latex": [
       "\\begin{tabular}{r|llllllllll}\n",
       " ACCD\\_SN & REQ\\_SN & SCTR\\_CD & POL\\_SN & VCTM\\_SN & PMNT\\_RESN\\_CD & PMNT\\_DT & PMNT\\_RESN\\_DTL\\_CD & PMNT\\_DTL\\_SN & PMNT\\_AMT\\\\\n",
       "\\hline\n",
       "\t  798431 &  672648 & 6       & 9215977 &  665    & A1009   & 201908  & 1       & 1       &  36    \\\\\n",
       "\t 1234990 & 1398659 & 8       & 2956956 & 2947    & A1007   & 202002  & 1       & 1       & 160    \\\\\n",
       "\t 1252605 & 1208715 & 8       & 1355515 & 2947    & A1007   & 201810  & 1       & 1       & 810    \\\\\n",
       "\t 1862936 &  115150 & 8       & 2179540 & 1274    & A1011   & 201812  & 1       & 1       & 220    \\\\\n",
       "\t 1719803 & 1783087 & 6       &  585375 & 2547    & A1008   & 201806  & 1       & 1       & 320    \\\\\n",
       "\t   83572 & 1212218 & 6       & 3542131 & 2547    & A1009   & 201910  & 1       & 1       & 270    \\\\\n",
       "\\end{tabular}\n"
      ],
      "text/markdown": [
       "\n",
       "| ACCD_SN | REQ_SN | SCTR_CD | POL_SN | VCTM_SN | PMNT_RESN_CD | PMNT_DT | PMNT_RESN_DTL_CD | PMNT_DTL_SN | PMNT_AMT |\n",
       "|---|---|---|---|---|---|---|---|---|---|\n",
       "|  798431 |  672648 | 6       | 9215977 |  665    | A1009   | 201908  | 1       | 1       |  36     |\n",
       "| 1234990 | 1398659 | 8       | 2956956 | 2947    | A1007   | 202002  | 1       | 1       | 160     |\n",
       "| 1252605 | 1208715 | 8       | 1355515 | 2947    | A1007   | 201810  | 1       | 1       | 810     |\n",
       "| 1862936 |  115150 | 8       | 2179540 | 1274    | A1011   | 201812  | 1       | 1       | 220     |\n",
       "| 1719803 | 1783087 | 6       |  585375 | 2547    | A1008   | 201806  | 1       | 1       | 320     |\n",
       "|   83572 | 1212218 | 6       | 3542131 | 2547    | A1009   | 201910  | 1       | 1       | 270     |\n",
       "\n"
      ],
      "text/plain": [
       "  ACCD_SN REQ_SN  SCTR_CD POL_SN  VCTM_SN PMNT_RESN_CD PMNT_DT PMNT_RESN_DTL_CD\n",
       "1  798431  672648 6       9215977  665    A1009        201908  1               \n",
       "2 1234990 1398659 8       2956956 2947    A1007        202002  1               \n",
       "3 1252605 1208715 8       1355515 2947    A1007        201810  1               \n",
       "4 1862936  115150 8       2179540 1274    A1011        201812  1               \n",
       "5 1719803 1783087 6        585375 2547    A1008        201806  1               \n",
       "6   83572 1212218 6       3542131 2547    A1009        201910  1               \n",
       "  PMNT_DTL_SN PMNT_AMT\n",
       "1 1            36     \n",
       "2 1           160     \n",
       "3 1           810     \n",
       "4 1           220     \n",
       "5 1           320     \n",
       "6 1           270     "
      ]
     },
     "metadata": {},
     "output_type": "display_data"
    },
    {
     "name": "stdout",
     "output_type": "stream",
     "text": [
      "[1] \"data.table\"\n"
     ]
    },
    {
     "data": {
      "text/html": [
       "<ol class=list-inline>\n",
       "\t<li>2097</li>\n",
       "\t<li>10</li>\n",
       "</ol>\n"
      ],
      "text/latex": [
       "\\begin{enumerate*}\n",
       "\\item 2097\n",
       "\\item 10\n",
       "\\end{enumerate*}\n"
      ],
      "text/markdown": [
       "1. 2097\n",
       "2. 10\n",
       "\n",
       "\n"
      ],
      "text/plain": [
       "[1] 2097   10"
      ]
     },
     "metadata": {},
     "output_type": "display_data"
    },
    {
     "data": {
      "text/html": [
       "<table>\n",
       "<thead><tr><th scope=col>ACCD_SN</th><th scope=col>REQ_SN</th><th scope=col>SCTR_CD</th><th scope=col>POL_SN</th><th scope=col>VCTM_SN</th><th scope=col>PMNT_RESN_CD</th><th scope=col>PMNT_DT</th><th scope=col>PMNT_RESN_DTL_CD</th><th scope=col>PMNT_DTL_SN</th><th scope=col>PMNT_AMT</th></tr></thead>\n",
       "<tbody>\n",
       "\t<tr><td> 798431</td><td> 672648</td><td>6      </td><td>9215977</td><td> 665   </td><td>A1009  </td><td>201908 </td><td>1      </td><td>1      </td><td> 36    </td></tr>\n",
       "\t<tr><td>1234990</td><td>1398659</td><td>8      </td><td>2956956</td><td>2947   </td><td>A1007  </td><td>202002 </td><td>1      </td><td>1      </td><td>160    </td></tr>\n",
       "\t<tr><td>1252605</td><td>1208715</td><td>8      </td><td>1355515</td><td>2947   </td><td>A1007  </td><td>201810 </td><td>1      </td><td>1      </td><td>810    </td></tr>\n",
       "\t<tr><td>1862936</td><td> 115150</td><td>8      </td><td>2179540</td><td>1274   </td><td>A1011  </td><td>201812 </td><td>1      </td><td>1      </td><td>220    </td></tr>\n",
       "\t<tr><td>1719803</td><td>1783087</td><td>6      </td><td> 585375</td><td>2547   </td><td>A1008  </td><td>201806 </td><td>1      </td><td>1      </td><td>320    </td></tr>\n",
       "\t<tr><td>  83572</td><td>1212218</td><td>6      </td><td>3542131</td><td>2547   </td><td>A1009  </td><td>201910 </td><td>1      </td><td>1      </td><td>270    </td></tr>\n",
       "</tbody>\n",
       "</table>\n"
      ],
      "text/latex": [
       "\\begin{tabular}{r|llllllllll}\n",
       " ACCD\\_SN & REQ\\_SN & SCTR\\_CD & POL\\_SN & VCTM\\_SN & PMNT\\_RESN\\_CD & PMNT\\_DT & PMNT\\_RESN\\_DTL\\_CD & PMNT\\_DTL\\_SN & PMNT\\_AMT\\\\\n",
       "\\hline\n",
       "\t  798431 &  672648 & 6       & 9215977 &  665    & A1009   & 201908  & 1       & 1       &  36    \\\\\n",
       "\t 1234990 & 1398659 & 8       & 2956956 & 2947    & A1007   & 202002  & 1       & 1       & 160    \\\\\n",
       "\t 1252605 & 1208715 & 8       & 1355515 & 2947    & A1007   & 201810  & 1       & 1       & 810    \\\\\n",
       "\t 1862936 &  115150 & 8       & 2179540 & 1274    & A1011   & 201812  & 1       & 1       & 220    \\\\\n",
       "\t 1719803 & 1783087 & 6       &  585375 & 2547    & A1008   & 201806  & 1       & 1       & 320    \\\\\n",
       "\t   83572 & 1212218 & 6       & 3542131 & 2547    & A1009   & 201910  & 1       & 1       & 270    \\\\\n",
       "\\end{tabular}\n"
      ],
      "text/markdown": [
       "\n",
       "| ACCD_SN | REQ_SN | SCTR_CD | POL_SN | VCTM_SN | PMNT_RESN_CD | PMNT_DT | PMNT_RESN_DTL_CD | PMNT_DTL_SN | PMNT_AMT |\n",
       "|---|---|---|---|---|---|---|---|---|---|\n",
       "|  798431 |  672648 | 6       | 9215977 |  665    | A1009   | 201908  | 1       | 1       |  36     |\n",
       "| 1234990 | 1398659 | 8       | 2956956 | 2947    | A1007   | 202002  | 1       | 1       | 160     |\n",
       "| 1252605 | 1208715 | 8       | 1355515 | 2947    | A1007   | 201810  | 1       | 1       | 810     |\n",
       "| 1862936 |  115150 | 8       | 2179540 | 1274    | A1011   | 201812  | 1       | 1       | 220     |\n",
       "| 1719803 | 1783087 | 6       |  585375 | 2547    | A1008   | 201806  | 1       | 1       | 320     |\n",
       "|   83572 | 1212218 | 6       | 3542131 | 2547    | A1009   | 201910  | 1       | 1       | 270     |\n",
       "\n"
      ],
      "text/plain": [
       "  ACCD_SN REQ_SN  SCTR_CD POL_SN  VCTM_SN PMNT_RESN_CD PMNT_DT PMNT_RESN_DTL_CD\n",
       "1  798431  672648 6       9215977  665    A1009        201908  1               \n",
       "2 1234990 1398659 8       2956956 2947    A1007        202002  1               \n",
       "3 1252605 1208715 8       1355515 2947    A1007        201810  1               \n",
       "4 1862936  115150 8       2179540 1274    A1011        201812  1               \n",
       "5 1719803 1783087 6        585375 2547    A1008        201806  1               \n",
       "6   83572 1212218 6       3542131 2547    A1009        201910  1               \n",
       "  PMNT_DTL_SN PMNT_AMT\n",
       "1 1            36     \n",
       "2 1           160     \n",
       "3 1           810     \n",
       "4 1           220     \n",
       "5 1           320     \n",
       "6 1           270     "
      ]
     },
     "metadata": {},
     "output_type": "display_data"
    },
    {
     "data": {
      "text/html": [
       "<table>\n",
       "<thead><tr><th scope=col>ACCD_SN</th><th scope=col>REQ_SN</th><th scope=col>POL_SN</th><th scope=col>VCTM_SN</th><th scope=col>PMNT_DTL_SN</th></tr></thead>\n",
       "<tbody>\n",
       "\t<tr><td> 798431</td><td> 672648</td><td>9215977</td><td> 665   </td><td>1      </td></tr>\n",
       "\t<tr><td> 735257</td><td>  99192</td><td>5078789</td><td>2547   </td><td>1      </td></tr>\n",
       "\t<tr><td> 259878</td><td> 218505</td><td>9522937</td><td>2063   </td><td>1      </td></tr>\n",
       "\t<tr><td>1170722</td><td> 986153</td><td>9304011</td><td>1941   </td><td>1      </td></tr>\n",
       "\t<tr><td>1234990</td><td>1398659</td><td>2956956</td><td>2947   </td><td>1      </td></tr>\n",
       "\t<tr><td>1595026</td><td>1344185</td><td>8932756</td><td> 665   </td><td>1      </td></tr>\n",
       "</tbody>\n",
       "</table>\n"
      ],
      "text/latex": [
       "\\begin{tabular}{r|lllll}\n",
       " ACCD\\_SN & REQ\\_SN & POL\\_SN & VCTM\\_SN & PMNT\\_DTL\\_SN\\\\\n",
       "\\hline\n",
       "\t  798431 &  672648 & 9215977 &  665    & 1      \\\\\n",
       "\t  735257 &   99192 & 5078789 & 2547    & 1      \\\\\n",
       "\t  259878 &  218505 & 9522937 & 2063    & 1      \\\\\n",
       "\t 1170722 &  986153 & 9304011 & 1941    & 1      \\\\\n",
       "\t 1234990 & 1398659 & 2956956 & 2947    & 1      \\\\\n",
       "\t 1595026 & 1344185 & 8932756 &  665    & 1      \\\\\n",
       "\\end{tabular}\n"
      ],
      "text/markdown": [
       "\n",
       "| ACCD_SN | REQ_SN | POL_SN | VCTM_SN | PMNT_DTL_SN |\n",
       "|---|---|---|---|---|\n",
       "|  798431 |  672648 | 9215977 |  665    | 1       |\n",
       "|  735257 |   99192 | 5078789 | 2547    | 1       |\n",
       "|  259878 |  218505 | 9522937 | 2063    | 1       |\n",
       "| 1170722 |  986153 | 9304011 | 1941    | 1       |\n",
       "| 1234990 | 1398659 | 2956956 | 2947    | 1       |\n",
       "| 1595026 | 1344185 | 8932756 |  665    | 1       |\n",
       "\n"
      ],
      "text/plain": [
       "  ACCD_SN REQ_SN  POL_SN  VCTM_SN PMNT_DTL_SN\n",
       "1  798431  672648 9215977  665    1          \n",
       "2  735257   99192 5078789 2547    1          \n",
       "3  259878  218505 9522937 2063    1          \n",
       "4 1170722  986153 9304011 1941    1          \n",
       "5 1234990 1398659 2956956 2947    1          \n",
       "6 1595026 1344185 8932756  665    1          "
      ]
     },
     "metadata": {},
     "output_type": "display_data"
    }
   ],
   "source": [
    "# dplyr \n",
    "PMNT1 <- PMNT %>% filter(substr(PMNT_RESN_CD, 1,1) == 'A')\n",
    "print('dplyr')\n",
    "dim(PMNT1)\n",
    "head(PMNT1)\n",
    "\n",
    "# data.table : like(), %like%\n",
    "PMNT <- data.table(PMNT)\n",
    "PMNT1 <- PMNT[like(PMNT_RESN_CD, \"A\")] # or \n",
    "PMNT1 <- PMNT[PMNT_RESN_CD %like% \"A\"]\n",
    "print('data.table')\n",
    "dim(PMNT1)\n",
    "head(PMNT1)\n",
    "\n",
    "# data.table : patterns()\n",
    "ptn.test <- PMNT[, .SD, .SDcol = patterns('_SN')]\n",
    "head(ptn.test)"
   ]
  },
  {
   "cell_type": "code",
   "execution_count": 29,
   "metadata": {},
   "outputs": [
    {
     "data": {
      "text/html": [
       "<table>\n",
       "<thead><tr><th scope=col>ACCD_SN</th><th scope=col>REQ_SN</th><th scope=col>SCTR_CD</th><th scope=col>POL_SN</th><th scope=col>VCTM_SN</th><th scope=col>PMNT_RESN_CD</th><th scope=col>PMNT_DT</th><th scope=col>PMNT_RESN_DTL_CD</th><th scope=col>PMNT_DTL_SN</th><th scope=col>PMNT_AMT</th></tr></thead>\n",
       "<tbody>\n",
       "\t<tr><td> 798431</td><td> 672648</td><td>6      </td><td>9215977</td><td> 665   </td><td>A1009  </td><td>201908 </td><td>1      </td><td>1      </td><td> 36    </td></tr>\n",
       "\t<tr><td>1234990</td><td>1398659</td><td>8      </td><td>2956956</td><td>2947   </td><td>A1007  </td><td>202002 </td><td>1      </td><td>1      </td><td>160    </td></tr>\n",
       "\t<tr><td>1252605</td><td>1208715</td><td>8      </td><td>1355515</td><td>2947   </td><td>A1007  </td><td>201810 </td><td>1      </td><td>1      </td><td>810    </td></tr>\n",
       "\t<tr><td>1862936</td><td> 115150</td><td>8      </td><td>2179540</td><td>1274   </td><td>A1011  </td><td>201812 </td><td>1      </td><td>1      </td><td>220    </td></tr>\n",
       "\t<tr><td>1719803</td><td>1783087</td><td>6      </td><td> 585375</td><td>2547   </td><td>A1008  </td><td>201806 </td><td>1      </td><td>1      </td><td>320    </td></tr>\n",
       "\t<tr><td>  83572</td><td>1212218</td><td>6      </td><td>3542131</td><td>2547   </td><td>A1009  </td><td>201910 </td><td>1      </td><td>1      </td><td>270    </td></tr>\n",
       "</tbody>\n",
       "</table>\n"
      ],
      "text/latex": [
       "\\begin{tabular}{r|llllllllll}\n",
       " ACCD\\_SN & REQ\\_SN & SCTR\\_CD & POL\\_SN & VCTM\\_SN & PMNT\\_RESN\\_CD & PMNT\\_DT & PMNT\\_RESN\\_DTL\\_CD & PMNT\\_DTL\\_SN & PMNT\\_AMT\\\\\n",
       "\\hline\n",
       "\t  798431 &  672648 & 6       & 9215977 &  665    & A1009   & 201908  & 1       & 1       &  36    \\\\\n",
       "\t 1234990 & 1398659 & 8       & 2956956 & 2947    & A1007   & 202002  & 1       & 1       & 160    \\\\\n",
       "\t 1252605 & 1208715 & 8       & 1355515 & 2947    & A1007   & 201810  & 1       & 1       & 810    \\\\\n",
       "\t 1862936 &  115150 & 8       & 2179540 & 1274    & A1011   & 201812  & 1       & 1       & 220    \\\\\n",
       "\t 1719803 & 1783087 & 6       &  585375 & 2547    & A1008   & 201806  & 1       & 1       & 320    \\\\\n",
       "\t   83572 & 1212218 & 6       & 3542131 & 2547    & A1009   & 201910  & 1       & 1       & 270    \\\\\n",
       "\\end{tabular}\n"
      ],
      "text/markdown": [
       "\n",
       "| ACCD_SN | REQ_SN | SCTR_CD | POL_SN | VCTM_SN | PMNT_RESN_CD | PMNT_DT | PMNT_RESN_DTL_CD | PMNT_DTL_SN | PMNT_AMT |\n",
       "|---|---|---|---|---|---|---|---|---|---|\n",
       "|  798431 |  672648 | 6       | 9215977 |  665    | A1009   | 201908  | 1       | 1       |  36     |\n",
       "| 1234990 | 1398659 | 8       | 2956956 | 2947    | A1007   | 202002  | 1       | 1       | 160     |\n",
       "| 1252605 | 1208715 | 8       | 1355515 | 2947    | A1007   | 201810  | 1       | 1       | 810     |\n",
       "| 1862936 |  115150 | 8       | 2179540 | 1274    | A1011   | 201812  | 1       | 1       | 220     |\n",
       "| 1719803 | 1783087 | 6       |  585375 | 2547    | A1008   | 201806  | 1       | 1       | 320     |\n",
       "|   83572 | 1212218 | 6       | 3542131 | 2547    | A1009   | 201910  | 1       | 1       | 270     |\n",
       "\n"
      ],
      "text/plain": [
       "  ACCD_SN REQ_SN  SCTR_CD POL_SN  VCTM_SN PMNT_RESN_CD PMNT_DT PMNT_RESN_DTL_CD\n",
       "1  798431  672648 6       9215977  665    A1009        201908  1               \n",
       "2 1234990 1398659 8       2956956 2947    A1007        202002  1               \n",
       "3 1252605 1208715 8       1355515 2947    A1007        201810  1               \n",
       "4 1862936  115150 8       2179540 1274    A1011        201812  1               \n",
       "5 1719803 1783087 6        585375 2547    A1008        201806  1               \n",
       "6   83572 1212218 6       3542131 2547    A1009        201910  1               \n",
       "  PMNT_DTL_SN PMNT_AMT\n",
       "1 1            36     \n",
       "2 1           160     \n",
       "3 1           810     \n",
       "4 1           220     \n",
       "5 1           320     \n",
       "6 1           270     "
      ]
     },
     "metadata": {},
     "output_type": "display_data"
    }
   ],
   "source": [
    "nrow(PMNT1)"
   ]
  },
  {
   "cell_type": "code",
   "execution_count": 118,
   "metadata": {},
   "outputs": [
    {
     "data": {
      "text/html": [
       "<table>\n",
       "<thead><tr><th scope=col>ACCD_SN</th><th scope=col>REQ_SN</th><th scope=col>SCTR_CD</th><th scope=col>POL_SN</th><th scope=col>VCTM_SN</th><th scope=col>PMNT_RESN_CD</th><th scope=col>PMNT_DT</th><th scope=col>PMNT_RESN_DTL_CD</th><th scope=col>PMNT_DTL_SN</th><th scope=col>PMNT_AMT</th></tr></thead>\n",
       "<tbody>\n",
       "\t<tr><td> 798431</td><td> 672648</td><td>6      </td><td>9215977</td><td> 665   </td><td>A1009  </td><td>201908 </td><td>1      </td><td>1      </td><td> 36    </td></tr>\n",
       "\t<tr><td>1234990</td><td>1398659</td><td>8      </td><td>2956956</td><td>2947   </td><td>A1007  </td><td>202002 </td><td>1      </td><td>1      </td><td>160    </td></tr>\n",
       "\t<tr><td>1252605</td><td>1208715</td><td>8      </td><td>1355515</td><td>2947   </td><td>A1007  </td><td>201810 </td><td>1      </td><td>1      </td><td>810    </td></tr>\n",
       "\t<tr><td>1862936</td><td> 115150</td><td>8      </td><td>2179540</td><td>1274   </td><td>A1011  </td><td>201812 </td><td>1      </td><td>1      </td><td>220    </td></tr>\n",
       "\t<tr><td>1719803</td><td>1783087</td><td>6      </td><td> 585375</td><td>2547   </td><td>A1008  </td><td>201806 </td><td>1      </td><td>1      </td><td>320    </td></tr>\n",
       "\t<tr><td>  83572</td><td>1212218</td><td>6      </td><td>3542131</td><td>2547   </td><td>A1009  </td><td>201910 </td><td>1      </td><td>1      </td><td>270    </td></tr>\n",
       "</tbody>\n",
       "</table>\n"
      ],
      "text/latex": [
       "\\begin{tabular}{r|llllllllll}\n",
       " ACCD\\_SN & REQ\\_SN & SCTR\\_CD & POL\\_SN & VCTM\\_SN & PMNT\\_RESN\\_CD & PMNT\\_DT & PMNT\\_RESN\\_DTL\\_CD & PMNT\\_DTL\\_SN & PMNT\\_AMT\\\\\n",
       "\\hline\n",
       "\t  798431 &  672648 & 6       & 9215977 &  665    & A1009   & 201908  & 1       & 1       &  36    \\\\\n",
       "\t 1234990 & 1398659 & 8       & 2956956 & 2947    & A1007   & 202002  & 1       & 1       & 160    \\\\\n",
       "\t 1252605 & 1208715 & 8       & 1355515 & 2947    & A1007   & 201810  & 1       & 1       & 810    \\\\\n",
       "\t 1862936 &  115150 & 8       & 2179540 & 1274    & A1011   & 201812  & 1       & 1       & 220    \\\\\n",
       "\t 1719803 & 1783087 & 6       &  585375 & 2547    & A1008   & 201806  & 1       & 1       & 320    \\\\\n",
       "\t   83572 & 1212218 & 6       & 3542131 & 2547    & A1009   & 201910  & 1       & 1       & 270    \\\\\n",
       "\\end{tabular}\n"
      ],
      "text/markdown": [
       "\n",
       "| ACCD_SN | REQ_SN | SCTR_CD | POL_SN | VCTM_SN | PMNT_RESN_CD | PMNT_DT | PMNT_RESN_DTL_CD | PMNT_DTL_SN | PMNT_AMT |\n",
       "|---|---|---|---|---|---|---|---|---|---|\n",
       "|  798431 |  672648 | 6       | 9215977 |  665    | A1009   | 201908  | 1       | 1       |  36     |\n",
       "| 1234990 | 1398659 | 8       | 2956956 | 2947    | A1007   | 202002  | 1       | 1       | 160     |\n",
       "| 1252605 | 1208715 | 8       | 1355515 | 2947    | A1007   | 201810  | 1       | 1       | 810     |\n",
       "| 1862936 |  115150 | 8       | 2179540 | 1274    | A1011   | 201812  | 1       | 1       | 220     |\n",
       "| 1719803 | 1783087 | 6       |  585375 | 2547    | A1008   | 201806  | 1       | 1       | 320     |\n",
       "|   83572 | 1212218 | 6       | 3542131 | 2547    | A1009   | 201910  | 1       | 1       | 270     |\n",
       "\n"
      ],
      "text/plain": [
       "  ACCD_SN REQ_SN  SCTR_CD POL_SN  VCTM_SN PMNT_RESN_CD PMNT_DT PMNT_RESN_DTL_CD\n",
       "1  798431  672648 6       9215977  665    A1009        201908  1               \n",
       "2 1234990 1398659 8       2956956 2947    A1007        202002  1               \n",
       "3 1252605 1208715 8       1355515 2947    A1007        201810  1               \n",
       "4 1862936  115150 8       2179540 1274    A1011        201812  1               \n",
       "5 1719803 1783087 6        585375 2547    A1008        201806  1               \n",
       "6   83572 1212218 6       3542131 2547    A1009        201910  1               \n",
       "  PMNT_DTL_SN PMNT_AMT\n",
       "1 1            36     \n",
       "2 1           160     \n",
       "3 1           810     \n",
       "4 1           220     \n",
       "5 1           320     \n",
       "6 1           270     "
      ]
     },
     "metadata": {},
     "output_type": "display_data"
    }
   ],
   "source": [
    "head(PMNT1)"
   ]
  },
  {
   "cell_type": "markdown",
   "metadata": {},
   "source": [
    "### 바르지 않은 예 \"  ==  c(...) \""
   ]
  },
  {
   "cell_type": "code",
   "execution_count": 160,
   "metadata": {},
   "outputs": [
    {
     "name": "stderr",
     "output_type": "stream",
     "text": [
      "Warning message in `==.default`(.$PMNT_RESN_CD, c(\"A1001\", \"A1002\", \"A1003\", \"A1004\")):\n",
      "“longer object length is not a multiple of shorter object length”Warning message in is.na(e1) | is.na(e2):\n",
      "“longer object length is not a multiple of shorter object length”Warning message in `==.default`(.$PMNT_RESN_CD, c(\"A1005\", \"A1006\")):\n",
      "“longer object length is not a multiple of shorter object length”Warning message in is.na(e1) | is.na(e2):\n",
      "“longer object length is not a multiple of shorter object length”Warning message in `==.default`(.$PMNT_RESN_CD, c(\"A1007\", \"A1008\")):\n",
      "“longer object length is not a multiple of shorter object length”Warning message in is.na(e1) | is.na(e2):\n",
      "“longer object length is not a multiple of shorter object length”Warning message in `==.default`(.$PMNT_RESN_CD, c(\"A1009\", \"A1010\", \"A1011\", \"A1012\", :\n",
      "“longer object length is not a multiple of shorter object length”Warning message in is.na(e1) | is.na(e2):\n",
      "“longer object length is not a multiple of shorter object length”"
     ]
    }
   ],
   "source": [
    "PMNT2 <- PMNT1 %>% dplyr::mutate('loss' = ifelse(.$PMNT_RESN_CD == c('A1001', 'A1002', 'A1003', 'A1004'), 'loss1', ifelse(.$PMNT_RESN_CD == c('A1005', 'A1006'), 'loss2', ifelse(.$PMNT_RESN_CD == c('A1007', 'A1008'), 'loss3', ifelse(.$PMNT_RESN_CD == c('A1009', 'A1010', 'A1011', 'A1012','A1013'), 'loss4', 'loss5')))))"
   ]
  },
  {
   "cell_type": "code",
   "execution_count": 150,
   "metadata": {},
   "outputs": [
    {
     "data": {
      "text/html": [
       "2097"
      ],
      "text/latex": [
       "2097"
      ],
      "text/markdown": [
       "2097"
      ],
      "text/plain": [
       "[1] 2097"
      ]
     },
     "metadata": {},
     "output_type": "display_data"
    }
   ],
   "source": [
    "nrow(PMNT2)"
   ]
  },
  {
   "cell_type": "code",
   "execution_count": 151,
   "metadata": {},
   "outputs": [
    {
     "data": {
      "text/plain": [
       "\n",
       "loss1 loss2 loss3 loss4 loss5 \n",
       "    6    93   135   134  1729 "
      ]
     },
     "metadata": {},
     "output_type": "display_data"
    }
   ],
   "source": [
    "table(PMNT2$loss)"
   ]
  },
  {
   "cell_type": "markdown",
   "metadata": {},
   "source": [
    "### 바른 예 \"  %in%  c(...) \""
   ]
  },
  {
   "cell_type": "code",
   "execution_count": 154,
   "metadata": {},
   "outputs": [
    {
     "name": "stdout",
     "output_type": "stream",
     "text": [
      "[1] \"PMNT1\"\n"
     ]
    },
    {
     "data": {
      "text/html": [
       "<table>\n",
       "<thead><tr><th scope=col>ACCD_SN</th><th scope=col>REQ_SN</th><th scope=col>SCTR_CD</th><th scope=col>POL_SN</th><th scope=col>VCTM_SN</th><th scope=col>PMNT_RESN_CD</th><th scope=col>PMNT_DT</th><th scope=col>PMNT_RESN_DTL_CD</th><th scope=col>PMNT_DTL_SN</th><th scope=col>PMNT_AMT</th><th scope=col>loss</th><th scope=col>strA</th></tr></thead>\n",
       "<tbody>\n",
       "\t<tr><td> 798431</td><td> 672648</td><td>6      </td><td>9215977</td><td> 665   </td><td>A1009  </td><td>201908 </td><td>1      </td><td>1      </td><td> 36    </td><td>loss4  </td><td>1009   </td></tr>\n",
       "\t<tr><td>1234990</td><td>1398659</td><td>8      </td><td>2956956</td><td>2947   </td><td>A1007  </td><td>202002 </td><td>1      </td><td>1      </td><td>160    </td><td>loss3  </td><td>1007   </td></tr>\n",
       "\t<tr><td>1252605</td><td>1208715</td><td>8      </td><td>1355515</td><td>2947   </td><td>A1007  </td><td>201810 </td><td>1      </td><td>1      </td><td>810    </td><td>loss3  </td><td>1007   </td></tr>\n",
       "\t<tr><td>1862936</td><td> 115150</td><td>8      </td><td>2179540</td><td>1274   </td><td>A1011  </td><td>201812 </td><td>1      </td><td>1      </td><td>220    </td><td>loss4  </td><td>1011   </td></tr>\n",
       "\t<tr><td>1719803</td><td>1783087</td><td>6      </td><td> 585375</td><td>2547   </td><td>A1008  </td><td>201806 </td><td>1      </td><td>1      </td><td>320    </td><td>loss3  </td><td>1008   </td></tr>\n",
       "\t<tr><td>  83572</td><td>1212218</td><td>6      </td><td>3542131</td><td>2547   </td><td>A1009  </td><td>201910 </td><td>1      </td><td>1      </td><td>270    </td><td>loss4  </td><td>1009   </td></tr>\n",
       "</tbody>\n",
       "</table>\n"
      ],
      "text/latex": [
       "\\begin{tabular}{r|llllllllllll}\n",
       " ACCD\\_SN & REQ\\_SN & SCTR\\_CD & POL\\_SN & VCTM\\_SN & PMNT\\_RESN\\_CD & PMNT\\_DT & PMNT\\_RESN\\_DTL\\_CD & PMNT\\_DTL\\_SN & PMNT\\_AMT & loss & strA\\\\\n",
       "\\hline\n",
       "\t  798431 &  672648 & 6       & 9215977 &  665    & A1009   & 201908  & 1       & 1       &  36     & loss4   & 1009   \\\\\n",
       "\t 1234990 & 1398659 & 8       & 2956956 & 2947    & A1007   & 202002  & 1       & 1       & 160     & loss3   & 1007   \\\\\n",
       "\t 1252605 & 1208715 & 8       & 1355515 & 2947    & A1007   & 201810  & 1       & 1       & 810     & loss3   & 1007   \\\\\n",
       "\t 1862936 &  115150 & 8       & 2179540 & 1274    & A1011   & 201812  & 1       & 1       & 220     & loss4   & 1011   \\\\\n",
       "\t 1719803 & 1783087 & 6       &  585375 & 2547    & A1008   & 201806  & 1       & 1       & 320     & loss3   & 1008   \\\\\n",
       "\t   83572 & 1212218 & 6       & 3542131 & 2547    & A1009   & 201910  & 1       & 1       & 270     & loss4   & 1009   \\\\\n",
       "\\end{tabular}\n"
      ],
      "text/markdown": [
       "\n",
       "| ACCD_SN | REQ_SN | SCTR_CD | POL_SN | VCTM_SN | PMNT_RESN_CD | PMNT_DT | PMNT_RESN_DTL_CD | PMNT_DTL_SN | PMNT_AMT | loss | strA |\n",
       "|---|---|---|---|---|---|---|---|---|---|---|---|\n",
       "|  798431 |  672648 | 6       | 9215977 |  665    | A1009   | 201908  | 1       | 1       |  36     | loss4   | 1009    |\n",
       "| 1234990 | 1398659 | 8       | 2956956 | 2947    | A1007   | 202002  | 1       | 1       | 160     | loss3   | 1007    |\n",
       "| 1252605 | 1208715 | 8       | 1355515 | 2947    | A1007   | 201810  | 1       | 1       | 810     | loss3   | 1007    |\n",
       "| 1862936 |  115150 | 8       | 2179540 | 1274    | A1011   | 201812  | 1       | 1       | 220     | loss4   | 1011    |\n",
       "| 1719803 | 1783087 | 6       |  585375 | 2547    | A1008   | 201806  | 1       | 1       | 320     | loss3   | 1008    |\n",
       "|   83572 | 1212218 | 6       | 3542131 | 2547    | A1009   | 201910  | 1       | 1       | 270     | loss4   | 1009    |\n",
       "\n"
      ],
      "text/plain": [
       "  ACCD_SN REQ_SN  SCTR_CD POL_SN  VCTM_SN PMNT_RESN_CD PMNT_DT PMNT_RESN_DTL_CD\n",
       "1  798431  672648 6       9215977  665    A1009        201908  1               \n",
       "2 1234990 1398659 8       2956956 2947    A1007        202002  1               \n",
       "3 1252605 1208715 8       1355515 2947    A1007        201810  1               \n",
       "4 1862936  115150 8       2179540 1274    A1011        201812  1               \n",
       "5 1719803 1783087 6        585375 2547    A1008        201806  1               \n",
       "6   83572 1212218 6       3542131 2547    A1009        201910  1               \n",
       "  PMNT_DTL_SN PMNT_AMT loss  strA\n",
       "1 1            36      loss4 1009\n",
       "2 1           160      loss3 1007\n",
       "3 1           810      loss3 1007\n",
       "4 1           220      loss4 1011\n",
       "5 1           320      loss3 1008\n",
       "6 1           270      loss4 1009"
      ]
     },
     "metadata": {},
     "output_type": "display_data"
    },
    {
     "name": "stdout",
     "output_type": "stream",
     "text": [
      "[1] \"dplyr\"\n"
     ]
    },
    {
     "data": {
      "text/html": [
       "<ol class=list-inline>\n",
       "\t<li>2097</li>\n",
       "\t<li>12</li>\n",
       "</ol>\n"
      ],
      "text/latex": [
       "\\begin{enumerate*}\n",
       "\\item 2097\n",
       "\\item 12\n",
       "\\end{enumerate*}\n"
      ],
      "text/markdown": [
       "1. 2097\n",
       "2. 12\n",
       "\n",
       "\n"
      ],
      "text/plain": [
       "[1] 2097   12"
      ]
     },
     "metadata": {},
     "output_type": "display_data"
    },
    {
     "data": {
      "text/html": [
       "<table>\n",
       "<thead><tr><th scope=col>ACCD_SN</th><th scope=col>REQ_SN</th><th scope=col>SCTR_CD</th><th scope=col>POL_SN</th><th scope=col>VCTM_SN</th><th scope=col>PMNT_RESN_CD</th><th scope=col>PMNT_DT</th><th scope=col>PMNT_RESN_DTL_CD</th><th scope=col>PMNT_DTL_SN</th><th scope=col>PMNT_AMT</th><th scope=col>loss</th><th scope=col>strA</th></tr></thead>\n",
       "<tbody>\n",
       "\t<tr><td> 798431</td><td> 672648</td><td>6      </td><td>9215977</td><td> 665   </td><td>A1009  </td><td>201908 </td><td>1      </td><td>1      </td><td> 36    </td><td>loss4  </td><td>1009   </td></tr>\n",
       "\t<tr><td>1234990</td><td>1398659</td><td>8      </td><td>2956956</td><td>2947   </td><td>A1007  </td><td>202002 </td><td>1      </td><td>1      </td><td>160    </td><td>loss3  </td><td>1007   </td></tr>\n",
       "\t<tr><td>1252605</td><td>1208715</td><td>8      </td><td>1355515</td><td>2947   </td><td>A1007  </td><td>201810 </td><td>1      </td><td>1      </td><td>810    </td><td>loss3  </td><td>1007   </td></tr>\n",
       "\t<tr><td>1862936</td><td> 115150</td><td>8      </td><td>2179540</td><td>1274   </td><td>A1011  </td><td>201812 </td><td>1      </td><td>1      </td><td>220    </td><td>loss4  </td><td>1011   </td></tr>\n",
       "\t<tr><td>1719803</td><td>1783087</td><td>6      </td><td> 585375</td><td>2547   </td><td>A1008  </td><td>201806 </td><td>1      </td><td>1      </td><td>320    </td><td>loss3  </td><td>1008   </td></tr>\n",
       "\t<tr><td>  83572</td><td>1212218</td><td>6      </td><td>3542131</td><td>2547   </td><td>A1009  </td><td>201910 </td><td>1      </td><td>1      </td><td>270    </td><td>loss4  </td><td>1009   </td></tr>\n",
       "</tbody>\n",
       "</table>\n"
      ],
      "text/latex": [
       "\\begin{tabular}{r|llllllllllll}\n",
       " ACCD\\_SN & REQ\\_SN & SCTR\\_CD & POL\\_SN & VCTM\\_SN & PMNT\\_RESN\\_CD & PMNT\\_DT & PMNT\\_RESN\\_DTL\\_CD & PMNT\\_DTL\\_SN & PMNT\\_AMT & loss & strA\\\\\n",
       "\\hline\n",
       "\t  798431 &  672648 & 6       & 9215977 &  665    & A1009   & 201908  & 1       & 1       &  36     & loss4   & 1009   \\\\\n",
       "\t 1234990 & 1398659 & 8       & 2956956 & 2947    & A1007   & 202002  & 1       & 1       & 160     & loss3   & 1007   \\\\\n",
       "\t 1252605 & 1208715 & 8       & 1355515 & 2947    & A1007   & 201810  & 1       & 1       & 810     & loss3   & 1007   \\\\\n",
       "\t 1862936 &  115150 & 8       & 2179540 & 1274    & A1011   & 201812  & 1       & 1       & 220     & loss4   & 1011   \\\\\n",
       "\t 1719803 & 1783087 & 6       &  585375 & 2547    & A1008   & 201806  & 1       & 1       & 320     & loss3   & 1008   \\\\\n",
       "\t   83572 & 1212218 & 6       & 3542131 & 2547    & A1009   & 201910  & 1       & 1       & 270     & loss4   & 1009   \\\\\n",
       "\\end{tabular}\n"
      ],
      "text/markdown": [
       "\n",
       "| ACCD_SN | REQ_SN | SCTR_CD | POL_SN | VCTM_SN | PMNT_RESN_CD | PMNT_DT | PMNT_RESN_DTL_CD | PMNT_DTL_SN | PMNT_AMT | loss | strA |\n",
       "|---|---|---|---|---|---|---|---|---|---|---|---|\n",
       "|  798431 |  672648 | 6       | 9215977 |  665    | A1009   | 201908  | 1       | 1       |  36     | loss4   | 1009    |\n",
       "| 1234990 | 1398659 | 8       | 2956956 | 2947    | A1007   | 202002  | 1       | 1       | 160     | loss3   | 1007    |\n",
       "| 1252605 | 1208715 | 8       | 1355515 | 2947    | A1007   | 201810  | 1       | 1       | 810     | loss3   | 1007    |\n",
       "| 1862936 |  115150 | 8       | 2179540 | 1274    | A1011   | 201812  | 1       | 1       | 220     | loss4   | 1011    |\n",
       "| 1719803 | 1783087 | 6       |  585375 | 2547    | A1008   | 201806  | 1       | 1       | 320     | loss3   | 1008    |\n",
       "|   83572 | 1212218 | 6       | 3542131 | 2547    | A1009   | 201910  | 1       | 1       | 270     | loss4   | 1009    |\n",
       "\n"
      ],
      "text/plain": [
       "  ACCD_SN REQ_SN  SCTR_CD POL_SN  VCTM_SN PMNT_RESN_CD PMNT_DT PMNT_RESN_DTL_CD\n",
       "1  798431  672648 6       9215977  665    A1009        201908  1               \n",
       "2 1234990 1398659 8       2956956 2947    A1007        202002  1               \n",
       "3 1252605 1208715 8       1355515 2947    A1007        201810  1               \n",
       "4 1862936  115150 8       2179540 1274    A1011        201812  1               \n",
       "5 1719803 1783087 6        585375 2547    A1008        201806  1               \n",
       "6   83572 1212218 6       3542131 2547    A1009        201910  1               \n",
       "  PMNT_DTL_SN PMNT_AMT loss  strA\n",
       "1 1            36      loss4 1009\n",
       "2 1           160      loss3 1007\n",
       "3 1           810      loss3 1007\n",
       "4 1           220      loss4 1011\n",
       "5 1           320      loss3 1008\n",
       "6 1           270      loss4 1009"
      ]
     },
     "metadata": {},
     "output_type": "display_data"
    },
    {
     "name": "stdout",
     "output_type": "stream",
     "text": [
      "[1] \"data.table\"\n"
     ]
    },
    {
     "data": {
      "text/html": [
       "<ol class=list-inline>\n",
       "\t<li>2097</li>\n",
       "\t<li>12</li>\n",
       "</ol>\n"
      ],
      "text/latex": [
       "\\begin{enumerate*}\n",
       "\\item 2097\n",
       "\\item 12\n",
       "\\end{enumerate*}\n"
      ],
      "text/markdown": [
       "1. 2097\n",
       "2. 12\n",
       "\n",
       "\n"
      ],
      "text/plain": [
       "[1] 2097   12"
      ]
     },
     "metadata": {},
     "output_type": "display_data"
    },
    {
     "data": {
      "text/html": [
       "<table>\n",
       "<thead><tr><th scope=col>ACCD_SN</th><th scope=col>REQ_SN</th><th scope=col>SCTR_CD</th><th scope=col>POL_SN</th><th scope=col>VCTM_SN</th><th scope=col>PMNT_RESN_CD</th><th scope=col>PMNT_DT</th><th scope=col>PMNT_RESN_DTL_CD</th><th scope=col>PMNT_DTL_SN</th><th scope=col>PMNT_AMT</th><th scope=col>loss</th><th scope=col>strA</th></tr></thead>\n",
       "<tbody>\n",
       "\t<tr><td> 798431</td><td> 672648</td><td>6      </td><td>9215977</td><td> 665   </td><td>A1009  </td><td>201908 </td><td>1      </td><td>1      </td><td> 36    </td><td>loss4  </td><td>1009   </td></tr>\n",
       "\t<tr><td>1234990</td><td>1398659</td><td>8      </td><td>2956956</td><td>2947   </td><td>A1007  </td><td>202002 </td><td>1      </td><td>1      </td><td>160    </td><td>loss3  </td><td>1007   </td></tr>\n",
       "\t<tr><td>1252605</td><td>1208715</td><td>8      </td><td>1355515</td><td>2947   </td><td>A1007  </td><td>201810 </td><td>1      </td><td>1      </td><td>810    </td><td>loss3  </td><td>1007   </td></tr>\n",
       "\t<tr><td>1862936</td><td> 115150</td><td>8      </td><td>2179540</td><td>1274   </td><td>A1011  </td><td>201812 </td><td>1      </td><td>1      </td><td>220    </td><td>loss4  </td><td>1011   </td></tr>\n",
       "\t<tr><td>1719803</td><td>1783087</td><td>6      </td><td> 585375</td><td>2547   </td><td>A1008  </td><td>201806 </td><td>1      </td><td>1      </td><td>320    </td><td>loss3  </td><td>1008   </td></tr>\n",
       "\t<tr><td>  83572</td><td>1212218</td><td>6      </td><td>3542131</td><td>2547   </td><td>A1009  </td><td>201910 </td><td>1      </td><td>1      </td><td>270    </td><td>loss4  </td><td>1009   </td></tr>\n",
       "</tbody>\n",
       "</table>\n"
      ],
      "text/latex": [
       "\\begin{tabular}{r|llllllllllll}\n",
       " ACCD\\_SN & REQ\\_SN & SCTR\\_CD & POL\\_SN & VCTM\\_SN & PMNT\\_RESN\\_CD & PMNT\\_DT & PMNT\\_RESN\\_DTL\\_CD & PMNT\\_DTL\\_SN & PMNT\\_AMT & loss & strA\\\\\n",
       "\\hline\n",
       "\t  798431 &  672648 & 6       & 9215977 &  665    & A1009   & 201908  & 1       & 1       &  36     & loss4   & 1009   \\\\\n",
       "\t 1234990 & 1398659 & 8       & 2956956 & 2947    & A1007   & 202002  & 1       & 1       & 160     & loss3   & 1007   \\\\\n",
       "\t 1252605 & 1208715 & 8       & 1355515 & 2947    & A1007   & 201810  & 1       & 1       & 810     & loss3   & 1007   \\\\\n",
       "\t 1862936 &  115150 & 8       & 2179540 & 1274    & A1011   & 201812  & 1       & 1       & 220     & loss4   & 1011   \\\\\n",
       "\t 1719803 & 1783087 & 6       &  585375 & 2547    & A1008   & 201806  & 1       & 1       & 320     & loss3   & 1008   \\\\\n",
       "\t   83572 & 1212218 & 6       & 3542131 & 2547    & A1009   & 201910  & 1       & 1       & 270     & loss4   & 1009   \\\\\n",
       "\\end{tabular}\n"
      ],
      "text/markdown": [
       "\n",
       "| ACCD_SN | REQ_SN | SCTR_CD | POL_SN | VCTM_SN | PMNT_RESN_CD | PMNT_DT | PMNT_RESN_DTL_CD | PMNT_DTL_SN | PMNT_AMT | loss | strA |\n",
       "|---|---|---|---|---|---|---|---|---|---|---|---|\n",
       "|  798431 |  672648 | 6       | 9215977 |  665    | A1009   | 201908  | 1       | 1       |  36     | loss4   | 1009    |\n",
       "| 1234990 | 1398659 | 8       | 2956956 | 2947    | A1007   | 202002  | 1       | 1       | 160     | loss3   | 1007    |\n",
       "| 1252605 | 1208715 | 8       | 1355515 | 2947    | A1007   | 201810  | 1       | 1       | 810     | loss3   | 1007    |\n",
       "| 1862936 |  115150 | 8       | 2179540 | 1274    | A1011   | 201812  | 1       | 1       | 220     | loss4   | 1011    |\n",
       "| 1719803 | 1783087 | 6       |  585375 | 2547    | A1008   | 201806  | 1       | 1       | 320     | loss3   | 1008    |\n",
       "|   83572 | 1212218 | 6       | 3542131 | 2547    | A1009   | 201910  | 1       | 1       | 270     | loss4   | 1009    |\n",
       "\n"
      ],
      "text/plain": [
       "  ACCD_SN REQ_SN  SCTR_CD POL_SN  VCTM_SN PMNT_RESN_CD PMNT_DT PMNT_RESN_DTL_CD\n",
       "1  798431  672648 6       9215977  665    A1009        201908  1               \n",
       "2 1234990 1398659 8       2956956 2947    A1007        202002  1               \n",
       "3 1252605 1208715 8       1355515 2947    A1007        201810  1               \n",
       "4 1862936  115150 8       2179540 1274    A1011        201812  1               \n",
       "5 1719803 1783087 6        585375 2547    A1008        201806  1               \n",
       "6   83572 1212218 6       3542131 2547    A1009        201910  1               \n",
       "  PMNT_DTL_SN PMNT_AMT loss  strA\n",
       "1 1            36      loss4 1009\n",
       "2 1           160      loss3 1007\n",
       "3 1           810      loss3 1007\n",
       "4 1           220      loss4 1011\n",
       "5 1           320      loss3 1008\n",
       "6 1           270      loss4 1009"
      ]
     },
     "metadata": {},
     "output_type": "display_data"
    },
    {
     "data": {
      "text/html": [
       "<table>\n",
       "<thead><tr><th scope=col>ACCD_SN</th><th scope=col>REQ_SN</th><th scope=col>SCTR_CD</th><th scope=col>POL_SN</th><th scope=col>VCTM_SN</th><th scope=col>PMNT_RESN_CD</th><th scope=col>PMNT_DT</th><th scope=col>PMNT_RESN_DTL_CD</th><th scope=col>PMNT_DTL_SN</th><th scope=col>PMNT_AMT</th><th scope=col>loss</th><th scope=col>strA</th></tr></thead>\n",
       "<tbody>\n",
       "\t<tr><td> 798431</td><td> 672648</td><td>6      </td><td>9215977</td><td> 665   </td><td>A1009  </td><td>201908 </td><td>1      </td><td>1      </td><td> 36    </td><td>loss4  </td><td>1009   </td></tr>\n",
       "\t<tr><td>1234990</td><td>1398659</td><td>8      </td><td>2956956</td><td>2947   </td><td>A1007  </td><td>202002 </td><td>1      </td><td>1      </td><td>160    </td><td>loss3  </td><td>1007   </td></tr>\n",
       "\t<tr><td>1252605</td><td>1208715</td><td>8      </td><td>1355515</td><td>2947   </td><td>A1007  </td><td>201810 </td><td>1      </td><td>1      </td><td>810    </td><td>loss3  </td><td>1007   </td></tr>\n",
       "\t<tr><td>1862936</td><td> 115150</td><td>8      </td><td>2179540</td><td>1274   </td><td>A1011  </td><td>201812 </td><td>1      </td><td>1      </td><td>220    </td><td>loss4  </td><td>1011   </td></tr>\n",
       "\t<tr><td>1719803</td><td>1783087</td><td>6      </td><td> 585375</td><td>2547   </td><td>A1008  </td><td>201806 </td><td>1      </td><td>1      </td><td>320    </td><td>loss3  </td><td>1008   </td></tr>\n",
       "\t<tr><td>  83572</td><td>1212218</td><td>6      </td><td>3542131</td><td>2547   </td><td>A1009  </td><td>201910 </td><td>1      </td><td>1      </td><td>270    </td><td>loss4  </td><td>1009   </td></tr>\n",
       "</tbody>\n",
       "</table>\n"
      ],
      "text/latex": [
       "\\begin{tabular}{r|llllllllllll}\n",
       " ACCD\\_SN & REQ\\_SN & SCTR\\_CD & POL\\_SN & VCTM\\_SN & PMNT\\_RESN\\_CD & PMNT\\_DT & PMNT\\_RESN\\_DTL\\_CD & PMNT\\_DTL\\_SN & PMNT\\_AMT & loss & strA\\\\\n",
       "\\hline\n",
       "\t  798431 &  672648 & 6       & 9215977 &  665    & A1009   & 201908  & 1       & 1       &  36     & loss4   & 1009   \\\\\n",
       "\t 1234990 & 1398659 & 8       & 2956956 & 2947    & A1007   & 202002  & 1       & 1       & 160     & loss3   & 1007   \\\\\n",
       "\t 1252605 & 1208715 & 8       & 1355515 & 2947    & A1007   & 201810  & 1       & 1       & 810     & loss3   & 1007   \\\\\n",
       "\t 1862936 &  115150 & 8       & 2179540 & 1274    & A1011   & 201812  & 1       & 1       & 220     & loss4   & 1011   \\\\\n",
       "\t 1719803 & 1783087 & 6       &  585375 & 2547    & A1008   & 201806  & 1       & 1       & 320     & loss3   & 1008   \\\\\n",
       "\t   83572 & 1212218 & 6       & 3542131 & 2547    & A1009   & 201910  & 1       & 1       & 270     & loss4   & 1009   \\\\\n",
       "\\end{tabular}\n"
      ],
      "text/markdown": [
       "\n",
       "| ACCD_SN | REQ_SN | SCTR_CD | POL_SN | VCTM_SN | PMNT_RESN_CD | PMNT_DT | PMNT_RESN_DTL_CD | PMNT_DTL_SN | PMNT_AMT | loss | strA |\n",
       "|---|---|---|---|---|---|---|---|---|---|---|---|\n",
       "|  798431 |  672648 | 6       | 9215977 |  665    | A1009   | 201908  | 1       | 1       |  36     | loss4   | 1009    |\n",
       "| 1234990 | 1398659 | 8       | 2956956 | 2947    | A1007   | 202002  | 1       | 1       | 160     | loss3   | 1007    |\n",
       "| 1252605 | 1208715 | 8       | 1355515 | 2947    | A1007   | 201810  | 1       | 1       | 810     | loss3   | 1007    |\n",
       "| 1862936 |  115150 | 8       | 2179540 | 1274    | A1011   | 201812  | 1       | 1       | 220     | loss4   | 1011    |\n",
       "| 1719803 | 1783087 | 6       |  585375 | 2547    | A1008   | 201806  | 1       | 1       | 320     | loss3   | 1008    |\n",
       "|   83572 | 1212218 | 6       | 3542131 | 2547    | A1009   | 201910  | 1       | 1       | 270     | loss4   | 1009    |\n",
       "\n"
      ],
      "text/plain": [
       "  ACCD_SN REQ_SN  SCTR_CD POL_SN  VCTM_SN PMNT_RESN_CD PMNT_DT PMNT_RESN_DTL_CD\n",
       "1  798431  672648 6       9215977  665    A1009        201908  1               \n",
       "2 1234990 1398659 8       2956956 2947    A1007        202002  1               \n",
       "3 1252605 1208715 8       1355515 2947    A1007        201810  1               \n",
       "4 1862936  115150 8       2179540 1274    A1011        201812  1               \n",
       "5 1719803 1783087 6        585375 2547    A1008        201806  1               \n",
       "6   83572 1212218 6       3542131 2547    A1009        201910  1               \n",
       "  PMNT_DTL_SN PMNT_AMT loss  strA\n",
       "1 1            36      loss4 1009\n",
       "2 1           160      loss3 1007\n",
       "3 1           810      loss3 1007\n",
       "4 1           220      loss4 1011\n",
       "5 1           320      loss3 1008\n",
       "6 1           270      loss4 1009"
      ]
     },
     "metadata": {},
     "output_type": "display_data"
    }
   ],
   "source": [
    "print('PMNT1')\n",
    "head(PMNT1)\n",
    "\n",
    "# dplyr\n",
    "PMNT3 <- PMNT1 %>% mutate('loss' = ifelse(PMNT_RESN_CD %in% c('A1001', 'A1002', 'A1003', 'A1004'), 'loss1', ifelse(PMNT_RESN_CD %in% c('A1005', 'A1006'), 'loss2', ifelse(PMNT_RESN_CD %in% c('A1007', 'A1008'), 'loss3', ifelse(PMNT_RESN_CD %in% c('A1009', 'A1010', 'A1011', 'A1012','A1013'), 'loss4', 'loss5')))))\n",
    "print('dplyr')\n",
    "dim(PMNT3)\n",
    "head(PMNT3)\n",
    "\n",
    "# data.table (lv1)\n",
    "PMNT1 <- data.table(PMNT1)\n",
    "loss1 <- c('A1001', 'A1002', 'A1003', 'A1004')\n",
    "loss2 <- c('A1005', 'A1006')\n",
    "loss3 <- c('A1007', 'A1008')\n",
    "loss4 <- c('A1009', 'A1010', 'A1011', 'A1012','A1013')\n",
    "\n",
    "PMNT3 <- PMNT1[, loss:= 'loss5'][ PMNT_RESN_CD %in% loss1, loss:='loss1'];\n",
    "    PMNT1[ PMNT_RESN_CD %in% loss2, loss:='loss2'][ PMNT_RESN_CD %in% loss3, loss:='loss3'];\n",
    "    PMNT1[ PMNT_RESN_CD %in% loss4, loss:='loss4']\n",
    "\n",
    "print('data.table')\n",
    "dim(PMNT3)\n",
    "head(PMNT3)\n",
    "\n",
    "# data.table (lv2) \n",
    "# - substring() , cut(vector, 커팅 벡터 , output), gsub(제거, 교체, vector)\n",
    "\n",
    "#PMNT3_2 <- PMNT1[, strA := substring(PMNT_RESN_CD, 2,nchar(as.character(PMNT_RESN_CD)))][, loss := cut(as.numeric(strA), c(-Inf, 1004, 1005, 1008, 1013, Inf), paste0('loss', 1:5)) ]\n",
    "PMNT3_2 <- PMNT1[, strA := gsub(\"[[:alpha:]]\" ,\"\" , PMNT_RESN_CD) ][, loss := cut(as.numeric(strA), c(-Inf, 1004, 1005, 1008, 1013, Inf), paste0('loss', 1:5)) ]\n",
    "\n",
    "head(PMNT3_2)"
   ]
  },
  {
   "cell_type": "code",
   "execution_count": 150,
   "metadata": {},
   "outputs": [
    {
     "data": {
      "text/html": [
       "2097"
      ],
      "text/latex": [
       "2097"
      ],
      "text/markdown": [
       "2097"
      ],
      "text/plain": [
       "[1] 2097"
      ]
     },
     "metadata": {},
     "output_type": "display_data"
    }
   ],
   "source": [
    "nrow(PMNT3)"
   ]
  },
  {
   "cell_type": "code",
   "execution_count": 151,
   "metadata": {},
   "outputs": [
    {
     "data": {
      "text/plain": [
       "\n",
       "loss1 loss2 loss3 loss4 loss5 \n",
       "   28    31   414   759   865 "
      ]
     },
     "metadata": {},
     "output_type": "display_data"
    }
   ],
   "source": [
    "table(PMNT3$loss)"
   ]
  },
  {
   "cell_type": "code",
   "execution_count": 152,
   "metadata": {},
   "outputs": [
    {
     "data": {
      "text/html": [
       "<table>\n",
       "<thead><tr><th scope=col>ACCD_SN</th><th scope=col>REQ_SN</th><th scope=col>SCTR_CD</th><th scope=col>POL_SN</th><th scope=col>VCTM_SN</th><th scope=col>PMNT_RESN_CD</th><th scope=col>PMNT_DT</th><th scope=col>PMNT_RESN_DTL_CD</th><th scope=col>PMNT_DTL_SN</th><th scope=col>PMNT_AMT</th><th scope=col>loss</th><th scope=col>strA</th></tr></thead>\n",
       "<tbody>\n",
       "\t<tr><td> 798431</td><td> 672648</td><td>6      </td><td>9215977</td><td> 665   </td><td>A1009  </td><td>201908 </td><td>1      </td><td>1      </td><td> 36    </td><td>loss4  </td><td>1009   </td></tr>\n",
       "\t<tr><td>1234990</td><td>1398659</td><td>8      </td><td>2956956</td><td>2947   </td><td>A1007  </td><td>202002 </td><td>1      </td><td>1      </td><td>160    </td><td>loss3  </td><td>1007   </td></tr>\n",
       "\t<tr><td>1252605</td><td>1208715</td><td>8      </td><td>1355515</td><td>2947   </td><td>A1007  </td><td>201810 </td><td>1      </td><td>1      </td><td>810    </td><td>loss3  </td><td>1007   </td></tr>\n",
       "\t<tr><td>1862936</td><td> 115150</td><td>8      </td><td>2179540</td><td>1274   </td><td>A1011  </td><td>201812 </td><td>1      </td><td>1      </td><td>220    </td><td>loss4  </td><td>1011   </td></tr>\n",
       "\t<tr><td>1719803</td><td>1783087</td><td>6      </td><td> 585375</td><td>2547   </td><td>A1008  </td><td>201806 </td><td>1      </td><td>1      </td><td>320    </td><td>loss3  </td><td>1008   </td></tr>\n",
       "\t<tr><td>  83572</td><td>1212218</td><td>6      </td><td>3542131</td><td>2547   </td><td>A1009  </td><td>201910 </td><td>1      </td><td>1      </td><td>270    </td><td>loss4  </td><td>1009   </td></tr>\n",
       "</tbody>\n",
       "</table>\n"
      ],
      "text/latex": [
       "\\begin{tabular}{r|llllllllllll}\n",
       " ACCD\\_SN & REQ\\_SN & SCTR\\_CD & POL\\_SN & VCTM\\_SN & PMNT\\_RESN\\_CD & PMNT\\_DT & PMNT\\_RESN\\_DTL\\_CD & PMNT\\_DTL\\_SN & PMNT\\_AMT & loss & strA\\\\\n",
       "\\hline\n",
       "\t  798431 &  672648 & 6       & 9215977 &  665    & A1009   & 201908  & 1       & 1       &  36     & loss4   & 1009   \\\\\n",
       "\t 1234990 & 1398659 & 8       & 2956956 & 2947    & A1007   & 202002  & 1       & 1       & 160     & loss3   & 1007   \\\\\n",
       "\t 1252605 & 1208715 & 8       & 1355515 & 2947    & A1007   & 201810  & 1       & 1       & 810     & loss3   & 1007   \\\\\n",
       "\t 1862936 &  115150 & 8       & 2179540 & 1274    & A1011   & 201812  & 1       & 1       & 220     & loss4   & 1011   \\\\\n",
       "\t 1719803 & 1783087 & 6       &  585375 & 2547    & A1008   & 201806  & 1       & 1       & 320     & loss3   & 1008   \\\\\n",
       "\t   83572 & 1212218 & 6       & 3542131 & 2547    & A1009   & 201910  & 1       & 1       & 270     & loss4   & 1009   \\\\\n",
       "\\end{tabular}\n"
      ],
      "text/markdown": [
       "\n",
       "| ACCD_SN | REQ_SN | SCTR_CD | POL_SN | VCTM_SN | PMNT_RESN_CD | PMNT_DT | PMNT_RESN_DTL_CD | PMNT_DTL_SN | PMNT_AMT | loss | strA |\n",
       "|---|---|---|---|---|---|---|---|---|---|---|---|\n",
       "|  798431 |  672648 | 6       | 9215977 |  665    | A1009   | 201908  | 1       | 1       |  36     | loss4   | 1009    |\n",
       "| 1234990 | 1398659 | 8       | 2956956 | 2947    | A1007   | 202002  | 1       | 1       | 160     | loss3   | 1007    |\n",
       "| 1252605 | 1208715 | 8       | 1355515 | 2947    | A1007   | 201810  | 1       | 1       | 810     | loss3   | 1007    |\n",
       "| 1862936 |  115150 | 8       | 2179540 | 1274    | A1011   | 201812  | 1       | 1       | 220     | loss4   | 1011    |\n",
       "| 1719803 | 1783087 | 6       |  585375 | 2547    | A1008   | 201806  | 1       | 1       | 320     | loss3   | 1008    |\n",
       "|   83572 | 1212218 | 6       | 3542131 | 2547    | A1009   | 201910  | 1       | 1       | 270     | loss4   | 1009    |\n",
       "\n"
      ],
      "text/plain": [
       "  ACCD_SN REQ_SN  SCTR_CD POL_SN  VCTM_SN PMNT_RESN_CD PMNT_DT PMNT_RESN_DTL_CD\n",
       "1  798431  672648 6       9215977  665    A1009        201908  1               \n",
       "2 1234990 1398659 8       2956956 2947    A1007        202002  1               \n",
       "3 1252605 1208715 8       1355515 2947    A1007        201810  1               \n",
       "4 1862936  115150 8       2179540 1274    A1011        201812  1               \n",
       "5 1719803 1783087 6        585375 2547    A1008        201806  1               \n",
       "6   83572 1212218 6       3542131 2547    A1009        201910  1               \n",
       "  PMNT_DTL_SN PMNT_AMT loss  strA\n",
       "1 1            36      loss4 1009\n",
       "2 1           160      loss3 1007\n",
       "3 1           810      loss3 1007\n",
       "4 1           220      loss4 1011\n",
       "5 1           320      loss3 1008\n",
       "6 1           270      loss4 1009"
      ]
     },
     "metadata": {},
     "output_type": "display_data"
    }
   ],
   "source": [
    "head(PMNT3)"
   ]
  },
  {
   "cell_type": "code",
   "execution_count": 153,
   "metadata": {},
   "outputs": [
    {
     "name": "stdout",
     "output_type": "stream",
     "text": [
      "[1] \"dplyr\"\n"
     ]
    },
    {
     "data": {
      "text/html": [
       "<table>\n",
       "<thead><tr><th scope=col>POL_SN</th><th scope=col>loss</th><th scope=col>AMT</th></tr></thead>\n",
       "<tbody>\n",
       "\t<tr><td> 1107</td><td>loss4</td><td> 180 </td></tr>\n",
       "\t<tr><td> 7956</td><td>loss3</td><td> 490 </td></tr>\n",
       "\t<tr><td> 7956</td><td>loss4</td><td> 199 </td></tr>\n",
       "\t<tr><td>18577</td><td>loss3</td><td>2970 </td></tr>\n",
       "\t<tr><td>18822</td><td>loss4</td><td> 160 </td></tr>\n",
       "\t<tr><td>22907</td><td>loss3</td><td> 240 </td></tr>\n",
       "</tbody>\n",
       "</table>\n"
      ],
      "text/latex": [
       "\\begin{tabular}{r|lll}\n",
       " POL\\_SN & loss & AMT\\\\\n",
       "\\hline\n",
       "\t  1107 & loss4 &  180 \\\\\n",
       "\t  7956 & loss3 &  490 \\\\\n",
       "\t  7956 & loss4 &  199 \\\\\n",
       "\t 18577 & loss3 & 2970 \\\\\n",
       "\t 18822 & loss4 &  160 \\\\\n",
       "\t 22907 & loss3 &  240 \\\\\n",
       "\\end{tabular}\n"
      ],
      "text/markdown": [
       "\n",
       "| POL_SN | loss | AMT |\n",
       "|---|---|---|\n",
       "|  1107 | loss4 |  180  |\n",
       "|  7956 | loss3 |  490  |\n",
       "|  7956 | loss4 |  199  |\n",
       "| 18577 | loss3 | 2970  |\n",
       "| 18822 | loss4 |  160  |\n",
       "| 22907 | loss3 |  240  |\n",
       "\n"
      ],
      "text/plain": [
       "  POL_SN loss  AMT \n",
       "1  1107  loss4  180\n",
       "2  7956  loss3  490\n",
       "3  7956  loss4  199\n",
       "4 18577  loss3 2970\n",
       "5 18822  loss4  160\n",
       "6 22907  loss3  240"
      ]
     },
     "metadata": {},
     "output_type": "display_data"
    },
    {
     "name": "stdout",
     "output_type": "stream",
     "text": [
      "[1] \"data.table\"\n"
     ]
    },
    {
     "data": {
      "text/html": [
       "<table>\n",
       "<thead><tr><th scope=col>POL_SN</th><th scope=col>loss</th><th scope=col>AMT</th></tr></thead>\n",
       "<tbody>\n",
       "\t<tr><td> 1107</td><td>loss4</td><td> 180 </td></tr>\n",
       "\t<tr><td> 7956</td><td>loss3</td><td> 490 </td></tr>\n",
       "\t<tr><td> 7956</td><td>loss4</td><td> 199 </td></tr>\n",
       "\t<tr><td>18577</td><td>loss3</td><td>2970 </td></tr>\n",
       "\t<tr><td>18822</td><td>loss4</td><td> 160 </td></tr>\n",
       "\t<tr><td>22907</td><td>loss3</td><td> 240 </td></tr>\n",
       "</tbody>\n",
       "</table>\n"
      ],
      "text/latex": [
       "\\begin{tabular}{r|lll}\n",
       " POL\\_SN & loss & AMT\\\\\n",
       "\\hline\n",
       "\t  1107 & loss4 &  180 \\\\\n",
       "\t  7956 & loss3 &  490 \\\\\n",
       "\t  7956 & loss4 &  199 \\\\\n",
       "\t 18577 & loss3 & 2970 \\\\\n",
       "\t 18822 & loss4 &  160 \\\\\n",
       "\t 22907 & loss3 &  240 \\\\\n",
       "\\end{tabular}\n"
      ],
      "text/markdown": [
       "\n",
       "| POL_SN | loss | AMT |\n",
       "|---|---|---|\n",
       "|  1107 | loss4 |  180  |\n",
       "|  7956 | loss3 |  490  |\n",
       "|  7956 | loss4 |  199  |\n",
       "| 18577 | loss3 | 2970  |\n",
       "| 18822 | loss4 |  160  |\n",
       "| 22907 | loss3 |  240  |\n",
       "\n"
      ],
      "text/plain": [
       "  POL_SN loss  AMT \n",
       "1  1107  loss4  180\n",
       "2  7956  loss3  490\n",
       "3  7956  loss4  199\n",
       "4 18577  loss3 2970\n",
       "5 18822  loss4  160\n",
       "6 22907  loss3  240"
      ]
     },
     "metadata": {},
     "output_type": "display_data"
    }
   ],
   "source": [
    "# dplyr\n",
    "PMNT4 <- PMNT3 %>% group_by(POL_SN, loss) %>% summarise(AMT = sum(PMNT_AMT))\n",
    "print('dplyr')\n",
    "head(PMNT4)\n",
    "\n",
    "# data.table\n",
    "PMNT4 <- copy(PMNT3[, .(AMT = sum(PMNT_AMT)), keyby=.(POL_SN, loss)])\n",
    "print('data.table')\n",
    "head(PMNT4)"
   ]
  },
  {
   "cell_type": "markdown",
   "metadata": {},
   "source": [
    "###  CASTING with aggregation function of summation"
   ]
  },
  {
   "cell_type": "code",
   "execution_count": 374,
   "metadata": {},
   "outputs": [
    {
     "name": "stdout",
     "output_type": "stream",
     "text": [
      "[1] \"dplyr\"\n"
     ]
    },
    {
     "data": {
      "text/html": [
       "<table>\n",
       "<thead><tr><th scope=col>POL_SN</th><th scope=col>loss4</th><th scope=col>loss3</th><th scope=col>loss5</th><th scope=col>loss1</th><th scope=col>loss2</th></tr></thead>\n",
       "<tbody>\n",
       "\t<tr><td> 1107</td><td>180  </td><td>   0 </td><td>0    </td><td>0    </td><td>0    </td></tr>\n",
       "\t<tr><td> 7956</td><td>199  </td><td> 490 </td><td>0    </td><td>0    </td><td>0    </td></tr>\n",
       "\t<tr><td>18577</td><td>  0  </td><td>2970 </td><td>0    </td><td>0    </td><td>0    </td></tr>\n",
       "\t<tr><td>18822</td><td>160  </td><td>   0 </td><td>0    </td><td>0    </td><td>0    </td></tr>\n",
       "\t<tr><td>22907</td><td>190  </td><td> 240 </td><td>0    </td><td>0    </td><td>0    </td></tr>\n",
       "\t<tr><td>24705</td><td>670  </td><td>   0 </td><td>0    </td><td>0    </td><td>0    </td></tr>\n",
       "</tbody>\n",
       "</table>\n"
      ],
      "text/latex": [
       "\\begin{tabular}{r|llllll}\n",
       " POL\\_SN & loss4 & loss3 & loss5 & loss1 & loss2\\\\\n",
       "\\hline\n",
       "\t  1107 & 180   &    0  & 0     & 0     & 0    \\\\\n",
       "\t  7956 & 199   &  490  & 0     & 0     & 0    \\\\\n",
       "\t 18577 &   0   & 2970  & 0     & 0     & 0    \\\\\n",
       "\t 18822 & 160   &    0  & 0     & 0     & 0    \\\\\n",
       "\t 22907 & 190   &  240  & 0     & 0     & 0    \\\\\n",
       "\t 24705 & 670   &    0  & 0     & 0     & 0    \\\\\n",
       "\\end{tabular}\n"
      ],
      "text/markdown": [
       "\n",
       "| POL_SN | loss4 | loss3 | loss5 | loss1 | loss2 |\n",
       "|---|---|---|---|---|---|\n",
       "|  1107 | 180   |    0  | 0     | 0     | 0     |\n",
       "|  7956 | 199   |  490  | 0     | 0     | 0     |\n",
       "| 18577 |   0   | 2970  | 0     | 0     | 0     |\n",
       "| 18822 | 160   |    0  | 0     | 0     | 0     |\n",
       "| 22907 | 190   |  240  | 0     | 0     | 0     |\n",
       "| 24705 | 670   |    0  | 0     | 0     | 0     |\n",
       "\n"
      ],
      "text/plain": [
       "  POL_SN loss4 loss3 loss5 loss1 loss2\n",
       "1  1107  180      0  0     0     0    \n",
       "2  7956  199    490  0     0     0    \n",
       "3 18577    0   2970  0     0     0    \n",
       "4 18822  160      0  0     0     0    \n",
       "5 22907  190    240  0     0     0    \n",
       "6 24705  670      0  0     0     0    "
      ]
     },
     "metadata": {},
     "output_type": "display_data"
    },
    {
     "data": {
      "text/html": [
       "1130"
      ],
      "text/latex": [
       "1130"
      ],
      "text/markdown": [
       "1130"
      ],
      "text/plain": [
       "[1] 1130"
      ]
     },
     "metadata": {},
     "output_type": "display_data"
    },
    {
     "name": "stderr",
     "output_type": "stream",
     "text": [
      "Using 'AMT' as value column. Use 'value.var' to override\n"
     ]
    },
    {
     "name": "stdout",
     "output_type": "stream",
     "text": [
      "[1] \"data.table\"\n"
     ]
    },
    {
     "data": {
      "text/html": [
       "<table>\n",
       "<thead><tr><th scope=col>POL_SN</th><th scope=col>loss1</th><th scope=col>loss2</th><th scope=col>loss3</th><th scope=col>loss4</th><th scope=col>loss5</th></tr></thead>\n",
       "<tbody>\n",
       "\t<tr><td> 1107</td><td>0    </td><td>0    </td><td>   0 </td><td>180  </td><td>0    </td></tr>\n",
       "\t<tr><td> 7956</td><td>0    </td><td>0    </td><td> 490 </td><td>199  </td><td>0    </td></tr>\n",
       "\t<tr><td>18577</td><td>0    </td><td>0    </td><td>2970 </td><td>  0  </td><td>0    </td></tr>\n",
       "\t<tr><td>18822</td><td>0    </td><td>0    </td><td>   0 </td><td>160  </td><td>0    </td></tr>\n",
       "\t<tr><td>22907</td><td>0    </td><td>0    </td><td> 240 </td><td>190  </td><td>0    </td></tr>\n",
       "\t<tr><td>24705</td><td>0    </td><td>0    </td><td>   0 </td><td>670  </td><td>0    </td></tr>\n",
       "</tbody>\n",
       "</table>\n"
      ],
      "text/latex": [
       "\\begin{tabular}{r|llllll}\n",
       " POL\\_SN & loss1 & loss2 & loss3 & loss4 & loss5\\\\\n",
       "\\hline\n",
       "\t  1107 & 0     & 0     &    0  & 180   & 0    \\\\\n",
       "\t  7956 & 0     & 0     &  490  & 199   & 0    \\\\\n",
       "\t 18577 & 0     & 0     & 2970  &   0   & 0    \\\\\n",
       "\t 18822 & 0     & 0     &    0  & 160   & 0    \\\\\n",
       "\t 22907 & 0     & 0     &  240  & 190   & 0    \\\\\n",
       "\t 24705 & 0     & 0     &    0  & 670   & 0    \\\\\n",
       "\\end{tabular}\n"
      ],
      "text/markdown": [
       "\n",
       "| POL_SN | loss1 | loss2 | loss3 | loss4 | loss5 |\n",
       "|---|---|---|---|---|---|\n",
       "|  1107 | 0     | 0     |    0  | 180   | 0     |\n",
       "|  7956 | 0     | 0     |  490  | 199   | 0     |\n",
       "| 18577 | 0     | 0     | 2970  |   0   | 0     |\n",
       "| 18822 | 0     | 0     |    0  | 160   | 0     |\n",
       "| 22907 | 0     | 0     |  240  | 190   | 0     |\n",
       "| 24705 | 0     | 0     |    0  | 670   | 0     |\n",
       "\n"
      ],
      "text/plain": [
       "  POL_SN loss1 loss2 loss3 loss4 loss5\n",
       "1  1107  0     0        0  180   0    \n",
       "2  7956  0     0      490  199   0    \n",
       "3 18577  0     0     2970    0   0    \n",
       "4 18822  0     0        0  160   0    \n",
       "5 22907  0     0      240  190   0    \n",
       "6 24705  0     0        0  670   0    "
      ]
     },
     "metadata": {},
     "output_type": "display_data"
    },
    {
     "data": {
      "text/html": [
       "1130"
      ],
      "text/latex": [
       "1130"
      ],
      "text/markdown": [
       "1130"
      ],
      "text/plain": [
       "[1] 1130"
      ]
     },
     "metadata": {},
     "output_type": "display_data"
    }
   ],
   "source": [
    "# dplyr\n",
    "PMNT5 <- PMNT4 %>% reshape(timevar = 'loss', idvar = 'POL_SN', direction = 'wide')  %>% dplyr::rename('loss1' = 'AMT.loss1', 'loss2' = 'AMT.loss2', 'loss3' = 'AMT.loss3', 'loss4' = 'AMT.loss4', 'loss5' = 'AMT.loss5')\n",
    "PMNT5[is.na(PMNT5)] <- 0\n",
    "print('dplyr')\n",
    "head(PMNT5)\n",
    "nrow(PMNT5)\n",
    "\n",
    "# data.table\n",
    "PMNT5<-dcast(PMNT4, POL_SN ~ loss, fun.aggregate = sum)\n",
    "print('data.table')\n",
    "head(PMNT5)\n",
    "nrow(PMNT5)"
   ]
  },
  {
   "cell_type": "code",
   "execution_count": 490,
   "metadata": {},
   "outputs": [],
   "source": [
    "fwrite(PMNT5, \"pay.csv\")"
   ]
  },
  {
   "cell_type": "markdown",
   "metadata": {},
   "source": [
    "# 보험담보정보 테이블\n",
    "## 증권별 보험세부담보건수 및 세부담보금액\n",
    " * 담보건수 정의\n",
    "    - CNT1 : A1 ~ A3 \n",
    "    - CNT2 : A4\n",
    "    - CNT3 : A5\n",
    "    - CNT4 : A6 ~ A8\n",
    "    - CNT5 : A90~A99\n",
    " * 담보금액 정의\n",
    "    - AMT1 : A1 ~ A3 \n",
    "    - AMT2 : A4\n",
    "    - AMT3 : A5\n",
    "    - AMT4 : A6 ~ A8\n",
    "    - AMT5 : A90~A99"
   ]
  },
  {
   "cell_type": "code",
   "execution_count": 30,
   "metadata": {},
   "outputs": [],
   "source": [
    "MGG <- fread(file = \"SDBSAMPLE_I_CT_MGG_PVT.csv\", header = T, stringsAsFactors = T, sep = \",\")"
   ]
  },
  {
   "cell_type": "code",
   "execution_count": 451,
   "metadata": {},
   "outputs": [
    {
     "data": {
      "text/html": [
       "<table>\n",
       "<thead><tr><th scope=col>JOIN_SN</th><th scope=col>JOIN_SN_TYP</th><th scope=col>SCTR_CD</th><th scope=col>POL_SN</th><th scope=col>MGG_GRP_CD</th><th scope=col>MGG_CD</th><th scope=col>MGG_CNT</th><th scope=col>MGG_AMT_SUM</th><th scope=col>MGG_AMT_MAX</th><th scope=col>MGG_AMT_MIN</th><th scope=col>...</th><th scope=col>YM_201909</th><th scope=col>YM_201910</th><th scope=col>YM_201911</th><th scope=col>YM_201912</th><th scope=col>YM_202001</th><th scope=col>YM_202002</th><th scope=col>YM_202003</th><th scope=col>YM_202004</th><th scope=col>YM_202005</th><th scope=col>YM_202006</th></tr></thead>\n",
       "<tbody>\n",
       "\t<tr><td>  23221</td><td>1      </td><td>6      </td><td>5844566</td><td>A5     </td><td>A5302  </td><td>1      </td><td>  540  </td><td>  540  </td><td>  540  </td><td>...    </td><td>1      </td><td>1      </td><td>1      </td><td>1      </td><td>1      </td><td>1      </td><td>1      </td><td>1      </td><td>1      </td><td>1      </td></tr>\n",
       "\t<tr><td>1714104</td><td>1      </td><td>6      </td><td>9829672</td><td>A5     </td><td>A5301  </td><td>1      </td><td>  100  </td><td>  100  </td><td>  100  </td><td>...    </td><td>1      </td><td>1      </td><td>1      </td><td>1      </td><td>1      </td><td>1      </td><td>1      </td><td>1      </td><td>1      </td><td>1      </td></tr>\n",
       "\t<tr><td>1374241</td><td>1      </td><td>6      </td><td>9885475</td><td>A3     </td><td>A3300  </td><td>1      </td><td>10000  </td><td>10000  </td><td>10000  </td><td>...    </td><td>0      </td><td>1      </td><td>1      </td><td>0      </td><td>0      </td><td>0      </td><td>0      </td><td>0      </td><td>0      </td><td>0      </td></tr>\n",
       "\t<tr><td>1067990</td><td>1      </td><td>8      </td><td>5361136</td><td>A7     </td><td>A7300  </td><td>1      </td><td>  100  </td><td>  100  </td><td>  100  </td><td>...    </td><td>1      </td><td>1      </td><td>1      </td><td>1      </td><td>1      </td><td>1      </td><td>1      </td><td>1      </td><td>1      </td><td>1      </td></tr>\n",
       "\t<tr><td>1099805</td><td>1      </td><td>6      </td><td>2331847</td><td>A4     </td><td>A4209  </td><td>1      </td><td>40000  </td><td>40000  </td><td>40000  </td><td>...    </td><td>1      </td><td>1      </td><td>1      </td><td>1      </td><td>1      </td><td>1      </td><td>1      </td><td>1      </td><td>1      </td><td>1      </td></tr>\n",
       "\t<tr><td>1243249</td><td>1      </td><td>6      </td><td>3602204</td><td>A6     </td><td>A6150  </td><td>3      </td><td>  110  </td><td>  100  </td><td>  100  </td><td>...    </td><td>0      </td><td>0      </td><td>0      </td><td>0      </td><td>0      </td><td>0      </td><td>0      </td><td>0      </td><td>0      </td><td>0      </td></tr>\n",
       "</tbody>\n",
       "</table>\n"
      ],
      "text/latex": [
       "\\begin{tabular}{r|lllllllllllllllllllllllllllllllllll}\n",
       " JOIN\\_SN & JOIN\\_SN\\_TYP & SCTR\\_CD & POL\\_SN & MGG\\_GRP\\_CD & MGG\\_CD & MGG\\_CNT & MGG\\_AMT\\_SUM & MGG\\_AMT\\_MAX & MGG\\_AMT\\_MIN & ... & YM\\_201909 & YM\\_201910 & YM\\_201911 & YM\\_201912 & YM\\_202001 & YM\\_202002 & YM\\_202003 & YM\\_202004 & YM\\_202005 & YM\\_202006\\\\\n",
       "\\hline\n",
       "\t   23221 & 1       & 6       & 5844566 & A5      & A5302   & 1       &   540   &   540   &   540   & ...     & 1       & 1       & 1       & 1       & 1       & 1       & 1       & 1       & 1       & 1      \\\\\n",
       "\t 1714104 & 1       & 6       & 9829672 & A5      & A5301   & 1       &   100   &   100   &   100   & ...     & 1       & 1       & 1       & 1       & 1       & 1       & 1       & 1       & 1       & 1      \\\\\n",
       "\t 1374241 & 1       & 6       & 9885475 & A3      & A3300   & 1       & 10000   & 10000   & 10000   & ...     & 0       & 1       & 1       & 0       & 0       & 0       & 0       & 0       & 0       & 0      \\\\\n",
       "\t 1067990 & 1       & 8       & 5361136 & A7      & A7300   & 1       &   100   &   100   &   100   & ...     & 1       & 1       & 1       & 1       & 1       & 1       & 1       & 1       & 1       & 1      \\\\\n",
       "\t 1099805 & 1       & 6       & 2331847 & A4      & A4209   & 1       & 40000   & 40000   & 40000   & ...     & 1       & 1       & 1       & 1       & 1       & 1       & 1       & 1       & 1       & 1      \\\\\n",
       "\t 1243249 & 1       & 6       & 3602204 & A6      & A6150   & 3       &   110   &   100   &   100   & ...     & 0       & 0       & 0       & 0       & 0       & 0       & 0       & 0       & 0       & 0      \\\\\n",
       "\\end{tabular}\n"
      ],
      "text/markdown": [
       "\n",
       "| JOIN_SN | JOIN_SN_TYP | SCTR_CD | POL_SN | MGG_GRP_CD | MGG_CD | MGG_CNT | MGG_AMT_SUM | MGG_AMT_MAX | MGG_AMT_MIN | ... | YM_201909 | YM_201910 | YM_201911 | YM_201912 | YM_202001 | YM_202002 | YM_202003 | YM_202004 | YM_202005 | YM_202006 |\n",
       "|---|---|---|---|---|---|---|---|---|---|---|---|---|---|---|---|---|---|---|---|---|\n",
       "|   23221 | 1       | 6       | 5844566 | A5      | A5302   | 1       |   540   |   540   |   540   | ...     | 1       | 1       | 1       | 1       | 1       | 1       | 1       | 1       | 1       | 1       |\n",
       "| 1714104 | 1       | 6       | 9829672 | A5      | A5301   | 1       |   100   |   100   |   100   | ...     | 1       | 1       | 1       | 1       | 1       | 1       | 1       | 1       | 1       | 1       |\n",
       "| 1374241 | 1       | 6       | 9885475 | A3      | A3300   | 1       | 10000   | 10000   | 10000   | ...     | 0       | 1       | 1       | 0       | 0       | 0       | 0       | 0       | 0       | 0       |\n",
       "| 1067990 | 1       | 8       | 5361136 | A7      | A7300   | 1       |   100   |   100   |   100   | ...     | 1       | 1       | 1       | 1       | 1       | 1       | 1       | 1       | 1       | 1       |\n",
       "| 1099805 | 1       | 6       | 2331847 | A4      | A4209   | 1       | 40000   | 40000   | 40000   | ...     | 1       | 1       | 1       | 1       | 1       | 1       | 1       | 1       | 1       | 1       |\n",
       "| 1243249 | 1       | 6       | 3602204 | A6      | A6150   | 3       |   110   |   100   |   100   | ...     | 0       | 0       | 0       | 0       | 0       | 0       | 0       | 0       | 0       | 0       |\n",
       "\n"
      ],
      "text/plain": [
       "  JOIN_SN JOIN_SN_TYP SCTR_CD POL_SN  MGG_GRP_CD MGG_CD MGG_CNT MGG_AMT_SUM\n",
       "1   23221 1           6       5844566 A5         A5302  1         540      \n",
       "2 1714104 1           6       9829672 A5         A5301  1         100      \n",
       "3 1374241 1           6       9885475 A3         A3300  1       10000      \n",
       "4 1067990 1           8       5361136 A7         A7300  1         100      \n",
       "5 1099805 1           6       2331847 A4         A4209  1       40000      \n",
       "6 1243249 1           6       3602204 A6         A6150  3         110      \n",
       "  MGG_AMT_MAX MGG_AMT_MIN ... YM_201909 YM_201910 YM_201911 YM_201912 YM_202001\n",
       "1   540         540       ... 1         1         1         1         1        \n",
       "2   100         100       ... 1         1         1         1         1        \n",
       "3 10000       10000       ... 0         1         1         0         0        \n",
       "4   100         100       ... 1         1         1         1         1        \n",
       "5 40000       40000       ... 1         1         1         1         1        \n",
       "6   100         100       ... 0         0         0         0         0        \n",
       "  YM_202002 YM_202003 YM_202004 YM_202005 YM_202006\n",
       "1 1         1         1         1         1        \n",
       "2 1         1         1         1         1        \n",
       "3 0         0         0         0         0        \n",
       "4 1         1         1         1         1        \n",
       "5 1         1         1         1         1        \n",
       "6 0         0         0         0         0        "
      ]
     },
     "metadata": {},
     "output_type": "display_data"
    }
   ],
   "source": [
    "head(MGG)"
   ]
  },
  {
   "cell_type": "markdown",
   "metadata": {},
   "source": [
    "* 셈플 데이터에 YM_202006 까지만 있어 실제 데이터로 작업시 YM_202012로 수정해야 함"
   ]
  },
  {
   "cell_type": "code",
   "execution_count": 452,
   "metadata": {},
   "outputs": [
    {
     "name": "stdout",
     "output_type": "stream",
     "text": [
      "[1] \"마지막 컬럼\"\n"
     ]
    },
    {
     "data": {
      "text/html": [
       "<ol class=list-inline>\n",
       "\t<li>'YM_202002'</li>\n",
       "\t<li>'YM_202003'</li>\n",
       "\t<li>'YM_202004'</li>\n",
       "\t<li>'YM_202005'</li>\n",
       "\t<li>'YM_202006'</li>\n",
       "\t<li>'mggnb'</li>\n",
       "</ol>\n"
      ],
      "text/latex": [
       "\\begin{enumerate*}\n",
       "\\item 'YM\\_202002'\n",
       "\\item 'YM\\_202003'\n",
       "\\item 'YM\\_202004'\n",
       "\\item 'YM\\_202005'\n",
       "\\item 'YM\\_202006'\n",
       "\\item 'mggnb'\n",
       "\\end{enumerate*}\n"
      ],
      "text/markdown": [
       "1. 'YM_202002'\n",
       "2. 'YM_202003'\n",
       "3. 'YM_202004'\n",
       "4. 'YM_202005'\n",
       "5. 'YM_202006'\n",
       "6. 'mggnb'\n",
       "\n",
       "\n"
      ],
      "text/plain": [
       "[1] \"YM_202002\" \"YM_202003\" \"YM_202004\" \"YM_202005\" \"YM_202006\" \"mggnb\"    "
      ]
     },
     "metadata": {},
     "output_type": "display_data"
    },
    {
     "name": "stdout",
     "output_type": "stream",
     "text": [
      "[1] \"행 갯수\"\n"
     ]
    },
    {
     "data": {
      "text/html": [
       "110352"
      ],
      "text/latex": [
       "110352"
      ],
      "text/markdown": [
       "110352"
      ],
      "text/plain": [
       "[1] 110352"
      ]
     },
     "metadata": {},
     "output_type": "display_data"
    }
   ],
   "source": [
    "print('마지막 컬럼')\n",
    "tail(colnames(MGG1))\n",
    "\n",
    "print('행 갯수')\n",
    "nrow(MGG1)"
   ]
  },
  {
   "cell_type": "code",
   "execution_count": 453,
   "metadata": {},
   "outputs": [
    {
     "name": "stdout",
     "output_type": "stream",
     "text": [
      "[1] \"dplyr\"\n"
     ]
    },
    {
     "data": {
      "text/html": [
       "<table>\n",
       "<thead><tr><th scope=col>MGG_GRP_CD</th><th scope=col>n</th></tr></thead>\n",
       "<tbody>\n",
       "\t<tr><td>A1   </td><td>12920</td></tr>\n",
       "\t<tr><td>A3   </td><td>14986</td></tr>\n",
       "\t<tr><td>A4   </td><td>31263</td></tr>\n",
       "\t<tr><td>A5   </td><td>21885</td></tr>\n",
       "\t<tr><td>A6   </td><td>15189</td></tr>\n",
       "\t<tr><td>A7   </td><td> 1471</td></tr>\n",
       "\t<tr><td>A8   </td><td>  248</td></tr>\n",
       "\t<tr><td>A90  </td><td>   84</td></tr>\n",
       "\t<tr><td>A91  </td><td>   44</td></tr>\n",
       "\t<tr><td>A94  </td><td> 3980</td></tr>\n",
       "\t<tr><td>A95  </td><td> 1150</td></tr>\n",
       "\t<tr><td>A96  </td><td> 5428</td></tr>\n",
       "\t<tr><td>A99  </td><td> 1704</td></tr>\n",
       "</tbody>\n",
       "</table>\n"
      ],
      "text/latex": [
       "\\begin{tabular}{r|ll}\n",
       " MGG\\_GRP\\_CD & n\\\\\n",
       "\\hline\n",
       "\t A1    & 12920\\\\\n",
       "\t A3    & 14986\\\\\n",
       "\t A4    & 31263\\\\\n",
       "\t A5    & 21885\\\\\n",
       "\t A6    & 15189\\\\\n",
       "\t A7    &  1471\\\\\n",
       "\t A8    &   248\\\\\n",
       "\t A90   &    84\\\\\n",
       "\t A91   &    44\\\\\n",
       "\t A94   &  3980\\\\\n",
       "\t A95   &  1150\\\\\n",
       "\t A96   &  5428\\\\\n",
       "\t A99   &  1704\\\\\n",
       "\\end{tabular}\n"
      ],
      "text/markdown": [
       "\n",
       "| MGG_GRP_CD | n |\n",
       "|---|---|\n",
       "| A1    | 12920 |\n",
       "| A3    | 14986 |\n",
       "| A4    | 31263 |\n",
       "| A5    | 21885 |\n",
       "| A6    | 15189 |\n",
       "| A7    |  1471 |\n",
       "| A8    |   248 |\n",
       "| A90   |    84 |\n",
       "| A91   |    44 |\n",
       "| A94   |  3980 |\n",
       "| A95   |  1150 |\n",
       "| A96   |  5428 |\n",
       "| A99   |  1704 |\n",
       "\n"
      ],
      "text/plain": [
       "   MGG_GRP_CD n    \n",
       "1  A1         12920\n",
       "2  A3         14986\n",
       "3  A4         31263\n",
       "4  A5         21885\n",
       "5  A6         15189\n",
       "6  A7          1471\n",
       "7  A8           248\n",
       "8  A90           84\n",
       "9  A91           44\n",
       "10 A94         3980\n",
       "11 A95         1150\n",
       "12 A96         5428\n",
       "13 A99         1704"
      ]
     },
     "metadata": {},
     "output_type": "display_data"
    },
    {
     "name": "stdout",
     "output_type": "stream",
     "text": [
      "[1] \"data.table\"\n"
     ]
    },
    {
     "data": {
      "text/html": [
       "<table>\n",
       "<thead><tr><th scope=col>MGG_GRP_CD</th><th scope=col>n</th></tr></thead>\n",
       "<tbody>\n",
       "\t<tr><td>A1   </td><td>12920</td></tr>\n",
       "\t<tr><td>A3   </td><td>14986</td></tr>\n",
       "\t<tr><td>A4   </td><td>31263</td></tr>\n",
       "\t<tr><td>A5   </td><td>21885</td></tr>\n",
       "\t<tr><td>A6   </td><td>15189</td></tr>\n",
       "\t<tr><td>A7   </td><td> 1471</td></tr>\n",
       "\t<tr><td>A8   </td><td>  248</td></tr>\n",
       "\t<tr><td>A90  </td><td>   84</td></tr>\n",
       "\t<tr><td>A91  </td><td>   44</td></tr>\n",
       "\t<tr><td>A94  </td><td> 3980</td></tr>\n",
       "\t<tr><td>A95  </td><td> 1150</td></tr>\n",
       "\t<tr><td>A96  </td><td> 5428</td></tr>\n",
       "\t<tr><td>A99  </td><td> 1704</td></tr>\n",
       "</tbody>\n",
       "</table>\n"
      ],
      "text/latex": [
       "\\begin{tabular}{r|ll}\n",
       " MGG\\_GRP\\_CD & n\\\\\n",
       "\\hline\n",
       "\t A1    & 12920\\\\\n",
       "\t A3    & 14986\\\\\n",
       "\t A4    & 31263\\\\\n",
       "\t A5    & 21885\\\\\n",
       "\t A6    & 15189\\\\\n",
       "\t A7    &  1471\\\\\n",
       "\t A8    &   248\\\\\n",
       "\t A90   &    84\\\\\n",
       "\t A91   &    44\\\\\n",
       "\t A94   &  3980\\\\\n",
       "\t A95   &  1150\\\\\n",
       "\t A96   &  5428\\\\\n",
       "\t A99   &  1704\\\\\n",
       "\\end{tabular}\n"
      ],
      "text/markdown": [
       "\n",
       "| MGG_GRP_CD | n |\n",
       "|---|---|\n",
       "| A1    | 12920 |\n",
       "| A3    | 14986 |\n",
       "| A4    | 31263 |\n",
       "| A5    | 21885 |\n",
       "| A6    | 15189 |\n",
       "| A7    |  1471 |\n",
       "| A8    |   248 |\n",
       "| A90   |    84 |\n",
       "| A91   |    44 |\n",
       "| A94   |  3980 |\n",
       "| A95   |  1150 |\n",
       "| A96   |  5428 |\n",
       "| A99   |  1704 |\n",
       "\n"
      ],
      "text/plain": [
       "   MGG_GRP_CD n    \n",
       "1  A1         12920\n",
       "2  A3         14986\n",
       "3  A4         31263\n",
       "4  A5         21885\n",
       "5  A6         15189\n",
       "6  A7          1471\n",
       "7  A8           248\n",
       "8  A90           84\n",
       "9  A91           44\n",
       "10 A94         3980\n",
       "11 A95         1150\n",
       "12 A96         5428\n",
       "13 A99         1704"
      ]
     },
     "metadata": {},
     "output_type": "display_data"
    }
   ],
   "source": [
    "# dplyr\n",
    "print('dplyr')\n",
    "MGG1 %>% group_by(MGG_GRP_CD) %>% count() %>% as.data.frame()\n",
    "\n",
    "# data.table\n",
    "print('data.table')\n",
    "MGG1[, .(n = .N), by=MGG_GRP_CD][order(MGG_GRP_CD)]"
   ]
  },
  {
   "cell_type": "code",
   "execution_count": 64,
   "metadata": {},
   "outputs": [
    {
     "name": "stdout",
     "output_type": "stream",
     "text": [
      "[1] \"dplyr\"\n"
     ]
    },
    {
     "data": {
      "text/html": [
       "<table>\n",
       "<thead><tr><th scope=col>JOIN_SN</th><th scope=col>JOIN_SN_TYP</th><th scope=col>SCTR_CD</th><th scope=col>POL_SN</th><th scope=col>MGG_GRP_CD</th><th scope=col>MGG_CD</th><th scope=col>MGG_CNT</th><th scope=col>MGG_AMT_SUM</th><th scope=col>MGG_AMT_MAX</th><th scope=col>MGG_AMT_MIN</th><th scope=col>...</th><th scope=col>YM_201910</th><th scope=col>YM_201911</th><th scope=col>YM_201912</th><th scope=col>YM_202001</th><th scope=col>YM_202002</th><th scope=col>YM_202003</th><th scope=col>YM_202004</th><th scope=col>YM_202005</th><th scope=col>YM_202006</th><th scope=col>CNT</th></tr></thead>\n",
       "<tbody>\n",
       "\t<tr><td>  23221</td><td>1      </td><td>6      </td><td>5844566</td><td>A5     </td><td>A5302  </td><td>1      </td><td>  540  </td><td>  540  </td><td>  540  </td><td>...    </td><td>1      </td><td>1      </td><td>1      </td><td>1      </td><td>1      </td><td>1      </td><td>1      </td><td>1      </td><td>1      </td><td>CNT3   </td></tr>\n",
       "\t<tr><td>1714104</td><td>1      </td><td>6      </td><td>9829672</td><td>A5     </td><td>A5301  </td><td>1      </td><td>  100  </td><td>  100  </td><td>  100  </td><td>...    </td><td>1      </td><td>1      </td><td>1      </td><td>1      </td><td>1      </td><td>1      </td><td>1      </td><td>1      </td><td>1      </td><td>CNT3   </td></tr>\n",
       "\t<tr><td>1067990</td><td>1      </td><td>8      </td><td>5361136</td><td>A7     </td><td>A7300  </td><td>1      </td><td>  100  </td><td>  100  </td><td>  100  </td><td>...    </td><td>1      </td><td>1      </td><td>1      </td><td>1      </td><td>1      </td><td>1      </td><td>1      </td><td>1      </td><td>1      </td><td>CNT4   </td></tr>\n",
       "\t<tr><td>1099805</td><td>1      </td><td>6      </td><td>2331847</td><td>A4     </td><td>A4209  </td><td>1      </td><td>40000  </td><td>40000  </td><td>40000  </td><td>...    </td><td>1      </td><td>1      </td><td>1      </td><td>1      </td><td>1      </td><td>1      </td><td>1      </td><td>1      </td><td>1      </td><td>CNT2   </td></tr>\n",
       "\t<tr><td>1051588</td><td>1      </td><td>8      </td><td>2166976</td><td>A3     </td><td>A3300  </td><td>1      </td><td>10000  </td><td>10000  </td><td>10000  </td><td>...    </td><td>0      </td><td>0      </td><td>0      </td><td>0      </td><td>0      </td><td>0      </td><td>0      </td><td>0      </td><td>1      </td><td>CNT1   </td></tr>\n",
       "\t<tr><td>1566757</td><td>1      </td><td>6      </td><td>2843696</td><td>A3     </td><td>A3301  </td><td>1      </td><td>10000  </td><td>10000  </td><td>10000  </td><td>...    </td><td>1      </td><td>1      </td><td>1      </td><td>1      </td><td>1      </td><td>1      </td><td>1      </td><td>1      </td><td>1      </td><td>CNT1   </td></tr>\n",
       "</tbody>\n",
       "</table>\n"
      ],
      "text/latex": [
       "\\begin{tabular}{r|llllllllllllllllllllllllllllllllllll}\n",
       " JOIN\\_SN & JOIN\\_SN\\_TYP & SCTR\\_CD & POL\\_SN & MGG\\_GRP\\_CD & MGG\\_CD & MGG\\_CNT & MGG\\_AMT\\_SUM & MGG\\_AMT\\_MAX & MGG\\_AMT\\_MIN & ... & YM\\_201910 & YM\\_201911 & YM\\_201912 & YM\\_202001 & YM\\_202002 & YM\\_202003 & YM\\_202004 & YM\\_202005 & YM\\_202006 & CNT\\\\\n",
       "\\hline\n",
       "\t   23221 & 1       & 6       & 5844566 & A5      & A5302   & 1       &   540   &   540   &   540   & ...     & 1       & 1       & 1       & 1       & 1       & 1       & 1       & 1       & 1       & CNT3   \\\\\n",
       "\t 1714104 & 1       & 6       & 9829672 & A5      & A5301   & 1       &   100   &   100   &   100   & ...     & 1       & 1       & 1       & 1       & 1       & 1       & 1       & 1       & 1       & CNT3   \\\\\n",
       "\t 1067990 & 1       & 8       & 5361136 & A7      & A7300   & 1       &   100   &   100   &   100   & ...     & 1       & 1       & 1       & 1       & 1       & 1       & 1       & 1       & 1       & CNT4   \\\\\n",
       "\t 1099805 & 1       & 6       & 2331847 & A4      & A4209   & 1       & 40000   & 40000   & 40000   & ...     & 1       & 1       & 1       & 1       & 1       & 1       & 1       & 1       & 1       & CNT2   \\\\\n",
       "\t 1051588 & 1       & 8       & 2166976 & A3      & A3300   & 1       & 10000   & 10000   & 10000   & ...     & 0       & 0       & 0       & 0       & 0       & 0       & 0       & 0       & 1       & CNT1   \\\\\n",
       "\t 1566757 & 1       & 6       & 2843696 & A3      & A3301   & 1       & 10000   & 10000   & 10000   & ...     & 1       & 1       & 1       & 1       & 1       & 1       & 1       & 1       & 1       & CNT1   \\\\\n",
       "\\end{tabular}\n"
      ],
      "text/markdown": [
       "\n",
       "| JOIN_SN | JOIN_SN_TYP | SCTR_CD | POL_SN | MGG_GRP_CD | MGG_CD | MGG_CNT | MGG_AMT_SUM | MGG_AMT_MAX | MGG_AMT_MIN | ... | YM_201910 | YM_201911 | YM_201912 | YM_202001 | YM_202002 | YM_202003 | YM_202004 | YM_202005 | YM_202006 | CNT |\n",
       "|---|---|---|---|---|---|---|---|---|---|---|---|---|---|---|---|---|---|---|---|---|\n",
       "|   23221 | 1       | 6       | 5844566 | A5      | A5302   | 1       |   540   |   540   |   540   | ...     | 1       | 1       | 1       | 1       | 1       | 1       | 1       | 1       | 1       | CNT3    |\n",
       "| 1714104 | 1       | 6       | 9829672 | A5      | A5301   | 1       |   100   |   100   |   100   | ...     | 1       | 1       | 1       | 1       | 1       | 1       | 1       | 1       | 1       | CNT3    |\n",
       "| 1067990 | 1       | 8       | 5361136 | A7      | A7300   | 1       |   100   |   100   |   100   | ...     | 1       | 1       | 1       | 1       | 1       | 1       | 1       | 1       | 1       | CNT4    |\n",
       "| 1099805 | 1       | 6       | 2331847 | A4      | A4209   | 1       | 40000   | 40000   | 40000   | ...     | 1       | 1       | 1       | 1       | 1       | 1       | 1       | 1       | 1       | CNT2    |\n",
       "| 1051588 | 1       | 8       | 2166976 | A3      | A3300   | 1       | 10000   | 10000   | 10000   | ...     | 0       | 0       | 0       | 0       | 0       | 0       | 0       | 0       | 1       | CNT1    |\n",
       "| 1566757 | 1       | 6       | 2843696 | A3      | A3301   | 1       | 10000   | 10000   | 10000   | ...     | 1       | 1       | 1       | 1       | 1       | 1       | 1       | 1       | 1       | CNT1    |\n",
       "\n"
      ],
      "text/plain": [
       "  JOIN_SN JOIN_SN_TYP SCTR_CD POL_SN  MGG_GRP_CD MGG_CD MGG_CNT MGG_AMT_SUM\n",
       "1   23221 1           6       5844566 A5         A5302  1         540      \n",
       "2 1714104 1           6       9829672 A5         A5301  1         100      \n",
       "3 1067990 1           8       5361136 A7         A7300  1         100      \n",
       "4 1099805 1           6       2331847 A4         A4209  1       40000      \n",
       "5 1051588 1           8       2166976 A3         A3300  1       10000      \n",
       "6 1566757 1           6       2843696 A3         A3301  1       10000      \n",
       "  MGG_AMT_MAX MGG_AMT_MIN ... YM_201910 YM_201911 YM_201912 YM_202001 YM_202002\n",
       "1   540         540       ... 1         1         1         1         1        \n",
       "2   100         100       ... 1         1         1         1         1        \n",
       "3   100         100       ... 1         1         1         1         1        \n",
       "4 40000       40000       ... 1         1         1         1         1        \n",
       "5 10000       10000       ... 0         0         0         0         0        \n",
       "6 10000       10000       ... 1         1         1         1         1        \n",
       "  YM_202003 YM_202004 YM_202005 YM_202006 CNT \n",
       "1 1         1         1         1         CNT3\n",
       "2 1         1         1         1         CNT3\n",
       "3 1         1         1         1         CNT4\n",
       "4 1         1         1         1         CNT2\n",
       "5 0         0         0         1         CNT1\n",
       "6 1         1         1         1         CNT1"
      ]
     },
     "metadata": {},
     "output_type": "display_data"
    },
    {
     "data": {
      "text/html": [
       "<table>\n",
       "<thead><tr><th scope=col>JOIN_SN</th><th scope=col>JOIN_SN_TYP</th><th scope=col>SCTR_CD</th><th scope=col>POL_SN</th><th scope=col>MGG_GRP_CD</th><th scope=col>MGG_CD</th><th scope=col>MGG_CNT</th><th scope=col>MGG_AMT_SUM</th><th scope=col>MGG_AMT_MAX</th><th scope=col>MGG_AMT_MIN</th><th scope=col>...</th><th scope=col>YM_201911</th><th scope=col>YM_201912</th><th scope=col>YM_202001</th><th scope=col>YM_202002</th><th scope=col>YM_202003</th><th scope=col>YM_202004</th><th scope=col>YM_202005</th><th scope=col>YM_202006</th><th scope=col>mggnb</th><th scope=col>CNT</th></tr></thead>\n",
       "<tbody>\n",
       "\t<tr><td>1289060</td><td>1      </td><td>8      </td><td>6408314</td><td>A1     </td><td>A1300  </td><td>1      </td><td>  5500 </td><td>  5500 </td><td>  5500 </td><td>...    </td><td>1      </td><td>1      </td><td>1      </td><td>1      </td><td>1      </td><td>1      </td><td>1      </td><td>1      </td><td>1      </td><td>CNT1   </td></tr>\n",
       "\t<tr><td> 250382</td><td>1      </td><td>6      </td><td>8522010</td><td>A1     </td><td>A1300  </td><td>1      </td><td>110000 </td><td>110000 </td><td>110000 </td><td>...    </td><td>0      </td><td>0      </td><td>0      </td><td>0      </td><td>0      </td><td>0      </td><td>1      </td><td>1      </td><td>1      </td><td>CNT1   </td></tr>\n",
       "\t<tr><td>1005863</td><td>1      </td><td>8      </td><td> 405787</td><td>A1     </td><td>A1100  </td><td>1      </td><td> 24000 </td><td> 24000 </td><td> 24000 </td><td>...    </td><td>1      </td><td>1      </td><td>1      </td><td>1      </td><td>1      </td><td>1      </td><td>1      </td><td>1      </td><td>1      </td><td>CNT1   </td></tr>\n",
       "\t<tr><td> 718796</td><td>1      </td><td>6      </td><td> 766088</td><td>A1     </td><td>A1400  </td><td>1      </td><td>110000 </td><td>110000 </td><td>110000 </td><td>...    </td><td>0      </td><td>1      </td><td>1      </td><td>1      </td><td>0      </td><td>1      </td><td>1      </td><td>1      </td><td>1      </td><td>CNT1   </td></tr>\n",
       "\t<tr><td> 398559</td><td>1      </td><td>6      </td><td>8763039</td><td>A1     </td><td>A1300  </td><td>1      </td><td> 60000 </td><td> 60000 </td><td> 60000 </td><td>...    </td><td>1      </td><td>1      </td><td>1      </td><td>1      </td><td>1      </td><td>1      </td><td>1      </td><td>1      </td><td>1      </td><td>CNT1   </td></tr>\n",
       "\t<tr><td>1182918</td><td>1      </td><td>8      </td><td> 548739</td><td>A1     </td><td>A1300  </td><td>1      </td><td> 24000 </td><td> 24000 </td><td> 24000 </td><td>...    </td><td>1      </td><td>1      </td><td>1      </td><td>1      </td><td>1      </td><td>1      </td><td>1      </td><td>1      </td><td>1      </td><td>CNT1   </td></tr>\n",
       "</tbody>\n",
       "</table>\n"
      ],
      "text/latex": [
       "\\begin{tabular}{r|lllllllllllllllllllllllllllllllllllll}\n",
       " JOIN\\_SN & JOIN\\_SN\\_TYP & SCTR\\_CD & POL\\_SN & MGG\\_GRP\\_CD & MGG\\_CD & MGG\\_CNT & MGG\\_AMT\\_SUM & MGG\\_AMT\\_MAX & MGG\\_AMT\\_MIN & ... & YM\\_201911 & YM\\_201912 & YM\\_202001 & YM\\_202002 & YM\\_202003 & YM\\_202004 & YM\\_202005 & YM\\_202006 & mggnb & CNT\\\\\n",
       "\\hline\n",
       "\t 1289060 & 1       & 8       & 6408314 & A1      & A1300   & 1       &   5500  &   5500  &   5500  & ...     & 1       & 1       & 1       & 1       & 1       & 1       & 1       & 1       & 1       & CNT1   \\\\\n",
       "\t  250382 & 1       & 6       & 8522010 & A1      & A1300   & 1       & 110000  & 110000  & 110000  & ...     & 0       & 0       & 0       & 0       & 0       & 0       & 1       & 1       & 1       & CNT1   \\\\\n",
       "\t 1005863 & 1       & 8       &  405787 & A1      & A1100   & 1       &  24000  &  24000  &  24000  & ...     & 1       & 1       & 1       & 1       & 1       & 1       & 1       & 1       & 1       & CNT1   \\\\\n",
       "\t  718796 & 1       & 6       &  766088 & A1      & A1400   & 1       & 110000  & 110000  & 110000  & ...     & 0       & 1       & 1       & 1       & 0       & 1       & 1       & 1       & 1       & CNT1   \\\\\n",
       "\t  398559 & 1       & 6       & 8763039 & A1      & A1300   & 1       &  60000  &  60000  &  60000  & ...     & 1       & 1       & 1       & 1       & 1       & 1       & 1       & 1       & 1       & CNT1   \\\\\n",
       "\t 1182918 & 1       & 8       &  548739 & A1      & A1300   & 1       &  24000  &  24000  &  24000  & ...     & 1       & 1       & 1       & 1       & 1       & 1       & 1       & 1       & 1       & CNT1   \\\\\n",
       "\\end{tabular}\n"
      ],
      "text/markdown": [
       "\n",
       "| JOIN_SN | JOIN_SN_TYP | SCTR_CD | POL_SN | MGG_GRP_CD | MGG_CD | MGG_CNT | MGG_AMT_SUM | MGG_AMT_MAX | MGG_AMT_MIN | ... | YM_201911 | YM_201912 | YM_202001 | YM_202002 | YM_202003 | YM_202004 | YM_202005 | YM_202006 | mggnb | CNT |\n",
       "|---|---|---|---|---|---|---|---|---|---|---|---|---|---|---|---|---|---|---|---|---|\n",
       "| 1289060 | 1       | 8       | 6408314 | A1      | A1300   | 1       |   5500  |   5500  |   5500  | ...     | 1       | 1       | 1       | 1       | 1       | 1       | 1       | 1       | 1       | CNT1    |\n",
       "|  250382 | 1       | 6       | 8522010 | A1      | A1300   | 1       | 110000  | 110000  | 110000  | ...     | 0       | 0       | 0       | 0       | 0       | 0       | 1       | 1       | 1       | CNT1    |\n",
       "| 1005863 | 1       | 8       |  405787 | A1      | A1100   | 1       |  24000  |  24000  |  24000  | ...     | 1       | 1       | 1       | 1       | 1       | 1       | 1       | 1       | 1       | CNT1    |\n",
       "|  718796 | 1       | 6       |  766088 | A1      | A1400   | 1       | 110000  | 110000  | 110000  | ...     | 0       | 1       | 1       | 1       | 0       | 1       | 1       | 1       | 1       | CNT1    |\n",
       "|  398559 | 1       | 6       | 8763039 | A1      | A1300   | 1       |  60000  |  60000  |  60000  | ...     | 1       | 1       | 1       | 1       | 1       | 1       | 1       | 1       | 1       | CNT1    |\n",
       "| 1182918 | 1       | 8       |  548739 | A1      | A1300   | 1       |  24000  |  24000  |  24000  | ...     | 1       | 1       | 1       | 1       | 1       | 1       | 1       | 1       | 1       | CNT1    |\n",
       "\n"
      ],
      "text/plain": [
       "  JOIN_SN JOIN_SN_TYP SCTR_CD POL_SN  MGG_GRP_CD MGG_CD MGG_CNT MGG_AMT_SUM\n",
       "1 1289060 1           8       6408314 A1         A1300  1         5500     \n",
       "2  250382 1           6       8522010 A1         A1300  1       110000     \n",
       "3 1005863 1           8        405787 A1         A1100  1        24000     \n",
       "4  718796 1           6        766088 A1         A1400  1       110000     \n",
       "5  398559 1           6       8763039 A1         A1300  1        60000     \n",
       "6 1182918 1           8        548739 A1         A1300  1        24000     \n",
       "  MGG_AMT_MAX MGG_AMT_MIN ... YM_201911 YM_201912 YM_202001 YM_202002 YM_202003\n",
       "1   5500        5500      ... 1         1         1         1         1        \n",
       "2 110000      110000      ... 0         0         0         0         0        \n",
       "3  24000       24000      ... 1         1         1         1         1        \n",
       "4 110000      110000      ... 0         1         1         1         0        \n",
       "5  60000       60000      ... 1         1         1         1         1        \n",
       "6  24000       24000      ... 1         1         1         1         1        \n",
       "  YM_202004 YM_202005 YM_202006 mggnb CNT \n",
       "1 1         1         1         1     CNT1\n",
       "2 0         1         1         1     CNT1\n",
       "3 1         1         1         1     CNT1\n",
       "4 1         1         1         1     CNT1\n",
       "5 1         1         1         1     CNT1\n",
       "6 1         1         1         1     CNT1"
      ]
     },
     "metadata": {},
     "output_type": "display_data"
    },
    {
     "data": {
      "text/html": [
       "<table>\n",
       "<thead><tr><th scope=col>JOIN_SN</th><th scope=col>JOIN_SN_TYP</th><th scope=col>SCTR_CD</th><th scope=col>POL_SN</th><th scope=col>MGG_GRP_CD</th><th scope=col>MGG_CD</th><th scope=col>MGG_CNT</th><th scope=col>MGG_AMT_SUM</th><th scope=col>MGG_AMT_MAX</th><th scope=col>MGG_AMT_MIN</th><th scope=col>...</th><th scope=col>YM_201911</th><th scope=col>YM_201912</th><th scope=col>YM_202001</th><th scope=col>YM_202002</th><th scope=col>YM_202003</th><th scope=col>YM_202004</th><th scope=col>YM_202005</th><th scope=col>YM_202006</th><th scope=col>mggnb</th><th scope=col>CNT</th></tr></thead>\n",
       "<tbody>\n",
       "\t<tr><td>1289060</td><td>1      </td><td>8      </td><td>6408314</td><td>A1     </td><td>A1300  </td><td>1      </td><td>  5500 </td><td>  5500 </td><td>  5500 </td><td>...    </td><td>1      </td><td>1      </td><td>1      </td><td>1      </td><td>1      </td><td>1      </td><td>1      </td><td>1      </td><td>1      </td><td>CNT1   </td></tr>\n",
       "\t<tr><td> 250382</td><td>1      </td><td>6      </td><td>8522010</td><td>A1     </td><td>A1300  </td><td>1      </td><td>110000 </td><td>110000 </td><td>110000 </td><td>...    </td><td>0      </td><td>0      </td><td>0      </td><td>0      </td><td>0      </td><td>0      </td><td>1      </td><td>1      </td><td>1      </td><td>CNT1   </td></tr>\n",
       "\t<tr><td>1005863</td><td>1      </td><td>8      </td><td> 405787</td><td>A1     </td><td>A1100  </td><td>1      </td><td> 24000 </td><td> 24000 </td><td> 24000 </td><td>...    </td><td>1      </td><td>1      </td><td>1      </td><td>1      </td><td>1      </td><td>1      </td><td>1      </td><td>1      </td><td>1      </td><td>CNT1   </td></tr>\n",
       "\t<tr><td> 718796</td><td>1      </td><td>6      </td><td> 766088</td><td>A1     </td><td>A1400  </td><td>1      </td><td>110000 </td><td>110000 </td><td>110000 </td><td>...    </td><td>0      </td><td>1      </td><td>1      </td><td>1      </td><td>0      </td><td>1      </td><td>1      </td><td>1      </td><td>1      </td><td>CNT1   </td></tr>\n",
       "\t<tr><td> 398559</td><td>1      </td><td>6      </td><td>8763039</td><td>A1     </td><td>A1300  </td><td>1      </td><td> 60000 </td><td> 60000 </td><td> 60000 </td><td>...    </td><td>1      </td><td>1      </td><td>1      </td><td>1      </td><td>1      </td><td>1      </td><td>1      </td><td>1      </td><td>1      </td><td>CNT1   </td></tr>\n",
       "\t<tr><td>1182918</td><td>1      </td><td>8      </td><td> 548739</td><td>A1     </td><td>A1300  </td><td>1      </td><td> 24000 </td><td> 24000 </td><td> 24000 </td><td>...    </td><td>1      </td><td>1      </td><td>1      </td><td>1      </td><td>1      </td><td>1      </td><td>1      </td><td>1      </td><td>1      </td><td>CNT1   </td></tr>\n",
       "</tbody>\n",
       "</table>\n"
      ],
      "text/latex": [
       "\\begin{tabular}{r|lllllllllllllllllllllllllllllllllllll}\n",
       " JOIN\\_SN & JOIN\\_SN\\_TYP & SCTR\\_CD & POL\\_SN & MGG\\_GRP\\_CD & MGG\\_CD & MGG\\_CNT & MGG\\_AMT\\_SUM & MGG\\_AMT\\_MAX & MGG\\_AMT\\_MIN & ... & YM\\_201911 & YM\\_201912 & YM\\_202001 & YM\\_202002 & YM\\_202003 & YM\\_202004 & YM\\_202005 & YM\\_202006 & mggnb & CNT\\\\\n",
       "\\hline\n",
       "\t 1289060 & 1       & 8       & 6408314 & A1      & A1300   & 1       &   5500  &   5500  &   5500  & ...     & 1       & 1       & 1       & 1       & 1       & 1       & 1       & 1       & 1       & CNT1   \\\\\n",
       "\t  250382 & 1       & 6       & 8522010 & A1      & A1300   & 1       & 110000  & 110000  & 110000  & ...     & 0       & 0       & 0       & 0       & 0       & 0       & 1       & 1       & 1       & CNT1   \\\\\n",
       "\t 1005863 & 1       & 8       &  405787 & A1      & A1100   & 1       &  24000  &  24000  &  24000  & ...     & 1       & 1       & 1       & 1       & 1       & 1       & 1       & 1       & 1       & CNT1   \\\\\n",
       "\t  718796 & 1       & 6       &  766088 & A1      & A1400   & 1       & 110000  & 110000  & 110000  & ...     & 0       & 1       & 1       & 1       & 0       & 1       & 1       & 1       & 1       & CNT1   \\\\\n",
       "\t  398559 & 1       & 6       & 8763039 & A1      & A1300   & 1       &  60000  &  60000  &  60000  & ...     & 1       & 1       & 1       & 1       & 1       & 1       & 1       & 1       & 1       & CNT1   \\\\\n",
       "\t 1182918 & 1       & 8       &  548739 & A1      & A1300   & 1       &  24000  &  24000  &  24000  & ...     & 1       & 1       & 1       & 1       & 1       & 1       & 1       & 1       & 1       & CNT1   \\\\\n",
       "\\end{tabular}\n"
      ],
      "text/markdown": [
       "\n",
       "| JOIN_SN | JOIN_SN_TYP | SCTR_CD | POL_SN | MGG_GRP_CD | MGG_CD | MGG_CNT | MGG_AMT_SUM | MGG_AMT_MAX | MGG_AMT_MIN | ... | YM_201911 | YM_201912 | YM_202001 | YM_202002 | YM_202003 | YM_202004 | YM_202005 | YM_202006 | mggnb | CNT |\n",
       "|---|---|---|---|---|---|---|---|---|---|---|---|---|---|---|---|---|---|---|---|---|\n",
       "| 1289060 | 1       | 8       | 6408314 | A1      | A1300   | 1       |   5500  |   5500  |   5500  | ...     | 1       | 1       | 1       | 1       | 1       | 1       | 1       | 1       | 1       | CNT1    |\n",
       "|  250382 | 1       | 6       | 8522010 | A1      | A1300   | 1       | 110000  | 110000  | 110000  | ...     | 0       | 0       | 0       | 0       | 0       | 0       | 1       | 1       | 1       | CNT1    |\n",
       "| 1005863 | 1       | 8       |  405787 | A1      | A1100   | 1       |  24000  |  24000  |  24000  | ...     | 1       | 1       | 1       | 1       | 1       | 1       | 1       | 1       | 1       | CNT1    |\n",
       "|  718796 | 1       | 6       |  766088 | A1      | A1400   | 1       | 110000  | 110000  | 110000  | ...     | 0       | 1       | 1       | 1       | 0       | 1       | 1       | 1       | 1       | CNT1    |\n",
       "|  398559 | 1       | 6       | 8763039 | A1      | A1300   | 1       |  60000  |  60000  |  60000  | ...     | 1       | 1       | 1       | 1       | 1       | 1       | 1       | 1       | 1       | CNT1    |\n",
       "| 1182918 | 1       | 8       |  548739 | A1      | A1300   | 1       |  24000  |  24000  |  24000  | ...     | 1       | 1       | 1       | 1       | 1       | 1       | 1       | 1       | 1       | CNT1    |\n",
       "\n"
      ],
      "text/plain": [
       "  JOIN_SN JOIN_SN_TYP SCTR_CD POL_SN  MGG_GRP_CD MGG_CD MGG_CNT MGG_AMT_SUM\n",
       "1 1289060 1           8       6408314 A1         A1300  1         5500     \n",
       "2  250382 1           6       8522010 A1         A1300  1       110000     \n",
       "3 1005863 1           8        405787 A1         A1100  1        24000     \n",
       "4  718796 1           6        766088 A1         A1400  1       110000     \n",
       "5  398559 1           6       8763039 A1         A1300  1        60000     \n",
       "6 1182918 1           8        548739 A1         A1300  1        24000     \n",
       "  MGG_AMT_MAX MGG_AMT_MIN ... YM_201911 YM_201912 YM_202001 YM_202002 YM_202003\n",
       "1   5500        5500      ... 1         1         1         1         1        \n",
       "2 110000      110000      ... 0         0         0         0         0        \n",
       "3  24000       24000      ... 1         1         1         1         1        \n",
       "4 110000      110000      ... 0         1         1         1         0        \n",
       "5  60000       60000      ... 1         1         1         1         1        \n",
       "6  24000       24000      ... 1         1         1         1         1        \n",
       "  YM_202004 YM_202005 YM_202006 mggnb CNT \n",
       "1 1         1         1         1     CNT1\n",
       "2 0         1         1         1     CNT1\n",
       "3 1         1         1         1     CNT1\n",
       "4 1         1         1         1     CNT1\n",
       "5 1         1         1         1     CNT1\n",
       "6 1         1         1         1     CNT1"
      ]
     },
     "metadata": {},
     "output_type": "display_data"
    }
   ],
   "source": [
    "# dplyr\n",
    "MGG2 <- MGG1 %>% mutate(CNT = ifelse(MGG_GRP_CD %in% c('A1', 'A2', 'A3'), 'CNT1', ifelse( MGG_GRP_CD == 'A4', 'CNT2' , \n",
    "                                                                      ifelse(MGG_GRP_CD == 'A5', 'CNT3', ifelse(MGG_GRP_CD %in% c('A6', 'A7', 'A8'), 'CNT4',\n",
    "                                                                                                            ifelse(substr(MGG_GRP_CD, 1,2) == 'A9', 'CNT5', 0))))))\n",
    "print('dplyr')\n",
    "head(MGG2)\n",
    "\n",
    "# data.table : 알파벳 제거(gsub) -> A9 까지만 남김 -> 숫자화(as.numeric) -> 범위별 값 설정(cut/paste0)\n",
    "MGG1_dt <- setDT(MGG1)\n",
    "MGG1_dt2 <- copy(MGG1_dt[, mggnb := gsub(\"[[:alpha:]]\" ,\"\" , MGG_GRP_CD) ][mggnb < 10][, mggnb := lapply(.SD, as.numeric), .SDcol= 'mggnb'][, CNT := cut(mggnb, c(-Inf, 3, 4, 5, 8, Inf), paste0('CNT', 1:5))])\n",
    "head(MGG1_dt2)\n",
    "\n",
    "## (extra) gsub 대신 stringr\n",
    "#install.packages('stringr')\n",
    "#library(stringr)\n",
    "numextract <- function(string){\n",
    "    str_extract(string, \"\\\\-*\\\\d+\\\\.*\\\\d*\")\n",
    "}\n",
    "strr <- copy(MGG1_dt[, mggnb := numextract(MGG_GRP_CD)][mggnb < 10][, mggnb := lapply(.SD, as.numeric), .SDcol= 'mggnb'][, CNT := cut(mggnb, c(-Inf, 3, 4, 5, 8, Inf), paste0('CNT', 1:5))])\n",
    "head(strr)"
   ]
  },
  {
   "cell_type": "code",
   "execution_count": 174,
   "metadata": {},
   "outputs": [
    {
     "data": {
      "text/plain": [
       "\n",
       " CNT1  CNT2  CNT3  CNT4  CNT5 \n",
       "27906 31263 21885 16908 12390 "
      ]
     },
     "metadata": {},
     "output_type": "display_data"
    }
   ],
   "source": [
    "table(MGG2$CNT)"
   ]
  },
  {
   "cell_type": "code",
   "execution_count": 119,
   "metadata": {},
   "outputs": [
    {
     "name": "stdout",
     "output_type": "stream",
     "text": [
      "[1] \"dplyr\"\n"
     ]
    },
    {
     "data": {
      "text/html": [
       "<table>\n",
       "<thead><tr><th scope=col>JOIN_SN</th><th scope=col>POL_SN</th><th scope=col>MGG_AMT_SUM</th><th scope=col>MGG_CNT</th><th scope=col>CNT</th><th scope=col>AMT</th></tr></thead>\n",
       "<tbody>\n",
       "\t<tr><td>  23221</td><td>5844566</td><td>  540  </td><td>1      </td><td>CNT3   </td><td>AMT3   </td></tr>\n",
       "\t<tr><td>1714104</td><td>9829672</td><td>  100  </td><td>1      </td><td>CNT3   </td><td>AMT3   </td></tr>\n",
       "\t<tr><td>1067990</td><td>5361136</td><td>  100  </td><td>1      </td><td>CNT4   </td><td>AMT4   </td></tr>\n",
       "\t<tr><td>1099805</td><td>2331847</td><td>40000  </td><td>1      </td><td>CNT2   </td><td>AMT2   </td></tr>\n",
       "\t<tr><td>1051588</td><td>2166976</td><td>10000  </td><td>1      </td><td>CNT1   </td><td>AMT1   </td></tr>\n",
       "\t<tr><td>1566757</td><td>2843696</td><td>10000  </td><td>1      </td><td>CNT1   </td><td>AMT1   </td></tr>\n",
       "</tbody>\n",
       "</table>\n"
      ],
      "text/latex": [
       "\\begin{tabular}{r|llllll}\n",
       " JOIN\\_SN & POL\\_SN & MGG\\_AMT\\_SUM & MGG\\_CNT & CNT & AMT\\\\\n",
       "\\hline\n",
       "\t   23221 & 5844566 &   540   & 1       & CNT3    & AMT3   \\\\\n",
       "\t 1714104 & 9829672 &   100   & 1       & CNT3    & AMT3   \\\\\n",
       "\t 1067990 & 5361136 &   100   & 1       & CNT4    & AMT4   \\\\\n",
       "\t 1099805 & 2331847 & 40000   & 1       & CNT2    & AMT2   \\\\\n",
       "\t 1051588 & 2166976 & 10000   & 1       & CNT1    & AMT1   \\\\\n",
       "\t 1566757 & 2843696 & 10000   & 1       & CNT1    & AMT1   \\\\\n",
       "\\end{tabular}\n"
      ],
      "text/markdown": [
       "\n",
       "| JOIN_SN | POL_SN | MGG_AMT_SUM | MGG_CNT | CNT | AMT |\n",
       "|---|---|---|---|---|---|\n",
       "|   23221 | 5844566 |   540   | 1       | CNT3    | AMT3    |\n",
       "| 1714104 | 9829672 |   100   | 1       | CNT3    | AMT3    |\n",
       "| 1067990 | 5361136 |   100   | 1       | CNT4    | AMT4    |\n",
       "| 1099805 | 2331847 | 40000   | 1       | CNT2    | AMT2    |\n",
       "| 1051588 | 2166976 | 10000   | 1       | CNT1    | AMT1    |\n",
       "| 1566757 | 2843696 | 10000   | 1       | CNT1    | AMT1    |\n",
       "\n"
      ],
      "text/plain": [
       "  JOIN_SN POL_SN  MGG_AMT_SUM MGG_CNT CNT  AMT \n",
       "1   23221 5844566   540       1       CNT3 AMT3\n",
       "2 1714104 9829672   100       1       CNT3 AMT3\n",
       "3 1067990 5361136   100       1       CNT4 AMT4\n",
       "4 1099805 2331847 40000       1       CNT2 AMT2\n",
       "5 1051588 2166976 10000       1       CNT1 AMT1\n",
       "6 1566757 2843696 10000       1       CNT1 AMT1"
      ]
     },
     "metadata": {},
     "output_type": "display_data"
    },
    {
     "name": "stdout",
     "output_type": "stream",
     "text": [
      "[1] \"data.table\"\n"
     ]
    },
    {
     "data": {
      "text/html": [
       "<table>\n",
       "<thead><tr><th scope=col>JOIN_SN</th><th scope=col>POL_SN</th><th scope=col>MGG_AMT_SUM</th><th scope=col>MGG_CNT</th><th scope=col>CNT</th><th scope=col>AMT</th></tr></thead>\n",
       "<tbody>\n",
       "\t<tr><td>  23221</td><td>5844566</td><td>  540  </td><td>1      </td><td>CNT3   </td><td>AMT3   </td></tr>\n",
       "\t<tr><td>1714104</td><td>9829672</td><td>  100  </td><td>1      </td><td>CNT3   </td><td>AMT3   </td></tr>\n",
       "\t<tr><td>1067990</td><td>5361136</td><td>  100  </td><td>1      </td><td>CNT4   </td><td>AMT4   </td></tr>\n",
       "\t<tr><td>1099805</td><td>2331847</td><td>40000  </td><td>1      </td><td>CNT2   </td><td>AMT2   </td></tr>\n",
       "\t<tr><td>1051588</td><td>2166976</td><td>10000  </td><td>1      </td><td>CNT1   </td><td>AMT1   </td></tr>\n",
       "\t<tr><td>1566757</td><td>2843696</td><td>10000  </td><td>1      </td><td>CNT1   </td><td>AMT1   </td></tr>\n",
       "</tbody>\n",
       "</table>\n"
      ],
      "text/latex": [
       "\\begin{tabular}{r|llllll}\n",
       " JOIN\\_SN & POL\\_SN & MGG\\_AMT\\_SUM & MGG\\_CNT & CNT & AMT\\\\\n",
       "\\hline\n",
       "\t   23221 & 5844566 &   540   & 1       & CNT3    & AMT3   \\\\\n",
       "\t 1714104 & 9829672 &   100   & 1       & CNT3    & AMT3   \\\\\n",
       "\t 1067990 & 5361136 &   100   & 1       & CNT4    & AMT4   \\\\\n",
       "\t 1099805 & 2331847 & 40000   & 1       & CNT2    & AMT2   \\\\\n",
       "\t 1051588 & 2166976 & 10000   & 1       & CNT1    & AMT1   \\\\\n",
       "\t 1566757 & 2843696 & 10000   & 1       & CNT1    & AMT1   \\\\\n",
       "\\end{tabular}\n"
      ],
      "text/markdown": [
       "\n",
       "| JOIN_SN | POL_SN | MGG_AMT_SUM | MGG_CNT | CNT | AMT |\n",
       "|---|---|---|---|---|---|\n",
       "|   23221 | 5844566 |   540   | 1       | CNT3    | AMT3    |\n",
       "| 1714104 | 9829672 |   100   | 1       | CNT3    | AMT3    |\n",
       "| 1067990 | 5361136 |   100   | 1       | CNT4    | AMT4    |\n",
       "| 1099805 | 2331847 | 40000   | 1       | CNT2    | AMT2    |\n",
       "| 1051588 | 2166976 | 10000   | 1       | CNT1    | AMT1    |\n",
       "| 1566757 | 2843696 | 10000   | 1       | CNT1    | AMT1    |\n",
       "\n"
      ],
      "text/plain": [
       "  JOIN_SN POL_SN  MGG_AMT_SUM MGG_CNT CNT  AMT \n",
       "1   23221 5844566   540       1       CNT3 AMT3\n",
       "2 1714104 9829672   100       1       CNT3 AMT3\n",
       "3 1067990 5361136   100       1       CNT4 AMT4\n",
       "4 1099805 2331847 40000       1       CNT2 AMT2\n",
       "5 1051588 2166976 10000       1       CNT1 AMT1\n",
       "6 1566757 2843696 10000       1       CNT1 AMT1"
      ]
     },
     "metadata": {},
     "output_type": "display_data"
    }
   ],
   "source": [
    "# dplyr\n",
    "print('dplyr')\n",
    "MGG3 <- MGG2 %>% mutate(AMT = ifelse(MGG_GRP_CD %in% c('A1', 'A2', 'A3'), 'AMT1', ifelse( MGG_GRP_CD == 'A4', 'AMT2' , \n",
    "                                                                      ifelse(MGG_GRP_CD == 'A5', 'AMT3', ifelse(MGG_GRP_CD %in% c('A6', 'A7', 'A8'), 'AMT4',\n",
    "                                                                                                            ifelse(substr(MGG_GRP_CD, 1,2) == 'A9', 'AMT5', 0))))))\n",
    "\n",
    "MGG4 <- MGG3 %>% subset(select = c('JOIN_SN', 'POL_SN', 'MGG_AMT_SUM','MGG_CNT', 'CNT', 'AMT'))\n",
    "head(MGG4)\n",
    "\n",
    "# data.table\n",
    "print('data.table')\n",
    "MGG2_dt <- data.table(MGG2)\n",
    "myVector <- c('JOIN_SN', 'POL_SN', 'MGG_AMT_SUM','MGG_CNT', 'CNT', 'AMT')\n",
    "MGG2_dt2<- MGG2_dt[, strA := gsub(\"[[:alpha:]]\", \"\", MGG_GRP_CD)][as.numeric(strA) < 10][, AMT := cut(as.numeric(strA), c(-Inf, 3, 4, 5, 8,Inf), paste0(\"AMT\", 1:5))][, ..myVector]\n",
    "head(MGG2_dt2)"
   ]
  },
  {
   "cell_type": "code",
   "execution_count": 126,
   "metadata": {},
   "outputs": [
    {
     "name": "stdout",
     "output_type": "stream",
     "text": [
      "[1] \"dplyr\"\n"
     ]
    },
    {
     "data": {
      "text/html": [
       "<ol class=list-inline>\n",
       "\t<li>9453</li>\n",
       "\t<li>6</li>\n",
       "</ol>\n"
      ],
      "text/latex": [
       "\\begin{enumerate*}\n",
       "\\item 9453\n",
       "\\item 6\n",
       "\\end{enumerate*}\n"
      ],
      "text/markdown": [
       "1. 9453\n",
       "2. 6\n",
       "\n",
       "\n"
      ],
      "text/plain": [
       "[1] 9453    6"
      ]
     },
     "metadata": {},
     "output_type": "display_data"
    },
    {
     "data": {
      "text/html": [
       "<table>\n",
       "<thead><tr><th></th><th scope=col>POL_SN</th><th scope=col>CNT1</th><th scope=col>CNT3</th><th scope=col>CNT4</th><th scope=col>CNT2</th><th scope=col>CNT5</th></tr></thead>\n",
       "<tbody>\n",
       "\t<tr><th scope=row>1</th><td> 383</td><td>1   </td><td> 2  </td><td>2   </td><td>0   </td><td>0   </td></tr>\n",
       "\t<tr><th scope=row>4</th><td>4607</td><td>0   </td><td> 0  </td><td>0   </td><td>6   </td><td>0   </td></tr>\n",
       "\t<tr><th scope=row>5</th><td>5270</td><td>1   </td><td> 0  </td><td>0   </td><td>3   </td><td>0   </td></tr>\n",
       "\t<tr><th scope=row>7</th><td>5571</td><td>3   </td><td>12  </td><td>3   </td><td>4   </td><td>6   </td></tr>\n",
       "\t<tr><th scope=row>12</th><td>5810</td><td>3   </td><td> 2  </td><td>2   </td><td>4   </td><td>0   </td></tr>\n",
       "\t<tr><th scope=row>16</th><td>6236</td><td>2   </td><td> 6  </td><td>9   </td><td>5   </td><td>2   </td></tr>\n",
       "</tbody>\n",
       "</table>\n"
      ],
      "text/latex": [
       "\\begin{tabular}{r|llllll}\n",
       "  & POL\\_SN & CNT1 & CNT3 & CNT4 & CNT2 & CNT5\\\\\n",
       "\\hline\n",
       "\t1 &  383 & 1    &  2   & 2    & 0    & 0   \\\\\n",
       "\t4 & 4607 & 0    &  0   & 0    & 6    & 0   \\\\\n",
       "\t5 & 5270 & 1    &  0   & 0    & 3    & 0   \\\\\n",
       "\t7 & 5571 & 3    & 12   & 3    & 4    & 6   \\\\\n",
       "\t12 & 5810 & 3    &  2   & 2    & 4    & 0   \\\\\n",
       "\t16 & 6236 & 2    &  6   & 9    & 5    & 2   \\\\\n",
       "\\end{tabular}\n"
      ],
      "text/markdown": [
       "\n",
       "| <!--/--> | POL_SN | CNT1 | CNT3 | CNT4 | CNT2 | CNT5 |\n",
       "|---|---|---|---|---|---|---|\n",
       "| 1 |  383 | 1    |  2   | 2    | 0    | 0    |\n",
       "| 4 | 4607 | 0    |  0   | 0    | 6    | 0    |\n",
       "| 5 | 5270 | 1    |  0   | 0    | 3    | 0    |\n",
       "| 7 | 5571 | 3    | 12   | 3    | 4    | 6    |\n",
       "| 12 | 5810 | 3    |  2   | 2    | 4    | 0    |\n",
       "| 16 | 6236 | 2    |  6   | 9    | 5    | 2    |\n",
       "\n"
      ],
      "text/plain": [
       "   POL_SN CNT1 CNT3 CNT4 CNT2 CNT5\n",
       "1   383   1     2   2    0    0   \n",
       "4  4607   0     0   0    6    0   \n",
       "5  5270   1     0   0    3    0   \n",
       "7  5571   3    12   3    4    6   \n",
       "12 5810   3     2   2    4    0   \n",
       "16 6236   2     6   9    5    2   "
      ]
     },
     "metadata": {},
     "output_type": "display_data"
    },
    {
     "name": "stdout",
     "output_type": "stream",
     "text": [
      "[1] \"data.table\"\n"
     ]
    },
    {
     "data": {
      "text/html": [
       "<ol class=list-inline>\n",
       "\t<li>9453</li>\n",
       "\t<li>6</li>\n",
       "</ol>\n"
      ],
      "text/latex": [
       "\\begin{enumerate*}\n",
       "\\item 9453\n",
       "\\item 6\n",
       "\\end{enumerate*}\n"
      ],
      "text/markdown": [
       "1. 9453\n",
       "2. 6\n",
       "\n",
       "\n"
      ],
      "text/plain": [
       "[1] 9453    6"
      ]
     },
     "metadata": {},
     "output_type": "display_data"
    },
    {
     "data": {
      "text/html": [
       "<table>\n",
       "<thead><tr><th scope=col>POL_SN</th><th scope=col>CNT1</th><th scope=col>CNT2</th><th scope=col>CNT3</th><th scope=col>CNT4</th><th scope=col>CNT5</th></tr></thead>\n",
       "<tbody>\n",
       "\t<tr><td> 383</td><td>1   </td><td>0   </td><td> 2  </td><td>2   </td><td>0   </td></tr>\n",
       "\t<tr><td>4607</td><td>0   </td><td>6   </td><td> 0  </td><td>0   </td><td>0   </td></tr>\n",
       "\t<tr><td>5270</td><td>1   </td><td>3   </td><td> 0  </td><td>0   </td><td>0   </td></tr>\n",
       "\t<tr><td>5571</td><td>3   </td><td>4   </td><td>12  </td><td>3   </td><td>6   </td></tr>\n",
       "\t<tr><td>5810</td><td>3   </td><td>4   </td><td> 2  </td><td>2   </td><td>0   </td></tr>\n",
       "\t<tr><td>6236</td><td>2   </td><td>5   </td><td> 6  </td><td>9   </td><td>2   </td></tr>\n",
       "</tbody>\n",
       "</table>\n"
      ],
      "text/latex": [
       "\\begin{tabular}{r|llllll}\n",
       " POL\\_SN & CNT1 & CNT2 & CNT3 & CNT4 & CNT5\\\\\n",
       "\\hline\n",
       "\t  383 & 1    & 0    &  2   & 2    & 0   \\\\\n",
       "\t 4607 & 0    & 6    &  0   & 0    & 0   \\\\\n",
       "\t 5270 & 1    & 3    &  0   & 0    & 0   \\\\\n",
       "\t 5571 & 3    & 4    & 12   & 3    & 6   \\\\\n",
       "\t 5810 & 3    & 4    &  2   & 2    & 0   \\\\\n",
       "\t 6236 & 2    & 5    &  6   & 9    & 2   \\\\\n",
       "\\end{tabular}\n"
      ],
      "text/markdown": [
       "\n",
       "| POL_SN | CNT1 | CNT2 | CNT3 | CNT4 | CNT5 |\n",
       "|---|---|---|---|---|---|\n",
       "|  383 | 1    | 0    |  2   | 2    | 0    |\n",
       "| 4607 | 0    | 6    |  0   | 0    | 0    |\n",
       "| 5270 | 1    | 3    |  0   | 0    | 0    |\n",
       "| 5571 | 3    | 4    | 12   | 3    | 6    |\n",
       "| 5810 | 3    | 4    |  2   | 2    | 0    |\n",
       "| 6236 | 2    | 5    |  6   | 9    | 2    |\n",
       "\n"
      ],
      "text/plain": [
       "  POL_SN CNT1 CNT2 CNT3 CNT4 CNT5\n",
       "1  383   1    0     2   2    0   \n",
       "2 4607   0    6     0   0    0   \n",
       "3 5270   1    3     0   0    0   \n",
       "4 5571   3    4    12   3    6   \n",
       "5 5810   3    4     2   2    0   \n",
       "6 6236   2    5     6   9    2   "
      ]
     },
     "metadata": {},
     "output_type": "display_data"
    }
   ],
   "source": [
    "# dplyr\n",
    "MGG5_CNT <- MGG4 %>% \n",
    "    group_by(POL_SN, CNT) %>% \n",
    "    summarise( SCNT = sum(MGG_CNT)) %>% \n",
    "    as.data.frame() %>% \n",
    "    reshape(timevar = 'CNT', idvar = 'POL_SN', direction = 'wide') %>% \n",
    "    dplyr::rename('CNT1' = 'SCNT.CNT1', 'CNT2' = 'SCNT.CNT2', 'CNT3' = 'SCNT.CNT3', 'CNT4' = 'SCNT.CNT4', 'CNT5' = 'SCNT.CNT5')\n",
    "MGG5_CNT[is.na(MGG5_CNT)] <- 0\n",
    "print('dplyr')\n",
    "dim(MGG5_CNT)\n",
    "head(MGG5_CNT)\n",
    "\n",
    "# data.table\n",
    "MGG4_dt <- setDT(MGG4)\n",
    "MGG4_dt1 <- copy(dcast(MGG4_dt, POL_SN ~ CNT, fun.agg=sum ,value.var = 'MGG_CNT'))\n",
    "print('data.table')\n",
    "dim(MGG4_dt1)\n",
    "head(MGG4_dt1)"
   ]
  },
  {
   "cell_type": "code",
   "execution_count": 128,
   "metadata": {},
   "outputs": [
    {
     "name": "stdout",
     "output_type": "stream",
     "text": [
      "[1] \"dplyr\"\n"
     ]
    },
    {
     "data": {
      "text/html": [
       "<ol class=list-inline>\n",
       "\t<li>9453</li>\n",
       "\t<li>6</li>\n",
       "</ol>\n"
      ],
      "text/latex": [
       "\\begin{enumerate*}\n",
       "\\item 9453\n",
       "\\item 6\n",
       "\\end{enumerate*}\n"
      ],
      "text/markdown": [
       "1. 9453\n",
       "2. 6\n",
       "\n",
       "\n"
      ],
      "text/plain": [
       "[1] 9453    6"
      ]
     },
     "metadata": {},
     "output_type": "display_data"
    },
    {
     "data": {
      "text/html": [
       "<table>\n",
       "<thead><tr><th></th><th scope=col>POL_SN</th><th scope=col>AMT1</th><th scope=col>AMT3</th><th scope=col>AMT4</th><th scope=col>AMT2</th><th scope=col>AMT5</th></tr></thead>\n",
       "<tbody>\n",
       "\t<tr><th scope=row>1</th><td> 383  </td><td> 28000</td><td> 9100 </td><td>200   </td><td>    0 </td><td>    0 </td></tr>\n",
       "\t<tr><th scope=row>4</th><td>4607  </td><td>     0</td><td>    0 </td><td>  0   </td><td>92000 </td><td>    0 </td></tr>\n",
       "\t<tr><th scope=row>5</th><td>5270  </td><td> 23000</td><td>    0 </td><td>  0   </td><td>51000 </td><td>    0 </td></tr>\n",
       "\t<tr><th scope=row>7</th><td>5571  </td><td>145000</td><td>28260 </td><td>300   </td><td> 4230 </td><td>19450 </td></tr>\n",
       "\t<tr><th scope=row>12</th><td>5810  </td><td>  5200</td><td> 1560 </td><td>200   </td><td>65000 </td><td>    0 </td></tr>\n",
       "\t<tr><th scope=row>16</th><td>6236  </td><td> 20000</td><td>37840 </td><td>800   </td><td>96240 </td><td> 4100 </td></tr>\n",
       "</tbody>\n",
       "</table>\n"
      ],
      "text/latex": [
       "\\begin{tabular}{r|llllll}\n",
       "  & POL\\_SN & AMT1 & AMT3 & AMT4 & AMT2 & AMT5\\\\\n",
       "\\hline\n",
       "\t1 &  383   &  28000 &  9100  & 200    &     0  &     0 \\\\\n",
       "\t4 & 4607   &      0 &     0  &   0    & 92000  &     0 \\\\\n",
       "\t5 & 5270   &  23000 &     0  &   0    & 51000  &     0 \\\\\n",
       "\t7 & 5571   & 145000 & 28260  & 300    &  4230  & 19450 \\\\\n",
       "\t12 & 5810   &   5200 &  1560  & 200    & 65000  &     0 \\\\\n",
       "\t16 & 6236   &  20000 & 37840  & 800    & 96240  &  4100 \\\\\n",
       "\\end{tabular}\n"
      ],
      "text/markdown": [
       "\n",
       "| <!--/--> | POL_SN | AMT1 | AMT3 | AMT4 | AMT2 | AMT5 |\n",
       "|---|---|---|---|---|---|---|\n",
       "| 1 |  383   |  28000 |  9100  | 200    |     0  |     0  |\n",
       "| 4 | 4607   |      0 |     0  |   0    | 92000  |     0  |\n",
       "| 5 | 5270   |  23000 |     0  |   0    | 51000  |     0  |\n",
       "| 7 | 5571   | 145000 | 28260  | 300    |  4230  | 19450  |\n",
       "| 12 | 5810   |   5200 |  1560  | 200    | 65000  |     0  |\n",
       "| 16 | 6236   |  20000 | 37840  | 800    | 96240  |  4100  |\n",
       "\n"
      ],
      "text/plain": [
       "   POL_SN AMT1   AMT3  AMT4 AMT2  AMT5 \n",
       "1   383    28000  9100 200      0     0\n",
       "4  4607        0     0   0  92000     0\n",
       "5  5270    23000     0   0  51000     0\n",
       "7  5571   145000 28260 300   4230 19450\n",
       "12 5810     5200  1560 200  65000     0\n",
       "16 6236    20000 37840 800  96240  4100"
      ]
     },
     "metadata": {},
     "output_type": "display_data"
    },
    {
     "name": "stdout",
     "output_type": "stream",
     "text": [
      "[1] \"data.table\"\n"
     ]
    },
    {
     "data": {
      "text/html": [
       "<ol class=list-inline>\n",
       "\t<li>9453</li>\n",
       "\t<li>6</li>\n",
       "</ol>\n"
      ],
      "text/latex": [
       "\\begin{enumerate*}\n",
       "\\item 9453\n",
       "\\item 6\n",
       "\\end{enumerate*}\n"
      ],
      "text/markdown": [
       "1. 9453\n",
       "2. 6\n",
       "\n",
       "\n"
      ],
      "text/plain": [
       "[1] 9453    6"
      ]
     },
     "metadata": {},
     "output_type": "display_data"
    },
    {
     "data": {
      "text/html": [
       "<table>\n",
       "<thead><tr><th scope=col>POL_SN</th><th scope=col>AMT1</th><th scope=col>AMT2</th><th scope=col>AMT3</th><th scope=col>AMT4</th><th scope=col>AMT5</th></tr></thead>\n",
       "<tbody>\n",
       "\t<tr><td> 383  </td><td> 28000</td><td>    0 </td><td> 9100 </td><td>200   </td><td>    0 </td></tr>\n",
       "\t<tr><td>4607  </td><td>     0</td><td>92000 </td><td>    0 </td><td>  0   </td><td>    0 </td></tr>\n",
       "\t<tr><td>5270  </td><td> 23000</td><td>51000 </td><td>    0 </td><td>  0   </td><td>    0 </td></tr>\n",
       "\t<tr><td>5571  </td><td>145000</td><td> 4230 </td><td>28260 </td><td>300   </td><td>19450 </td></tr>\n",
       "\t<tr><td>5810  </td><td>  5200</td><td>65000 </td><td> 1560 </td><td>200   </td><td>    0 </td></tr>\n",
       "\t<tr><td>6236  </td><td> 20000</td><td>96240 </td><td>37840 </td><td>800   </td><td> 4100 </td></tr>\n",
       "</tbody>\n",
       "</table>\n"
      ],
      "text/latex": [
       "\\begin{tabular}{r|llllll}\n",
       " POL\\_SN & AMT1 & AMT2 & AMT3 & AMT4 & AMT5\\\\\n",
       "\\hline\n",
       "\t  383   &  28000 &     0  &  9100  & 200    &     0 \\\\\n",
       "\t 4607   &      0 & 92000  &     0  &   0    &     0 \\\\\n",
       "\t 5270   &  23000 & 51000  &     0  &   0    &     0 \\\\\n",
       "\t 5571   & 145000 &  4230  & 28260  & 300    & 19450 \\\\\n",
       "\t 5810   &   5200 & 65000  &  1560  & 200    &     0 \\\\\n",
       "\t 6236   &  20000 & 96240  & 37840  & 800    &  4100 \\\\\n",
       "\\end{tabular}\n"
      ],
      "text/markdown": [
       "\n",
       "| POL_SN | AMT1 | AMT2 | AMT3 | AMT4 | AMT5 |\n",
       "|---|---|---|---|---|---|\n",
       "|  383   |  28000 |     0  |  9100  | 200    |     0  |\n",
       "| 4607   |      0 | 92000  |     0  |   0    |     0  |\n",
       "| 5270   |  23000 | 51000  |     0  |   0    |     0  |\n",
       "| 5571   | 145000 |  4230  | 28260  | 300    | 19450  |\n",
       "| 5810   |   5200 | 65000  |  1560  | 200    |     0  |\n",
       "| 6236   |  20000 | 96240  | 37840  | 800    |  4100  |\n",
       "\n"
      ],
      "text/plain": [
       "  POL_SN AMT1   AMT2  AMT3  AMT4 AMT5 \n",
       "1  383    28000     0  9100 200      0\n",
       "2 4607        0 92000     0   0      0\n",
       "3 5270    23000 51000     0   0      0\n",
       "4 5571   145000  4230 28260 300  19450\n",
       "5 5810     5200 65000  1560 200      0\n",
       "6 6236    20000 96240 37840 800   4100"
      ]
     },
     "metadata": {},
     "output_type": "display_data"
    }
   ],
   "source": [
    "# dplyr\n",
    "MGG5_AMT <- MGG4 %>% \n",
    "    group_by(POL_SN, AMT) %>% \n",
    "    summarise( SAMT = sum(MGG_AMT_SUM)) %>% \n",
    "    as.data.frame() %>% \n",
    "    reshape(timevar = 'AMT', idvar = 'POL_SN', direction = 'wide') %>% \n",
    "    dplyr::rename('AMT1' = 'SAMT.AMT1', 'AMT2' = 'SAMT.AMT2', 'AMT3' = 'SAMT.AMT3', 'AMT4' = 'SAMT.AMT4', 'AMT5' = 'SAMT.AMT5')\n",
    "MGG5_AMT[is.na(MGG5_AMT)] <- 0\n",
    "print('dplyr')\n",
    "dim(MGG5_AMT)\n",
    "head(MGG5_AMT)\n",
    "\n",
    "# data.table\n",
    "MGG4_dt <- setDT(MGG4)\n",
    "MGG4_dt2 <- copy(dcast(MGG4_dt, POL_SN ~ AMT, fun.agg=sum ,value.var = 'MGG_AMT_SUM'))\n",
    "print('data.table')\n",
    "dim(MGG4_dt2)\n",
    "head(MGG4_dt2)"
   ]
  },
  {
   "cell_type": "code",
   "execution_count": 338,
   "metadata": {},
   "outputs": [],
   "source": [
    "MGG6 <- merge(MGG4_dt1, MGG4_dt2)"
   ]
  },
  {
   "cell_type": "code",
   "execution_count": 339,
   "metadata": {},
   "outputs": [
    {
     "data": {
      "text/html": [
       "<table>\n",
       "<thead><tr><th scope=col>POL_SN</th><th scope=col>CNT1</th><th scope=col>CNT2</th><th scope=col>CNT3</th><th scope=col>CNT4</th><th scope=col>CNT5</th><th scope=col>AMT1</th><th scope=col>AMT2</th><th scope=col>AMT3</th><th scope=col>AMT4</th><th scope=col>AMT5</th></tr></thead>\n",
       "<tbody>\n",
       "\t<tr><td> 383  </td><td>1     </td><td>0     </td><td> 2    </td><td>2     </td><td>0     </td><td> 28000</td><td>    0 </td><td> 9100 </td><td>200   </td><td>    0 </td></tr>\n",
       "\t<tr><td>4607  </td><td>0     </td><td>6     </td><td> 0    </td><td>0     </td><td>0     </td><td>     0</td><td>92000 </td><td>    0 </td><td>  0   </td><td>    0 </td></tr>\n",
       "\t<tr><td>5270  </td><td>1     </td><td>3     </td><td> 0    </td><td>0     </td><td>0     </td><td> 23000</td><td>51000 </td><td>    0 </td><td>  0   </td><td>    0 </td></tr>\n",
       "\t<tr><td>5571  </td><td>3     </td><td>4     </td><td>12    </td><td>3     </td><td>6     </td><td>145000</td><td> 4230 </td><td>28260 </td><td>300   </td><td>19450 </td></tr>\n",
       "\t<tr><td>5810  </td><td>3     </td><td>4     </td><td> 2    </td><td>2     </td><td>0     </td><td>  5200</td><td>65000 </td><td> 1560 </td><td>200   </td><td>    0 </td></tr>\n",
       "\t<tr><td>6236  </td><td>2     </td><td>5     </td><td> 6    </td><td>9     </td><td>2     </td><td> 20000</td><td>96240 </td><td>37840 </td><td>800   </td><td> 4100 </td></tr>\n",
       "</tbody>\n",
       "</table>\n"
      ],
      "text/latex": [
       "\\begin{tabular}{r|lllllllllll}\n",
       " POL\\_SN & CNT1 & CNT2 & CNT3 & CNT4 & CNT5 & AMT1 & AMT2 & AMT3 & AMT4 & AMT5\\\\\n",
       "\\hline\n",
       "\t  383   & 1      & 0      &  2     & 2      & 0      &  28000 &     0  &  9100  & 200    &     0 \\\\\n",
       "\t 4607   & 0      & 6      &  0     & 0      & 0      &      0 & 92000  &     0  &   0    &     0 \\\\\n",
       "\t 5270   & 1      & 3      &  0     & 0      & 0      &  23000 & 51000  &     0  &   0    &     0 \\\\\n",
       "\t 5571   & 3      & 4      & 12     & 3      & 6      & 145000 &  4230  & 28260  & 300    & 19450 \\\\\n",
       "\t 5810   & 3      & 4      &  2     & 2      & 0      &   5200 & 65000  &  1560  & 200    &     0 \\\\\n",
       "\t 6236   & 2      & 5      &  6     & 9      & 2      &  20000 & 96240  & 37840  & 800    &  4100 \\\\\n",
       "\\end{tabular}\n"
      ],
      "text/markdown": [
       "\n",
       "| POL_SN | CNT1 | CNT2 | CNT3 | CNT4 | CNT5 | AMT1 | AMT2 | AMT3 | AMT4 | AMT5 |\n",
       "|---|---|---|---|---|---|---|---|---|---|---|\n",
       "|  383   | 1      | 0      |  2     | 2      | 0      |  28000 |     0  |  9100  | 200    |     0  |\n",
       "| 4607   | 0      | 6      |  0     | 0      | 0      |      0 | 92000  |     0  |   0    |     0  |\n",
       "| 5270   | 1      | 3      |  0     | 0      | 0      |  23000 | 51000  |     0  |   0    |     0  |\n",
       "| 5571   | 3      | 4      | 12     | 3      | 6      | 145000 |  4230  | 28260  | 300    | 19450  |\n",
       "| 5810   | 3      | 4      |  2     | 2      | 0      |   5200 | 65000  |  1560  | 200    |     0  |\n",
       "| 6236   | 2      | 5      |  6     | 9      | 2      |  20000 | 96240  | 37840  | 800    |  4100  |\n",
       "\n"
      ],
      "text/plain": [
       "  POL_SN CNT1 CNT2 CNT3 CNT4 CNT5 AMT1   AMT2  AMT3  AMT4 AMT5 \n",
       "1  383   1    0     2   2    0     28000     0  9100 200      0\n",
       "2 4607   0    6     0   0    0         0 92000     0   0      0\n",
       "3 5270   1    3     0   0    0     23000 51000     0   0      0\n",
       "4 5571   3    4    12   3    6    145000  4230 28260 300  19450\n",
       "5 5810   3    4     2   2    0      5200 65000  1560 200      0\n",
       "6 6236   2    5     6   9    2     20000 96240 37840 800   4100"
      ]
     },
     "metadata": {},
     "output_type": "display_data"
    }
   ],
   "source": [
    "head(MGG6)"
   ]
  },
  {
   "cell_type": "code",
   "execution_count": 235,
   "metadata": {},
   "outputs": [],
   "source": [
    "fwrite(MGG6, \"pol.csv\")"
   ]
  },
  {
   "cell_type": "markdown",
   "metadata": {},
   "source": [
    "# 보험계약정보 테이블\n",
    "## 증권별 가입경로 및 계약체결\n",
    " * 계약개시 이후 2020년 12월까지 총 납입 보험료 산출\n",
    "     - INS_CT_STAT_CD (계약상태)\n",
    "     - CT_CNCLS_DT (계약가입년월)\n",
    "     - CT_EFCTV_DT (계약실효년월)\n",
    "     - CT_CNCLS_DT (계약해지년월)\n",
    "     - CT_PY_PD (계약만기년월)"
   ]
  },
  {
   "cell_type": "code",
   "execution_count": 129,
   "metadata": {},
   "outputs": [],
   "source": [
    "CONT <- fread(file = \"SDBSAMPLE_I_CT_CONT_PVT.csv\", header = T, stringsAsFactors = T, sep = \",\")"
   ]
  },
  {
   "cell_type": "code",
   "execution_count": 130,
   "metadata": {},
   "outputs": [
    {
     "data": {
      "text/html": [
       "<table>\n",
       "<thead><tr><th scope=col>SCTR_CD</th><th scope=col>POL_SN</th><th scope=col>IS_GRP_INS</th><th scope=col>INS_GBN_CD</th><th scope=col>INS_CT_STAT_CD</th><th scope=col>CT_CNCLS_DT</th><th scope=col>CT_TRMNT_DT</th><th scope=col>CT_ST_DT</th><th scope=col>CT_END_DT</th><th scope=col>CT_EFCTV_DT</th><th scope=col>...</th><th scope=col>YM_201909</th><th scope=col>YM_201910</th><th scope=col>YM_201911</th><th scope=col>YM_201912</th><th scope=col>YM_202001</th><th scope=col>YM_202002</th><th scope=col>YM_202003</th><th scope=col>YM_202004</th><th scope=col>YM_202005</th><th scope=col>YM_202006</th></tr></thead>\n",
       "<tbody>\n",
       "\t<tr><td>6      </td><td>5044097</td><td>0      </td><td>14     </td><td>5      </td><td>201811 </td><td>999912 </td><td>201811 </td><td>201811 </td><td>999912 </td><td>...    </td><td>1      </td><td>1      </td><td>1      </td><td>1      </td><td>1      </td><td>1      </td><td>1      </td><td>1      </td><td>1      </td><td>1      </td></tr>\n",
       "\t<tr><td>8      </td><td>6269668</td><td>0      </td><td>11     </td><td>7      </td><td>201411 </td><td>201711 </td><td>201411 </td><td>202411 </td><td>999912 </td><td>...    </td><td>1      </td><td>1      </td><td>1      </td><td>1      </td><td>1      </td><td>1      </td><td>1      </td><td>1      </td><td>1      </td><td>1      </td></tr>\n",
       "\t<tr><td>8      </td><td>4285933</td><td>0      </td><td>10     </td><td>7      </td><td>200703 </td><td>201111 </td><td>200703 </td><td>999912 </td><td>999912 </td><td>...    </td><td>1      </td><td>1      </td><td>1      </td><td>1      </td><td>1      </td><td>1      </td><td>1      </td><td>1      </td><td>1      </td><td>1      </td></tr>\n",
       "\t<tr><td>6      </td><td>5051032</td><td>0      </td><td> 5     </td><td>2      </td><td>201611 </td><td>999912 </td><td>201611 </td><td>203111 </td><td>999912 </td><td>...    </td><td>1      </td><td>1      </td><td>1      </td><td>1      </td><td>1      </td><td>1      </td><td>1      </td><td>1      </td><td>1      </td><td>1      </td></tr>\n",
       "\t<tr><td>8      </td><td>5404984</td><td>0      </td><td>10     </td><td>2      </td><td>201108 </td><td>999912 </td><td>201108 </td><td>999912 </td><td>999912 </td><td>...    </td><td>1      </td><td>1      </td><td>1      </td><td>1      </td><td>1      </td><td>1      </td><td>1      </td><td>1      </td><td>1      </td><td>1      </td></tr>\n",
       "\t<tr><td>6      </td><td>8606415</td><td>0      </td><td> 3     </td><td>2      </td><td>200612 </td><td>999912 </td><td>200612 </td><td>203811 </td><td>999912 </td><td>...    </td><td>0      </td><td>0      </td><td>0      </td><td>0      </td><td>0      </td><td>0      </td><td>0      </td><td>0      </td><td>0      </td><td>1      </td></tr>\n",
       "</tbody>\n",
       "</table>\n"
      ],
      "text/latex": [
       "\\begin{tabular}{r|llllllllllllllllllllllllllllllllllllllllll}\n",
       " SCTR\\_CD & POL\\_SN & IS\\_GRP\\_INS & INS\\_GBN\\_CD & INS\\_CT\\_STAT\\_CD & CT\\_CNCLS\\_DT & CT\\_TRMNT\\_DT & CT\\_ST\\_DT & CT\\_END\\_DT & CT\\_EFCTV\\_DT & ... & YM\\_201909 & YM\\_201910 & YM\\_201911 & YM\\_201912 & YM\\_202001 & YM\\_202002 & YM\\_202003 & YM\\_202004 & YM\\_202005 & YM\\_202006\\\\\n",
       "\\hline\n",
       "\t 6       & 5044097 & 0       & 14      & 5       & 201811  & 999912  & 201811  & 201811  & 999912  & ...     & 1       & 1       & 1       & 1       & 1       & 1       & 1       & 1       & 1       & 1      \\\\\n",
       "\t 8       & 6269668 & 0       & 11      & 7       & 201411  & 201711  & 201411  & 202411  & 999912  & ...     & 1       & 1       & 1       & 1       & 1       & 1       & 1       & 1       & 1       & 1      \\\\\n",
       "\t 8       & 4285933 & 0       & 10      & 7       & 200703  & 201111  & 200703  & 999912  & 999912  & ...     & 1       & 1       & 1       & 1       & 1       & 1       & 1       & 1       & 1       & 1      \\\\\n",
       "\t 6       & 5051032 & 0       &  5      & 2       & 201611  & 999912  & 201611  & 203111  & 999912  & ...     & 1       & 1       & 1       & 1       & 1       & 1       & 1       & 1       & 1       & 1      \\\\\n",
       "\t 8       & 5404984 & 0       & 10      & 2       & 201108  & 999912  & 201108  & 999912  & 999912  & ...     & 1       & 1       & 1       & 1       & 1       & 1       & 1       & 1       & 1       & 1      \\\\\n",
       "\t 6       & 8606415 & 0       &  3      & 2       & 200612  & 999912  & 200612  & 203811  & 999912  & ...     & 0       & 0       & 0       & 0       & 0       & 0       & 0       & 0       & 0       & 1      \\\\\n",
       "\\end{tabular}\n"
      ],
      "text/markdown": [
       "\n",
       "| SCTR_CD | POL_SN | IS_GRP_INS | INS_GBN_CD | INS_CT_STAT_CD | CT_CNCLS_DT | CT_TRMNT_DT | CT_ST_DT | CT_END_DT | CT_EFCTV_DT | ... | YM_201909 | YM_201910 | YM_201911 | YM_201912 | YM_202001 | YM_202002 | YM_202003 | YM_202004 | YM_202005 | YM_202006 |\n",
       "|---|---|---|---|---|---|---|---|---|---|---|---|---|---|---|---|---|---|---|---|---|\n",
       "| 6       | 5044097 | 0       | 14      | 5       | 201811  | 999912  | 201811  | 201811  | 999912  | ...     | 1       | 1       | 1       | 1       | 1       | 1       | 1       | 1       | 1       | 1       |\n",
       "| 8       | 6269668 | 0       | 11      | 7       | 201411  | 201711  | 201411  | 202411  | 999912  | ...     | 1       | 1       | 1       | 1       | 1       | 1       | 1       | 1       | 1       | 1       |\n",
       "| 8       | 4285933 | 0       | 10      | 7       | 200703  | 201111  | 200703  | 999912  | 999912  | ...     | 1       | 1       | 1       | 1       | 1       | 1       | 1       | 1       | 1       | 1       |\n",
       "| 6       | 5051032 | 0       |  5      | 2       | 201611  | 999912  | 201611  | 203111  | 999912  | ...     | 1       | 1       | 1       | 1       | 1       | 1       | 1       | 1       | 1       | 1       |\n",
       "| 8       | 5404984 | 0       | 10      | 2       | 201108  | 999912  | 201108  | 999912  | 999912  | ...     | 1       | 1       | 1       | 1       | 1       | 1       | 1       | 1       | 1       | 1       |\n",
       "| 6       | 8606415 | 0       |  3      | 2       | 200612  | 999912  | 200612  | 203811  | 999912  | ...     | 0       | 0       | 0       | 0       | 0       | 0       | 0       | 0       | 0       | 1       |\n",
       "\n"
      ],
      "text/plain": [
       "  SCTR_CD POL_SN  IS_GRP_INS INS_GBN_CD INS_CT_STAT_CD CT_CNCLS_DT CT_TRMNT_DT\n",
       "1 6       5044097 0          14         5              201811      999912     \n",
       "2 8       6269668 0          11         7              201411      201711     \n",
       "3 8       4285933 0          10         7              200703      201111     \n",
       "4 6       5051032 0           5         2              201611      999912     \n",
       "5 8       5404984 0          10         2              201108      999912     \n",
       "6 6       8606415 0           3         2              200612      999912     \n",
       "  CT_ST_DT CT_END_DT CT_EFCTV_DT ... YM_201909 YM_201910 YM_201911 YM_201912\n",
       "1 201811   201811    999912      ... 1         1         1         1        \n",
       "2 201411   202411    999912      ... 1         1         1         1        \n",
       "3 200703   999912    999912      ... 1         1         1         1        \n",
       "4 201611   203111    999912      ... 1         1         1         1        \n",
       "5 201108   999912    999912      ... 1         1         1         1        \n",
       "6 200612   203811    999912      ... 0         0         0         0        \n",
       "  YM_202001 YM_202002 YM_202003 YM_202004 YM_202005 YM_202006\n",
       "1 1         1         1         1         1         1        \n",
       "2 1         1         1         1         1         1        \n",
       "3 1         1         1         1         1         1        \n",
       "4 1         1         1         1         1         1        \n",
       "5 1         1         1         1         1         1        \n",
       "6 0         0         0         0         0         1        "
      ]
     },
     "metadata": {},
     "output_type": "display_data"
    }
   ],
   "source": [
    "head(CONT)"
   ]
  },
  {
   "cell_type": "markdown",
   "metadata": {},
   "source": [
    "* 셈플 데이터 기준년월 누락\n",
    "    - 임의 데이터 생성"
   ]
  },
  {
   "cell_type": "code",
   "execution_count": 131,
   "metadata": {},
   "outputs": [
    {
     "data": {
      "text/html": [
       "<ol class=list-inline>\n",
       "\t<li>0</li>\n",
       "\t<li>1</li>\n",
       "\t<li>0</li>\n",
       "\t<li>0</li>\n",
       "\t<li>0</li>\n",
       "\t<li>0</li>\n",
       "</ol>\n"
      ],
      "text/latex": [
       "\\begin{enumerate*}\n",
       "\\item 0\n",
       "\\item 1\n",
       "\\item 0\n",
       "\\item 0\n",
       "\\item 0\n",
       "\\item 0\n",
       "\\end{enumerate*}\n"
      ],
      "text/markdown": [
       "1. 0\n",
       "2. 1\n",
       "3. 0\n",
       "4. 0\n",
       "5. 0\n",
       "6. 0\n",
       "\n",
       "\n"
      ],
      "text/plain": [
       "[1] 0 1 0 0 0 0"
      ]
     },
     "metadata": {},
     "output_type": "display_data"
    },
    {
     "data": {
      "text/plain": [
       "\n",
       "    0     1 \n",
       "19354 19087 "
      ]
     },
     "metadata": {},
     "output_type": "display_data"
    },
    {
     "data": {
      "text/html": [
       "<table>\n",
       "<thead><tr><th scope=col>SCTR_CD</th><th scope=col>POL_SN</th><th scope=col>IS_GRP_INS</th><th scope=col>INS_GBN_CD</th><th scope=col>INS_CT_STAT_CD</th><th scope=col>CT_CNCLS_DT</th><th scope=col>CT_TRMNT_DT</th><th scope=col>CT_ST_DT</th><th scope=col>CT_END_DT</th><th scope=col>CT_EFCTV_DT</th><th scope=col>...</th><th scope=col>YM_201910</th><th scope=col>YM_201911</th><th scope=col>YM_201912</th><th scope=col>YM_202001</th><th scope=col>YM_202002</th><th scope=col>YM_202003</th><th scope=col>YM_202004</th><th scope=col>YM_202005</th><th scope=col>YM_202006</th><th scope=col>YM_202012</th></tr></thead>\n",
       "<tbody>\n",
       "\t<tr><td>6      </td><td>5044097</td><td>0      </td><td>14     </td><td>5      </td><td>201811 </td><td>999912 </td><td>201811 </td><td>201811 </td><td>999912 </td><td>...    </td><td>1      </td><td>1      </td><td>1      </td><td>1      </td><td>1      </td><td>1      </td><td>1      </td><td>1      </td><td>1      </td><td>0      </td></tr>\n",
       "\t<tr><td>8      </td><td>6269668</td><td>0      </td><td>11     </td><td>7      </td><td>201411 </td><td>201711 </td><td>201411 </td><td>202411 </td><td>999912 </td><td>...    </td><td>1      </td><td>1      </td><td>1      </td><td>1      </td><td>1      </td><td>1      </td><td>1      </td><td>1      </td><td>1      </td><td>1      </td></tr>\n",
       "\t<tr><td>8      </td><td>4285933</td><td>0      </td><td>10     </td><td>7      </td><td>200703 </td><td>201111 </td><td>200703 </td><td>999912 </td><td>999912 </td><td>...    </td><td>1      </td><td>1      </td><td>1      </td><td>1      </td><td>1      </td><td>1      </td><td>1      </td><td>1      </td><td>1      </td><td>0      </td></tr>\n",
       "\t<tr><td>6      </td><td>5051032</td><td>0      </td><td> 5     </td><td>2      </td><td>201611 </td><td>999912 </td><td>201611 </td><td>203111 </td><td>999912 </td><td>...    </td><td>1      </td><td>1      </td><td>1      </td><td>1      </td><td>1      </td><td>1      </td><td>1      </td><td>1      </td><td>1      </td><td>0      </td></tr>\n",
       "\t<tr><td>8      </td><td>5404984</td><td>0      </td><td>10     </td><td>2      </td><td>201108 </td><td>999912 </td><td>201108 </td><td>999912 </td><td>999912 </td><td>...    </td><td>1      </td><td>1      </td><td>1      </td><td>1      </td><td>1      </td><td>1      </td><td>1      </td><td>1      </td><td>1      </td><td>1      </td></tr>\n",
       "\t<tr><td>6      </td><td>8606415</td><td>0      </td><td> 3     </td><td>2      </td><td>200612 </td><td>999912 </td><td>200612 </td><td>203811 </td><td>999912 </td><td>...    </td><td>0      </td><td>0      </td><td>0      </td><td>0      </td><td>0      </td><td>0      </td><td>0      </td><td>0      </td><td>1      </td><td>0      </td></tr>\n",
       "</tbody>\n",
       "</table>\n"
      ],
      "text/latex": [
       "\\begin{tabular}{r|lllllllllllllllllllllllllllllllllllllllllll}\n",
       " SCTR\\_CD & POL\\_SN & IS\\_GRP\\_INS & INS\\_GBN\\_CD & INS\\_CT\\_STAT\\_CD & CT\\_CNCLS\\_DT & CT\\_TRMNT\\_DT & CT\\_ST\\_DT & CT\\_END\\_DT & CT\\_EFCTV\\_DT & ... & YM\\_201910 & YM\\_201911 & YM\\_201912 & YM\\_202001 & YM\\_202002 & YM\\_202003 & YM\\_202004 & YM\\_202005 & YM\\_202006 & YM\\_202012\\\\\n",
       "\\hline\n",
       "\t 6       & 5044097 & 0       & 14      & 5       & 201811  & 999912  & 201811  & 201811  & 999912  & ...     & 1       & 1       & 1       & 1       & 1       & 1       & 1       & 1       & 1       & 0      \\\\\n",
       "\t 8       & 6269668 & 0       & 11      & 7       & 201411  & 201711  & 201411  & 202411  & 999912  & ...     & 1       & 1       & 1       & 1       & 1       & 1       & 1       & 1       & 1       & 1      \\\\\n",
       "\t 8       & 4285933 & 0       & 10      & 7       & 200703  & 201111  & 200703  & 999912  & 999912  & ...     & 1       & 1       & 1       & 1       & 1       & 1       & 1       & 1       & 1       & 0      \\\\\n",
       "\t 6       & 5051032 & 0       &  5      & 2       & 201611  & 999912  & 201611  & 203111  & 999912  & ...     & 1       & 1       & 1       & 1       & 1       & 1       & 1       & 1       & 1       & 0      \\\\\n",
       "\t 8       & 5404984 & 0       & 10      & 2       & 201108  & 999912  & 201108  & 999912  & 999912  & ...     & 1       & 1       & 1       & 1       & 1       & 1       & 1       & 1       & 1       & 1      \\\\\n",
       "\t 6       & 8606415 & 0       &  3      & 2       & 200612  & 999912  & 200612  & 203811  & 999912  & ...     & 0       & 0       & 0       & 0       & 0       & 0       & 0       & 0       & 1       & 0      \\\\\n",
       "\\end{tabular}\n"
      ],
      "text/markdown": [
       "\n",
       "| SCTR_CD | POL_SN | IS_GRP_INS | INS_GBN_CD | INS_CT_STAT_CD | CT_CNCLS_DT | CT_TRMNT_DT | CT_ST_DT | CT_END_DT | CT_EFCTV_DT | ... | YM_201910 | YM_201911 | YM_201912 | YM_202001 | YM_202002 | YM_202003 | YM_202004 | YM_202005 | YM_202006 | YM_202012 |\n",
       "|---|---|---|---|---|---|---|---|---|---|---|---|---|---|---|---|---|---|---|---|---|\n",
       "| 6       | 5044097 | 0       | 14      | 5       | 201811  | 999912  | 201811  | 201811  | 999912  | ...     | 1       | 1       | 1       | 1       | 1       | 1       | 1       | 1       | 1       | 0       |\n",
       "| 8       | 6269668 | 0       | 11      | 7       | 201411  | 201711  | 201411  | 202411  | 999912  | ...     | 1       | 1       | 1       | 1       | 1       | 1       | 1       | 1       | 1       | 1       |\n",
       "| 8       | 4285933 | 0       | 10      | 7       | 200703  | 201111  | 200703  | 999912  | 999912  | ...     | 1       | 1       | 1       | 1       | 1       | 1       | 1       | 1       | 1       | 0       |\n",
       "| 6       | 5051032 | 0       |  5      | 2       | 201611  | 999912  | 201611  | 203111  | 999912  | ...     | 1       | 1       | 1       | 1       | 1       | 1       | 1       | 1       | 1       | 0       |\n",
       "| 8       | 5404984 | 0       | 10      | 2       | 201108  | 999912  | 201108  | 999912  | 999912  | ...     | 1       | 1       | 1       | 1       | 1       | 1       | 1       | 1       | 1       | 1       |\n",
       "| 6       | 8606415 | 0       |  3      | 2       | 200612  | 999912  | 200612  | 203811  | 999912  | ...     | 0       | 0       | 0       | 0       | 0       | 0       | 0       | 0       | 1       | 0       |\n",
       "\n"
      ],
      "text/plain": [
       "  SCTR_CD POL_SN  IS_GRP_INS INS_GBN_CD INS_CT_STAT_CD CT_CNCLS_DT CT_TRMNT_DT\n",
       "1 6       5044097 0          14         5              201811      999912     \n",
       "2 8       6269668 0          11         7              201411      201711     \n",
       "3 8       4285933 0          10         7              200703      201111     \n",
       "4 6       5051032 0           5         2              201611      999912     \n",
       "5 8       5404984 0          10         2              201108      999912     \n",
       "6 6       8606415 0           3         2              200612      999912     \n",
       "  CT_ST_DT CT_END_DT CT_EFCTV_DT ... YM_201910 YM_201911 YM_201912 YM_202001\n",
       "1 201811   201811    999912      ... 1         1         1         1        \n",
       "2 201411   202411    999912      ... 1         1         1         1        \n",
       "3 200703   999912    999912      ... 1         1         1         1        \n",
       "4 201611   203111    999912      ... 1         1         1         1        \n",
       "5 201108   999912    999912      ... 1         1         1         1        \n",
       "6 200612   203811    999912      ... 0         0         0         0        \n",
       "  YM_202002 YM_202003 YM_202004 YM_202005 YM_202006 YM_202012\n",
       "1 1         1         1         1         1         0        \n",
       "2 1         1         1         1         1         1        \n",
       "3 1         1         1         1         1         0        \n",
       "4 1         1         1         1         1         0        \n",
       "5 1         1         1         1         1         1        \n",
       "6 0         0         0         0         1         0        "
      ]
     },
     "metadata": {},
     "output_type": "display_data"
    }
   ],
   "source": [
    "n <- nrow(CONT)\n",
    "head(sample(c(0,1), replace=TRUE, size=n))\n",
    "set.seed(1)\n",
    "CONT$YM_202012 <- sample(c(0,1), replace=TRUE, size=n)\n",
    "table(CONT$YM_202012)\n",
    "head(CONT)"
   ]
  },
  {
   "cell_type": "markdown",
   "metadata": {},
   "source": [
    "### 보험계약정보 테이블"
   ]
  },
  {
   "cell_type": "code",
   "execution_count": 545,
   "metadata": {},
   "outputs": [],
   "source": [
    "options(repr.maxtrix.max.rows=10, repr.matrix.max.cols=100)"
   ]
  },
  {
   "cell_type": "code",
   "execution_count": 511,
   "metadata": {},
   "outputs": [
    {
     "name": "stdout",
     "output_type": "stream",
     "text": [
      "[1] \"dplyr\"\n"
     ]
    },
    {
     "data": {
      "text/html": [
       "<table>\n",
       "<thead><tr><th scope=col>SCTR_CD</th><th scope=col>POL_SN</th><th scope=col>IS_GRP_INS</th><th scope=col>INS_GBN_CD</th><th scope=col>INS_CT_STAT_CD</th><th scope=col>CT_CNCLS_DT</th><th scope=col>CT_TRMNT_DT</th><th scope=col>CT_ST_DT</th><th scope=col>CT_END_DT</th><th scope=col>CT_EFCTV_DT</th><th scope=col>CT_RST_DT</th><th scope=col>CT_PY_AMT</th><th scope=col>CT_PY_CYCLE_CD</th><th scope=col>CT_PY_PD</th><th scope=col>IS_CT_DIGNS</th><th scope=col>CT_JDGMT_CD</th><th scope=col>CT_CHNL_CD</th><th scope=col>YM_201806</th><th scope=col>YM_201807</th><th scope=col>YM_201808</th><th scope=col>YM_201809</th><th scope=col>YM_201810</th><th scope=col>YM_201811</th><th scope=col>YM_201812</th><th scope=col>YM_201901</th><th scope=col>YM_201902</th><th scope=col>YM_201903</th><th scope=col>YM_201904</th><th scope=col>YM_201905</th><th scope=col>YM_201906</th><th scope=col>YM_201907</th><th scope=col>YM_201908</th><th scope=col>YM_201909</th><th scope=col>YM_201910</th><th scope=col>YM_201911</th><th scope=col>YM_201912</th><th scope=col>YM_202001</th><th scope=col>YM_202002</th><th scope=col>YM_202003</th><th scope=col>YM_202004</th><th scope=col>YM_202005</th><th scope=col>YM_202006</th><th scope=col>YM_202012</th></tr></thead>\n",
       "<tbody>\n",
       "\t<tr><td>6      </td><td>5051032</td><td>0      </td><td> 5     </td><td>2      </td><td>201611 </td><td>999912 </td><td>201611 </td><td>203111 </td><td>999912 </td><td>999912 </td><td> 58    </td><td>2      </td><td>15     </td><td>1      </td><td>4      </td><td>3      </td><td>1      </td><td>1      </td><td>1      </td><td>1      </td><td>1      </td><td>1      </td><td>1      </td><td>1      </td><td>1      </td><td>1      </td><td>1      </td><td>1      </td><td>1      </td><td>1      </td><td>1      </td><td>1      </td><td>1      </td><td>1      </td><td>1      </td><td>1      </td><td>1      </td><td>1      </td><td>1      </td><td>1      </td><td>1      </td><td>0      </td></tr>\n",
       "\t<tr><td>8      </td><td>5404984</td><td>0      </td><td>10     </td><td>2      </td><td>201108 </td><td>999912 </td><td>201108 </td><td>999912 </td><td>999912 </td><td>999912 </td><td> 65    </td><td>2      </td><td>10     </td><td>0      </td><td>1      </td><td>1      </td><td>1      </td><td>1      </td><td>1      </td><td>1      </td><td>1      </td><td>1      </td><td>1      </td><td>1      </td><td>1      </td><td>1      </td><td>1      </td><td>1      </td><td>1      </td><td>1      </td><td>1      </td><td>1      </td><td>1      </td><td>1      </td><td>1      </td><td>1      </td><td>1      </td><td>1      </td><td>1      </td><td>1      </td><td>1      </td><td>1      </td></tr>\n",
       "\t<tr><td>6      </td><td>8606415</td><td>0      </td><td> 3     </td><td>2      </td><td>200612 </td><td>999912 </td><td>200612 </td><td>203811 </td><td>999912 </td><td>999912 </td><td>210    </td><td>2      </td><td>20     </td><td>0      </td><td>1      </td><td>1      </td><td>0      </td><td>0      </td><td>0      </td><td>0      </td><td>0      </td><td>0      </td><td>0      </td><td>0      </td><td>0      </td><td>0      </td><td>0      </td><td>0      </td><td>0      </td><td>0      </td><td>0      </td><td>0      </td><td>0      </td><td>0      </td><td>0      </td><td>0      </td><td>0      </td><td>0      </td><td>0      </td><td>0      </td><td>1      </td><td>0      </td></tr>\n",
       "\t<tr><td>6      </td><td>9203625</td><td>0      </td><td>13     </td><td>2      </td><td>201808 </td><td>999912 </td><td>201808 </td><td>203808 </td><td>999912 </td><td>999912 </td><td> 15    </td><td>2      </td><td>10     </td><td>0      </td><td>1      </td><td>7      </td><td>0      </td><td>0      </td><td>0      </td><td>1      </td><td>1      </td><td>1      </td><td>1      </td><td>1      </td><td>1      </td><td>1      </td><td>1      </td><td>1      </td><td>1      </td><td>1      </td><td>1      </td><td>1      </td><td>1      </td><td>1      </td><td>1      </td><td>1      </td><td>1      </td><td>1      </td><td>1      </td><td>1      </td><td>1      </td><td>0      </td></tr>\n",
       "\t<tr><td>8      </td><td>9760630</td><td>0      </td><td> 2     </td><td>2      </td><td>201404 </td><td>999912 </td><td>201404 </td><td>202104 </td><td>999912 </td><td>999912 </td><td> 90    </td><td>2      </td><td> 7     </td><td>0      </td><td>1      </td><td>6      </td><td>1      </td><td>1      </td><td>1      </td><td>1      </td><td>1      </td><td>1      </td><td>1      </td><td>1      </td><td>1      </td><td>1      </td><td>1      </td><td>1      </td><td>1      </td><td>1      </td><td>1      </td><td>1      </td><td>1      </td><td>1      </td><td>1      </td><td>1      </td><td>1      </td><td>1      </td><td>1      </td><td>1      </td><td>1      </td><td>0      </td></tr>\n",
       "\t<tr><td>3      </td><td>3539890</td><td>0      </td><td> 4     </td><td>2      </td><td>201005 </td><td>999912 </td><td>201005 </td><td>203005 </td><td>999912 </td><td>999912 </td><td>  3    </td><td>2      </td><td>20     </td><td>0      </td><td>1      </td><td>1      </td><td>1      </td><td>1      </td><td>1      </td><td>1      </td><td>1      </td><td>1      </td><td>1      </td><td>1      </td><td>1      </td><td>1      </td><td>1      </td><td>1      </td><td>1      </td><td>1      </td><td>1      </td><td>1      </td><td>1      </td><td>1      </td><td>1      </td><td>1      </td><td>1      </td><td>1      </td><td>1      </td><td>1      </td><td>1      </td><td>1      </td></tr>\n",
       "</tbody>\n",
       "</table>\n"
      ],
      "text/latex": [
       "\\begin{tabular}{r|lllllllllllllllllllllllllllllllllllllllllll}\n",
       " SCTR\\_CD & POL\\_SN & IS\\_GRP\\_INS & INS\\_GBN\\_CD & INS\\_CT\\_STAT\\_CD & CT\\_CNCLS\\_DT & CT\\_TRMNT\\_DT & CT\\_ST\\_DT & CT\\_END\\_DT & CT\\_EFCTV\\_DT & CT\\_RST\\_DT & CT\\_PY\\_AMT & CT\\_PY\\_CYCLE\\_CD & CT\\_PY\\_PD & IS\\_CT\\_DIGNS & CT\\_JDGMT\\_CD & CT\\_CHNL\\_CD & YM\\_201806 & YM\\_201807 & YM\\_201808 & YM\\_201809 & YM\\_201810 & YM\\_201811 & YM\\_201812 & YM\\_201901 & YM\\_201902 & YM\\_201903 & YM\\_201904 & YM\\_201905 & YM\\_201906 & YM\\_201907 & YM\\_201908 & YM\\_201909 & YM\\_201910 & YM\\_201911 & YM\\_201912 & YM\\_202001 & YM\\_202002 & YM\\_202003 & YM\\_202004 & YM\\_202005 & YM\\_202006 & YM\\_202012\\\\\n",
       "\\hline\n",
       "\t 6       & 5051032 & 0       &  5      & 2       & 201611  & 999912  & 201611  & 203111  & 999912  & 999912  &  58     & 2       & 15      & 1       & 4       & 3       & 1       & 1       & 1       & 1       & 1       & 1       & 1       & 1       & 1       & 1       & 1       & 1       & 1       & 1       & 1       & 1       & 1       & 1       & 1       & 1       & 1       & 1       & 1       & 1       & 1       & 0      \\\\\n",
       "\t 8       & 5404984 & 0       & 10      & 2       & 201108  & 999912  & 201108  & 999912  & 999912  & 999912  &  65     & 2       & 10      & 0       & 1       & 1       & 1       & 1       & 1       & 1       & 1       & 1       & 1       & 1       & 1       & 1       & 1       & 1       & 1       & 1       & 1       & 1       & 1       & 1       & 1       & 1       & 1       & 1       & 1       & 1       & 1       & 1      \\\\\n",
       "\t 6       & 8606415 & 0       &  3      & 2       & 200612  & 999912  & 200612  & 203811  & 999912  & 999912  & 210     & 2       & 20      & 0       & 1       & 1       & 0       & 0       & 0       & 0       & 0       & 0       & 0       & 0       & 0       & 0       & 0       & 0       & 0       & 0       & 0       & 0       & 0       & 0       & 0       & 0       & 0       & 0       & 0       & 0       & 1       & 0      \\\\\n",
       "\t 6       & 9203625 & 0       & 13      & 2       & 201808  & 999912  & 201808  & 203808  & 999912  & 999912  &  15     & 2       & 10      & 0       & 1       & 7       & 0       & 0       & 0       & 1       & 1       & 1       & 1       & 1       & 1       & 1       & 1       & 1       & 1       & 1       & 1       & 1       & 1       & 1       & 1       & 1       & 1       & 1       & 1       & 1       & 1       & 0      \\\\\n",
       "\t 8       & 9760630 & 0       &  2      & 2       & 201404  & 999912  & 201404  & 202104  & 999912  & 999912  &  90     & 2       &  7      & 0       & 1       & 6       & 1       & 1       & 1       & 1       & 1       & 1       & 1       & 1       & 1       & 1       & 1       & 1       & 1       & 1       & 1       & 1       & 1       & 1       & 1       & 1       & 1       & 1       & 1       & 1       & 1       & 0      \\\\\n",
       "\t 3       & 3539890 & 0       &  4      & 2       & 201005  & 999912  & 201005  & 203005  & 999912  & 999912  &   3     & 2       & 20      & 0       & 1       & 1       & 1       & 1       & 1       & 1       & 1       & 1       & 1       & 1       & 1       & 1       & 1       & 1       & 1       & 1       & 1       & 1       & 1       & 1       & 1       & 1       & 1       & 1       & 1       & 1       & 1       & 1      \\\\\n",
       "\\end{tabular}\n"
      ],
      "text/markdown": [
       "\n",
       "| SCTR_CD | POL_SN | IS_GRP_INS | INS_GBN_CD | INS_CT_STAT_CD | CT_CNCLS_DT | CT_TRMNT_DT | CT_ST_DT | CT_END_DT | CT_EFCTV_DT | CT_RST_DT | CT_PY_AMT | CT_PY_CYCLE_CD | CT_PY_PD | IS_CT_DIGNS | CT_JDGMT_CD | CT_CHNL_CD | YM_201806 | YM_201807 | YM_201808 | YM_201809 | YM_201810 | YM_201811 | YM_201812 | YM_201901 | YM_201902 | YM_201903 | YM_201904 | YM_201905 | YM_201906 | YM_201907 | YM_201908 | YM_201909 | YM_201910 | YM_201911 | YM_201912 | YM_202001 | YM_202002 | YM_202003 | YM_202004 | YM_202005 | YM_202006 | YM_202012 |\n",
       "|---|---|---|---|---|---|---|---|---|---|---|---|---|---|---|---|---|---|---|---|---|---|---|---|---|---|---|---|---|---|---|---|---|---|---|---|---|---|---|---|---|---|---|\n",
       "| 6       | 5051032 | 0       |  5      | 2       | 201611  | 999912  | 201611  | 203111  | 999912  | 999912  |  58     | 2       | 15      | 1       | 4       | 3       | 1       | 1       | 1       | 1       | 1       | 1       | 1       | 1       | 1       | 1       | 1       | 1       | 1       | 1       | 1       | 1       | 1       | 1       | 1       | 1       | 1       | 1       | 1       | 1       | 1       | 0       |\n",
       "| 8       | 5404984 | 0       | 10      | 2       | 201108  | 999912  | 201108  | 999912  | 999912  | 999912  |  65     | 2       | 10      | 0       | 1       | 1       | 1       | 1       | 1       | 1       | 1       | 1       | 1       | 1       | 1       | 1       | 1       | 1       | 1       | 1       | 1       | 1       | 1       | 1       | 1       | 1       | 1       | 1       | 1       | 1       | 1       | 1       |\n",
       "| 6       | 8606415 | 0       |  3      | 2       | 200612  | 999912  | 200612  | 203811  | 999912  | 999912  | 210     | 2       | 20      | 0       | 1       | 1       | 0       | 0       | 0       | 0       | 0       | 0       | 0       | 0       | 0       | 0       | 0       | 0       | 0       | 0       | 0       | 0       | 0       | 0       | 0       | 0       | 0       | 0       | 0       | 0       | 1       | 0       |\n",
       "| 6       | 9203625 | 0       | 13      | 2       | 201808  | 999912  | 201808  | 203808  | 999912  | 999912  |  15     | 2       | 10      | 0       | 1       | 7       | 0       | 0       | 0       | 1       | 1       | 1       | 1       | 1       | 1       | 1       | 1       | 1       | 1       | 1       | 1       | 1       | 1       | 1       | 1       | 1       | 1       | 1       | 1       | 1       | 1       | 0       |\n",
       "| 8       | 9760630 | 0       |  2      | 2       | 201404  | 999912  | 201404  | 202104  | 999912  | 999912  |  90     | 2       |  7      | 0       | 1       | 6       | 1       | 1       | 1       | 1       | 1       | 1       | 1       | 1       | 1       | 1       | 1       | 1       | 1       | 1       | 1       | 1       | 1       | 1       | 1       | 1       | 1       | 1       | 1       | 1       | 1       | 0       |\n",
       "| 3       | 3539890 | 0       |  4      | 2       | 201005  | 999912  | 201005  | 203005  | 999912  | 999912  |   3     | 2       | 20      | 0       | 1       | 1       | 1       | 1       | 1       | 1       | 1       | 1       | 1       | 1       | 1       | 1       | 1       | 1       | 1       | 1       | 1       | 1       | 1       | 1       | 1       | 1       | 1       | 1       | 1       | 1       | 1       | 1       |\n",
       "\n"
      ],
      "text/plain": [
       "  SCTR_CD POL_SN  IS_GRP_INS INS_GBN_CD INS_CT_STAT_CD CT_CNCLS_DT CT_TRMNT_DT\n",
       "1 6       5051032 0           5         2              201611      999912     \n",
       "2 8       5404984 0          10         2              201108      999912     \n",
       "3 6       8606415 0           3         2              200612      999912     \n",
       "4 6       9203625 0          13         2              201808      999912     \n",
       "5 8       9760630 0           2         2              201404      999912     \n",
       "6 3       3539890 0           4         2              201005      999912     \n",
       "  CT_ST_DT CT_END_DT CT_EFCTV_DT CT_RST_DT CT_PY_AMT CT_PY_CYCLE_CD CT_PY_PD\n",
       "1 201611   203111    999912      999912     58       2              15      \n",
       "2 201108   999912    999912      999912     65       2              10      \n",
       "3 200612   203811    999912      999912    210       2              20      \n",
       "4 201808   203808    999912      999912     15       2              10      \n",
       "5 201404   202104    999912      999912     90       2               7      \n",
       "6 201005   203005    999912      999912      3       2              20      \n",
       "  IS_CT_DIGNS CT_JDGMT_CD CT_CHNL_CD YM_201806 YM_201807 YM_201808 YM_201809\n",
       "1 1           4           3          1         1         1         1        \n",
       "2 0           1           1          1         1         1         1        \n",
       "3 0           1           1          0         0         0         0        \n",
       "4 0           1           7          0         0         0         1        \n",
       "5 0           1           6          1         1         1         1        \n",
       "6 0           1           1          1         1         1         1        \n",
       "  YM_201810 YM_201811 YM_201812 YM_201901 YM_201902 YM_201903 YM_201904\n",
       "1 1         1         1         1         1         1         1        \n",
       "2 1         1         1         1         1         1         1        \n",
       "3 0         0         0         0         0         0         0        \n",
       "4 1         1         1         1         1         1         1        \n",
       "5 1         1         1         1         1         1         1        \n",
       "6 1         1         1         1         1         1         1        \n",
       "  YM_201905 YM_201906 YM_201907 YM_201908 YM_201909 YM_201910 YM_201911\n",
       "1 1         1         1         1         1         1         1        \n",
       "2 1         1         1         1         1         1         1        \n",
       "3 0         0         0         0         0         0         0        \n",
       "4 1         1         1         1         1         1         1        \n",
       "5 1         1         1         1         1         1         1        \n",
       "6 1         1         1         1         1         1         1        \n",
       "  YM_201912 YM_202001 YM_202002 YM_202003 YM_202004 YM_202005 YM_202006\n",
       "1 1         1         1         1         1         1         1        \n",
       "2 1         1         1         1         1         1         1        \n",
       "3 0         0         0         0         0         0         1        \n",
       "4 1         1         1         1         1         1         1        \n",
       "5 1         1         1         1         1         1         1        \n",
       "6 1         1         1         1         1         1         1        \n",
       "  YM_202012\n",
       "1 0        \n",
       "2 1        \n",
       "3 0        \n",
       "4 0        \n",
       "5 0        \n",
       "6 1        "
      ]
     },
     "metadata": {},
     "output_type": "display_data"
    },
    {
     "name": "stdout",
     "output_type": "stream",
     "text": [
      "[1] \"data.table\"\n"
     ]
    },
    {
     "data": {
      "text/html": [
       "<table>\n",
       "<thead><tr><th scope=col>SCTR_CD</th><th scope=col>POL_SN</th><th scope=col>IS_GRP_INS</th><th scope=col>INS_GBN_CD</th><th scope=col>INS_CT_STAT_CD</th><th scope=col>CT_CNCLS_DT</th><th scope=col>CT_TRMNT_DT</th><th scope=col>CT_ST_DT</th><th scope=col>CT_END_DT</th><th scope=col>CT_EFCTV_DT</th><th scope=col>CT_RST_DT</th><th scope=col>CT_PY_AMT</th><th scope=col>CT_PY_CYCLE_CD</th><th scope=col>CT_PY_PD</th><th scope=col>IS_CT_DIGNS</th><th scope=col>CT_JDGMT_CD</th><th scope=col>CT_CHNL_CD</th><th scope=col>YM_201806</th><th scope=col>YM_201807</th><th scope=col>YM_201808</th><th scope=col>YM_201809</th><th scope=col>YM_201810</th><th scope=col>YM_201811</th><th scope=col>YM_201812</th><th scope=col>YM_201901</th><th scope=col>YM_201902</th><th scope=col>YM_201903</th><th scope=col>YM_201904</th><th scope=col>YM_201905</th><th scope=col>YM_201906</th><th scope=col>YM_201907</th><th scope=col>YM_201908</th><th scope=col>YM_201909</th><th scope=col>YM_201910</th><th scope=col>YM_201911</th><th scope=col>YM_201912</th><th scope=col>YM_202001</th><th scope=col>YM_202002</th><th scope=col>YM_202003</th><th scope=col>YM_202004</th><th scope=col>YM_202005</th><th scope=col>YM_202006</th><th scope=col>YM_202012</th></tr></thead>\n",
       "<tbody>\n",
       "\t<tr><td>6      </td><td>5051032</td><td>0      </td><td> 5     </td><td>2      </td><td>201611 </td><td>999912 </td><td>201611 </td><td>203111 </td><td>999912 </td><td>999912 </td><td> 58    </td><td>2      </td><td>15     </td><td>1      </td><td>4      </td><td>3      </td><td>1      </td><td>1      </td><td>1      </td><td>1      </td><td>1      </td><td>1      </td><td>1      </td><td>1      </td><td>1      </td><td>1      </td><td>1      </td><td>1      </td><td>1      </td><td>1      </td><td>1      </td><td>1      </td><td>1      </td><td>1      </td><td>1      </td><td>1      </td><td>1      </td><td>1      </td><td>1      </td><td>1      </td><td>1      </td><td>0      </td></tr>\n",
       "\t<tr><td>8      </td><td>5404984</td><td>0      </td><td>10     </td><td>2      </td><td>201108 </td><td>999912 </td><td>201108 </td><td>999912 </td><td>999912 </td><td>999912 </td><td> 65    </td><td>2      </td><td>10     </td><td>0      </td><td>1      </td><td>1      </td><td>1      </td><td>1      </td><td>1      </td><td>1      </td><td>1      </td><td>1      </td><td>1      </td><td>1      </td><td>1      </td><td>1      </td><td>1      </td><td>1      </td><td>1      </td><td>1      </td><td>1      </td><td>1      </td><td>1      </td><td>1      </td><td>1      </td><td>1      </td><td>1      </td><td>1      </td><td>1      </td><td>1      </td><td>1      </td><td>1      </td></tr>\n",
       "\t<tr><td>6      </td><td>8606415</td><td>0      </td><td> 3     </td><td>2      </td><td>200612 </td><td>999912 </td><td>200612 </td><td>203811 </td><td>999912 </td><td>999912 </td><td>210    </td><td>2      </td><td>20     </td><td>0      </td><td>1      </td><td>1      </td><td>0      </td><td>0      </td><td>0      </td><td>0      </td><td>0      </td><td>0      </td><td>0      </td><td>0      </td><td>0      </td><td>0      </td><td>0      </td><td>0      </td><td>0      </td><td>0      </td><td>0      </td><td>0      </td><td>0      </td><td>0      </td><td>0      </td><td>0      </td><td>0      </td><td>0      </td><td>0      </td><td>0      </td><td>1      </td><td>0      </td></tr>\n",
       "\t<tr><td>6      </td><td>9203625</td><td>0      </td><td>13     </td><td>2      </td><td>201808 </td><td>999912 </td><td>201808 </td><td>203808 </td><td>999912 </td><td>999912 </td><td> 15    </td><td>2      </td><td>10     </td><td>0      </td><td>1      </td><td>7      </td><td>0      </td><td>0      </td><td>0      </td><td>1      </td><td>1      </td><td>1      </td><td>1      </td><td>1      </td><td>1      </td><td>1      </td><td>1      </td><td>1      </td><td>1      </td><td>1      </td><td>1      </td><td>1      </td><td>1      </td><td>1      </td><td>1      </td><td>1      </td><td>1      </td><td>1      </td><td>1      </td><td>1      </td><td>1      </td><td>0      </td></tr>\n",
       "\t<tr><td>8      </td><td>9760630</td><td>0      </td><td> 2     </td><td>2      </td><td>201404 </td><td>999912 </td><td>201404 </td><td>202104 </td><td>999912 </td><td>999912 </td><td> 90    </td><td>2      </td><td> 7     </td><td>0      </td><td>1      </td><td>6      </td><td>1      </td><td>1      </td><td>1      </td><td>1      </td><td>1      </td><td>1      </td><td>1      </td><td>1      </td><td>1      </td><td>1      </td><td>1      </td><td>1      </td><td>1      </td><td>1      </td><td>1      </td><td>1      </td><td>1      </td><td>1      </td><td>1      </td><td>1      </td><td>1      </td><td>1      </td><td>1      </td><td>1      </td><td>1      </td><td>0      </td></tr>\n",
       "\t<tr><td>3      </td><td>3539890</td><td>0      </td><td> 4     </td><td>2      </td><td>201005 </td><td>999912 </td><td>201005 </td><td>203005 </td><td>999912 </td><td>999912 </td><td>  3    </td><td>2      </td><td>20     </td><td>0      </td><td>1      </td><td>1      </td><td>1      </td><td>1      </td><td>1      </td><td>1      </td><td>1      </td><td>1      </td><td>1      </td><td>1      </td><td>1      </td><td>1      </td><td>1      </td><td>1      </td><td>1      </td><td>1      </td><td>1      </td><td>1      </td><td>1      </td><td>1      </td><td>1      </td><td>1      </td><td>1      </td><td>1      </td><td>1      </td><td>1      </td><td>1      </td><td>1      </td></tr>\n",
       "</tbody>\n",
       "</table>\n"
      ],
      "text/latex": [
       "\\begin{tabular}{r|lllllllllllllllllllllllllllllllllllllllllll}\n",
       " SCTR\\_CD & POL\\_SN & IS\\_GRP\\_INS & INS\\_GBN\\_CD & INS\\_CT\\_STAT\\_CD & CT\\_CNCLS\\_DT & CT\\_TRMNT\\_DT & CT\\_ST\\_DT & CT\\_END\\_DT & CT\\_EFCTV\\_DT & CT\\_RST\\_DT & CT\\_PY\\_AMT & CT\\_PY\\_CYCLE\\_CD & CT\\_PY\\_PD & IS\\_CT\\_DIGNS & CT\\_JDGMT\\_CD & CT\\_CHNL\\_CD & YM\\_201806 & YM\\_201807 & YM\\_201808 & YM\\_201809 & YM\\_201810 & YM\\_201811 & YM\\_201812 & YM\\_201901 & YM\\_201902 & YM\\_201903 & YM\\_201904 & YM\\_201905 & YM\\_201906 & YM\\_201907 & YM\\_201908 & YM\\_201909 & YM\\_201910 & YM\\_201911 & YM\\_201912 & YM\\_202001 & YM\\_202002 & YM\\_202003 & YM\\_202004 & YM\\_202005 & YM\\_202006 & YM\\_202012\\\\\n",
       "\\hline\n",
       "\t 6       & 5051032 & 0       &  5      & 2       & 201611  & 999912  & 201611  & 203111  & 999912  & 999912  &  58     & 2       & 15      & 1       & 4       & 3       & 1       & 1       & 1       & 1       & 1       & 1       & 1       & 1       & 1       & 1       & 1       & 1       & 1       & 1       & 1       & 1       & 1       & 1       & 1       & 1       & 1       & 1       & 1       & 1       & 1       & 0      \\\\\n",
       "\t 8       & 5404984 & 0       & 10      & 2       & 201108  & 999912  & 201108  & 999912  & 999912  & 999912  &  65     & 2       & 10      & 0       & 1       & 1       & 1       & 1       & 1       & 1       & 1       & 1       & 1       & 1       & 1       & 1       & 1       & 1       & 1       & 1       & 1       & 1       & 1       & 1       & 1       & 1       & 1       & 1       & 1       & 1       & 1       & 1      \\\\\n",
       "\t 6       & 8606415 & 0       &  3      & 2       & 200612  & 999912  & 200612  & 203811  & 999912  & 999912  & 210     & 2       & 20      & 0       & 1       & 1       & 0       & 0       & 0       & 0       & 0       & 0       & 0       & 0       & 0       & 0       & 0       & 0       & 0       & 0       & 0       & 0       & 0       & 0       & 0       & 0       & 0       & 0       & 0       & 0       & 1       & 0      \\\\\n",
       "\t 6       & 9203625 & 0       & 13      & 2       & 201808  & 999912  & 201808  & 203808  & 999912  & 999912  &  15     & 2       & 10      & 0       & 1       & 7       & 0       & 0       & 0       & 1       & 1       & 1       & 1       & 1       & 1       & 1       & 1       & 1       & 1       & 1       & 1       & 1       & 1       & 1       & 1       & 1       & 1       & 1       & 1       & 1       & 1       & 0      \\\\\n",
       "\t 8       & 9760630 & 0       &  2      & 2       & 201404  & 999912  & 201404  & 202104  & 999912  & 999912  &  90     & 2       &  7      & 0       & 1       & 6       & 1       & 1       & 1       & 1       & 1       & 1       & 1       & 1       & 1       & 1       & 1       & 1       & 1       & 1       & 1       & 1       & 1       & 1       & 1       & 1       & 1       & 1       & 1       & 1       & 1       & 0      \\\\\n",
       "\t 3       & 3539890 & 0       &  4      & 2       & 201005  & 999912  & 201005  & 203005  & 999912  & 999912  &   3     & 2       & 20      & 0       & 1       & 1       & 1       & 1       & 1       & 1       & 1       & 1       & 1       & 1       & 1       & 1       & 1       & 1       & 1       & 1       & 1       & 1       & 1       & 1       & 1       & 1       & 1       & 1       & 1       & 1       & 1       & 1      \\\\\n",
       "\\end{tabular}\n"
      ],
      "text/markdown": [
       "\n",
       "| SCTR_CD | POL_SN | IS_GRP_INS | INS_GBN_CD | INS_CT_STAT_CD | CT_CNCLS_DT | CT_TRMNT_DT | CT_ST_DT | CT_END_DT | CT_EFCTV_DT | CT_RST_DT | CT_PY_AMT | CT_PY_CYCLE_CD | CT_PY_PD | IS_CT_DIGNS | CT_JDGMT_CD | CT_CHNL_CD | YM_201806 | YM_201807 | YM_201808 | YM_201809 | YM_201810 | YM_201811 | YM_201812 | YM_201901 | YM_201902 | YM_201903 | YM_201904 | YM_201905 | YM_201906 | YM_201907 | YM_201908 | YM_201909 | YM_201910 | YM_201911 | YM_201912 | YM_202001 | YM_202002 | YM_202003 | YM_202004 | YM_202005 | YM_202006 | YM_202012 |\n",
       "|---|---|---|---|---|---|---|---|---|---|---|---|---|---|---|---|---|---|---|---|---|---|---|---|---|---|---|---|---|---|---|---|---|---|---|---|---|---|---|---|---|---|---|\n",
       "| 6       | 5051032 | 0       |  5      | 2       | 201611  | 999912  | 201611  | 203111  | 999912  | 999912  |  58     | 2       | 15      | 1       | 4       | 3       | 1       | 1       | 1       | 1       | 1       | 1       | 1       | 1       | 1       | 1       | 1       | 1       | 1       | 1       | 1       | 1       | 1       | 1       | 1       | 1       | 1       | 1       | 1       | 1       | 1       | 0       |\n",
       "| 8       | 5404984 | 0       | 10      | 2       | 201108  | 999912  | 201108  | 999912  | 999912  | 999912  |  65     | 2       | 10      | 0       | 1       | 1       | 1       | 1       | 1       | 1       | 1       | 1       | 1       | 1       | 1       | 1       | 1       | 1       | 1       | 1       | 1       | 1       | 1       | 1       | 1       | 1       | 1       | 1       | 1       | 1       | 1       | 1       |\n",
       "| 6       | 8606415 | 0       |  3      | 2       | 200612  | 999912  | 200612  | 203811  | 999912  | 999912  | 210     | 2       | 20      | 0       | 1       | 1       | 0       | 0       | 0       | 0       | 0       | 0       | 0       | 0       | 0       | 0       | 0       | 0       | 0       | 0       | 0       | 0       | 0       | 0       | 0       | 0       | 0       | 0       | 0       | 0       | 1       | 0       |\n",
       "| 6       | 9203625 | 0       | 13      | 2       | 201808  | 999912  | 201808  | 203808  | 999912  | 999912  |  15     | 2       | 10      | 0       | 1       | 7       | 0       | 0       | 0       | 1       | 1       | 1       | 1       | 1       | 1       | 1       | 1       | 1       | 1       | 1       | 1       | 1       | 1       | 1       | 1       | 1       | 1       | 1       | 1       | 1       | 1       | 0       |\n",
       "| 8       | 9760630 | 0       |  2      | 2       | 201404  | 999912  | 201404  | 202104  | 999912  | 999912  |  90     | 2       |  7      | 0       | 1       | 6       | 1       | 1       | 1       | 1       | 1       | 1       | 1       | 1       | 1       | 1       | 1       | 1       | 1       | 1       | 1       | 1       | 1       | 1       | 1       | 1       | 1       | 1       | 1       | 1       | 1       | 0       |\n",
       "| 3       | 3539890 | 0       |  4      | 2       | 201005  | 999912  | 201005  | 203005  | 999912  | 999912  |   3     | 2       | 20      | 0       | 1       | 1       | 1       | 1       | 1       | 1       | 1       | 1       | 1       | 1       | 1       | 1       | 1       | 1       | 1       | 1       | 1       | 1       | 1       | 1       | 1       | 1       | 1       | 1       | 1       | 1       | 1       | 1       |\n",
       "\n"
      ],
      "text/plain": [
       "  SCTR_CD POL_SN  IS_GRP_INS INS_GBN_CD INS_CT_STAT_CD CT_CNCLS_DT CT_TRMNT_DT\n",
       "1 6       5051032 0           5         2              201611      999912     \n",
       "2 8       5404984 0          10         2              201108      999912     \n",
       "3 6       8606415 0           3         2              200612      999912     \n",
       "4 6       9203625 0          13         2              201808      999912     \n",
       "5 8       9760630 0           2         2              201404      999912     \n",
       "6 3       3539890 0           4         2              201005      999912     \n",
       "  CT_ST_DT CT_END_DT CT_EFCTV_DT CT_RST_DT CT_PY_AMT CT_PY_CYCLE_CD CT_PY_PD\n",
       "1 201611   203111    999912      999912     58       2              15      \n",
       "2 201108   999912    999912      999912     65       2              10      \n",
       "3 200612   203811    999912      999912    210       2              20      \n",
       "4 201808   203808    999912      999912     15       2              10      \n",
       "5 201404   202104    999912      999912     90       2               7      \n",
       "6 201005   203005    999912      999912      3       2              20      \n",
       "  IS_CT_DIGNS CT_JDGMT_CD CT_CHNL_CD YM_201806 YM_201807 YM_201808 YM_201809\n",
       "1 1           4           3          1         1         1         1        \n",
       "2 0           1           1          1         1         1         1        \n",
       "3 0           1           1          0         0         0         0        \n",
       "4 0           1           7          0         0         0         1        \n",
       "5 0           1           6          1         1         1         1        \n",
       "6 0           1           1          1         1         1         1        \n",
       "  YM_201810 YM_201811 YM_201812 YM_201901 YM_201902 YM_201903 YM_201904\n",
       "1 1         1         1         1         1         1         1        \n",
       "2 1         1         1         1         1         1         1        \n",
       "3 0         0         0         0         0         0         0        \n",
       "4 1         1         1         1         1         1         1        \n",
       "5 1         1         1         1         1         1         1        \n",
       "6 1         1         1         1         1         1         1        \n",
       "  YM_201905 YM_201906 YM_201907 YM_201908 YM_201909 YM_201910 YM_201911\n",
       "1 1         1         1         1         1         1         1        \n",
       "2 1         1         1         1         1         1         1        \n",
       "3 0         0         0         0         0         0         0        \n",
       "4 1         1         1         1         1         1         1        \n",
       "5 1         1         1         1         1         1         1        \n",
       "6 1         1         1         1         1         1         1        \n",
       "  YM_201912 YM_202001 YM_202002 YM_202003 YM_202004 YM_202005 YM_202006\n",
       "1 1         1         1         1         1         1         1        \n",
       "2 1         1         1         1         1         1         1        \n",
       "3 0         0         0         0         0         0         1        \n",
       "4 1         1         1         1         1         1         1        \n",
       "5 1         1         1         1         1         1         1        \n",
       "6 1         1         1         1         1         1         1        \n",
       "  YM_202012\n",
       "1 0        \n",
       "2 1        \n",
       "3 0        \n",
       "4 0        \n",
       "5 0        \n",
       "6 1        "
      ]
     },
     "metadata": {},
     "output_type": "display_data"
    }
   ],
   "source": [
    "# dplyr\n",
    "CONT1 <- CONT %>% filter(YM_202006 == 1 & INS_CT_STAT_CD == 2)\n",
    "print('dplyr')\n",
    "head(CONT1)\n",
    "\n",
    "# data.table\n",
    "CONT_dt <- setDT(CONT)\n",
    "CONT_dt1 <- CONT_dt[YM_202006 == 1 & INS_CT_STAT_CD == 2]\n",
    "print('data.table')\n",
    "head(CONT_dt1)"
   ]
  },
  {
   "cell_type": "code",
   "execution_count": 517,
   "metadata": {},
   "outputs": [
    {
     "data": {
      "text/html": [
       "<table>\n",
       "<thead><tr><th scope=col>POL_SN</th><th scope=col>SCTR_CD</th><th scope=col>IS_GRP_INS</th><th scope=col>INS_GBN_CD</th><th scope=col>INS_CT_STAT_CD</th><th scope=col>CT_CNCLS_DT</th><th scope=col>CT_TRMNT_DT</th><th scope=col>CT_ST_DT</th><th scope=col>CT_END_DT</th><th scope=col>CT_EFCTV_DT</th><th scope=col>CT_RST_DT</th><th scope=col>CT_PY_AMT</th><th scope=col>CT_PY_CYCLE_CD</th><th scope=col>CT_PY_PD</th><th scope=col>IS_CT_DIGNS</th><th scope=col>CT_JDGMT_CD</th><th scope=col>CT_CHNL_CD</th><th scope=col>YM_201806</th><th scope=col>YM_201807</th><th scope=col>YM_201808</th><th scope=col>YM_201809</th><th scope=col>YM_201810</th><th scope=col>YM_201811</th><th scope=col>YM_201812</th><th scope=col>YM_201901</th><th scope=col>YM_201902</th><th scope=col>YM_201903</th><th scope=col>YM_201904</th><th scope=col>YM_201905</th><th scope=col>YM_201906</th><th scope=col>YM_201907</th><th scope=col>YM_201908</th><th scope=col>YM_201909</th><th scope=col>YM_201910</th><th scope=col>YM_201911</th><th scope=col>YM_201912</th><th scope=col>YM_202001</th><th scope=col>YM_202002</th><th scope=col>YM_202003</th><th scope=col>YM_202004</th><th scope=col>YM_202005</th><th scope=col>YM_202006</th><th scope=col>YM_202012</th></tr></thead>\n",
       "<tbody>\n",
       "\t<tr><td> 501066</td><td>6      </td><td>1      </td><td>4      </td><td>2      </td><td>202002 </td><td>999912 </td><td>202001 </td><td>202101 </td><td>999912 </td><td>999912 </td><td>1000   </td><td>1      </td><td>0      </td><td>0      </td><td>1      </td><td>3      </td><td>0      </td><td>0      </td><td>0      </td><td>0      </td><td>0      </td><td>0      </td><td>0      </td><td>0      </td><td>0      </td><td>0      </td><td>0      </td><td>0      </td><td>0      </td><td>0      </td><td>0      </td><td>0      </td><td>0      </td><td>0      </td><td>0      </td><td>0      </td><td>1      </td><td>1      </td><td>1      </td><td>1      </td><td>1      </td><td>0      </td></tr>\n",
       "\t<tr><td> 501066</td><td>6      </td><td>1      </td><td>4      </td><td>2      </td><td>202006 </td><td>999912 </td><td>202005 </td><td>202105 </td><td>999912 </td><td>999912 </td><td>1000   </td><td>1      </td><td>0      </td><td>0      </td><td>1      </td><td>3      </td><td>0      </td><td>0      </td><td>0      </td><td>0      </td><td>0      </td><td>0      </td><td>0      </td><td>0      </td><td>0      </td><td>0      </td><td>0      </td><td>0      </td><td>0      </td><td>0      </td><td>0      </td><td>0      </td><td>0      </td><td>0      </td><td>0      </td><td>0      </td><td>0      </td><td>0      </td><td>0      </td><td>0      </td><td>1      </td><td>0      </td></tr>\n",
       "\t<tr><td> 501066</td><td>6      </td><td>1      </td><td>4      </td><td>2      </td><td>202003 </td><td>999912 </td><td>202002 </td><td>202102 </td><td>999912 </td><td>999912 </td><td>1000   </td><td>1      </td><td>0      </td><td>0      </td><td>1      </td><td>3      </td><td>0      </td><td>0      </td><td>0      </td><td>0      </td><td>0      </td><td>0      </td><td>0      </td><td>0      </td><td>0      </td><td>0      </td><td>0      </td><td>0      </td><td>0      </td><td>0      </td><td>0      </td><td>0      </td><td>0      </td><td>0      </td><td>0      </td><td>0      </td><td>0      </td><td>1      </td><td>1      </td><td>1      </td><td>1      </td><td>1      </td></tr>\n",
       "\t<tr><td> 501066</td><td>6      </td><td>1      </td><td>4      </td><td>2      </td><td>202005 </td><td>999912 </td><td>202004 </td><td>202104 </td><td>999912 </td><td>999912 </td><td>1000   </td><td>1      </td><td>0      </td><td>0      </td><td>1      </td><td>3      </td><td>0      </td><td>0      </td><td>0      </td><td>0      </td><td>0      </td><td>0      </td><td>0      </td><td>0      </td><td>0      </td><td>0      </td><td>0      </td><td>0      </td><td>0      </td><td>0      </td><td>0      </td><td>0      </td><td>0      </td><td>0      </td><td>0      </td><td>0      </td><td>0      </td><td>0      </td><td>0      </td><td>1      </td><td>1      </td><td>1      </td></tr>\n",
       "\t<tr><td> 501066</td><td>6      </td><td>1      </td><td>4      </td><td>2      </td><td>202004 </td><td>999912 </td><td>202003 </td><td>202103 </td><td>999912 </td><td>999912 </td><td>1000   </td><td>1      </td><td>0      </td><td>0      </td><td>1      </td><td>3      </td><td>0      </td><td>0      </td><td>0      </td><td>0      </td><td>0      </td><td>0      </td><td>0      </td><td>0      </td><td>0      </td><td>0      </td><td>0      </td><td>0      </td><td>0      </td><td>0      </td><td>0      </td><td>0      </td><td>0      </td><td>0      </td><td>0      </td><td>0      </td><td>0      </td><td>0      </td><td>1      </td><td>1      </td><td>1      </td><td>1      </td></tr>\n",
       "\t<tr><td>1471200</td><td>6      </td><td>1      </td><td>4      </td><td>2      </td><td>202005 </td><td>999912 </td><td>202004 </td><td>202104 </td><td>999912 </td><td>999912 </td><td>1000   </td><td>1      </td><td>0      </td><td>0      </td><td>1      </td><td>3      </td><td>0      </td><td>0      </td><td>0      </td><td>0      </td><td>0      </td><td>0      </td><td>0      </td><td>0      </td><td>0      </td><td>0      </td><td>0      </td><td>0      </td><td>0      </td><td>0      </td><td>0      </td><td>0      </td><td>0      </td><td>0      </td><td>0      </td><td>0      </td><td>0      </td><td>0      </td><td>0      </td><td>1      </td><td>1      </td><td>0      </td></tr>\n",
       "</tbody>\n",
       "</table>\n"
      ],
      "text/latex": [
       "\\begin{tabular}{r|lllllllllllllllllllllllllllllllllllllllllll}\n",
       " POL\\_SN & SCTR\\_CD & IS\\_GRP\\_INS & INS\\_GBN\\_CD & INS\\_CT\\_STAT\\_CD & CT\\_CNCLS\\_DT & CT\\_TRMNT\\_DT & CT\\_ST\\_DT & CT\\_END\\_DT & CT\\_EFCTV\\_DT & CT\\_RST\\_DT & CT\\_PY\\_AMT & CT\\_PY\\_CYCLE\\_CD & CT\\_PY\\_PD & IS\\_CT\\_DIGNS & CT\\_JDGMT\\_CD & CT\\_CHNL\\_CD & YM\\_201806 & YM\\_201807 & YM\\_201808 & YM\\_201809 & YM\\_201810 & YM\\_201811 & YM\\_201812 & YM\\_201901 & YM\\_201902 & YM\\_201903 & YM\\_201904 & YM\\_201905 & YM\\_201906 & YM\\_201907 & YM\\_201908 & YM\\_201909 & YM\\_201910 & YM\\_201911 & YM\\_201912 & YM\\_202001 & YM\\_202002 & YM\\_202003 & YM\\_202004 & YM\\_202005 & YM\\_202006 & YM\\_202012\\\\\n",
       "\\hline\n",
       "\t  501066 & 6       & 1       & 4       & 2       & 202002  & 999912  & 202001  & 202101  & 999912  & 999912  & 1000    & 1       & 0       & 0       & 1       & 3       & 0       & 0       & 0       & 0       & 0       & 0       & 0       & 0       & 0       & 0       & 0       & 0       & 0       & 0       & 0       & 0       & 0       & 0       & 0       & 0       & 1       & 1       & 1       & 1       & 1       & 0      \\\\\n",
       "\t  501066 & 6       & 1       & 4       & 2       & 202006  & 999912  & 202005  & 202105  & 999912  & 999912  & 1000    & 1       & 0       & 0       & 1       & 3       & 0       & 0       & 0       & 0       & 0       & 0       & 0       & 0       & 0       & 0       & 0       & 0       & 0       & 0       & 0       & 0       & 0       & 0       & 0       & 0       & 0       & 0       & 0       & 0       & 1       & 0      \\\\\n",
       "\t  501066 & 6       & 1       & 4       & 2       & 202003  & 999912  & 202002  & 202102  & 999912  & 999912  & 1000    & 1       & 0       & 0       & 1       & 3       & 0       & 0       & 0       & 0       & 0       & 0       & 0       & 0       & 0       & 0       & 0       & 0       & 0       & 0       & 0       & 0       & 0       & 0       & 0       & 0       & 0       & 1       & 1       & 1       & 1       & 1      \\\\\n",
       "\t  501066 & 6       & 1       & 4       & 2       & 202005  & 999912  & 202004  & 202104  & 999912  & 999912  & 1000    & 1       & 0       & 0       & 1       & 3       & 0       & 0       & 0       & 0       & 0       & 0       & 0       & 0       & 0       & 0       & 0       & 0       & 0       & 0       & 0       & 0       & 0       & 0       & 0       & 0       & 0       & 0       & 0       & 1       & 1       & 1      \\\\\n",
       "\t  501066 & 6       & 1       & 4       & 2       & 202004  & 999912  & 202003  & 202103  & 999912  & 999912  & 1000    & 1       & 0       & 0       & 1       & 3       & 0       & 0       & 0       & 0       & 0       & 0       & 0       & 0       & 0       & 0       & 0       & 0       & 0       & 0       & 0       & 0       & 0       & 0       & 0       & 0       & 0       & 0       & 1       & 1       & 1       & 1      \\\\\n",
       "\t 1471200 & 6       & 1       & 4       & 2       & 202005  & 999912  & 202004  & 202104  & 999912  & 999912  & 1000    & 1       & 0       & 0       & 1       & 3       & 0       & 0       & 0       & 0       & 0       & 0       & 0       & 0       & 0       & 0       & 0       & 0       & 0       & 0       & 0       & 0       & 0       & 0       & 0       & 0       & 0       & 0       & 0       & 1       & 1       & 0      \\\\\n",
       "\\end{tabular}\n"
      ],
      "text/markdown": [
       "\n",
       "| POL_SN | SCTR_CD | IS_GRP_INS | INS_GBN_CD | INS_CT_STAT_CD | CT_CNCLS_DT | CT_TRMNT_DT | CT_ST_DT | CT_END_DT | CT_EFCTV_DT | CT_RST_DT | CT_PY_AMT | CT_PY_CYCLE_CD | CT_PY_PD | IS_CT_DIGNS | CT_JDGMT_CD | CT_CHNL_CD | YM_201806 | YM_201807 | YM_201808 | YM_201809 | YM_201810 | YM_201811 | YM_201812 | YM_201901 | YM_201902 | YM_201903 | YM_201904 | YM_201905 | YM_201906 | YM_201907 | YM_201908 | YM_201909 | YM_201910 | YM_201911 | YM_201912 | YM_202001 | YM_202002 | YM_202003 | YM_202004 | YM_202005 | YM_202006 | YM_202012 |\n",
       "|---|---|---|---|---|---|---|---|---|---|---|---|---|---|---|---|---|---|---|---|---|---|---|---|---|---|---|---|---|---|---|---|---|---|---|---|---|---|---|---|---|---|---|\n",
       "|  501066 | 6       | 1       | 4       | 2       | 202002  | 999912  | 202001  | 202101  | 999912  | 999912  | 1000    | 1       | 0       | 0       | 1       | 3       | 0       | 0       | 0       | 0       | 0       | 0       | 0       | 0       | 0       | 0       | 0       | 0       | 0       | 0       | 0       | 0       | 0       | 0       | 0       | 0       | 1       | 1       | 1       | 1       | 1       | 0       |\n",
       "|  501066 | 6       | 1       | 4       | 2       | 202006  | 999912  | 202005  | 202105  | 999912  | 999912  | 1000    | 1       | 0       | 0       | 1       | 3       | 0       | 0       | 0       | 0       | 0       | 0       | 0       | 0       | 0       | 0       | 0       | 0       | 0       | 0       | 0       | 0       | 0       | 0       | 0       | 0       | 0       | 0       | 0       | 0       | 1       | 0       |\n",
       "|  501066 | 6       | 1       | 4       | 2       | 202003  | 999912  | 202002  | 202102  | 999912  | 999912  | 1000    | 1       | 0       | 0       | 1       | 3       | 0       | 0       | 0       | 0       | 0       | 0       | 0       | 0       | 0       | 0       | 0       | 0       | 0       | 0       | 0       | 0       | 0       | 0       | 0       | 0       | 0       | 1       | 1       | 1       | 1       | 1       |\n",
       "|  501066 | 6       | 1       | 4       | 2       | 202005  | 999912  | 202004  | 202104  | 999912  | 999912  | 1000    | 1       | 0       | 0       | 1       | 3       | 0       | 0       | 0       | 0       | 0       | 0       | 0       | 0       | 0       | 0       | 0       | 0       | 0       | 0       | 0       | 0       | 0       | 0       | 0       | 0       | 0       | 0       | 0       | 1       | 1       | 1       |\n",
       "|  501066 | 6       | 1       | 4       | 2       | 202004  | 999912  | 202003  | 202103  | 999912  | 999912  | 1000    | 1       | 0       | 0       | 1       | 3       | 0       | 0       | 0       | 0       | 0       | 0       | 0       | 0       | 0       | 0       | 0       | 0       | 0       | 0       | 0       | 0       | 0       | 0       | 0       | 0       | 0       | 0       | 1       | 1       | 1       | 1       |\n",
       "| 1471200 | 6       | 1       | 4       | 2       | 202005  | 999912  | 202004  | 202104  | 999912  | 999912  | 1000    | 1       | 0       | 0       | 1       | 3       | 0       | 0       | 0       | 0       | 0       | 0       | 0       | 0       | 0       | 0       | 0       | 0       | 0       | 0       | 0       | 0       | 0       | 0       | 0       | 0       | 0       | 0       | 0       | 1       | 1       | 0       |\n",
       "\n"
      ],
      "text/plain": [
       "  POL_SN  SCTR_CD IS_GRP_INS INS_GBN_CD INS_CT_STAT_CD CT_CNCLS_DT CT_TRMNT_DT\n",
       "1  501066 6       1          4          2              202002      999912     \n",
       "2  501066 6       1          4          2              202006      999912     \n",
       "3  501066 6       1          4          2              202003      999912     \n",
       "4  501066 6       1          4          2              202005      999912     \n",
       "5  501066 6       1          4          2              202004      999912     \n",
       "6 1471200 6       1          4          2              202005      999912     \n",
       "  CT_ST_DT CT_END_DT CT_EFCTV_DT CT_RST_DT CT_PY_AMT CT_PY_CYCLE_CD CT_PY_PD\n",
       "1 202001   202101    999912      999912    1000      1              0       \n",
       "2 202005   202105    999912      999912    1000      1              0       \n",
       "3 202002   202102    999912      999912    1000      1              0       \n",
       "4 202004   202104    999912      999912    1000      1              0       \n",
       "5 202003   202103    999912      999912    1000      1              0       \n",
       "6 202004   202104    999912      999912    1000      1              0       \n",
       "  IS_CT_DIGNS CT_JDGMT_CD CT_CHNL_CD YM_201806 YM_201807 YM_201808 YM_201809\n",
       "1 0           1           3          0         0         0         0        \n",
       "2 0           1           3          0         0         0         0        \n",
       "3 0           1           3          0         0         0         0        \n",
       "4 0           1           3          0         0         0         0        \n",
       "5 0           1           3          0         0         0         0        \n",
       "6 0           1           3          0         0         0         0        \n",
       "  YM_201810 YM_201811 YM_201812 YM_201901 YM_201902 YM_201903 YM_201904\n",
       "1 0         0         0         0         0         0         0        \n",
       "2 0         0         0         0         0         0         0        \n",
       "3 0         0         0         0         0         0         0        \n",
       "4 0         0         0         0         0         0         0        \n",
       "5 0         0         0         0         0         0         0        \n",
       "6 0         0         0         0         0         0         0        \n",
       "  YM_201905 YM_201906 YM_201907 YM_201908 YM_201909 YM_201910 YM_201911\n",
       "1 0         0         0         0         0         0         0        \n",
       "2 0         0         0         0         0         0         0        \n",
       "3 0         0         0         0         0         0         0        \n",
       "4 0         0         0         0         0         0         0        \n",
       "5 0         0         0         0         0         0         0        \n",
       "6 0         0         0         0         0         0         0        \n",
       "  YM_201912 YM_202001 YM_202002 YM_202003 YM_202004 YM_202005 YM_202006\n",
       "1 0         0         1         1         1         1         1        \n",
       "2 0         0         0         0         0         0         1        \n",
       "3 0         0         0         1         1         1         1        \n",
       "4 0         0         0         0         0         1         1        \n",
       "5 0         0         0         0         1         1         1        \n",
       "6 0         0         0         0         0         1         1        \n",
       "  YM_202012\n",
       "1 0        \n",
       "2 0        \n",
       "3 1        \n",
       "4 1        \n",
       "5 1        \n",
       "6 0        "
      ]
     },
     "metadata": {},
     "output_type": "display_data"
    }
   ],
   "source": [
    "head(setDT(CONT1)[order(POL_SN)][, if(.N >4) .SD, by = POL_SN])"
   ]
  },
  {
   "cell_type": "markdown",
   "metadata": {},
   "source": [
    "### YM_202006 == 1 & 상태코드 정상 & 최근보험시기월 중 보험료가 큰 index"
   ]
  },
  {
   "cell_type": "code",
   "execution_count": 525,
   "metadata": {},
   "outputs": [
    {
     "name": "stdout",
     "output_type": "stream",
     "text": [
      "[1] \"POL_SN -> unique\"\n"
     ]
    },
    {
     "data": {
      "text/html": [
       "11493"
      ],
      "text/latex": [
       "11493"
      ],
      "text/markdown": [
       "11493"
      ],
      "text/plain": [
       "[1] 11493"
      ]
     },
     "metadata": {},
     "output_type": "display_data"
    },
    {
     "data": {
      "text/html": [
       "11493"
      ],
      "text/latex": [
       "11493"
      ],
      "text/markdown": [
       "11493"
      ],
      "text/plain": [
       "[1] 11493"
      ]
     },
     "metadata": {},
     "output_type": "display_data"
    }
   ],
   "source": [
    "CONT1_1 <- setDT(CONT1)\n",
    "\n",
    "CONT1_2 <- CONT1_1[CONT1_1[, .I[CT_ST_DT == max(CT_ST_DT)], by=POL_SN]$V1]\n",
    "CONT1_3 <- CONT1_2[CONT1_2[, .I[CT_PY_AMT == max(CT_PY_AMT)], by=POL_SN]$V1]\n",
    "\n",
    "print('POL_SN -> unique')\n",
    "n_distinct(CONT1_3$POL_SN)\n",
    "nrow(CONT1_3)"
   ]
  },
  {
   "cell_type": "code",
   "execution_count": 526,
   "metadata": {},
   "outputs": [
    {
     "name": "stdout",
     "output_type": "stream",
     "text": [
      "[1] \"dplyr\"\n"
     ]
    },
    {
     "data": {
      "text/html": [
       "<table>\n",
       "<thead><tr><th scope=col>POL_SN</th><th scope=col>SCTR_CD</th><th scope=col>IS_GRP_INS</th><th scope=col>INS_GBN_CD</th><th scope=col>INS_CT_STAT_CD</th><th scope=col>CT_CNCLS_DT</th><th scope=col>CT_EFCTV_DT</th><th scope=col>CT_PY_AMT</th><th scope=col>CT_PY_PD</th><th scope=col>CT_PY_CYCLE_CD</th><th scope=col>CT_CHNL_CD</th></tr></thead>\n",
       "<tbody>\n",
       "\t<tr><td>5051032</td><td>6      </td><td>0      </td><td> 5     </td><td>2      </td><td>201611 </td><td>999912 </td><td> 58    </td><td>15     </td><td>2      </td><td>3      </td></tr>\n",
       "\t<tr><td>5404984</td><td>8      </td><td>0      </td><td>10     </td><td>2      </td><td>201108 </td><td>999912 </td><td> 65    </td><td>10     </td><td>2      </td><td>1      </td></tr>\n",
       "\t<tr><td>8606415</td><td>6      </td><td>0      </td><td> 3     </td><td>2      </td><td>200612 </td><td>999912 </td><td>210    </td><td>20     </td><td>2      </td><td>1      </td></tr>\n",
       "\t<tr><td>9203625</td><td>6      </td><td>0      </td><td>13     </td><td>2      </td><td>201808 </td><td>999912 </td><td> 15    </td><td>10     </td><td>2      </td><td>7      </td></tr>\n",
       "\t<tr><td>9760630</td><td>8      </td><td>0      </td><td> 2     </td><td>2      </td><td>201404 </td><td>999912 </td><td> 90    </td><td> 7     </td><td>2      </td><td>6      </td></tr>\n",
       "\t<tr><td>3539890</td><td>3      </td><td>0      </td><td> 4     </td><td>2      </td><td>201005 </td><td>999912 </td><td>  3    </td><td>20     </td><td>2      </td><td>1      </td></tr>\n",
       "</tbody>\n",
       "</table>\n"
      ],
      "text/latex": [
       "\\begin{tabular}{r|lllllllllll}\n",
       " POL\\_SN & SCTR\\_CD & IS\\_GRP\\_INS & INS\\_GBN\\_CD & INS\\_CT\\_STAT\\_CD & CT\\_CNCLS\\_DT & CT\\_EFCTV\\_DT & CT\\_PY\\_AMT & CT\\_PY\\_PD & CT\\_PY\\_CYCLE\\_CD & CT\\_CHNL\\_CD\\\\\n",
       "\\hline\n",
       "\t 5051032 & 6       & 0       &  5      & 2       & 201611  & 999912  &  58     & 15      & 2       & 3      \\\\\n",
       "\t 5404984 & 8       & 0       & 10      & 2       & 201108  & 999912  &  65     & 10      & 2       & 1      \\\\\n",
       "\t 8606415 & 6       & 0       &  3      & 2       & 200612  & 999912  & 210     & 20      & 2       & 1      \\\\\n",
       "\t 9203625 & 6       & 0       & 13      & 2       & 201808  & 999912  &  15     & 10      & 2       & 7      \\\\\n",
       "\t 9760630 & 8       & 0       &  2      & 2       & 201404  & 999912  &  90     &  7      & 2       & 6      \\\\\n",
       "\t 3539890 & 3       & 0       &  4      & 2       & 201005  & 999912  &   3     & 20      & 2       & 1      \\\\\n",
       "\\end{tabular}\n"
      ],
      "text/markdown": [
       "\n",
       "| POL_SN | SCTR_CD | IS_GRP_INS | INS_GBN_CD | INS_CT_STAT_CD | CT_CNCLS_DT | CT_EFCTV_DT | CT_PY_AMT | CT_PY_PD | CT_PY_CYCLE_CD | CT_CHNL_CD |\n",
       "|---|---|---|---|---|---|---|---|---|---|---|\n",
       "| 5051032 | 6       | 0       |  5      | 2       | 201611  | 999912  |  58     | 15      | 2       | 3       |\n",
       "| 5404984 | 8       | 0       | 10      | 2       | 201108  | 999912  |  65     | 10      | 2       | 1       |\n",
       "| 8606415 | 6       | 0       |  3      | 2       | 200612  | 999912  | 210     | 20      | 2       | 1       |\n",
       "| 9203625 | 6       | 0       | 13      | 2       | 201808  | 999912  |  15     | 10      | 2       | 7       |\n",
       "| 9760630 | 8       | 0       |  2      | 2       | 201404  | 999912  |  90     |  7      | 2       | 6       |\n",
       "| 3539890 | 3       | 0       |  4      | 2       | 201005  | 999912  |   3     | 20      | 2       | 1       |\n",
       "\n"
      ],
      "text/plain": [
       "  POL_SN  SCTR_CD IS_GRP_INS INS_GBN_CD INS_CT_STAT_CD CT_CNCLS_DT CT_EFCTV_DT\n",
       "1 5051032 6       0           5         2              201611      999912     \n",
       "2 5404984 8       0          10         2              201108      999912     \n",
       "3 8606415 6       0           3         2              200612      999912     \n",
       "4 9203625 6       0          13         2              201808      999912     \n",
       "5 9760630 8       0           2         2              201404      999912     \n",
       "6 3539890 3       0           4         2              201005      999912     \n",
       "  CT_PY_AMT CT_PY_PD CT_PY_CYCLE_CD CT_CHNL_CD\n",
       "1  58       15       2              3         \n",
       "2  65       10       2              1         \n",
       "3 210       20       2              1         \n",
       "4  15       10       2              7         \n",
       "5  90        7       2              6         \n",
       "6   3       20       2              1         "
      ]
     },
     "metadata": {},
     "output_type": "display_data"
    },
    {
     "name": "stdout",
     "output_type": "stream",
     "text": [
      "[1] \"data.table\"\n"
     ]
    },
    {
     "data": {
      "text/html": [
       "<table>\n",
       "<thead><tr><th scope=col>POL_SN</th><th scope=col>SCTR_CD</th><th scope=col>IS_GRP_INS</th><th scope=col>INS_GBN_CD</th><th scope=col>INS_CT_STAT_CD</th><th scope=col>CT_CNCLS_DT</th><th scope=col>CT_EFCTV_DT</th><th scope=col>CT_PY_AMT</th><th scope=col>CT_PY_PD</th><th scope=col>CT_PY_CYCLE_CD</th><th scope=col>CT_CHNL_CD</th></tr></thead>\n",
       "<tbody>\n",
       "\t<tr><td>5051032</td><td>6      </td><td>0      </td><td> 5     </td><td>2      </td><td>201611 </td><td>999912 </td><td> 58    </td><td>15     </td><td>2      </td><td>3      </td></tr>\n",
       "\t<tr><td>5404984</td><td>8      </td><td>0      </td><td>10     </td><td>2      </td><td>201108 </td><td>999912 </td><td> 65    </td><td>10     </td><td>2      </td><td>1      </td></tr>\n",
       "\t<tr><td>8606415</td><td>6      </td><td>0      </td><td> 3     </td><td>2      </td><td>200612 </td><td>999912 </td><td>210    </td><td>20     </td><td>2      </td><td>1      </td></tr>\n",
       "\t<tr><td>9203625</td><td>6      </td><td>0      </td><td>13     </td><td>2      </td><td>201808 </td><td>999912 </td><td> 15    </td><td>10     </td><td>2      </td><td>7      </td></tr>\n",
       "\t<tr><td>9760630</td><td>8      </td><td>0      </td><td> 2     </td><td>2      </td><td>201404 </td><td>999912 </td><td> 90    </td><td> 7     </td><td>2      </td><td>6      </td></tr>\n",
       "\t<tr><td>3539890</td><td>3      </td><td>0      </td><td> 4     </td><td>2      </td><td>201005 </td><td>999912 </td><td>  3    </td><td>20     </td><td>2      </td><td>1      </td></tr>\n",
       "</tbody>\n",
       "</table>\n"
      ],
      "text/latex": [
       "\\begin{tabular}{r|lllllllllll}\n",
       " POL\\_SN & SCTR\\_CD & IS\\_GRP\\_INS & INS\\_GBN\\_CD & INS\\_CT\\_STAT\\_CD & CT\\_CNCLS\\_DT & CT\\_EFCTV\\_DT & CT\\_PY\\_AMT & CT\\_PY\\_PD & CT\\_PY\\_CYCLE\\_CD & CT\\_CHNL\\_CD\\\\\n",
       "\\hline\n",
       "\t 5051032 & 6       & 0       &  5      & 2       & 201611  & 999912  &  58     & 15      & 2       & 3      \\\\\n",
       "\t 5404984 & 8       & 0       & 10      & 2       & 201108  & 999912  &  65     & 10      & 2       & 1      \\\\\n",
       "\t 8606415 & 6       & 0       &  3      & 2       & 200612  & 999912  & 210     & 20      & 2       & 1      \\\\\n",
       "\t 9203625 & 6       & 0       & 13      & 2       & 201808  & 999912  &  15     & 10      & 2       & 7      \\\\\n",
       "\t 9760630 & 8       & 0       &  2      & 2       & 201404  & 999912  &  90     &  7      & 2       & 6      \\\\\n",
       "\t 3539890 & 3       & 0       &  4      & 2       & 201005  & 999912  &   3     & 20      & 2       & 1      \\\\\n",
       "\\end{tabular}\n"
      ],
      "text/markdown": [
       "\n",
       "| POL_SN | SCTR_CD | IS_GRP_INS | INS_GBN_CD | INS_CT_STAT_CD | CT_CNCLS_DT | CT_EFCTV_DT | CT_PY_AMT | CT_PY_PD | CT_PY_CYCLE_CD | CT_CHNL_CD |\n",
       "|---|---|---|---|---|---|---|---|---|---|---|\n",
       "| 5051032 | 6       | 0       |  5      | 2       | 201611  | 999912  |  58     | 15      | 2       | 3       |\n",
       "| 5404984 | 8       | 0       | 10      | 2       | 201108  | 999912  |  65     | 10      | 2       | 1       |\n",
       "| 8606415 | 6       | 0       |  3      | 2       | 200612  | 999912  | 210     | 20      | 2       | 1       |\n",
       "| 9203625 | 6       | 0       | 13      | 2       | 201808  | 999912  |  15     | 10      | 2       | 7       |\n",
       "| 9760630 | 8       | 0       |  2      | 2       | 201404  | 999912  |  90     |  7      | 2       | 6       |\n",
       "| 3539890 | 3       | 0       |  4      | 2       | 201005  | 999912  |   3     | 20      | 2       | 1       |\n",
       "\n"
      ],
      "text/plain": [
       "  POL_SN  SCTR_CD IS_GRP_INS INS_GBN_CD INS_CT_STAT_CD CT_CNCLS_DT CT_EFCTV_DT\n",
       "1 5051032 6       0           5         2              201611      999912     \n",
       "2 5404984 8       0          10         2              201108      999912     \n",
       "3 8606415 6       0           3         2              200612      999912     \n",
       "4 9203625 6       0          13         2              201808      999912     \n",
       "5 9760630 8       0           2         2              201404      999912     \n",
       "6 3539890 3       0           4         2              201005      999912     \n",
       "  CT_PY_AMT CT_PY_PD CT_PY_CYCLE_CD CT_CHNL_CD\n",
       "1  58       15       2              3         \n",
       "2  65       10       2              1         \n",
       "3 210       20       2              1         \n",
       "4  15       10       2              7         \n",
       "5  90        7       2              6         \n",
       "6   3       20       2              1         "
      ]
     },
     "metadata": {},
     "output_type": "display_data"
    }
   ],
   "source": [
    "# dplyr\n",
    "CONT2 <- CONT1_3 %>% \n",
    "    subset(select = c('POL_SN', 'SCTR_CD', 'IS_GRP_INS', 'INS_GBN_CD', 'INS_CT_STAT_CD', 'CT_CNCLS_DT', 'CT_EFCTV_DT', 'CT_PY_AMT', 'CT_PY_PD', 'CT_PY_CYCLE_CD', 'CT_CHNL_CD'))\n",
    "print('dplyr')\n",
    "head(CONT2)\n",
    "\n",
    "# data.table\n",
    "CONT2_dt <- as.data.table(CONT1_3)\n",
    "CONT2_dt1 <- CONT2_dt[, c('POL_SN', 'SCTR_CD', 'IS_GRP_INS', 'INS_GBN_CD', 'INS_CT_STAT_CD', 'CT_CNCLS_DT', 'CT_EFCTV_DT', 'CT_PY_AMT', 'CT_PY_PD', 'CT_PY_CYCLE_CD', 'CT_CHNL_CD')]\n",
    "print('data.table')\n",
    "head(CONT2_dt1)"
   ]
  },
  {
   "cell_type": "code",
   "execution_count": 527,
   "metadata": {},
   "outputs": [
    {
     "data": {
      "text/plain": [
       "\n",
       "    2 \n",
       "11493 "
      ]
     },
     "metadata": {},
     "output_type": "display_data"
    },
    {
     "data": {
      "text/html": [
       "<table>\n",
       "<thead><tr><th scope=col>INS_CT_STAT_CD</th><th scope=col>N</th></tr></thead>\n",
       "<tbody>\n",
       "\t<tr><td>2    </td><td>11493</td></tr>\n",
       "</tbody>\n",
       "</table>\n"
      ],
      "text/latex": [
       "\\begin{tabular}{r|ll}\n",
       " INS\\_CT\\_STAT\\_CD & N\\\\\n",
       "\\hline\n",
       "\t 2     & 11493\\\\\n",
       "\\end{tabular}\n"
      ],
      "text/markdown": [
       "\n",
       "| INS_CT_STAT_CD | N |\n",
       "|---|---|\n",
       "| 2     | 11493 |\n",
       "\n"
      ],
      "text/plain": [
       "  INS_CT_STAT_CD N    \n",
       "1 2              11493"
      ]
     },
     "metadata": {},
     "output_type": "display_data"
    }
   ],
   "source": [
    "# base R\n",
    "table(CONT2$INS_CT_STAT_CD)\n",
    "\n",
    "# data.table\n",
    "CONT2_dt1[, .N , by=INS_CT_STAT_CD][order(INS_CT_STAT_CD)]"
   ]
  },
  {
   "cell_type": "code",
   "execution_count": 528,
   "metadata": {},
   "outputs": [
    {
     "name": "stdout",
     "output_type": "stream",
     "text": [
      "[1] \"CONT3\"\n"
     ]
    },
    {
     "data": {
      "text/html": [
       "<ol class=list-inline>\n",
       "\t<li>375</li>\n",
       "\t<li>11</li>\n",
       "</ol>\n"
      ],
      "text/latex": [
       "\\begin{enumerate*}\n",
       "\\item 375\n",
       "\\item 11\n",
       "\\end{enumerate*}\n"
      ],
      "text/markdown": [
       "1. 375\n",
       "2. 11\n",
       "\n",
       "\n"
      ],
      "text/plain": [
       "[1] 375  11"
      ]
     },
     "metadata": {},
     "output_type": "display_data"
    },
    {
     "data": {
      "text/html": [
       "<table>\n",
       "<thead><tr><th scope=col>POL_SN</th><th scope=col>SCTR_CD</th><th scope=col>IS_GRP_INS</th><th scope=col>INS_GBN_CD</th><th scope=col>INS_CT_STAT_CD</th><th scope=col>CT_CNCLS_DT</th><th scope=col>CT_EFCTV_DT</th><th scope=col>CT_PY_AMT</th><th scope=col>CT_PY_PD</th><th scope=col>CT_PY_CYCLE_CD</th><th scope=col>CT_CHNL_CD</th></tr></thead>\n",
       "<tbody>\n",
       "\t<tr><td>8370469</td><td>8      </td><td>0      </td><td>10     </td><td>2      </td><td>201112 </td><td>999912 </td><td>5000   </td><td>0      </td><td>1      </td><td> 4     </td></tr>\n",
       "\t<tr><td>6780683</td><td>8      </td><td>0      </td><td> 3     </td><td>2      </td><td>201409 </td><td>999912 </td><td>1100   </td><td>0      </td><td>1      </td><td> 1     </td></tr>\n",
       "\t<tr><td>2080755</td><td>6      </td><td>0      </td><td>99     </td><td>2      </td><td>201909 </td><td>999912 </td><td>  20   </td><td>0      </td><td>1      </td><td>99     </td></tr>\n",
       "\t<tr><td>8156725</td><td>6      </td><td>0      </td><td>99     </td><td>2      </td><td>201812 </td><td>999912 </td><td>  14   </td><td>0      </td><td>1      </td><td>99     </td></tr>\n",
       "\t<tr><td>5480370</td><td>6      </td><td>0      </td><td>14     </td><td>2      </td><td>201910 </td><td>999912 </td><td> 460   </td><td>0      </td><td>1      </td><td> 1     </td></tr>\n",
       "\t<tr><td>3692990</td><td>6      </td><td>0      </td><td>99     </td><td>2      </td><td>201712 </td><td>999912 </td><td>  18   </td><td>0      </td><td>1      </td><td>99     </td></tr>\n",
       "</tbody>\n",
       "</table>\n"
      ],
      "text/latex": [
       "\\begin{tabular}{r|lllllllllll}\n",
       " POL\\_SN & SCTR\\_CD & IS\\_GRP\\_INS & INS\\_GBN\\_CD & INS\\_CT\\_STAT\\_CD & CT\\_CNCLS\\_DT & CT\\_EFCTV\\_DT & CT\\_PY\\_AMT & CT\\_PY\\_PD & CT\\_PY\\_CYCLE\\_CD & CT\\_CHNL\\_CD\\\\\n",
       "\\hline\n",
       "\t 8370469 & 8       & 0       & 10      & 2       & 201112  & 999912  & 5000    & 0       & 1       &  4     \\\\\n",
       "\t 6780683 & 8       & 0       &  3      & 2       & 201409  & 999912  & 1100    & 0       & 1       &  1     \\\\\n",
       "\t 2080755 & 6       & 0       & 99      & 2       & 201909  & 999912  &   20    & 0       & 1       & 99     \\\\\n",
       "\t 8156725 & 6       & 0       & 99      & 2       & 201812  & 999912  &   14    & 0       & 1       & 99     \\\\\n",
       "\t 5480370 & 6       & 0       & 14      & 2       & 201910  & 999912  &  460    & 0       & 1       &  1     \\\\\n",
       "\t 3692990 & 6       & 0       & 99      & 2       & 201712  & 999912  &   18    & 0       & 1       & 99     \\\\\n",
       "\\end{tabular}\n"
      ],
      "text/markdown": [
       "\n",
       "| POL_SN | SCTR_CD | IS_GRP_INS | INS_GBN_CD | INS_CT_STAT_CD | CT_CNCLS_DT | CT_EFCTV_DT | CT_PY_AMT | CT_PY_PD | CT_PY_CYCLE_CD | CT_CHNL_CD |\n",
       "|---|---|---|---|---|---|---|---|---|---|---|\n",
       "| 8370469 | 8       | 0       | 10      | 2       | 201112  | 999912  | 5000    | 0       | 1       |  4      |\n",
       "| 6780683 | 8       | 0       |  3      | 2       | 201409  | 999912  | 1100    | 0       | 1       |  1      |\n",
       "| 2080755 | 6       | 0       | 99      | 2       | 201909  | 999912  |   20    | 0       | 1       | 99      |\n",
       "| 8156725 | 6       | 0       | 99      | 2       | 201812  | 999912  |   14    | 0       | 1       | 99      |\n",
       "| 5480370 | 6       | 0       | 14      | 2       | 201910  | 999912  |  460    | 0       | 1       |  1      |\n",
       "| 3692990 | 6       | 0       | 99      | 2       | 201712  | 999912  |   18    | 0       | 1       | 99      |\n",
       "\n"
      ],
      "text/plain": [
       "  POL_SN  SCTR_CD IS_GRP_INS INS_GBN_CD INS_CT_STAT_CD CT_CNCLS_DT CT_EFCTV_DT\n",
       "1 8370469 8       0          10         2              201112      999912     \n",
       "2 6780683 8       0           3         2              201409      999912     \n",
       "3 2080755 6       0          99         2              201909      999912     \n",
       "4 8156725 6       0          99         2              201812      999912     \n",
       "5 5480370 6       0          14         2              201910      999912     \n",
       "6 3692990 6       0          99         2              201712      999912     \n",
       "  CT_PY_AMT CT_PY_PD CT_PY_CYCLE_CD CT_CHNL_CD\n",
       "1 5000      0        1               4        \n",
       "2 1100      0        1               1        \n",
       "3   20      0        1              99        \n",
       "4   14      0        1              99        \n",
       "5  460      0        1               1        \n",
       "6   18      0        1              99        "
      ]
     },
     "metadata": {},
     "output_type": "display_data"
    },
    {
     "name": "stdout",
     "output_type": "stream",
     "text": [
      "[1] \"data.table\"\n"
     ]
    },
    {
     "data": {
      "text/html": [
       "<ol class=list-inline>\n",
       "\t<li>375</li>\n",
       "\t<li>11</li>\n",
       "</ol>\n"
      ],
      "text/latex": [
       "\\begin{enumerate*}\n",
       "\\item 375\n",
       "\\item 11\n",
       "\\end{enumerate*}\n"
      ],
      "text/markdown": [
       "1. 375\n",
       "2. 11\n",
       "\n",
       "\n"
      ],
      "text/plain": [
       "[1] 375  11"
      ]
     },
     "metadata": {},
     "output_type": "display_data"
    },
    {
     "data": {
      "text/html": [
       "<table>\n",
       "<thead><tr><th scope=col>POL_SN</th><th scope=col>SCTR_CD</th><th scope=col>IS_GRP_INS</th><th scope=col>INS_GBN_CD</th><th scope=col>INS_CT_STAT_CD</th><th scope=col>CT_CNCLS_DT</th><th scope=col>CT_EFCTV_DT</th><th scope=col>CT_PY_AMT</th><th scope=col>CT_PY_PD</th><th scope=col>CT_PY_CYCLE_CD</th><th scope=col>CT_CHNL_CD</th></tr></thead>\n",
       "<tbody>\n",
       "\t<tr><td>8370469</td><td>8      </td><td>0      </td><td>10     </td><td>2      </td><td>201112 </td><td>999912 </td><td>5000   </td><td>0      </td><td>1      </td><td> 4     </td></tr>\n",
       "\t<tr><td>6780683</td><td>8      </td><td>0      </td><td> 3     </td><td>2      </td><td>201409 </td><td>999912 </td><td>1100   </td><td>0      </td><td>1      </td><td> 1     </td></tr>\n",
       "\t<tr><td>2080755</td><td>6      </td><td>0      </td><td>99     </td><td>2      </td><td>201909 </td><td>999912 </td><td>  20   </td><td>0      </td><td>1      </td><td>99     </td></tr>\n",
       "\t<tr><td>8156725</td><td>6      </td><td>0      </td><td>99     </td><td>2      </td><td>201812 </td><td>999912 </td><td>  14   </td><td>0      </td><td>1      </td><td>99     </td></tr>\n",
       "\t<tr><td>5480370</td><td>6      </td><td>0      </td><td>14     </td><td>2      </td><td>201910 </td><td>999912 </td><td> 460   </td><td>0      </td><td>1      </td><td> 1     </td></tr>\n",
       "\t<tr><td>3692990</td><td>6      </td><td>0      </td><td>99     </td><td>2      </td><td>201712 </td><td>999912 </td><td>  18   </td><td>0      </td><td>1      </td><td>99     </td></tr>\n",
       "</tbody>\n",
       "</table>\n"
      ],
      "text/latex": [
       "\\begin{tabular}{r|lllllllllll}\n",
       " POL\\_SN & SCTR\\_CD & IS\\_GRP\\_INS & INS\\_GBN\\_CD & INS\\_CT\\_STAT\\_CD & CT\\_CNCLS\\_DT & CT\\_EFCTV\\_DT & CT\\_PY\\_AMT & CT\\_PY\\_PD & CT\\_PY\\_CYCLE\\_CD & CT\\_CHNL\\_CD\\\\\n",
       "\\hline\n",
       "\t 8370469 & 8       & 0       & 10      & 2       & 201112  & 999912  & 5000    & 0       & 1       &  4     \\\\\n",
       "\t 6780683 & 8       & 0       &  3      & 2       & 201409  & 999912  & 1100    & 0       & 1       &  1     \\\\\n",
       "\t 2080755 & 6       & 0       & 99      & 2       & 201909  & 999912  &   20    & 0       & 1       & 99     \\\\\n",
       "\t 8156725 & 6       & 0       & 99      & 2       & 201812  & 999912  &   14    & 0       & 1       & 99     \\\\\n",
       "\t 5480370 & 6       & 0       & 14      & 2       & 201910  & 999912  &  460    & 0       & 1       &  1     \\\\\n",
       "\t 3692990 & 6       & 0       & 99      & 2       & 201712  & 999912  &   18    & 0       & 1       & 99     \\\\\n",
       "\\end{tabular}\n"
      ],
      "text/markdown": [
       "\n",
       "| POL_SN | SCTR_CD | IS_GRP_INS | INS_GBN_CD | INS_CT_STAT_CD | CT_CNCLS_DT | CT_EFCTV_DT | CT_PY_AMT | CT_PY_PD | CT_PY_CYCLE_CD | CT_CHNL_CD |\n",
       "|---|---|---|---|---|---|---|---|---|---|---|\n",
       "| 8370469 | 8       | 0       | 10      | 2       | 201112  | 999912  | 5000    | 0       | 1       |  4      |\n",
       "| 6780683 | 8       | 0       |  3      | 2       | 201409  | 999912  | 1100    | 0       | 1       |  1      |\n",
       "| 2080755 | 6       | 0       | 99      | 2       | 201909  | 999912  |   20    | 0       | 1       | 99      |\n",
       "| 8156725 | 6       | 0       | 99      | 2       | 201812  | 999912  |   14    | 0       | 1       | 99      |\n",
       "| 5480370 | 6       | 0       | 14      | 2       | 201910  | 999912  |  460    | 0       | 1       |  1      |\n",
       "| 3692990 | 6       | 0       | 99      | 2       | 201712  | 999912  |   18    | 0       | 1       | 99      |\n",
       "\n"
      ],
      "text/plain": [
       "  POL_SN  SCTR_CD IS_GRP_INS INS_GBN_CD INS_CT_STAT_CD CT_CNCLS_DT CT_EFCTV_DT\n",
       "1 8370469 8       0          10         2              201112      999912     \n",
       "2 6780683 8       0           3         2              201409      999912     \n",
       "3 2080755 6       0          99         2              201909      999912     \n",
       "4 8156725 6       0          99         2              201812      999912     \n",
       "5 5480370 6       0          14         2              201910      999912     \n",
       "6 3692990 6       0          99         2              201712      999912     \n",
       "  CT_PY_AMT CT_PY_PD CT_PY_CYCLE_CD CT_CHNL_CD\n",
       "1 5000      0        1               4        \n",
       "2 1100      0        1               1        \n",
       "3   20      0        1              99        \n",
       "4   14      0        1              99        \n",
       "5  460      0        1               1        \n",
       "6   18      0        1              99        "
      ]
     },
     "metadata": {},
     "output_type": "display_data"
    }
   ],
   "source": [
    "# dplyr\n",
    "CONT3 <- CONT2 %>% filter(INS_CT_STAT_CD %in% c(2, 4, 5, 7), CT_PY_CYCLE_CD == 1)\n",
    "print('CONT3')\n",
    "dim(CONT3)\n",
    "head(CONT3)\n",
    "\n",
    "# data.table\n",
    "CONT2.dt <- setDT(CONT2)\n",
    "CONT2.dt1 <- CONT2.dt[ INS_CT_STAT_CD %in% c(2, 4, 5, 7) & CT_PY_CYCLE_CD == 1 ]\n",
    "print('data.table')\n",
    "dim(CONT2.dt1)\n",
    "head(CONT2.dt1)\n"
   ]
  },
  {
   "cell_type": "code",
   "execution_count": 529,
   "metadata": {},
   "outputs": [
    {
     "name": "stdout",
     "output_type": "stream",
     "text": [
      "Classes ‘data.table’ and 'data.frame':\t11493 obs. of  11 variables:\n",
      " $ POL_SN        : int  5051032 5404984 8606415 9203625 9760630 3539890 8370469 6384825 7570304 4370234 ...\n",
      " $ SCTR_CD       : int  6 8 6 6 8 3 8 6 6 6 ...\n",
      " $ IS_GRP_INS    : int  0 0 0 0 0 0 0 0 0 0 ...\n",
      " $ INS_GBN_CD    : int  5 10 3 13 2 4 10 4 3 4 ...\n",
      " $ INS_CT_STAT_CD: int  2 2 2 2 2 2 2 2 2 2 ...\n",
      " $ CT_CNCLS_DT   : int  201611 201108 200612 201808 201404 201005 201112 201604 201311 200810 ...\n",
      " $ CT_EFCTV_DT   : int  999912 999912 999912 999912 999912 999912 999912 999912 999912 999912 ...\n",
      " $ CT_PY_AMT     : int  58 65 210 15 90 3 5000 70 70 24 ...\n",
      " $ CT_PY_PD      : int  15 10 20 10 7 20 0 20 20 20 ...\n",
      " $ CT_PY_CYCLE_CD: int  2 2 2 2 2 2 1 2 2 2 ...\n",
      " $ CT_CHNL_CD    : int  3 1 1 7 6 1 4 3 3 2 ...\n",
      " - attr(*, \".internal.selfref\")=<externalptr> \n",
      " - attr(*, \"index\")= int \n",
      "  ..- attr(*, \"__CT_PY_CYCLE_CD__INS_CT_STAT_CD\")= int  7 69 100 106 108 111 128 151 172 183 ...\n"
     ]
    }
   ],
   "source": [
    "str(CONT2)"
   ]
  },
  {
   "cell_type": "code",
   "execution_count": 530,
   "metadata": {},
   "outputs": [
    {
     "data": {
      "text/html": [
       "<table>\n",
       "<thead><tr><th scope=col>CT_CHNL_CD</th><th scope=col>신용협동기구</th><th scope=col>손해보험사</th><th scope=col>생명보험사</th></tr></thead>\n",
       "<tbody>\n",
       "\t<tr><td> 1  </td><td>717 </td><td>2648</td><td>2115</td></tr>\n",
       "\t<tr><td> 2  </td><td> NA </td><td> 372</td><td> 122</td></tr>\n",
       "\t<tr><td> 3  </td><td> NA </td><td>1886</td><td> 493</td></tr>\n",
       "\t<tr><td> 4  </td><td> NA </td><td> 183</td><td> 592</td></tr>\n",
       "\t<tr><td> 5  </td><td>249 </td><td>  20</td><td>  50</td></tr>\n",
       "\t<tr><td> 6  </td><td> 12 </td><td> 662</td><td> 893</td></tr>\n",
       "\t<tr><td> 7  </td><td>  4 </td><td>  59</td><td>  20</td></tr>\n",
       "\t<tr><td>99  </td><td> NA </td><td> 258</td><td> 138</td></tr>\n",
       "</tbody>\n",
       "</table>\n"
      ],
      "text/latex": [
       "\\begin{tabular}{r|llll}\n",
       " CT\\_CHNL\\_CD & 신용협동기구 & 손해보험사 & 생명보험사\\\\\n",
       "\\hline\n",
       "\t  1   & 717  & 2648 & 2115\\\\\n",
       "\t  2   &  NA  &  372 &  122\\\\\n",
       "\t  3   &  NA  & 1886 &  493\\\\\n",
       "\t  4   &  NA  &  183 &  592\\\\\n",
       "\t  5   & 249  &   20 &   50\\\\\n",
       "\t  6   &  12  &  662 &  893\\\\\n",
       "\t  7   &   4  &   59 &   20\\\\\n",
       "\t 99   &  NA  &  258 &  138\\\\\n",
       "\\end{tabular}\n"
      ],
      "text/markdown": [
       "\n",
       "| CT_CHNL_CD | 신용협동기구 | 손해보험사 | 생명보험사 |\n",
       "|---|---|---|---|\n",
       "|  1   | 717  | 2648 | 2115 |\n",
       "|  2   |  NA  |  372 |  122 |\n",
       "|  3   |  NA  | 1886 |  493 |\n",
       "|  4   |  NA  |  183 |  592 |\n",
       "|  5   | 249  |   20 |   50 |\n",
       "|  6   |  12  |  662 |  893 |\n",
       "|  7   |   4  |   59 |   20 |\n",
       "| 99   |  NA  |  258 |  138 |\n",
       "\n"
      ],
      "text/plain": [
       "  CT_CHNL_CD 신용협동기구 손해보험사 생명보험사\n",
       "1  1         717          2648       2115      \n",
       "2  2          NA           372        122      \n",
       "3  3          NA          1886        493      \n",
       "4  4          NA           183        592      \n",
       "5  5         249            20         50      \n",
       "6  6          12           662        893      \n",
       "7  7           4            59         20      \n",
       "8 99          NA           258        138      "
      ]
     },
     "metadata": {},
     "output_type": "display_data"
    }
   ],
   "source": [
    "# 업권별 채널에 따른 보험 수\n",
    "casting <- dcast(CONT2[, .N, keyby = c('SCTR_CD', 'CT_CHNL_CD')], CT_CHNL_CD ~ SCTR_CD, value.var = \"N\")[ ,setnames(.SD, c(\"3\", \"6\", \"8\"), c('신용협동기구','손해보험사', '생명보험사'))]\n",
    "casting"
   ]
  },
  {
   "cell_type": "code",
   "execution_count": 531,
   "metadata": {},
   "outputs": [
    {
     "data": {
      "text/html": [
       "<table>\n",
       "<thead><tr><th scope=col>INS_GBN_CD</th><th scope=col>신용협동기구</th><th scope=col>손해보험사</th><th scope=col>생명보험사</th></tr></thead>\n",
       "<tbody>\n",
       "\t<tr><td> 1  </td><td> 90 </td><td>   0</td><td>801 </td></tr>\n",
       "\t<tr><td> 2  </td><td> 38 </td><td>   5</td><td> 98 </td></tr>\n",
       "\t<tr><td> 3  </td><td>156 </td><td>1415</td><td>918 </td></tr>\n",
       "\t<tr><td> 4  </td><td>126 </td><td>1853</td><td>332 </td></tr>\n",
       "\t<tr><td> 5  </td><td>150 </td><td> 186</td><td>564 </td></tr>\n",
       "\t<tr><td> 6  </td><td> 40 </td><td>  42</td><td> 32 </td></tr>\n",
       "\t<tr><td> 7  </td><td>137 </td><td>1084</td><td>520 </td></tr>\n",
       "\t<tr><td> 8  </td><td> 23 </td><td> 131</td><td>124 </td></tr>\n",
       "\t<tr><td> 9  </td><td> 18 </td><td>  21</td><td> 67 </td></tr>\n",
       "\t<tr><td>10  </td><td> 44 </td><td>   3</td><td>454 </td></tr>\n",
       "\t<tr><td>11  </td><td> 92 </td><td> 120</td><td>343 </td></tr>\n",
       "\t<tr><td>12  </td><td>  6 </td><td>   0</td><td>  6 </td></tr>\n",
       "\t<tr><td>13  </td><td> 17 </td><td>1004</td><td>  0 </td></tr>\n",
       "\t<tr><td>14  </td><td>  0 </td><td>  37</td><td>  0 </td></tr>\n",
       "\t<tr><td>15  </td><td>  0 </td><td>   5</td><td>  0 </td></tr>\n",
       "\t<tr><td>16  </td><td> 32 </td><td>   5</td><td> 74 </td></tr>\n",
       "\t<tr><td>18  </td><td> 10 </td><td>  74</td><td>  0 </td></tr>\n",
       "\t<tr><td>99  </td><td>  3 </td><td> 103</td><td> 90 </td></tr>\n",
       "</tbody>\n",
       "</table>\n"
      ],
      "text/latex": [
       "\\begin{tabular}{r|llll}\n",
       " INS\\_GBN\\_CD & 신용협동기구 & 손해보험사 & 생명보험사\\\\\n",
       "\\hline\n",
       "\t  1   &  90  &    0 & 801 \\\\\n",
       "\t  2   &  38  &    5 &  98 \\\\\n",
       "\t  3   & 156  & 1415 & 918 \\\\\n",
       "\t  4   & 126  & 1853 & 332 \\\\\n",
       "\t  5   & 150  &  186 & 564 \\\\\n",
       "\t  6   &  40  &   42 &  32 \\\\\n",
       "\t  7   & 137  & 1084 & 520 \\\\\n",
       "\t  8   &  23  &  131 & 124 \\\\\n",
       "\t  9   &  18  &   21 &  67 \\\\\n",
       "\t 10   &  44  &    3 & 454 \\\\\n",
       "\t 11   &  92  &  120 & 343 \\\\\n",
       "\t 12   &   6  &    0 &   6 \\\\\n",
       "\t 13   &  17  & 1004 &   0 \\\\\n",
       "\t 14   &   0  &   37 &   0 \\\\\n",
       "\t 15   &   0  &    5 &   0 \\\\\n",
       "\t 16   &  32  &    5 &  74 \\\\\n",
       "\t 18   &  10  &   74 &   0 \\\\\n",
       "\t 99   &   3  &  103 &  90 \\\\\n",
       "\\end{tabular}\n"
      ],
      "text/markdown": [
       "\n",
       "| INS_GBN_CD | 신용협동기구 | 손해보험사 | 생명보험사 |\n",
       "|---|---|---|---|\n",
       "|  1   |  90  |    0 | 801  |\n",
       "|  2   |  38  |    5 |  98  |\n",
       "|  3   | 156  | 1415 | 918  |\n",
       "|  4   | 126  | 1853 | 332  |\n",
       "|  5   | 150  |  186 | 564  |\n",
       "|  6   |  40  |   42 |  32  |\n",
       "|  7   | 137  | 1084 | 520  |\n",
       "|  8   |  23  |  131 | 124  |\n",
       "|  9   |  18  |   21 |  67  |\n",
       "| 10   |  44  |    3 | 454  |\n",
       "| 11   |  92  |  120 | 343  |\n",
       "| 12   |   6  |    0 |   6  |\n",
       "| 13   |  17  | 1004 |   0  |\n",
       "| 14   |   0  |   37 |   0  |\n",
       "| 15   |   0  |    5 |   0  |\n",
       "| 16   |  32  |    5 |  74  |\n",
       "| 18   |  10  |   74 |   0  |\n",
       "| 99   |   3  |  103 |  90  |\n",
       "\n"
      ],
      "text/plain": [
       "   INS_GBN_CD 신용협동기구 손해보험사 생명보험사\n",
       "1   1          90             0       801       \n",
       "2   2          38             5        98       \n",
       "3   3         156          1415       918       \n",
       "4   4         126          1853       332       \n",
       "5   5         150           186       564       \n",
       "6   6          40            42        32       \n",
       "7   7         137          1084       520       \n",
       "8   8          23           131       124       \n",
       "9   9          18            21        67       \n",
       "10 10          44             3       454       \n",
       "11 11          92           120       343       \n",
       "12 12           6             0         6       \n",
       "13 13          17          1004         0       \n",
       "14 14           0            37         0       \n",
       "15 15           0             5         0       \n",
       "16 16          32             5        74       \n",
       "17 18          10            74         0       \n",
       "18 99           3           103        90       "
      ]
     },
     "metadata": {},
     "output_type": "display_data"
    }
   ],
   "source": [
    "# 업권별 보험종류에 따른 보험 수\n",
    "casting1 <- dcast(CONT2[, .N, keyby = c('SCTR_CD',  'INS_GBN_CD')], INS_GBN_CD ~ SCTR_CD, fun.agg = sum , value.var = \"N\")[ ,setnames(.SD, c(\"3\", \"6\", \"8\"), c('신용협동기구','손해보험사', '생명보험사'))]\n",
    "casting1"
   ]
  },
  {
   "cell_type": "code",
   "execution_count": 532,
   "metadata": {},
   "outputs": [
    {
     "data": {
      "text/html": [
       "<table>\n",
       "<thead><tr><th scope=col>INS_GBN_CD</th><th scope=col>설계사</th><th scope=col>개인대리점</th><th scope=col>법인대리점</th><th scope=col>방카슈랑스</th><th scope=col>임직원</th><th scope=col>TM</th><th scope=col>CM</th><th scope=col>기타</th></tr></thead>\n",
       "<tbody>\n",
       "\t<tr><td> 1  </td><td> 650</td><td> 34 </td><td>127 </td><td> 28 </td><td>12  </td><td> 28 </td><td>NA  </td><td> 12 </td></tr>\n",
       "\t<tr><td> 2  </td><td>  77</td><td>  4 </td><td> 14 </td><td> NA </td><td> 2  </td><td> 41 </td><td>NA  </td><td>  3 </td></tr>\n",
       "\t<tr><td> 3  </td><td>1390</td><td>166 </td><td>525 </td><td> 83 </td><td>39  </td><td>262 </td><td>12  </td><td> 12 </td></tr>\n",
       "\t<tr><td> 4  </td><td> 760</td><td> 95 </td><td>727 </td><td>129 </td><td>74  </td><td>289 </td><td> 5  </td><td>232 </td></tr>\n",
       "\t<tr><td> 5  </td><td> 339</td><td> 10 </td><td> 66 </td><td> 53 </td><td>37  </td><td>368 </td><td>11  </td><td> 16 </td></tr>\n",
       "\t<tr><td> 6  </td><td>  81</td><td>  4 </td><td>  6 </td><td> 13 </td><td> 6  </td><td>  4 </td><td>NA  </td><td> NA </td></tr>\n",
       "\t<tr><td> 7  </td><td>1031</td><td> 50 </td><td>365 </td><td> 35 </td><td>63  </td><td>153 </td><td> 6  </td><td> 38 </td></tr>\n",
       "\t<tr><td> 8  </td><td>  62</td><td>  2 </td><td> 35 </td><td>  7 </td><td> 5  </td><td>166 </td><td>NA  </td><td>  1 </td></tr>\n",
       "\t<tr><td> 9  </td><td>  28</td><td>  2 </td><td>  3 </td><td> 46 </td><td>23  </td><td> NA </td><td> 3  </td><td>  1 </td></tr>\n",
       "\t<tr><td>10  </td><td> 263</td><td> 24 </td><td> 78 </td><td> 95 </td><td>15  </td><td> 14 </td><td>NA  </td><td> 12 </td></tr>\n",
       "\t<tr><td>11  </td><td> 148</td><td> 11 </td><td> 69 </td><td>249 </td><td>32  </td><td> 44 </td><td>NA  </td><td>  2 </td></tr>\n",
       "\t<tr><td>12  </td><td>   9</td><td> NA </td><td>  1 </td><td> NA </td><td>NA  </td><td>  2 </td><td>NA  </td><td> NA </td></tr>\n",
       "\t<tr><td>13  </td><td> 417</td><td> 65 </td><td>285 </td><td> 14 </td><td> 2  </td><td>169 </td><td>37  </td><td> 32 </td></tr>\n",
       "\t<tr><td>14  </td><td>   3</td><td> 13 </td><td>  4 </td><td> NA </td><td> 5  </td><td> NA </td><td> 6  </td><td>  6 </td></tr>\n",
       "\t<tr><td>15  </td><td>   2</td><td>  1 </td><td>  1 </td><td> NA </td><td> 1  </td><td> NA </td><td>NA  </td><td> NA </td></tr>\n",
       "\t<tr><td>16  </td><td> 107</td><td> NA </td><td>  2 </td><td> NA </td><td>NA  </td><td>  2 </td><td>NA  </td><td> NA </td></tr>\n",
       "\t<tr><td>18  </td><td>  51</td><td>  1 </td><td> 16 </td><td> 11 </td><td>NA  </td><td>  5 </td><td>NA  </td><td> NA </td></tr>\n",
       "\t<tr><td>99  </td><td>  62</td><td> 12 </td><td> 55 </td><td> 12 </td><td> 3  </td><td> 20 </td><td> 3  </td><td> 29 </td></tr>\n",
       "</tbody>\n",
       "</table>\n"
      ],
      "text/latex": [
       "\\begin{tabular}{r|lllllllll}\n",
       " INS\\_GBN\\_CD & 설계사 & 개인대리점 & 법인대리점 & 방카슈랑스 & 임직원 & TM & CM & 기타\\\\\n",
       "\\hline\n",
       "\t  1   &  650 &  34  & 127  &  28  & 12   &  28  & NA   &  12 \\\\\n",
       "\t  2   &   77 &   4  &  14  &  NA  &  2   &  41  & NA   &   3 \\\\\n",
       "\t  3   & 1390 & 166  & 525  &  83  & 39   & 262  & 12   &  12 \\\\\n",
       "\t  4   &  760 &  95  & 727  & 129  & 74   & 289  &  5   & 232 \\\\\n",
       "\t  5   &  339 &  10  &  66  &  53  & 37   & 368  & 11   &  16 \\\\\n",
       "\t  6   &   81 &   4  &   6  &  13  &  6   &   4  & NA   &  NA \\\\\n",
       "\t  7   & 1031 &  50  & 365  &  35  & 63   & 153  &  6   &  38 \\\\\n",
       "\t  8   &   62 &   2  &  35  &   7  &  5   & 166  & NA   &   1 \\\\\n",
       "\t  9   &   28 &   2  &   3  &  46  & 23   &  NA  &  3   &   1 \\\\\n",
       "\t 10   &  263 &  24  &  78  &  95  & 15   &  14  & NA   &  12 \\\\\n",
       "\t 11   &  148 &  11  &  69  & 249  & 32   &  44  & NA   &   2 \\\\\n",
       "\t 12   &    9 &  NA  &   1  &  NA  & NA   &   2  & NA   &  NA \\\\\n",
       "\t 13   &  417 &  65  & 285  &  14  &  2   & 169  & 37   &  32 \\\\\n",
       "\t 14   &    3 &  13  &   4  &  NA  &  5   &  NA  &  6   &   6 \\\\\n",
       "\t 15   &    2 &   1  &   1  &  NA  &  1   &  NA  & NA   &  NA \\\\\n",
       "\t 16   &  107 &  NA  &   2  &  NA  & NA   &   2  & NA   &  NA \\\\\n",
       "\t 18   &   51 &   1  &  16  &  11  & NA   &   5  & NA   &  NA \\\\\n",
       "\t 99   &   62 &  12  &  55  &  12  &  3   &  20  &  3   &  29 \\\\\n",
       "\\end{tabular}\n"
      ],
      "text/markdown": [
       "\n",
       "| INS_GBN_CD | 설계사 | 개인대리점 | 법인대리점 | 방카슈랑스 | 임직원 | TM | CM | 기타 |\n",
       "|---|---|---|---|---|---|---|---|---|\n",
       "|  1   |  650 |  34  | 127  |  28  | 12   |  28  | NA   |  12  |\n",
       "|  2   |   77 |   4  |  14  |  NA  |  2   |  41  | NA   |   3  |\n",
       "|  3   | 1390 | 166  | 525  |  83  | 39   | 262  | 12   |  12  |\n",
       "|  4   |  760 |  95  | 727  | 129  | 74   | 289  |  5   | 232  |\n",
       "|  5   |  339 |  10  |  66  |  53  | 37   | 368  | 11   |  16  |\n",
       "|  6   |   81 |   4  |   6  |  13  |  6   |   4  | NA   |  NA  |\n",
       "|  7   | 1031 |  50  | 365  |  35  | 63   | 153  |  6   |  38  |\n",
       "|  8   |   62 |   2  |  35  |   7  |  5   | 166  | NA   |   1  |\n",
       "|  9   |   28 |   2  |   3  |  46  | 23   |  NA  |  3   |   1  |\n",
       "| 10   |  263 |  24  |  78  |  95  | 15   |  14  | NA   |  12  |\n",
       "| 11   |  148 |  11  |  69  | 249  | 32   |  44  | NA   |   2  |\n",
       "| 12   |    9 |  NA  |   1  |  NA  | NA   |   2  | NA   |  NA  |\n",
       "| 13   |  417 |  65  | 285  |  14  |  2   | 169  | 37   |  32  |\n",
       "| 14   |    3 |  13  |   4  |  NA  |  5   |  NA  |  6   |   6  |\n",
       "| 15   |    2 |   1  |   1  |  NA  |  1   |  NA  | NA   |  NA  |\n",
       "| 16   |  107 |  NA  |   2  |  NA  | NA   |   2  | NA   |  NA  |\n",
       "| 18   |   51 |   1  |  16  |  11  | NA   |   5  | NA   |  NA  |\n",
       "| 99   |   62 |  12  |  55  |  12  |  3   |  20  |  3   |  29  |\n",
       "\n"
      ],
      "text/plain": [
       "   INS_GBN_CD 설계사 개인대리점 법인대리점 방카슈랑스 임직원 TM  CM 기타\n",
       "1   1          650    34        127         28        12      28 NA  12 \n",
       "2   2           77     4         14         NA         2      41 NA   3 \n",
       "3   3         1390   166        525         83        39     262 12  12 \n",
       "4   4          760    95        727        129        74     289  5 232 \n",
       "5   5          339    10         66         53        37     368 11  16 \n",
       "6   6           81     4          6         13         6       4 NA  NA \n",
       "7   7         1031    50        365         35        63     153  6  38 \n",
       "8   8           62     2         35          7         5     166 NA   1 \n",
       "9   9           28     2          3         46        23      NA  3   1 \n",
       "10 10          263    24         78         95        15      14 NA  12 \n",
       "11 11          148    11         69        249        32      44 NA   2 \n",
       "12 12            9    NA          1         NA        NA       2 NA  NA \n",
       "13 13          417    65        285         14         2     169 37  32 \n",
       "14 14            3    13          4         NA         5      NA  6   6 \n",
       "15 15            2     1          1         NA         1      NA NA  NA \n",
       "16 16          107    NA          2         NA        NA       2 NA  NA \n",
       "17 18           51     1         16         11        NA       5 NA  NA \n",
       "18 99           62    12         55         12         3      20  3  29 "
      ]
     },
     "metadata": {},
     "output_type": "display_data"
    }
   ],
   "source": [
    "casting1 <- dcast(CONT2[, .N, keyby = c('CT_CHNL_CD',  'INS_GBN_CD')], INS_GBN_CD ~ CT_CHNL_CD, value.var = \"N\")[ ,setnames(.SD, c(\"1\", \"2\", \"3\", \"4\", \"5\", \"6\", \"7\", \"99\" ), c('설계사','개인대리점', '법인대리점','방카슈랑스','임직원','TM','CM','기타'))]\n",
    "casting1\n"
   ]
  },
  {
   "cell_type": "code",
   "execution_count": 533,
   "metadata": {},
   "outputs": [
    {
     "ename": "ERROR",
     "evalue": "Error in substr(CT_CNCLS_DT, 1, 4) * 12: non-numeric argument to binary operator\n",
     "output_type": "error",
     "traceback": [
      "Error in substr(CT_CNCLS_DT, 1, 4) * 12: non-numeric argument to binary operator\nTraceback:\n",
      "1. CONT2 %>% mutate(prem = ifelse(INS_CT_STAT_CD == 2, ((2020 - \n .     substr(CT_CNCLS_DT, 1, 4) * 12 + (13 - substr(CT_CNCLS_DT, \n .     5, 6)))) * CT_PY_AMT, ifelse(INS_CT_STAT_CD == 4, ((substr(CT_EFCTV_DT, \n .     1, 4) - substr(CT_CNCLS_DT, 1, 4)) * 12 + substr(CT_EFCTV_DT, \n .     5, 6) - substr(CT_EFCTV_DT, 5, 6)) * CT_PYAMT, ifelse(INS_CT_STAT_CD == \n .     7, ((substr(CT_EFCTV_DT, 1, 4) - substr(CT_CNCLS_DT, 1, 4)) * \n .     12 + substr(CT_EFCTV_DT, 5, 6) - substr(CT_CNCLS_DT, 5, 6)) * \n .     CT_PY_AMT, ifelse(INS_CT_STAT_CD == 5, CT_PY_PD * 12 * CT_PY_AMT, \n .     0)))))",
      "2. withVisible(eval(quote(`_fseq`(`_lhs`)), env, env))",
      "3. eval(quote(`_fseq`(`_lhs`)), env, env)",
      "4. eval(quote(`_fseq`(`_lhs`)), env, env)",
      "5. `_fseq`(`_lhs`)",
      "6. freduce(value, `_function_list`)",
      "7. withVisible(function_list[[k]](value))",
      "8. function_list[[k]](value)",
      "9. mutate(., prem = ifelse(INS_CT_STAT_CD == 2, ((2020 - substr(CT_CNCLS_DT, \n .     1, 4) * 12 + (13 - substr(CT_CNCLS_DT, 5, 6)))) * CT_PY_AMT, \n .     ifelse(INS_CT_STAT_CD == 4, ((substr(CT_EFCTV_DT, 1, 4) - \n .         substr(CT_CNCLS_DT, 1, 4)) * 12 + substr(CT_EFCTV_DT, \n .         5, 6) - substr(CT_EFCTV_DT, 5, 6)) * CT_PYAMT, ifelse(INS_CT_STAT_CD == \n .         7, ((substr(CT_EFCTV_DT, 1, 4) - substr(CT_CNCLS_DT, \n .         1, 4)) * 12 + substr(CT_EFCTV_DT, 5, 6) - substr(CT_CNCLS_DT, \n .         5, 6)) * CT_PY_AMT, ifelse(INS_CT_STAT_CD == 5, CT_PY_PD * \n .         12 * CT_PY_AMT, 0)))))",
      "10. mutate.data.frame(., prem = ifelse(INS_CT_STAT_CD == 2, ((2020 - \n  .     substr(CT_CNCLS_DT, 1, 4) * 12 + (13 - substr(CT_CNCLS_DT, \n  .     5, 6)))) * CT_PY_AMT, ifelse(INS_CT_STAT_CD == 4, ((substr(CT_EFCTV_DT, \n  .     1, 4) - substr(CT_CNCLS_DT, 1, 4)) * 12 + substr(CT_EFCTV_DT, \n  .     5, 6) - substr(CT_EFCTV_DT, 5, 6)) * CT_PYAMT, ifelse(INS_CT_STAT_CD == \n  .     7, ((substr(CT_EFCTV_DT, 1, 4) - substr(CT_CNCLS_DT, 1, 4)) * \n  .     12 + substr(CT_EFCTV_DT, 5, 6) - substr(CT_CNCLS_DT, 5, 6)) * \n  .     CT_PY_AMT, ifelse(INS_CT_STAT_CD == 5, CT_PY_PD * 12 * CT_PY_AMT, \n  .     0)))))",
      "11. as.data.frame(mutate(tbl_df(.data), ...))",
      "12. mutate(tbl_df(.data), ...)",
      "13. mutate.tbl_df(tbl_df(.data), ...)",
      "14. mutate_impl(.data, dots, caller_env())",
      "15. ifelse(INS_CT_STAT_CD == 2, ((2020 - substr(CT_CNCLS_DT, 1, 4) * \n  .     12 + (13 - substr(CT_CNCLS_DT, 5, 6)))) * CT_PY_AMT, ifelse(INS_CT_STAT_CD == \n  .     4, ((substr(CT_EFCTV_DT, 1, 4) - substr(CT_CNCLS_DT, 1, 4)) * \n  .     12 + substr(CT_EFCTV_DT, 5, 6) - substr(CT_EFCTV_DT, 5, 6)) * \n  .     CT_PYAMT, ifelse(INS_CT_STAT_CD == 7, ((substr(CT_EFCTV_DT, \n  .     1, 4) - substr(CT_CNCLS_DT, 1, 4)) * 12 + substr(CT_EFCTV_DT, \n  .     5, 6) - substr(CT_CNCLS_DT, 5, 6)) * CT_PY_AMT, ifelse(INS_CT_STAT_CD == \n  .     5, CT_PY_PD * 12 * CT_PY_AMT, 0))))"
     ]
    }
   ],
   "source": [
    "CONT3 <- CONT2 %>% mutate( prem = ifelse(INS_CT_STAT_CD == 2, \n",
    "                                        ((2020 - substr(CT_CNCLS_DT, 1, 4)*12 +(13-substr(CT_CNCLS_DT,5,6))))*CT_PY_AMT,\n",
    "                                       ifelse(INS_CT_STAT_CD == 4, \n",
    "                                             ((substr(CT_EFCTV_DT, 1,4)-substr(CT_CNCLS_DT, 1,4))*12 + substr(CT_EFCTV_DT, 5,6) -substr(CT_EFCTV_DT, 5,6) )*CT_PYAMT,\n",
    "                                             ifelse(INS_CT_STAT_CD == 7, \n",
    "                                                    ((substr(CT_EFCTV_DT,1,4) - substr(CT_CNCLS_DT,1,4))*12 + substr(CT_EFCTV_DT, 5,6) - substr(CT_CNCLS_DT, 5,6) ) * CT_PY_AMT,\n",
    "                                                  ifelse(INS_CT_STAT_CD == 5, \n",
    "                                                        CT_PY_PD * 12 * CT_PY_AMT, 0 ) ) )))"
   ]
  },
  {
   "cell_type": "markdown",
   "metadata": {},
   "source": [
    "## WHAT IS THE PROBLEM? LETS FIGURE IT OUT"
   ]
  },
  {
   "cell_type": "code",
   "execution_count": 534,
   "metadata": {},
   "outputs": [
    {
     "data": {
      "text/plain": [
       "[1] \"Mar 2016\""
      ]
     },
     "metadata": {},
     "output_type": "display_data"
    },
    {
     "data": {
      "text/html": [
       "<ol class=list-inline>\n",
       "\t<li><time datetime=\"9999-12-01\">9999-12-01</time></li>\n",
       "\t<li><time datetime=\"9999-12-01\">9999-12-01</time></li>\n",
       "\t<li><time datetime=\"9999-12-01\">9999-12-01</time></li>\n",
       "\t<li><time datetime=\"9999-12-01\">9999-12-01</time></li>\n",
       "\t<li><time datetime=\"9999-12-01\">9999-12-01</time></li>\n",
       "\t<li><time datetime=\"9999-12-01\">9999-12-01</time></li>\n",
       "</ol>\n"
      ],
      "text/latex": [
       "\\begin{enumerate*}\n",
       "\\item 9999-12-01\n",
       "\\item 9999-12-01\n",
       "\\item 9999-12-01\n",
       "\\item 9999-12-01\n",
       "\\item 9999-12-01\n",
       "\\item 9999-12-01\n",
       "\\end{enumerate*}\n"
      ],
      "text/markdown": [
       "1. 9999-12-01\n",
       "2. 9999-12-01\n",
       "3. 9999-12-01\n",
       "4. 9999-12-01\n",
       "5. 9999-12-01\n",
       "6. 9999-12-01\n",
       "\n",
       "\n"
      ],
      "text/plain": [
       "[1] \"9999-12-01\" \"9999-12-01\" \"9999-12-01\" \"9999-12-01\" \"9999-12-01\"\n",
       "[6] \"9999-12-01\""
      ]
     },
     "metadata": {},
     "output_type": "display_data"
    }
   ],
   "source": [
    "#install.packages('zoo')\n",
    "#library(zoo)\n",
    "as.yearmon(as.character(201603), format='%Y%m')\n",
    "head(as.Date(as.yearmon(as.character(CONT2$CT_EFCTV_DT), format='%Y%m')))"
   ]
  },
  {
   "cell_type": "code",
   "execution_count": 667,
   "metadata": {},
   "outputs": [
    {
     "name": "stderr",
     "output_type": "stream",
     "text": [
      "Warning message in install.packages(\"data.table\", type = \"source\"):\n",
      "“installation of package ‘data.table’ had non-zero exit status”Updating HTML index of packages in '.Library'\n",
      "Making 'packages.html' ... done\n"
     ]
    },
    {
     "data": {
      "text/plain": [
       "R version 3.6.1 (2019-07-05)\n",
       "Platform: x86_64-apple-darwin13.4.0 (64-bit)\n",
       "Running under: macOS  10.16\n",
       "\n",
       "Matrix products: default\n",
       "BLAS/LAPACK: /Users/inkyoseo/opt/anaconda3/envs/RIJ/lib/R/lib/libRblas.dylib\n",
       "\n",
       "locale:\n",
       "[1] en_US.UTF-8/en_US.UTF-8/en_US.UTF-8/C/en_US.UTF-8/en_US.UTF-8\n",
       "\n",
       "attached base packages:\n",
       "[1] stats     graphics  grDevices utils     datasets  methods   base     \n",
       "\n",
       "other attached packages:\n",
       "[1] zoo_1.8-6         stringr_1.4.0     reshape_0.8.8     data.table_1.12.2\n",
       "[5] dplyr_0.8.0.1     purrr_0.3.2      \n",
       "\n",
       "loaded via a namespace (and not attached):\n",
       " [1] Rcpp_1.0.1       magrittr_1.5     tidyselect_0.2.5 uuid_0.1-2      \n",
       " [5] lattice_0.20-38  R6_2.4.0         rlang_0.3.4      plyr_1.8.4      \n",
       " [9] tools_3.6.1      grid_3.6.1       htmltools_0.3.6  digest_0.6.18   \n",
       "[13] assertthat_0.2.1 tibble_2.1.1     crayon_1.3.4     IRdisplay_0.7.0 \n",
       "[17] reshape2_1.4.3   repr_0.19.2      base64enc_0.1-3  IRkernel_0.8.15 \n",
       "[21] glue_1.3.1       evaluate_0.13    stringi_1.4.3    pbdZMQ_0.3-3    \n",
       "[25] compiler_3.6.1   pillar_1.3.1     jsonlite_1.6     pkgconfig_2.0.2 "
      ]
     },
     "metadata": {},
     "output_type": "display_data"
    }
   ],
   "source": []
  },
  {
   "cell_type": "code",
   "execution_count": 672,
   "metadata": {},
   "outputs": [
    {
     "data": {
      "text/html": [
       "No documentation for ‘fcase’ in specified packages and libraries:\n",
       "you could try ‘??fcase’"
      ],
      "text/latex": [
       "No documentation for ‘fcase’ in specified packages and libraries:\n",
       "you could try ‘??fcase’"
      ],
      "text/plain": [
       "No documentation for ‘fcase’ in specified packages and libraries:\n",
       "you could try ‘??fcase’"
      ]
     },
     "metadata": {},
     "output_type": "display_data"
    }
   ],
   "source": [
    "library(data.table)\n",
    "?fcase"
   ]
  },
  {
   "cell_type": "code",
   "execution_count": 676,
   "metadata": {},
   "outputs": [
    {
     "data": {
      "text/html": [
       "<table>\n",
       "<thead><tr><th scope=col>POL_SN</th><th scope=col>SCTR_CD</th><th scope=col>IS_GRP_INS</th><th scope=col>INS_GBN_CD</th><th scope=col>INS_CT_STAT_CD</th><th scope=col>CT_CNCLS_DT</th><th scope=col>CT_EFCTV_DT</th><th scope=col>CT_PY_AMT</th><th scope=col>CT_PY_PD</th><th scope=col>CT_PY_CYCLE_CD</th><th scope=col>CT_CHNL_CD</th><th scope=col>prem</th></tr></thead>\n",
       "<tbody>\n",
       "\t<tr><td>5051032</td><td>6      </td><td>0      </td><td> 5     </td><td>2      </td><td>201611 </td><td>202012 </td><td> 58    </td><td>15     </td><td>2      </td><td>3      </td><td> 2900  </td></tr>\n",
       "\t<tr><td>5404984</td><td>8      </td><td>0      </td><td>10     </td><td>2      </td><td>201108 </td><td>202012 </td><td> 65    </td><td>10     </td><td>2      </td><td>1      </td><td> 7345  </td></tr>\n",
       "\t<tr><td>8606415</td><td>6      </td><td>0      </td><td> 3     </td><td>2      </td><td>200612 </td><td>202012 </td><td>210    </td><td>20     </td><td>2      </td><td>1      </td><td>35490  </td></tr>\n",
       "\t<tr><td>9203625</td><td>6      </td><td>0      </td><td>13     </td><td>2      </td><td>201808 </td><td>202012 </td><td> 15    </td><td>10     </td><td>2      </td><td>7      </td><td>  435  </td></tr>\n",
       "\t<tr><td>9760630</td><td>8      </td><td>0      </td><td> 2     </td><td>2      </td><td>201404 </td><td>202012 </td><td> 90    </td><td> 7     </td><td>2      </td><td>6      </td><td> 7290  </td></tr>\n",
       "\t<tr><td>3539890</td><td>3      </td><td>0      </td><td> 4     </td><td>2      </td><td>201005 </td><td>202012 </td><td>  3    </td><td>20     </td><td>2      </td><td>1      </td><td>  384  </td></tr>\n",
       "</tbody>\n",
       "</table>\n"
      ],
      "text/latex": [
       "\\begin{tabular}{r|llllllllllll}\n",
       " POL\\_SN & SCTR\\_CD & IS\\_GRP\\_INS & INS\\_GBN\\_CD & INS\\_CT\\_STAT\\_CD & CT\\_CNCLS\\_DT & CT\\_EFCTV\\_DT & CT\\_PY\\_AMT & CT\\_PY\\_PD & CT\\_PY\\_CYCLE\\_CD & CT\\_CHNL\\_CD & prem\\\\\n",
       "\\hline\n",
       "\t 5051032 & 6       & 0       &  5      & 2       & 201611  & 202012  &  58     & 15      & 2       & 3       &  2900  \\\\\n",
       "\t 5404984 & 8       & 0       & 10      & 2       & 201108  & 202012  &  65     & 10      & 2       & 1       &  7345  \\\\\n",
       "\t 8606415 & 6       & 0       &  3      & 2       & 200612  & 202012  & 210     & 20      & 2       & 1       & 35490  \\\\\n",
       "\t 9203625 & 6       & 0       & 13      & 2       & 201808  & 202012  &  15     & 10      & 2       & 7       &   435  \\\\\n",
       "\t 9760630 & 8       & 0       &  2      & 2       & 201404  & 202012  &  90     &  7      & 2       & 6       &  7290  \\\\\n",
       "\t 3539890 & 3       & 0       &  4      & 2       & 201005  & 202012  &   3     & 20      & 2       & 1       &   384  \\\\\n",
       "\\end{tabular}\n"
      ],
      "text/markdown": [
       "\n",
       "| POL_SN | SCTR_CD | IS_GRP_INS | INS_GBN_CD | INS_CT_STAT_CD | CT_CNCLS_DT | CT_EFCTV_DT | CT_PY_AMT | CT_PY_PD | CT_PY_CYCLE_CD | CT_CHNL_CD | prem |\n",
       "|---|---|---|---|---|---|---|---|---|---|---|---|\n",
       "| 5051032 | 6       | 0       |  5      | 2       | 201611  | 202012  |  58     | 15      | 2       | 3       |  2900   |\n",
       "| 5404984 | 8       | 0       | 10      | 2       | 201108  | 202012  |  65     | 10      | 2       | 1       |  7345   |\n",
       "| 8606415 | 6       | 0       |  3      | 2       | 200612  | 202012  | 210     | 20      | 2       | 1       | 35490   |\n",
       "| 9203625 | 6       | 0       | 13      | 2       | 201808  | 202012  |  15     | 10      | 2       | 7       |   435   |\n",
       "| 9760630 | 8       | 0       |  2      | 2       | 201404  | 202012  |  90     |  7      | 2       | 6       |  7290   |\n",
       "| 3539890 | 3       | 0       |  4      | 2       | 201005  | 202012  |   3     | 20      | 2       | 1       |   384   |\n",
       "\n"
      ],
      "text/plain": [
       "  POL_SN  SCTR_CD IS_GRP_INS INS_GBN_CD INS_CT_STAT_CD CT_CNCLS_DT CT_EFCTV_DT\n",
       "1 5051032 6       0           5         2              201611      202012     \n",
       "2 5404984 8       0          10         2              201108      202012     \n",
       "3 8606415 6       0           3         2              200612      202012     \n",
       "4 9203625 6       0          13         2              201808      202012     \n",
       "5 9760630 8       0           2         2              201404      202012     \n",
       "6 3539890 3       0           4         2              201005      202012     \n",
       "  CT_PY_AMT CT_PY_PD CT_PY_CYCLE_CD CT_CHNL_CD prem \n",
       "1  58       15       2              3           2900\n",
       "2  65       10       2              1           7345\n",
       "3 210       20       2              1          35490\n",
       "4  15       10       2              7            435\n",
       "5  90        7       2              6           7290\n",
       "6   3       20       2              1            384"
      ]
     },
     "metadata": {},
     "output_type": "display_data"
    },
    {
     "data": {
      "text/html": [
       "<table>\n",
       "<thead><tr><th scope=col>POL_SN</th><th scope=col>SCTR_CD</th><th scope=col>IS_GRP_INS</th><th scope=col>INS_GBN_CD</th><th scope=col>INS_CT_STAT_CD</th><th scope=col>CT_CNCLS_DT</th><th scope=col>CT_EFCTV_DT</th><th scope=col>CT_PY_AMT</th><th scope=col>CT_PY_PD</th><th scope=col>CT_PY_CYCLE_CD</th><th scope=col>CT_CHNL_CD</th><th scope=col>prem</th></tr></thead>\n",
       "<tbody>\n",
       "\t<tr><td>5051032</td><td>6      </td><td>0      </td><td> 5     </td><td>2      </td><td>201611 </td><td>202012 </td><td> 58    </td><td>15     </td><td>2      </td><td>3      </td><td> 2900  </td></tr>\n",
       "\t<tr><td>5404984</td><td>8      </td><td>0      </td><td>10     </td><td>2      </td><td>201108 </td><td>202012 </td><td> 65    </td><td>10     </td><td>2      </td><td>1      </td><td> 7345  </td></tr>\n",
       "\t<tr><td>8606415</td><td>6      </td><td>0      </td><td> 3     </td><td>2      </td><td>200612 </td><td>202012 </td><td>210    </td><td>20     </td><td>2      </td><td>1      </td><td>35490  </td></tr>\n",
       "\t<tr><td>9203625</td><td>6      </td><td>0      </td><td>13     </td><td>2      </td><td>201808 </td><td>202012 </td><td> 15    </td><td>10     </td><td>2      </td><td>7      </td><td>  435  </td></tr>\n",
       "\t<tr><td>9760630</td><td>8      </td><td>0      </td><td> 2     </td><td>2      </td><td>201404 </td><td>202012 </td><td> 90    </td><td> 7     </td><td>2      </td><td>6      </td><td> 7290  </td></tr>\n",
       "\t<tr><td>3539890</td><td>3      </td><td>0      </td><td> 4     </td><td>2      </td><td>201005 </td><td>202012 </td><td>  3    </td><td>20     </td><td>2      </td><td>1      </td><td>  384  </td></tr>\n",
       "</tbody>\n",
       "</table>\n"
      ],
      "text/latex": [
       "\\begin{tabular}{r|llllllllllll}\n",
       " POL\\_SN & SCTR\\_CD & IS\\_GRP\\_INS & INS\\_GBN\\_CD & INS\\_CT\\_STAT\\_CD & CT\\_CNCLS\\_DT & CT\\_EFCTV\\_DT & CT\\_PY\\_AMT & CT\\_PY\\_PD & CT\\_PY\\_CYCLE\\_CD & CT\\_CHNL\\_CD & prem\\\\\n",
       "\\hline\n",
       "\t 5051032 & 6       & 0       &  5      & 2       & 201611  & 202012  &  58     & 15      & 2       & 3       &  2900  \\\\\n",
       "\t 5404984 & 8       & 0       & 10      & 2       & 201108  & 202012  &  65     & 10      & 2       & 1       &  7345  \\\\\n",
       "\t 8606415 & 6       & 0       &  3      & 2       & 200612  & 202012  & 210     & 20      & 2       & 1       & 35490  \\\\\n",
       "\t 9203625 & 6       & 0       & 13      & 2       & 201808  & 202012  &  15     & 10      & 2       & 7       &   435  \\\\\n",
       "\t 9760630 & 8       & 0       &  2      & 2       & 201404  & 202012  &  90     &  7      & 2       & 6       &  7290  \\\\\n",
       "\t 3539890 & 3       & 0       &  4      & 2       & 201005  & 202012  &   3     & 20      & 2       & 1       &   384  \\\\\n",
       "\\end{tabular}\n"
      ],
      "text/markdown": [
       "\n",
       "| POL_SN | SCTR_CD | IS_GRP_INS | INS_GBN_CD | INS_CT_STAT_CD | CT_CNCLS_DT | CT_EFCTV_DT | CT_PY_AMT | CT_PY_PD | CT_PY_CYCLE_CD | CT_CHNL_CD | prem |\n",
       "|---|---|---|---|---|---|---|---|---|---|---|---|\n",
       "| 5051032 | 6       | 0       |  5      | 2       | 201611  | 202012  |  58     | 15      | 2       | 3       |  2900   |\n",
       "| 5404984 | 8       | 0       | 10      | 2       | 201108  | 202012  |  65     | 10      | 2       | 1       |  7345   |\n",
       "| 8606415 | 6       | 0       |  3      | 2       | 200612  | 202012  | 210     | 20      | 2       | 1       | 35490   |\n",
       "| 9203625 | 6       | 0       | 13      | 2       | 201808  | 202012  |  15     | 10      | 2       | 7       |   435   |\n",
       "| 9760630 | 8       | 0       |  2      | 2       | 201404  | 202012  |  90     |  7      | 2       | 6       |  7290   |\n",
       "| 3539890 | 3       | 0       |  4      | 2       | 201005  | 202012  |   3     | 20      | 2       | 1       |   384   |\n",
       "\n"
      ],
      "text/plain": [
       "  POL_SN  SCTR_CD IS_GRP_INS INS_GBN_CD INS_CT_STAT_CD CT_CNCLS_DT CT_EFCTV_DT\n",
       "1 5051032 6       0           5         2              201611      202012     \n",
       "2 5404984 8       0          10         2              201108      202012     \n",
       "3 8606415 6       0           3         2              200612      202012     \n",
       "4 9203625 6       0          13         2              201808      202012     \n",
       "5 9760630 8       0           2         2              201404      202012     \n",
       "6 3539890 3       0           4         2              201005      202012     \n",
       "  CT_PY_AMT CT_PY_PD CT_PY_CYCLE_CD CT_CHNL_CD prem \n",
       "1  58       15       2              3           2900\n",
       "2  65       10       2              1           7345\n",
       "3 210       20       2              1          35490\n",
       "4  15       10       2              7            435\n",
       "5  90        7       2              6           7290\n",
       "6   3       20       2              1            384"
      ]
     },
     "metadata": {},
     "output_type": "display_data"
    },
    {
     "ename": "ERROR",
     "evalue": "Error in fcase(CT_EFCTV_DT == 999912, 202012, defautl = CT_EFCTV_DT): could not find function \"fcase\"\n",
     "output_type": "error",
     "traceback": [
      "Error in fcase(CT_EFCTV_DT == 999912, 202012, defautl = CT_EFCTV_DT): could not find function \"fcase\"\nTraceback:\n",
      "1. setDT(CONT2)[, `:=`(CT_EFCTV_DT, fcase(CT_EFCTV_DT == 999912, \n .     202012, defautl = CT_EFCTV_DT))]",
      "2. `[.data.table`(setDT(CONT2), , `:=`(CT_EFCTV_DT, fcase(CT_EFCTV_DT == \n .     999912, 202012, defautl = CT_EFCTV_DT)))",
      "3. eval(jsub, SDenv, parent.frame())",
      "4. eval(jsub, SDenv, parent.frame())"
     ]
    }
   ],
   "source": [
    "# dplyr : nested ifelse'\n",
    "CONT3 <- CONT2 %>% mutate(CT_EFCTV_DT = ifelse(CT_EFCTV_DT==999912, 202012, CT_EFCTV_DT))\n",
    "CONT4 <- CONT3 %>% mutate( prem = ifelse(INS_CT_STAT_CD == 2, \n",
    "                                        ((2020 - as.numeric(substr(CT_CNCLS_DT, 1, 4)))*12 +(13-as.numeric(substr(CT_CNCLS_DT,5,6))))*CT_PY_AMT,\n",
    "                                       ifelse(INS_CT_STAT_CD == 4, \n",
    "                                             ((as.numeric(substr(CT_EFCTV_DT, 1,4))-as.numeric(substr(CT_CNCLS_DT, 1,4)))*12 + as.numeric(substr(CT_EFCTV_DT, 5,6)) -as.numeric(substr(CT_EFCTV_DT, 5,6)) )*CT_PY_AMT,\n",
    "                                             ifelse(INS_CT_STAT_CD == 7, \n",
    "                                                    ((as.numeric(substr(CT_EFCTV_DT,1,4)) - as.numeric(substr(CT_CNCLS_DT,1,4)))*12 + as.numeric(substr(CT_EFCTV_DT, 5,6)) - as.numeric(substr(CT_CNCLS_DT, 5,6)) ) * CT_PY_AMT,\n",
    "                                                  ifelse(INS_CT_STAT_CD == 5, \n",
    "                                                        (CT_PY_PD * 12 * CT_PY_AMT), '0' ) ) )))\n",
    "head(CONT4)\n",
    "\n",
    "# dplyr - SQL style\n",
    "CONT4 <- CONT3 %>% mutate( \n",
    "                        prem = case_when(\n",
    "                        INS_CT_STAT_CD == 2 ~ ((2020 - as.numeric(substr(CT_CNCLS_DT, 1, 4)))*12 +(13-as.numeric(substr(CT_CNCLS_DT,5,6))))*CT_PY_AMT,\n",
    "                        INS_CT_STAT_CD == 4 ~ ((as.numeric(substr(CT_EFCTV_DT, 1,4))-as.numeric(substr(CT_CNCLS_DT, 1,4)))*12 + as.numeric(substr(CT_EFCTV_DT, 5,6)) -as.numeric(substr(CT_EFCTV_DT, 5,6)) )*CT_PY_AMT,\n",
    "                        INS_CT_STAT_CD == 7 ~ ((as.numeric(substr(CT_EFCTV_DT,1,4)) - as.numeric(substr(CT_CNCLS_DT,1,4)))*12 + as.numeric(substr(CT_EFCTV_DT, 5,6)) - as.numeric(substr(CT_CNCLS_DT, 5,6)) ) * CT_PY_AMT,\n",
    "                        INS_CT_STAT_CD == 5 ~ (CT_PY_PD * 12 * CT_PY_AMT),\n",
    "                        TRUE ~ 0))\n",
    "head(CONT4)\n",
    "\n",
    "# data.table - SQL style (used in R-studio)\n",
    "CONT3 <- setDT(CONT2)[, CT_EFCTV_DT := fcase(\n",
    "                CT_EFCTV_DT == 999912, 202012,\n",
    "                defautl = CT_EFCTV_DT)] \n",
    "CONT4 <- setDT(CONT3)[, prem := fcase(\n",
    "                        INS_CT_STAT_CD == 2, ((2020 - as.numeric(substr(CT_CNCLS_DT, 1, 4)))*12 +(13-as.numeric(substr(CT_CNCLS_DT,5,6))))*CT_PY_AMT,\n",
    "                        INS_CT_STAT_CD == 4, ((as.numeric(substr(CT_EFCTV_DT, 1,4))-as.numeric(substr(CT_CNCLS_DT, 1,4)))*12 + as.numeric(substr(CT_EFCTV_DT, 5,6)) -as.numeric(substr(CT_EFCTV_DT, 5,6)) )*CT_PY_AMT,\n",
    "                        INS_CT_STAT_CD == 7, ((as.numeric(substr(CT_EFCTV_DT,1,4)) - as.numeric(substr(CT_CNCLS_DT,1,4)))*12 + as.numeric(substr(CT_EFCTV_DT, 5,6)) - as.numeric(substr(CT_CNCLS_DT, 5,6)) ) * CT_PY_AMT,\n",
    "                        INS_CT_STAT_CD == 5, (CT_PY_PD * 12 * CT_PY_AMT),\n",
    "                        default = '0')]"
   ]
  },
  {
   "cell_type": "markdown",
   "metadata": {},
   "source": [
    "- 0 또는 음수인 prem"
   ]
  },
  {
   "cell_type": "code",
   "execution_count": 536,
   "metadata": {},
   "outputs": [
    {
     "data": {
      "text/html": [
       "<table>\n",
       "<thead><tr><th scope=col>prem &gt; 0</th><th scope=col>n</th></tr></thead>\n",
       "<tbody>\n",
       "\t<tr><td>TRUE </td><td>11493</td></tr>\n",
       "</tbody>\n",
       "</table>\n"
      ],
      "text/latex": [
       "\\begin{tabular}{r|ll}\n",
       " prem > 0 & n\\\\\n",
       "\\hline\n",
       "\t TRUE  & 11493\\\\\n",
       "\\end{tabular}\n"
      ],
      "text/markdown": [
       "\n",
       "| prem > 0 | n |\n",
       "|---|---|\n",
       "| TRUE  | 11493 |\n",
       "\n"
      ],
      "text/plain": [
       "  prem > 0 n    \n",
       "1 TRUE     11493"
      ]
     },
     "metadata": {},
     "output_type": "display_data"
    }
   ],
   "source": [
    "CONT4 %>% count(prem>0)"
   ]
  },
  {
   "cell_type": "markdown",
   "metadata": {},
   "source": [
    "* Using a simple function - \" as.numeric( substr( x,a,b) ) \""
   ]
  },
  {
   "cell_type": "code",
   "execution_count": 537,
   "metadata": {},
   "outputs": [],
   "source": [
    "subnum <- function(x, a, b) {\n",
    "    x <- substr(x, a, b)\n",
    "    x <- as.numeric(x)\n",
    "    return(x)\n",
    "}"
   ]
  },
  {
   "cell_type": "code",
   "execution_count": 538,
   "metadata": {},
   "outputs": [
    {
     "data": {
      "text/html": [
       "<table>\n",
       "<thead><tr><th scope=col>POL_SN</th><th scope=col>SCTR_CD</th><th scope=col>IS_GRP_INS</th><th scope=col>INS_GBN_CD</th><th scope=col>INS_CT_STAT_CD</th><th scope=col>CT_CNCLS_DT</th><th scope=col>CT_EFCTV_DT</th><th scope=col>CT_PY_AMT</th><th scope=col>CT_PY_PD</th><th scope=col>CT_PY_CYCLE_CD</th><th scope=col>CT_CHNL_CD</th><th scope=col>prem</th></tr></thead>\n",
       "<tbody>\n",
       "\t<tr><td>5051032</td><td>6      </td><td>0      </td><td> 5     </td><td>2      </td><td>201611 </td><td>202012 </td><td> 58    </td><td>15     </td><td>2      </td><td>3      </td><td> 2900  </td></tr>\n",
       "\t<tr><td>5404984</td><td>8      </td><td>0      </td><td>10     </td><td>2      </td><td>201108 </td><td>202012 </td><td> 65    </td><td>10     </td><td>2      </td><td>1      </td><td> 7345  </td></tr>\n",
       "\t<tr><td>8606415</td><td>6      </td><td>0      </td><td> 3     </td><td>2      </td><td>200612 </td><td>202012 </td><td>210    </td><td>20     </td><td>2      </td><td>1      </td><td>35490  </td></tr>\n",
       "\t<tr><td>9203625</td><td>6      </td><td>0      </td><td>13     </td><td>2      </td><td>201808 </td><td>202012 </td><td> 15    </td><td>10     </td><td>2      </td><td>7      </td><td>  435  </td></tr>\n",
       "\t<tr><td>9760630</td><td>8      </td><td>0      </td><td> 2     </td><td>2      </td><td>201404 </td><td>202012 </td><td> 90    </td><td> 7     </td><td>2      </td><td>6      </td><td> 7290  </td></tr>\n",
       "\t<tr><td>3539890</td><td>3      </td><td>0      </td><td> 4     </td><td>2      </td><td>201005 </td><td>202012 </td><td>  3    </td><td>20     </td><td>2      </td><td>1      </td><td>  384  </td></tr>\n",
       "</tbody>\n",
       "</table>\n"
      ],
      "text/latex": [
       "\\begin{tabular}{r|llllllllllll}\n",
       " POL\\_SN & SCTR\\_CD & IS\\_GRP\\_INS & INS\\_GBN\\_CD & INS\\_CT\\_STAT\\_CD & CT\\_CNCLS\\_DT & CT\\_EFCTV\\_DT & CT\\_PY\\_AMT & CT\\_PY\\_PD & CT\\_PY\\_CYCLE\\_CD & CT\\_CHNL\\_CD & prem\\\\\n",
       "\\hline\n",
       "\t 5051032 & 6       & 0       &  5      & 2       & 201611  & 202012  &  58     & 15      & 2       & 3       &  2900  \\\\\n",
       "\t 5404984 & 8       & 0       & 10      & 2       & 201108  & 202012  &  65     & 10      & 2       & 1       &  7345  \\\\\n",
       "\t 8606415 & 6       & 0       &  3      & 2       & 200612  & 202012  & 210     & 20      & 2       & 1       & 35490  \\\\\n",
       "\t 9203625 & 6       & 0       & 13      & 2       & 201808  & 202012  &  15     & 10      & 2       & 7       &   435  \\\\\n",
       "\t 9760630 & 8       & 0       &  2      & 2       & 201404  & 202012  &  90     &  7      & 2       & 6       &  7290  \\\\\n",
       "\t 3539890 & 3       & 0       &  4      & 2       & 201005  & 202012  &   3     & 20      & 2       & 1       &   384  \\\\\n",
       "\\end{tabular}\n"
      ],
      "text/markdown": [
       "\n",
       "| POL_SN | SCTR_CD | IS_GRP_INS | INS_GBN_CD | INS_CT_STAT_CD | CT_CNCLS_DT | CT_EFCTV_DT | CT_PY_AMT | CT_PY_PD | CT_PY_CYCLE_CD | CT_CHNL_CD | prem |\n",
       "|---|---|---|---|---|---|---|---|---|---|---|---|\n",
       "| 5051032 | 6       | 0       |  5      | 2       | 201611  | 202012  |  58     | 15      | 2       | 3       |  2900   |\n",
       "| 5404984 | 8       | 0       | 10      | 2       | 201108  | 202012  |  65     | 10      | 2       | 1       |  7345   |\n",
       "| 8606415 | 6       | 0       |  3      | 2       | 200612  | 202012  | 210     | 20      | 2       | 1       | 35490   |\n",
       "| 9203625 | 6       | 0       | 13      | 2       | 201808  | 202012  |  15     | 10      | 2       | 7       |   435   |\n",
       "| 9760630 | 8       | 0       |  2      | 2       | 201404  | 202012  |  90     |  7      | 2       | 6       |  7290   |\n",
       "| 3539890 | 3       | 0       |  4      | 2       | 201005  | 202012  |   3     | 20      | 2       | 1       |   384   |\n",
       "\n"
      ],
      "text/plain": [
       "  POL_SN  SCTR_CD IS_GRP_INS INS_GBN_CD INS_CT_STAT_CD CT_CNCLS_DT CT_EFCTV_DT\n",
       "1 5051032 6       0           5         2              201611      202012     \n",
       "2 5404984 8       0          10         2              201108      202012     \n",
       "3 8606415 6       0           3         2              200612      202012     \n",
       "4 9203625 6       0          13         2              201808      202012     \n",
       "5 9760630 8       0           2         2              201404      202012     \n",
       "6 3539890 3       0           4         2              201005      202012     \n",
       "  CT_PY_AMT CT_PY_PD CT_PY_CYCLE_CD CT_CHNL_CD prem \n",
       "1  58       15       2              3           2900\n",
       "2  65       10       2              1           7345\n",
       "3 210       20       2              1          35490\n",
       "4  15       10       2              7            435\n",
       "5  90        7       2              6           7290\n",
       "6   3       20       2              1            384"
      ]
     },
     "metadata": {},
     "output_type": "display_data"
    },
    {
     "data": {
      "text/html": [
       "<table>\n",
       "<thead><tr><th scope=col>POL_SN</th><th scope=col>SCTR_CD</th><th scope=col>IS_GRP_INS</th><th scope=col>INS_GBN_CD</th><th scope=col>INS_CT_STAT_CD</th><th scope=col>CT_CNCLS_DT</th><th scope=col>CT_EFCTV_DT</th><th scope=col>CT_PY_AMT</th><th scope=col>CT_PY_PD</th><th scope=col>CT_PY_CYCLE_CD</th><th scope=col>CT_CHNL_CD</th><th scope=col>prem</th></tr></thead>\n",
       "<tbody>\n",
       "\t<tr><td>5051032</td><td>6      </td><td>0      </td><td> 5     </td><td>2      </td><td>201611 </td><td>202012 </td><td> 58    </td><td>15     </td><td>2      </td><td>3      </td><td> 2900  </td></tr>\n",
       "\t<tr><td>5404984</td><td>8      </td><td>0      </td><td>10     </td><td>2      </td><td>201108 </td><td>202012 </td><td> 65    </td><td>10     </td><td>2      </td><td>1      </td><td> 7345  </td></tr>\n",
       "\t<tr><td>8606415</td><td>6      </td><td>0      </td><td> 3     </td><td>2      </td><td>200612 </td><td>202012 </td><td>210    </td><td>20     </td><td>2      </td><td>1      </td><td>35490  </td></tr>\n",
       "\t<tr><td>9203625</td><td>6      </td><td>0      </td><td>13     </td><td>2      </td><td>201808 </td><td>202012 </td><td> 15    </td><td>10     </td><td>2      </td><td>7      </td><td>  435  </td></tr>\n",
       "\t<tr><td>9760630</td><td>8      </td><td>0      </td><td> 2     </td><td>2      </td><td>201404 </td><td>202012 </td><td> 90    </td><td> 7     </td><td>2      </td><td>6      </td><td> 7290  </td></tr>\n",
       "\t<tr><td>3539890</td><td>3      </td><td>0      </td><td> 4     </td><td>2      </td><td>201005 </td><td>202012 </td><td>  3    </td><td>20     </td><td>2      </td><td>1      </td><td>  384  </td></tr>\n",
       "</tbody>\n",
       "</table>\n"
      ],
      "text/latex": [
       "\\begin{tabular}{r|llllllllllll}\n",
       " POL\\_SN & SCTR\\_CD & IS\\_GRP\\_INS & INS\\_GBN\\_CD & INS\\_CT\\_STAT\\_CD & CT\\_CNCLS\\_DT & CT\\_EFCTV\\_DT & CT\\_PY\\_AMT & CT\\_PY\\_PD & CT\\_PY\\_CYCLE\\_CD & CT\\_CHNL\\_CD & prem\\\\\n",
       "\\hline\n",
       "\t 5051032 & 6       & 0       &  5      & 2       & 201611  & 202012  &  58     & 15      & 2       & 3       &  2900  \\\\\n",
       "\t 5404984 & 8       & 0       & 10      & 2       & 201108  & 202012  &  65     & 10      & 2       & 1       &  7345  \\\\\n",
       "\t 8606415 & 6       & 0       &  3      & 2       & 200612  & 202012  & 210     & 20      & 2       & 1       & 35490  \\\\\n",
       "\t 9203625 & 6       & 0       & 13      & 2       & 201808  & 202012  &  15     & 10      & 2       & 7       &   435  \\\\\n",
       "\t 9760630 & 8       & 0       &  2      & 2       & 201404  & 202012  &  90     &  7      & 2       & 6       &  7290  \\\\\n",
       "\t 3539890 & 3       & 0       &  4      & 2       & 201005  & 202012  &   3     & 20      & 2       & 1       &   384  \\\\\n",
       "\\end{tabular}\n"
      ],
      "text/markdown": [
       "\n",
       "| POL_SN | SCTR_CD | IS_GRP_INS | INS_GBN_CD | INS_CT_STAT_CD | CT_CNCLS_DT | CT_EFCTV_DT | CT_PY_AMT | CT_PY_PD | CT_PY_CYCLE_CD | CT_CHNL_CD | prem |\n",
       "|---|---|---|---|---|---|---|---|---|---|---|---|\n",
       "| 5051032 | 6       | 0       |  5      | 2       | 201611  | 202012  |  58     | 15      | 2       | 3       |  2900   |\n",
       "| 5404984 | 8       | 0       | 10      | 2       | 201108  | 202012  |  65     | 10      | 2       | 1       |  7345   |\n",
       "| 8606415 | 6       | 0       |  3      | 2       | 200612  | 202012  | 210     | 20      | 2       | 1       | 35490   |\n",
       "| 9203625 | 6       | 0       | 13      | 2       | 201808  | 202012  |  15     | 10      | 2       | 7       |   435   |\n",
       "| 9760630 | 8       | 0       |  2      | 2       | 201404  | 202012  |  90     |  7      | 2       | 6       |  7290   |\n",
       "| 3539890 | 3       | 0       |  4      | 2       | 201005  | 202012  |   3     | 20      | 2       | 1       |   384   |\n",
       "\n"
      ],
      "text/plain": [
       "  POL_SN  SCTR_CD IS_GRP_INS INS_GBN_CD INS_CT_STAT_CD CT_CNCLS_DT CT_EFCTV_DT\n",
       "1 5051032 6       0           5         2              201611      202012     \n",
       "2 5404984 8       0          10         2              201108      202012     \n",
       "3 8606415 6       0           3         2              200612      202012     \n",
       "4 9203625 6       0          13         2              201808      202012     \n",
       "5 9760630 8       0           2         2              201404      202012     \n",
       "6 3539890 3       0           4         2              201005      202012     \n",
       "  CT_PY_AMT CT_PY_PD CT_PY_CYCLE_CD CT_CHNL_CD prem \n",
       "1  58       15       2              3           2900\n",
       "2  65       10       2              1           7345\n",
       "3 210       20       2              1          35490\n",
       "4  15       10       2              7            435\n",
       "5  90        7       2              6           7290\n",
       "6   3       20       2              1            384"
      ]
     },
     "metadata": {},
     "output_type": "display_data"
    }
   ],
   "source": [
    "CONT5 <- CONT3 %>% mutate( prem = ifelse(INS_CT_STAT_CD == 2, \n",
    "                                        ((2020 - subnum(CT_CNCLS_DT, 1, 4))*12 +(13-subnum(CT_CNCLS_DT,5,6)))*CT_PY_AMT,\n",
    "                                       ifelse(INS_CT_STAT_CD == 4, \n",
    "                                             ((subnum(CT_EFCTV_DT, 1,4)-subnum(CT_CNCLS_DT, 1,4))*12 + subnum(CT_EFCTV_DT, 5,6) -subnum(CT_EFCTV_DT, 5,6) )*CT_PY_AMT,\n",
    "                                             ifelse(INS_CT_STAT_CD == 7, \n",
    "                                                    ((subnum(CT_EFCTV_DT,1,4) - subnum(CT_CNCLS_DT,1,4))*12 + subnum(CT_EFCTV_DT, 5,6) - subnum(CT_CNCLS_DT, 5,6) ) * CT_PY_AMT,\n",
    "                                                  ifelse(INS_CT_STAT_CD == 5, \n",
    "                                                        (CT_PY_PD * 12 * CT_PY_AMT), '0' ) ) )))\n",
    "head(CONT5)\n",
    "\n",
    "\n",
    "# data.table\n",
    "#prem_st2 <- \"((2020 - subnum(CT_CNCLS_DT, 1, 4)*12 +(13-substr(CT_CNCLS_DT,5,6))))*CT_PY_AMT\"\n",
    "#prem_st4 <- ((subnum(CT_EFCTV_DT, 1,4)-subnum(CT_CNCLS_DT, 1,4))*12 + subnum(CT_EFCTV_DT, 5,6) -subnum(CT_EFCTV_DT, 5,6) )*CT_PYAMT\n",
    "\n",
    "CONT3_dt <- setDT(CONT3)\n",
    "CONT3_dt1 <- CONT3_dt[, prem := ifelse(INS_CT_STAT_CD == 2, \n",
    "                                        ((2020 - subnum(CT_CNCLS_DT, 1, 4))*12 +(13-subnum(CT_CNCLS_DT,5,6)))*CT_PY_AMT,\n",
    "                                       ifelse(INS_CT_STAT_CD == 4, \n",
    "                                             ((subnum(CT_EFCTV_DT, 1,4)-subnum(CT_CNCLS_DT, 1,4))*12 + subnum(CT_EFCTV_DT, 5,6) -subnum(CT_EFCTV_DT, 5,6) )*CT_PY_AMT,\n",
    "                                             ifelse(INS_CT_STAT_CD == 7, \n",
    "                                                    ((subnum(CT_EFCTV_DT,1,4) - subnum(CT_CNCLS_DT,1,4))*12 + subnum(CT_EFCTV_DT, 5,6) - subnum(CT_CNCLS_DT, 5,6) ) * CT_PY_AMT,\n",
    "                                                  ifelse(INS_CT_STAT_CD == 5, \n",
    "                                                        (CT_PY_PD * 12 * CT_PY_AMT), '0' ) ) ))]\n",
    "head(CONT3_dt1)\n",
    "\n",
    "\n"
   ]
  },
  {
   "cell_type": "code",
   "execution_count": 539,
   "metadata": {},
   "outputs": [],
   "source": [
    "fwrite(CONT5, \"gijun.csv\")"
   ]
  },
  {
   "cell_type": "markdown",
   "metadata": {},
   "source": [
    "* 'reduce' function in package 'purrr' "
   ]
  },
  {
   "cell_type": "markdown",
   "metadata": {},
   "source": [
    "### Multiple Join' (in case of left join)"
   ]
  },
  {
   "cell_type": "code",
   "execution_count": 540,
   "metadata": {},
   "outputs": [
    {
     "name": "stdout",
     "output_type": "stream",
     "text": [
      "[1] \"I. left_join in dplyr is used \"\n"
     ]
    },
    {
     "data": {
      "text/html": [
       "<ol class=list-inline>\n",
       "\t<li>11493</li>\n",
       "\t<li>27</li>\n",
       "</ol>\n"
      ],
      "text/latex": [
       "\\begin{enumerate*}\n",
       "\\item 11493\n",
       "\\item 27\n",
       "\\end{enumerate*}\n"
      ],
      "text/markdown": [
       "1. 11493\n",
       "2. 27\n",
       "\n",
       "\n"
      ],
      "text/plain": [
       "[1] 11493    27"
      ]
     },
     "metadata": {},
     "output_type": "display_data"
    },
    {
     "name": "stderr",
     "output_type": "stream",
     "text": [
      "Joining, by = \"POL_SN\"\n",
      "Joining, by = \"POL_SN\"\n"
     ]
    },
    {
     "name": "stdout",
     "output_type": "stream",
     "text": [
      "[1] \"II. left_join in dplyr is used \"\n"
     ]
    },
    {
     "data": {
      "text/html": [
       "<ol class=list-inline>\n",
       "\t<li>11493</li>\n",
       "\t<li>27</li>\n",
       "</ol>\n"
      ],
      "text/latex": [
       "\\begin{enumerate*}\n",
       "\\item 11493\n",
       "\\item 27\n",
       "\\end{enumerate*}\n"
      ],
      "text/markdown": [
       "1. 11493\n",
       "2. 27\n",
       "\n",
       "\n"
      ],
      "text/plain": [
       "[1] 11493    27"
      ]
     },
     "metadata": {},
     "output_type": "display_data"
    },
    {
     "name": "stderr",
     "output_type": "stream",
     "text": [
      "Joining, by = \"POL_SN\"\n",
      "Joining, by = \"POL_SN\"\n"
     ]
    },
    {
     "name": "stdout",
     "output_type": "stream",
     "text": [
      "[1] \"III. left_join in dplyr is used \"\n"
     ]
    },
    {
     "data": {
      "text/html": [
       "<ol class=list-inline>\n",
       "\t<li>11493</li>\n",
       "\t<li>27</li>\n",
       "</ol>\n"
      ],
      "text/latex": [
       "\\begin{enumerate*}\n",
       "\\item 11493\n",
       "\\item 27\n",
       "\\end{enumerate*}\n"
      ],
      "text/markdown": [
       "1. 11493\n",
       "2. 27\n",
       "\n",
       "\n"
      ],
      "text/plain": [
       "[1] 11493    27"
      ]
     },
     "metadata": {},
     "output_type": "display_data"
    },
    {
     "name": "stdout",
     "output_type": "stream",
     "text": [
      "[1] \"data.table in v1.9.5+\"\n"
     ]
    },
    {
     "data": {
      "text/html": [
       "<ol class=list-inline>\n",
       "\t<li>11493</li>\n",
       "\t<li>27</li>\n",
       "</ol>\n"
      ],
      "text/latex": [
       "\\begin{enumerate*}\n",
       "\\item 11493\n",
       "\\item 27\n",
       "\\end{enumerate*}\n"
      ],
      "text/markdown": [
       "1. 11493\n",
       "2. 27\n",
       "\n",
       "\n"
      ],
      "text/plain": [
       "[1] 11493    27"
      ]
     },
     "metadata": {},
     "output_type": "display_data"
    },
    {
     "name": "stdout",
     "output_type": "stream",
     "text": [
      "[1] \"data.table in v1.9.4\"\n"
     ]
    },
    {
     "data": {
      "text/html": [
       "<ol class=list-inline>\n",
       "\t<li>11493</li>\n",
       "\t<li>27</li>\n",
       "</ol>\n"
      ],
      "text/latex": [
       "\\begin{enumerate*}\n",
       "\\item 11493\n",
       "\\item 27\n",
       "\\end{enumerate*}\n"
      ],
      "text/markdown": [
       "1. 11493\n",
       "2. 27\n",
       "\n",
       "\n"
      ],
      "text/plain": [
       "[1] 11493    27"
      ]
     },
     "metadata": {},
     "output_type": "display_data"
    }
   ],
   "source": [
    "# dplyr/base left_join/Reduce\n",
    "\n",
    "JOIN <- list(CONT5, MGG6, PMNT5) %>% reduce(left_join, by = 'POL_SN')\n",
    "print('I. left_join in dplyr is used ')\n",
    "dim(JOIN)\n",
    "test1 <- Reduce(left_join, list(CONT5, MGG6, PMNT5)) # left_join : dplyr\n",
    "print('II. left_join in dplyr is used ')\n",
    "dim(test1)\n",
    "test2 <- Reduce(function(...) left_join(...), list(CONT5, MGG6, PMNT5)) # same syntax as above\n",
    "print('III. left_join in dplyr is used ')\n",
    "dim(test2)                \n",
    "                \n",
    "# LEFT JOIN 기본 형태 in data.table\n",
    "# y[x, on = \"Id\"]\n",
    "# merge(x, y, all.x = TRUE, by = \"Id\")\n",
    "# y[x]\n",
    "\n",
    "# data.table in v1.9.5+ : no setkey required\n",
    "new_dt <- PMNT5[MGG6, on = \"POL_SN\"][CONT5, on = \"POL_SN\"]\n",
    "print('data.table in v1.9.5+')\n",
    "dim(new_dt)\n",
    "                \n",
    "# data.table in v1.9.4 : must use setkey\n",
    "setkey(MGG6, \"POL_SN\")\n",
    "setkey(PMNT5, \"POL_SN\")\n",
    "old_dt <- Reduce(function(x,y) y[x, allow.cartesian =TRUE], list(CONT5, MGG6, PMNT5))\n",
    "print('data.table in v1.9.4')\n",
    "dim(old_dt)\n",
    "             "
   ]
  },
  {
   "cell_type": "code",
   "execution_count": 541,
   "metadata": {},
   "outputs": [
    {
     "data": {
      "text/html": [
       "<table>\n",
       "<thead><tr><th scope=col>POL_SN</th><th scope=col>SCTR_CD</th><th scope=col>IS_GRP_INS</th><th scope=col>INS_GBN_CD</th><th scope=col>INS_CT_STAT_CD</th><th scope=col>CT_CNCLS_DT</th><th scope=col>CT_EFCTV_DT</th><th scope=col>CT_PY_AMT</th><th scope=col>CT_PY_PD</th><th scope=col>CT_PY_CYCLE_CD</th><th scope=col>CT_CHNL_CD</th><th scope=col>prem</th><th scope=col>CNT1</th><th scope=col>CNT2</th><th scope=col>CNT3</th><th scope=col>CNT4</th><th scope=col>CNT5</th><th scope=col>AMT1</th><th scope=col>AMT2</th><th scope=col>AMT3</th><th scope=col>AMT4</th><th scope=col>AMT5</th><th scope=col>loss1</th><th scope=col>loss2</th><th scope=col>loss3</th><th scope=col>loss4</th><th scope=col>loss5</th></tr></thead>\n",
       "<tbody>\n",
       "\t<tr><td>5051032</td><td>6      </td><td>0      </td><td> 5     </td><td>2      </td><td>201611 </td><td>202012 </td><td> 58    </td><td>15     </td><td>2      </td><td>3      </td><td> 2900  </td><td> 2     </td><td> 3     </td><td> 0     </td><td> 0     </td><td> 0     </td><td>310000 </td><td>72000  </td><td> 0     </td><td>  0    </td><td> 0     </td><td>NA     </td><td>NA     </td><td>NA     </td><td>NA     </td><td>NA     </td></tr>\n",
       "\t<tr><td>5404984</td><td>8      </td><td>0      </td><td>10     </td><td>2      </td><td>201108 </td><td>202012 </td><td> 65    </td><td>10     </td><td>2      </td><td>1      </td><td> 7345  </td><td>NA     </td><td>NA     </td><td>NA     </td><td>NA     </td><td>NA     </td><td>    NA </td><td>   NA  </td><td>NA     </td><td> NA    </td><td>NA     </td><td>NA     </td><td>NA     </td><td>NA     </td><td>NA     </td><td>NA     </td></tr>\n",
       "\t<tr><td>8606415</td><td>6      </td><td>0      </td><td> 3     </td><td>2      </td><td>200612 </td><td>202012 </td><td>210    </td><td>20     </td><td>2      </td><td>1      </td><td>35490  </td><td>NA     </td><td>NA     </td><td>NA     </td><td>NA     </td><td>NA     </td><td>    NA </td><td>   NA  </td><td>NA     </td><td> NA    </td><td>NA     </td><td>NA     </td><td>NA     </td><td>NA     </td><td>NA     </td><td>NA     </td></tr>\n",
       "\t<tr><td>9203625</td><td>6      </td><td>0      </td><td>13     </td><td>2      </td><td>201808 </td><td>202012 </td><td> 15    </td><td>10     </td><td>2      </td><td>7      </td><td>  435  </td><td> 2     </td><td> 0     </td><td> 0     </td><td> 0     </td><td> 0     </td><td> 23000 </td><td>    0  </td><td> 0     </td><td>  0    </td><td> 0     </td><td>NA     </td><td>NA     </td><td>NA     </td><td>NA     </td><td>NA     </td></tr>\n",
       "\t<tr><td>9760630</td><td>8      </td><td>0      </td><td> 2     </td><td>2      </td><td>201404 </td><td>202012 </td><td> 90    </td><td> 7     </td><td>2      </td><td>6      </td><td> 7290  </td><td> 2     </td><td> 0     </td><td> 0     </td><td> 0     </td><td> 0     </td><td> 59000 </td><td>    0  </td><td> 0     </td><td>  0    </td><td> 0     </td><td>NA     </td><td>NA     </td><td>NA     </td><td>NA     </td><td>NA     </td></tr>\n",
       "\t<tr><td>3539890</td><td>3      </td><td>0      </td><td> 4     </td><td>2      </td><td>201005 </td><td>202012 </td><td>  3    </td><td>20     </td><td>2      </td><td>1      </td><td>  384  </td><td> 0     </td><td> 0     </td><td> 0     </td><td> 2     </td><td> 0     </td><td>     0 </td><td>    0  </td><td> 0     </td><td>200    </td><td> 0     </td><td>NA     </td><td>NA     </td><td>NA     </td><td>NA     </td><td>NA     </td></tr>\n",
       "</tbody>\n",
       "</table>\n"
      ],
      "text/latex": [
       "\\begin{tabular}{r|lllllllllllllllllllllllllll}\n",
       " POL\\_SN & SCTR\\_CD & IS\\_GRP\\_INS & INS\\_GBN\\_CD & INS\\_CT\\_STAT\\_CD & CT\\_CNCLS\\_DT & CT\\_EFCTV\\_DT & CT\\_PY\\_AMT & CT\\_PY\\_PD & CT\\_PY\\_CYCLE\\_CD & CT\\_CHNL\\_CD & prem & CNT1 & CNT2 & CNT3 & CNT4 & CNT5 & AMT1 & AMT2 & AMT3 & AMT4 & AMT5 & loss1 & loss2 & loss3 & loss4 & loss5\\\\\n",
       "\\hline\n",
       "\t 5051032 & 6       & 0       &  5      & 2       & 201611  & 202012  &  58     & 15      & 2       & 3       &  2900   &  2      &  3      &  0      &  0      &  0      & 310000  & 72000   &  0      &   0     &  0      & NA      & NA      & NA      & NA      & NA     \\\\\n",
       "\t 5404984 & 8       & 0       & 10      & 2       & 201108  & 202012  &  65     & 10      & 2       & 1       &  7345   & NA      & NA      & NA      & NA      & NA      &     NA  &    NA   & NA      &  NA     & NA      & NA      & NA      & NA      & NA      & NA     \\\\\n",
       "\t 8606415 & 6       & 0       &  3      & 2       & 200612  & 202012  & 210     & 20      & 2       & 1       & 35490   & NA      & NA      & NA      & NA      & NA      &     NA  &    NA   & NA      &  NA     & NA      & NA      & NA      & NA      & NA      & NA     \\\\\n",
       "\t 9203625 & 6       & 0       & 13      & 2       & 201808  & 202012  &  15     & 10      & 2       & 7       &   435   &  2      &  0      &  0      &  0      &  0      &  23000  &     0   &  0      &   0     &  0      & NA      & NA      & NA      & NA      & NA     \\\\\n",
       "\t 9760630 & 8       & 0       &  2      & 2       & 201404  & 202012  &  90     &  7      & 2       & 6       &  7290   &  2      &  0      &  0      &  0      &  0      &  59000  &     0   &  0      &   0     &  0      & NA      & NA      & NA      & NA      & NA     \\\\\n",
       "\t 3539890 & 3       & 0       &  4      & 2       & 201005  & 202012  &   3     & 20      & 2       & 1       &   384   &  0      &  0      &  0      &  2      &  0      &      0  &     0   &  0      & 200     &  0      & NA      & NA      & NA      & NA      & NA     \\\\\n",
       "\\end{tabular}\n"
      ],
      "text/markdown": [
       "\n",
       "| POL_SN | SCTR_CD | IS_GRP_INS | INS_GBN_CD | INS_CT_STAT_CD | CT_CNCLS_DT | CT_EFCTV_DT | CT_PY_AMT | CT_PY_PD | CT_PY_CYCLE_CD | CT_CHNL_CD | prem | CNT1 | CNT2 | CNT3 | CNT4 | CNT5 | AMT1 | AMT2 | AMT3 | AMT4 | AMT5 | loss1 | loss2 | loss3 | loss4 | loss5 |\n",
       "|---|---|---|---|---|---|---|---|---|---|---|---|---|---|---|---|---|---|---|---|---|---|---|---|---|---|---|\n",
       "| 5051032 | 6       | 0       |  5      | 2       | 201611  | 202012  |  58     | 15      | 2       | 3       |  2900   |  2      |  3      |  0      |  0      |  0      | 310000  | 72000   |  0      |   0     |  0      | NA      | NA      | NA      | NA      | NA      |\n",
       "| 5404984 | 8       | 0       | 10      | 2       | 201108  | 202012  |  65     | 10      | 2       | 1       |  7345   | NA      | NA      | NA      | NA      | NA      |     NA  |    NA   | NA      |  NA     | NA      | NA      | NA      | NA      | NA      | NA      |\n",
       "| 8606415 | 6       | 0       |  3      | 2       | 200612  | 202012  | 210     | 20      | 2       | 1       | 35490   | NA      | NA      | NA      | NA      | NA      |     NA  |    NA   | NA      |  NA     | NA      | NA      | NA      | NA      | NA      | NA      |\n",
       "| 9203625 | 6       | 0       | 13      | 2       | 201808  | 202012  |  15     | 10      | 2       | 7       |   435   |  2      |  0      |  0      |  0      |  0      |  23000  |     0   |  0      |   0     |  0      | NA      | NA      | NA      | NA      | NA      |\n",
       "| 9760630 | 8       | 0       |  2      | 2       | 201404  | 202012  |  90     |  7      | 2       | 6       |  7290   |  2      |  0      |  0      |  0      |  0      |  59000  |     0   |  0      |   0     |  0      | NA      | NA      | NA      | NA      | NA      |\n",
       "| 3539890 | 3       | 0       |  4      | 2       | 201005  | 202012  |   3     | 20      | 2       | 1       |   384   |  0      |  0      |  0      |  2      |  0      |      0  |     0   |  0      | 200     |  0      | NA      | NA      | NA      | NA      | NA      |\n",
       "\n"
      ],
      "text/plain": [
       "  POL_SN  SCTR_CD IS_GRP_INS INS_GBN_CD INS_CT_STAT_CD CT_CNCLS_DT CT_EFCTV_DT\n",
       "1 5051032 6       0           5         2              201611      202012     \n",
       "2 5404984 8       0          10         2              201108      202012     \n",
       "3 8606415 6       0           3         2              200612      202012     \n",
       "4 9203625 6       0          13         2              201808      202012     \n",
       "5 9760630 8       0           2         2              201404      202012     \n",
       "6 3539890 3       0           4         2              201005      202012     \n",
       "  CT_PY_AMT CT_PY_PD CT_PY_CYCLE_CD CT_CHNL_CD prem  CNT1 CNT2 CNT3 CNT4 CNT5\n",
       "1  58       15       2              3           2900  2    3    0    0    0  \n",
       "2  65       10       2              1           7345 NA   NA   NA   NA   NA  \n",
       "3 210       20       2              1          35490 NA   NA   NA   NA   NA  \n",
       "4  15       10       2              7            435  2    0    0    0    0  \n",
       "5  90        7       2              6           7290  2    0    0    0    0  \n",
       "6   3       20       2              1            384  0    0    0    2    0  \n",
       "  AMT1   AMT2  AMT3 AMT4 AMT5 loss1 loss2 loss3 loss4 loss5\n",
       "1 310000 72000  0     0   0   NA    NA    NA    NA    NA   \n",
       "2     NA    NA NA    NA  NA   NA    NA    NA    NA    NA   \n",
       "3     NA    NA NA    NA  NA   NA    NA    NA    NA    NA   \n",
       "4  23000     0  0     0   0   NA    NA    NA    NA    NA   \n",
       "5  59000     0  0     0   0   NA    NA    NA    NA    NA   \n",
       "6      0     0  0   200   0   NA    NA    NA    NA    NA   "
      ]
     },
     "metadata": {},
     "output_type": "display_data"
    }
   ],
   "source": [
    "#list(CONT5, MGG6, PMNT5)\n",
    "head(JOIN)"
   ]
  },
  {
   "cell_type": "markdown",
   "metadata": {},
   "source": [
    "- NA 를 0 으로 처리"
   ]
  },
  {
   "cell_type": "code",
   "execution_count": 542,
   "metadata": {},
   "outputs": [],
   "source": [
    "JOIN[is.na(JOIN)] <- 0"
   ]
  },
  {
   "cell_type": "code",
   "execution_count": 543,
   "metadata": {},
   "outputs": [],
   "source": [
    "fwrite(JOIN, \"JOIN_gijun_pay_pol\")"
   ]
  },
  {
   "cell_type": "code",
   "execution_count": 549,
   "metadata": {},
   "outputs": [
    {
     "data": {
      "text/html": [
       "11493"
      ],
      "text/latex": [
       "11493"
      ],
      "text/markdown": [
       "11493"
      ],
      "text/plain": [
       "[1] 11493"
      ]
     },
     "metadata": {},
     "output_type": "display_data"
    },
    {
     "data": {
      "text/html": [
       "11493"
      ],
      "text/latex": [
       "11493"
      ],
      "text/markdown": [
       "11493"
      ],
      "text/plain": [
       "[1] 11493"
      ]
     },
     "metadata": {},
     "output_type": "display_data"
    }
   ],
   "source": [
    "n_distinct(JOIN$POL_SN)\n",
    "nrow(JOIN)"
   ]
  },
  {
   "cell_type": "markdown",
   "metadata": {},
   "source": [
    "# 신용정보 테이블\n",
    "## 연체정보, 개인대출정보, 신용카드이용정보"
   ]
  },
  {
   "cell_type": "markdown",
   "metadata": {},
   "source": [
    "### 연체정보"
   ]
  },
  {
   "cell_type": "code",
   "execution_count": 550,
   "metadata": {},
   "outputs": [],
   "source": [
    "DLQ <- fread(\"SDBSAMPLE_A_DLQ.csv\", header = T, stringsAsFactors = T, sep = \",\")"
   ]
  },
  {
   "cell_type": "code",
   "execution_count": 551,
   "metadata": {},
   "outputs": [
    {
     "data": {
      "text/html": [
       "<table>\n",
       "<thead><tr><th scope=col>YM</th><th scope=col>JOIN_SN</th><th scope=col>JOIN_SN_TYP</th><th scope=col>BIZ_SN</th><th scope=col>SCTR_CD</th><th scope=col>COM_SN</th><th scope=col>IS_ME</th><th scope=col>DLQ_CD_1</th><th scope=col>DLQ_CD_2</th><th scope=col>DLQ_RGST_DT</th><th scope=col>DLQ_RGST_AMT</th><th scope=col>DLQ_AMT</th><th scope=col>RLS_RSN_CD</th><th scope=col>RLS_DT</th></tr></thead>\n",
       "<tbody>\n",
       "\t<tr><td>202004 </td><td>  56488</td><td>1      </td><td>0      </td><td>24     </td><td>3941527</td><td>0      </td><td>101    </td><td>0      </td><td>201606 </td><td>21000  </td><td>11000  </td><td> 0     </td><td>     0 </td></tr>\n",
       "\t<tr><td>202004 </td><td> 818279</td><td>1      </td><td>0      </td><td> 1     </td><td>8576723</td><td>0      </td><td>101    </td><td>7      </td><td>201205 </td><td> 2000  </td><td> 2000  </td><td>99     </td><td>201905 </td></tr>\n",
       "\t<tr><td>201909 </td><td>1881966</td><td>1      </td><td>0      </td><td>24     </td><td>  11775</td><td>0      </td><td>101    </td><td>0      </td><td>201601 </td><td> 3600  </td><td> 3600  </td><td> 0     </td><td>     0 </td></tr>\n",
       "\t<tr><td>201911 </td><td>1008217</td><td>1      </td><td>0      </td><td>24     </td><td>6135237</td><td>0      </td><td>101    </td><td>0      </td><td>201709 </td><td>  780  </td><td>  780  </td><td> 0     </td><td>     0 </td></tr>\n",
       "\t<tr><td>201905 </td><td>1227143</td><td>1      </td><td>0      </td><td> 3     </td><td>4800458</td><td>0      </td><td>101    </td><td>7      </td><td>201301 </td><td>10000  </td><td>10000  </td><td> 0     </td><td>     0 </td></tr>\n",
       "\t<tr><td>201901 </td><td> 877396</td><td>1      </td><td>0      </td><td> 3     </td><td>1832907</td><td>0      </td><td>203    </td><td>0      </td><td>201212 </td><td> 3200  </td><td> 3200  </td><td> 0     </td><td>     0 </td></tr>\n",
       "</tbody>\n",
       "</table>\n"
      ],
      "text/latex": [
       "\\begin{tabular}{r|llllllllllllll}\n",
       " YM & JOIN\\_SN & JOIN\\_SN\\_TYP & BIZ\\_SN & SCTR\\_CD & COM\\_SN & IS\\_ME & DLQ\\_CD\\_1 & DLQ\\_CD\\_2 & DLQ\\_RGST\\_DT & DLQ\\_RGST\\_AMT & DLQ\\_AMT & RLS\\_RSN\\_CD & RLS\\_DT\\\\\n",
       "\\hline\n",
       "\t 202004  &   56488 & 1       & 0       & 24      & 3941527 & 0       & 101     & 0       & 201606  & 21000   & 11000   &  0      &      0 \\\\\n",
       "\t 202004  &  818279 & 1       & 0       &  1      & 8576723 & 0       & 101     & 7       & 201205  &  2000   &  2000   & 99      & 201905 \\\\\n",
       "\t 201909  & 1881966 & 1       & 0       & 24      &   11775 & 0       & 101     & 0       & 201601  &  3600   &  3600   &  0      &      0 \\\\\n",
       "\t 201911  & 1008217 & 1       & 0       & 24      & 6135237 & 0       & 101     & 0       & 201709  &   780   &   780   &  0      &      0 \\\\\n",
       "\t 201905  & 1227143 & 1       & 0       &  3      & 4800458 & 0       & 101     & 7       & 201301  & 10000   & 10000   &  0      &      0 \\\\\n",
       "\t 201901  &  877396 & 1       & 0       &  3      & 1832907 & 0       & 203     & 0       & 201212  &  3200   &  3200   &  0      &      0 \\\\\n",
       "\\end{tabular}\n"
      ],
      "text/markdown": [
       "\n",
       "| YM | JOIN_SN | JOIN_SN_TYP | BIZ_SN | SCTR_CD | COM_SN | IS_ME | DLQ_CD_1 | DLQ_CD_2 | DLQ_RGST_DT | DLQ_RGST_AMT | DLQ_AMT | RLS_RSN_CD | RLS_DT |\n",
       "|---|---|---|---|---|---|---|---|---|---|---|---|---|---|\n",
       "| 202004  |   56488 | 1       | 0       | 24      | 3941527 | 0       | 101     | 0       | 201606  | 21000   | 11000   |  0      |      0  |\n",
       "| 202004  |  818279 | 1       | 0       |  1      | 8576723 | 0       | 101     | 7       | 201205  |  2000   |  2000   | 99      | 201905  |\n",
       "| 201909  | 1881966 | 1       | 0       | 24      |   11775 | 0       | 101     | 0       | 201601  |  3600   |  3600   |  0      |      0  |\n",
       "| 201911  | 1008217 | 1       | 0       | 24      | 6135237 | 0       | 101     | 0       | 201709  |   780   |   780   |  0      |      0  |\n",
       "| 201905  | 1227143 | 1       | 0       |  3      | 4800458 | 0       | 101     | 7       | 201301  | 10000   | 10000   |  0      |      0  |\n",
       "| 201901  |  877396 | 1       | 0       |  3      | 1832907 | 0       | 203     | 0       | 201212  |  3200   |  3200   |  0      |      0  |\n",
       "\n"
      ],
      "text/plain": [
       "  YM     JOIN_SN JOIN_SN_TYP BIZ_SN SCTR_CD COM_SN  IS_ME DLQ_CD_1 DLQ_CD_2\n",
       "1 202004   56488 1           0      24      3941527 0     101      0       \n",
       "2 202004  818279 1           0       1      8576723 0     101      7       \n",
       "3 201909 1881966 1           0      24        11775 0     101      0       \n",
       "4 201911 1008217 1           0      24      6135237 0     101      0       \n",
       "5 201905 1227143 1           0       3      4800458 0     101      7       \n",
       "6 201901  877396 1           0       3      1832907 0     203      0       \n",
       "  DLQ_RGST_DT DLQ_RGST_AMT DLQ_AMT RLS_RSN_CD RLS_DT\n",
       "1 201606      21000        11000    0              0\n",
       "2 201205       2000         2000   99         201905\n",
       "3 201601       3600         3600    0              0\n",
       "4 201709        780          780    0              0\n",
       "5 201301      10000        10000    0              0\n",
       "6 201212       3200         3200    0              0"
      ]
     },
     "metadata": {},
     "output_type": "display_data"
    }
   ],
   "source": [
    "head(DLQ)"
   ]
  },
  {
   "cell_type": "code",
   "execution_count": 552,
   "metadata": {},
   "outputs": [],
   "source": [
    "# dplyr\n",
    "DLQ1 <- DLQ %>% subset(select = c('YM', 'JOIN_SN', 'DLQ_AMT', 'RLS_RSN_CD'))\n",
    "\n",
    "# data.table\n",
    "DLQ_dt <- DLQ[,c('YM', 'JOIN_SN', 'DLQ_AMT', 'RLS_RSN_CD')]"
   ]
  },
  {
   "cell_type": "code",
   "execution_count": 553,
   "metadata": {},
   "outputs": [
    {
     "data": {
      "text/html": [
       "<table>\n",
       "<thead><tr><th scope=col>YM</th><th scope=col>JOIN_SN</th><th scope=col>DLQ_AMT</th><th scope=col>RLS_RSN_CD</th></tr></thead>\n",
       "<tbody>\n",
       "\t<tr><td>202004 </td><td>  56488</td><td>11000  </td><td> 0     </td></tr>\n",
       "\t<tr><td>202004 </td><td> 818279</td><td> 2000  </td><td>99     </td></tr>\n",
       "\t<tr><td>201909 </td><td>1881966</td><td> 3600  </td><td> 0     </td></tr>\n",
       "\t<tr><td>201911 </td><td>1008217</td><td>  780  </td><td> 0     </td></tr>\n",
       "\t<tr><td>201905 </td><td>1227143</td><td>10000  </td><td> 0     </td></tr>\n",
       "\t<tr><td>201901 </td><td> 877396</td><td> 3200  </td><td> 0     </td></tr>\n",
       "</tbody>\n",
       "</table>\n"
      ],
      "text/latex": [
       "\\begin{tabular}{r|llll}\n",
       " YM & JOIN\\_SN & DLQ\\_AMT & RLS\\_RSN\\_CD\\\\\n",
       "\\hline\n",
       "\t 202004  &   56488 & 11000   &  0     \\\\\n",
       "\t 202004  &  818279 &  2000   & 99     \\\\\n",
       "\t 201909  & 1881966 &  3600   &  0     \\\\\n",
       "\t 201911  & 1008217 &   780   &  0     \\\\\n",
       "\t 201905  & 1227143 & 10000   &  0     \\\\\n",
       "\t 201901  &  877396 &  3200   &  0     \\\\\n",
       "\\end{tabular}\n"
      ],
      "text/markdown": [
       "\n",
       "| YM | JOIN_SN | DLQ_AMT | RLS_RSN_CD |\n",
       "|---|---|---|---|\n",
       "| 202004  |   56488 | 11000   |  0      |\n",
       "| 202004  |  818279 |  2000   | 99      |\n",
       "| 201909  | 1881966 |  3600   |  0      |\n",
       "| 201911  | 1008217 |   780   |  0      |\n",
       "| 201905  | 1227143 | 10000   |  0      |\n",
       "| 201901  |  877396 |  3200   |  0      |\n",
       "\n"
      ],
      "text/plain": [
       "  YM     JOIN_SN DLQ_AMT RLS_RSN_CD\n",
       "1 202004   56488 11000    0        \n",
       "2 202004  818279  2000   99        \n",
       "3 201909 1881966  3600    0        \n",
       "4 201911 1008217   780    0        \n",
       "5 201905 1227143 10000    0        \n",
       "6 201901  877396  3200    0        "
      ]
     },
     "metadata": {},
     "output_type": "display_data"
    }
   ],
   "source": [
    "head(DLQ1)"
   ]
  },
  {
   "cell_type": "code",
   "execution_count": 554,
   "metadata": {},
   "outputs": [
    {
     "name": "stdout",
     "output_type": "stream",
     "text": [
      "[1] \"dplyr\"\n"
     ]
    },
    {
     "data": {
      "text/html": [
       "<table>\n",
       "<thead><tr><th scope=col>RLS_RSN_CD</th><th scope=col>n</th></tr></thead>\n",
       "<tbody>\n",
       "\t<tr><td> 0  </td><td>2903</td></tr>\n",
       "\t<tr><td> 1  </td><td>  27</td></tr>\n",
       "\t<tr><td> 6  </td><td>  13</td></tr>\n",
       "\t<tr><td> 7  </td><td>  24</td></tr>\n",
       "\t<tr><td>10  </td><td>  12</td></tr>\n",
       "\t<tr><td>14  </td><td>   9</td></tr>\n",
       "\t<tr><td>16  </td><td>   4</td></tr>\n",
       "\t<tr><td>99  </td><td> 264</td></tr>\n",
       "</tbody>\n",
       "</table>\n"
      ],
      "text/latex": [
       "\\begin{tabular}{r|ll}\n",
       " RLS\\_RSN\\_CD & n\\\\\n",
       "\\hline\n",
       "\t  0   & 2903\\\\\n",
       "\t  1   &   27\\\\\n",
       "\t  6   &   13\\\\\n",
       "\t  7   &   24\\\\\n",
       "\t 10   &   12\\\\\n",
       "\t 14   &    9\\\\\n",
       "\t 16   &    4\\\\\n",
       "\t 99   &  264\\\\\n",
       "\\end{tabular}\n"
      ],
      "text/markdown": [
       "\n",
       "| RLS_RSN_CD | n |\n",
       "|---|---|\n",
       "|  0   | 2903 |\n",
       "|  1   |   27 |\n",
       "|  6   |   13 |\n",
       "|  7   |   24 |\n",
       "| 10   |   12 |\n",
       "| 14   |    9 |\n",
       "| 16   |    4 |\n",
       "| 99   |  264 |\n",
       "\n"
      ],
      "text/plain": [
       "  RLS_RSN_CD n   \n",
       "1  0         2903\n",
       "2  1           27\n",
       "3  6           13\n",
       "4  7           24\n",
       "5 10           12\n",
       "6 14            9\n",
       "7 16            4\n",
       "8 99          264"
      ]
     },
     "metadata": {},
     "output_type": "display_data"
    },
    {
     "name": "stdout",
     "output_type": "stream",
     "text": [
      "[1] \"data.table\"\n"
     ]
    },
    {
     "data": {
      "text/html": [
       "<table>\n",
       "<thead><tr><th scope=col>RLS_RSN_CD</th><th scope=col>N</th></tr></thead>\n",
       "<tbody>\n",
       "\t<tr><td> 0  </td><td>2903</td></tr>\n",
       "\t<tr><td> 1  </td><td>  27</td></tr>\n",
       "\t<tr><td> 6  </td><td>  13</td></tr>\n",
       "\t<tr><td> 7  </td><td>  24</td></tr>\n",
       "\t<tr><td>10  </td><td>  12</td></tr>\n",
       "\t<tr><td>14  </td><td>   9</td></tr>\n",
       "\t<tr><td>16  </td><td>   4</td></tr>\n",
       "\t<tr><td>99  </td><td> 264</td></tr>\n",
       "</tbody>\n",
       "</table>\n"
      ],
      "text/latex": [
       "\\begin{tabular}{r|ll}\n",
       " RLS\\_RSN\\_CD & N\\\\\n",
       "\\hline\n",
       "\t  0   & 2903\\\\\n",
       "\t  1   &   27\\\\\n",
       "\t  6   &   13\\\\\n",
       "\t  7   &   24\\\\\n",
       "\t 10   &   12\\\\\n",
       "\t 14   &    9\\\\\n",
       "\t 16   &    4\\\\\n",
       "\t 99   &  264\\\\\n",
       "\\end{tabular}\n"
      ],
      "text/markdown": [
       "\n",
       "| RLS_RSN_CD | N |\n",
       "|---|---|\n",
       "|  0   | 2903 |\n",
       "|  1   |   27 |\n",
       "|  6   |   13 |\n",
       "|  7   |   24 |\n",
       "| 10   |   12 |\n",
       "| 14   |    9 |\n",
       "| 16   |    4 |\n",
       "| 99   |  264 |\n",
       "\n"
      ],
      "text/plain": [
       "  RLS_RSN_CD N   \n",
       "1  0         2903\n",
       "2  1           27\n",
       "3  6           13\n",
       "4  7           24\n",
       "5 10           12\n",
       "6 14            9\n",
       "7 16            4\n",
       "8 99          264"
      ]
     },
     "metadata": {},
     "output_type": "display_data"
    }
   ],
   "source": [
    "# dplyr\n",
    "print('dplyr')\n",
    "DLQ1 %>% group_by(RLS_RSN_CD) %>% count() %>% as.data.frame(.)\n",
    "\n",
    "\n",
    "# data.table\n",
    "DLQ1_dt <- setDT(DLQ1)\n",
    "DLQ1_dt1 <- DLQ1_dt[, .N , by = RLS_RSN_CD][order(RLS_RSN_CD)]\n",
    "print('data.table')\n",
    "DLQ1_dt1"
   ]
  },
  {
   "cell_type": "markdown",
   "metadata": {},
   "source": [
    "* RLS_RSN_CD = 0 : 연체중, 월별 하나 이상의 연체정보 SUM"
   ]
  },
  {
   "cell_type": "code",
   "execution_count": 555,
   "metadata": {},
   "outputs": [
    {
     "name": "stdout",
     "output_type": "stream",
     "text": [
      "[1] \"dplyr\"\n"
     ]
    },
    {
     "data": {
      "text/html": [
       "<table>\n",
       "<thead><tr><th scope=col>JOIN_SN</th><th scope=col>YM</th><th scope=col>AMT</th></tr></thead>\n",
       "<tbody>\n",
       "\t<tr><td>18917 </td><td>202002</td><td>1000  </td></tr>\n",
       "\t<tr><td>18917 </td><td>202003</td><td>1200  </td></tr>\n",
       "\t<tr><td>18917 </td><td>202004</td><td>5000  </td></tr>\n",
       "\t<tr><td>18917 </td><td>202005</td><td>9800  </td></tr>\n",
       "\t<tr><td>18917 </td><td>202006</td><td>8400  </td></tr>\n",
       "\t<tr><td>56488 </td><td>201806</td><td>3600  </td></tr>\n",
       "</tbody>\n",
       "</table>\n"
      ],
      "text/latex": [
       "\\begin{tabular}{r|lll}\n",
       " JOIN\\_SN & YM & AMT\\\\\n",
       "\\hline\n",
       "\t 18917  & 202002 & 1000  \\\\\n",
       "\t 18917  & 202003 & 1200  \\\\\n",
       "\t 18917  & 202004 & 5000  \\\\\n",
       "\t 18917  & 202005 & 9800  \\\\\n",
       "\t 18917  & 202006 & 8400  \\\\\n",
       "\t 56488  & 201806 & 3600  \\\\\n",
       "\\end{tabular}\n"
      ],
      "text/markdown": [
       "\n",
       "| JOIN_SN | YM | AMT |\n",
       "|---|---|---|\n",
       "| 18917  | 202002 | 1000   |\n",
       "| 18917  | 202003 | 1200   |\n",
       "| 18917  | 202004 | 5000   |\n",
       "| 18917  | 202005 | 9800   |\n",
       "| 18917  | 202006 | 8400   |\n",
       "| 56488  | 201806 | 3600   |\n",
       "\n"
      ],
      "text/plain": [
       "  JOIN_SN YM     AMT \n",
       "1 18917   202002 1000\n",
       "2 18917   202003 1200\n",
       "3 18917   202004 5000\n",
       "4 18917   202005 9800\n",
       "5 18917   202006 8400\n",
       "6 56488   201806 3600"
      ]
     },
     "metadata": {},
     "output_type": "display_data"
    },
    {
     "name": "stdout",
     "output_type": "stream",
     "text": [
      "[1] \"data.table\"\n"
     ]
    },
    {
     "data": {
      "text/html": [
       "<table>\n",
       "<thead><tr><th scope=col>JOIN_SN</th><th scope=col>YM</th><th scope=col>AMT</th></tr></thead>\n",
       "<tbody>\n",
       "\t<tr><td>18917 </td><td>202002</td><td>1000  </td></tr>\n",
       "\t<tr><td>18917 </td><td>202003</td><td>1200  </td></tr>\n",
       "\t<tr><td>18917 </td><td>202004</td><td>5000  </td></tr>\n",
       "\t<tr><td>18917 </td><td>202005</td><td>9800  </td></tr>\n",
       "\t<tr><td>18917 </td><td>202006</td><td>8400  </td></tr>\n",
       "\t<tr><td>56488 </td><td>201806</td><td>3600  </td></tr>\n",
       "</tbody>\n",
       "</table>\n"
      ],
      "text/latex": [
       "\\begin{tabular}{r|lll}\n",
       " JOIN\\_SN & YM & AMT\\\\\n",
       "\\hline\n",
       "\t 18917  & 202002 & 1000  \\\\\n",
       "\t 18917  & 202003 & 1200  \\\\\n",
       "\t 18917  & 202004 & 5000  \\\\\n",
       "\t 18917  & 202005 & 9800  \\\\\n",
       "\t 18917  & 202006 & 8400  \\\\\n",
       "\t 56488  & 201806 & 3600  \\\\\n",
       "\\end{tabular}\n"
      ],
      "text/markdown": [
       "\n",
       "| JOIN_SN | YM | AMT |\n",
       "|---|---|---|\n",
       "| 18917  | 202002 | 1000   |\n",
       "| 18917  | 202003 | 1200   |\n",
       "| 18917  | 202004 | 5000   |\n",
       "| 18917  | 202005 | 9800   |\n",
       "| 18917  | 202006 | 8400   |\n",
       "| 56488  | 201806 | 3600   |\n",
       "\n"
      ],
      "text/plain": [
       "  JOIN_SN YM     AMT \n",
       "1 18917   202002 1000\n",
       "2 18917   202003 1200\n",
       "3 18917   202004 5000\n",
       "4 18917   202005 9800\n",
       "5 18917   202006 8400\n",
       "6 56488   201806 3600"
      ]
     },
     "metadata": {},
     "output_type": "display_data"
    }
   ],
   "source": [
    "# dplyr\n",
    "DLQ2 <- DLQ1 %>% filter(RLS_RSN_CD == 0) %>% group_by(JOIN_SN, YM) %>% summarise(AMT = sum(DLQ_AMT)) %>% as.data.frame(.)\n",
    "print('dplyr')\n",
    "head(DLQ2)\n",
    "\n",
    "# data.table\n",
    "DLQ1_dt <- setDT(DLQ1)\n",
    "DLQ1_dt1 <- DLQ1_dt[RLS_RSN_CD == 0][, .(AMT = sum(DLQ_AMT)), keyby  = c('JOIN_SN', 'YM')]\n",
    "print('data.table')\n",
    "head(DLQ1_dt1)"
   ]
  },
  {
   "cell_type": "code",
   "execution_count": 556,
   "metadata": {},
   "outputs": [
    {
     "data": {
      "text/html": [
       "<ol class=list-inline>\n",
       "\t<li>'JOIN_SN'</li>\n",
       "\t<li>'YM'</li>\n",
       "\t<li>'AMT'</li>\n",
       "</ol>\n"
      ],
      "text/latex": [
       "\\begin{enumerate*}\n",
       "\\item 'JOIN\\_SN'\n",
       "\\item 'YM'\n",
       "\\item 'AMT'\n",
       "\\end{enumerate*}\n"
      ],
      "text/markdown": [
       "1. 'JOIN_SN'\n",
       "2. 'YM'\n",
       "3. 'AMT'\n",
       "\n",
       "\n"
      ],
      "text/plain": [
       "[1] \"JOIN_SN\" \"YM\"      \"AMT\"    "
      ]
     },
     "metadata": {},
     "output_type": "display_data"
    }
   ],
   "source": [
    "colnames(DLQ2)"
   ]
  },
  {
   "cell_type": "code",
   "execution_count": 557,
   "metadata": {},
   "outputs": [
    {
     "data": {
      "text/html": [
       "<table>\n",
       "<thead><tr><th scope=col>JOIN_SN</th><th scope=col>YM</th><th scope=col>AMT</th></tr></thead>\n",
       "<tbody>\n",
       "\t<tr><td>18917 </td><td>202002</td><td>1000  </td></tr>\n",
       "\t<tr><td>18917 </td><td>202003</td><td>1200  </td></tr>\n",
       "\t<tr><td>18917 </td><td>202004</td><td>5000  </td></tr>\n",
       "\t<tr><td>18917 </td><td>202005</td><td>9800  </td></tr>\n",
       "\t<tr><td>18917 </td><td>202006</td><td>8400  </td></tr>\n",
       "\t<tr><td>56488 </td><td>201806</td><td>3600  </td></tr>\n",
       "</tbody>\n",
       "</table>\n"
      ],
      "text/latex": [
       "\\begin{tabular}{r|lll}\n",
       " JOIN\\_SN & YM & AMT\\\\\n",
       "\\hline\n",
       "\t 18917  & 202002 & 1000  \\\\\n",
       "\t 18917  & 202003 & 1200  \\\\\n",
       "\t 18917  & 202004 & 5000  \\\\\n",
       "\t 18917  & 202005 & 9800  \\\\\n",
       "\t 18917  & 202006 & 8400  \\\\\n",
       "\t 56488  & 201806 & 3600  \\\\\n",
       "\\end{tabular}\n"
      ],
      "text/markdown": [
       "\n",
       "| JOIN_SN | YM | AMT |\n",
       "|---|---|---|\n",
       "| 18917  | 202002 | 1000   |\n",
       "| 18917  | 202003 | 1200   |\n",
       "| 18917  | 202004 | 5000   |\n",
       "| 18917  | 202005 | 9800   |\n",
       "| 18917  | 202006 | 8400   |\n",
       "| 56488  | 201806 | 3600   |\n",
       "\n"
      ],
      "text/plain": [
       "  JOIN_SN YM     AMT \n",
       "1 18917   202002 1000\n",
       "2 18917   202003 1200\n",
       "3 18917   202004 5000\n",
       "4 18917   202005 9800\n",
       "5 18917   202006 8400\n",
       "6 56488   201806 3600"
      ]
     },
     "metadata": {},
     "output_type": "display_data"
    }
   ],
   "source": [
    "head(DLQ2)"
   ]
  },
  {
   "cell_type": "markdown",
   "metadata": {},
   "source": [
    "* 월평균 연체금액"
   ]
  },
  {
   "cell_type": "code",
   "execution_count": 430,
   "metadata": {},
   "outputs": [
    {
     "name": "stdout",
     "output_type": "stream",
     "text": [
      "[1] \"dplyr\"\n"
     ]
    },
    {
     "data": {
      "text/html": [
       "<table>\n",
       "<thead><tr><th scope=col>JOIN_SN</th><th scope=col>yunche</th></tr></thead>\n",
       "<tbody>\n",
       "\t<tr><td> 18917  </td><td>  5080.0</td></tr>\n",
       "\t<tr><td> 56488  </td><td>  9576.0</td></tr>\n",
       "\t<tr><td> 67310  </td><td>   180.0</td></tr>\n",
       "\t<tr><td> 70442  </td><td>   950.0</td></tr>\n",
       "\t<tr><td>104701  </td><td>  1512.5</td></tr>\n",
       "\t<tr><td>105484  </td><td>110000.0</td></tr>\n",
       "</tbody>\n",
       "</table>\n"
      ],
      "text/latex": [
       "\\begin{tabular}{r|ll}\n",
       " JOIN\\_SN & yunche\\\\\n",
       "\\hline\n",
       "\t  18917   &   5080.0\\\\\n",
       "\t  56488   &   9576.0\\\\\n",
       "\t  67310   &    180.0\\\\\n",
       "\t  70442   &    950.0\\\\\n",
       "\t 104701   &   1512.5\\\\\n",
       "\t 105484   & 110000.0\\\\\n",
       "\\end{tabular}\n"
      ],
      "text/markdown": [
       "\n",
       "| JOIN_SN | yunche |\n",
       "|---|---|\n",
       "|  18917   |   5080.0 |\n",
       "|  56488   |   9576.0 |\n",
       "|  67310   |    180.0 |\n",
       "|  70442   |    950.0 |\n",
       "| 104701   |   1512.5 |\n",
       "| 105484   | 110000.0 |\n",
       "\n"
      ],
      "text/plain": [
       "  JOIN_SN yunche  \n",
       "1  18917    5080.0\n",
       "2  56488    9576.0\n",
       "3  67310     180.0\n",
       "4  70442     950.0\n",
       "5 104701    1512.5\n",
       "6 105484  110000.0"
      ]
     },
     "metadata": {},
     "output_type": "display_data"
    },
    {
     "name": "stdout",
     "output_type": "stream",
     "text": [
      "[1] \"data.table\"\n"
     ]
    },
    {
     "data": {
      "text/html": [
       "<table>\n",
       "<thead><tr><th scope=col>JOIN_SN</th><th scope=col>yunche</th></tr></thead>\n",
       "<tbody>\n",
       "\t<tr><td> 18917  </td><td>  5080.0</td></tr>\n",
       "\t<tr><td> 56488  </td><td>  9576.0</td></tr>\n",
       "\t<tr><td> 67310  </td><td>   180.0</td></tr>\n",
       "\t<tr><td> 70442  </td><td>   950.0</td></tr>\n",
       "\t<tr><td>104701  </td><td>  1512.5</td></tr>\n",
       "\t<tr><td>105484  </td><td>110000.0</td></tr>\n",
       "</tbody>\n",
       "</table>\n"
      ],
      "text/latex": [
       "\\begin{tabular}{r|ll}\n",
       " JOIN\\_SN & yunche\\\\\n",
       "\\hline\n",
       "\t  18917   &   5080.0\\\\\n",
       "\t  56488   &   9576.0\\\\\n",
       "\t  67310   &    180.0\\\\\n",
       "\t  70442   &    950.0\\\\\n",
       "\t 104701   &   1512.5\\\\\n",
       "\t 105484   & 110000.0\\\\\n",
       "\\end{tabular}\n"
      ],
      "text/markdown": [
       "\n",
       "| JOIN_SN | yunche |\n",
       "|---|---|\n",
       "|  18917   |   5080.0 |\n",
       "|  56488   |   9576.0 |\n",
       "|  67310   |    180.0 |\n",
       "|  70442   |    950.0 |\n",
       "| 104701   |   1512.5 |\n",
       "| 105484   | 110000.0 |\n",
       "\n"
      ],
      "text/plain": [
       "  JOIN_SN yunche  \n",
       "1  18917    5080.0\n",
       "2  56488    9576.0\n",
       "3  67310     180.0\n",
       "4  70442     950.0\n",
       "5 104701    1512.5\n",
       "6 105484  110000.0"
      ]
     },
     "metadata": {},
     "output_type": "display_data"
    }
   ],
   "source": [
    "DLQ3 <- DLQ2 %>% group_by(JOIN_SN) %>% summarise(yunche = mean(AMT)) %>% as.data.frame(.)\n",
    "print('dplyr')\n",
    "head(DLQ3)\n",
    "\n",
    "DLQ2_dt <- setDT(DLQ2)[, .(yunche = mean(AMT)), by = \"JOIN_SN\"]\n",
    "print('data.table')\n",
    "head(DLQ2_dt)"
   ]
  },
  {
   "cell_type": "code",
   "execution_count": 431,
   "metadata": {},
   "outputs": [],
   "source": [
    "fwrite(DLQ3, \"yunche.csv\")"
   ]
  },
  {
   "cell_type": "markdown",
   "metadata": {},
   "source": [
    "### 대출정보 (대부업권)"
   ]
  },
  {
   "cell_type": "code",
   "execution_count": 433,
   "metadata": {},
   "outputs": [],
   "source": [
    "SP <- fread(\"SDBSAMPLE_P_LN_SP.csv\", header = T, stringsAsFactors = T, sep = \",\")"
   ]
  },
  {
   "cell_type": "code",
   "execution_count": 438,
   "metadata": {},
   "outputs": [
    {
     "name": "stdout",
     "output_type": "stream",
     "text": [
      "[1] \"dplyr\"\n"
     ]
    },
    {
     "data": {
      "text/html": [
       "<table>\n",
       "<thead><tr><th scope=col>JOIN_SN</th><th scope=col>deachul</th></tr></thead>\n",
       "<tbody>\n",
       "\t<tr><td>  9212  </td><td> 1688.00</td></tr>\n",
       "\t<tr><td> 53824  </td><td> 5200.00</td></tr>\n",
       "\t<tr><td> 56488  </td><td> 9750.00</td></tr>\n",
       "\t<tr><td>196289  </td><td>  721.00</td></tr>\n",
       "\t<tr><td>207492  </td><td>10666.67</td></tr>\n",
       "\t<tr><td>232560  </td><td> 3300.00</td></tr>\n",
       "</tbody>\n",
       "</table>\n"
      ],
      "text/latex": [
       "\\begin{tabular}{r|ll}\n",
       " JOIN\\_SN & deachul\\\\\n",
       "\\hline\n",
       "\t   9212   &  1688.00\\\\\n",
       "\t  53824   &  5200.00\\\\\n",
       "\t  56488   &  9750.00\\\\\n",
       "\t 196289   &   721.00\\\\\n",
       "\t 207492   & 10666.67\\\\\n",
       "\t 232560   &  3300.00\\\\\n",
       "\\end{tabular}\n"
      ],
      "text/markdown": [
       "\n",
       "| JOIN_SN | deachul |\n",
       "|---|---|\n",
       "|   9212   |  1688.00 |\n",
       "|  53824   |  5200.00 |\n",
       "|  56488   |  9750.00 |\n",
       "| 196289   |   721.00 |\n",
       "| 207492   | 10666.67 |\n",
       "| 232560   |  3300.00 |\n",
       "\n"
      ],
      "text/plain": [
       "  JOIN_SN deachul \n",
       "1   9212   1688.00\n",
       "2  53824   5200.00\n",
       "3  56488   9750.00\n",
       "4 196289    721.00\n",
       "5 207492  10666.67\n",
       "6 232560   3300.00"
      ]
     },
     "metadata": {},
     "output_type": "display_data"
    },
    {
     "name": "stdout",
     "output_type": "stream",
     "text": [
      "[1] \"data.table\"\n"
     ]
    },
    {
     "data": {
      "text/html": [
       "<table>\n",
       "<thead><tr><th scope=col>JOIN_SN</th><th scope=col>deachul</th></tr></thead>\n",
       "<tbody>\n",
       "\t<tr><td>  9212  </td><td> 1688.00</td></tr>\n",
       "\t<tr><td> 53824  </td><td> 5200.00</td></tr>\n",
       "\t<tr><td> 56488  </td><td> 9750.00</td></tr>\n",
       "\t<tr><td>196289  </td><td>  721.00</td></tr>\n",
       "\t<tr><td>207492  </td><td>10666.67</td></tr>\n",
       "\t<tr><td>232560  </td><td> 3300.00</td></tr>\n",
       "</tbody>\n",
       "</table>\n"
      ],
      "text/latex": [
       "\\begin{tabular}{r|ll}\n",
       " JOIN\\_SN & deachul\\\\\n",
       "\\hline\n",
       "\t   9212   &  1688.00\\\\\n",
       "\t  53824   &  5200.00\\\\\n",
       "\t  56488   &  9750.00\\\\\n",
       "\t 196289   &   721.00\\\\\n",
       "\t 207492   & 10666.67\\\\\n",
       "\t 232560   &  3300.00\\\\\n",
       "\\end{tabular}\n"
      ],
      "text/markdown": [
       "\n",
       "| JOIN_SN | deachul |\n",
       "|---|---|\n",
       "|   9212   |  1688.00 |\n",
       "|  53824   |  5200.00 |\n",
       "|  56488   |  9750.00 |\n",
       "| 196289   |   721.00 |\n",
       "| 207492   | 10666.67 |\n",
       "| 232560   |  3300.00 |\n",
       "\n"
      ],
      "text/plain": [
       "  JOIN_SN deachul \n",
       "1   9212   1688.00\n",
       "2  53824   5200.00\n",
       "3  56488   9750.00\n",
       "4 196289    721.00\n",
       "5 207492  10666.67\n",
       "6 232560   3300.00"
      ]
     },
     "metadata": {},
     "output_type": "display_data"
    }
   ],
   "source": [
    "SP1 <- SP %>% subset(select =c('JOIN_SN', 'LN_AMT') ) %>% group_by(JOIN_SN) %>% summarise(deachul = mean(LN_AMT)) %>% as.data.frame(.)\n",
    "print('dplyr')\n",
    "head(SP1)\n",
    "\n",
    "DT <- setDT(SP)[, c('JOIN_SN', 'LN_AMT')][, .(deachul = mean(LN_AMT)), by = \"JOIN_SN\" ][order(JOIN_SN)]\n",
    "print('data.table')\n",
    "head(DT) "
   ]
  },
  {
   "cell_type": "markdown",
   "metadata": {},
   "source": [
    "### 대출정보 (금융업권)"
   ]
  },
  {
   "cell_type": "code",
   "execution_count": 439,
   "metadata": {},
   "outputs": [],
   "source": [
    "LN <- fread(\"SDBSAMPLE_P_LN.csv\", header = T, stringsAsFactors = T, sep = \",\")"
   ]
  },
  {
   "cell_type": "code",
   "execution_count": 443,
   "metadata": {},
   "outputs": [
    {
     "name": "stdout",
     "output_type": "stream",
     "text": [
      "[1] \"dplyr\"\n"
     ]
    },
    {
     "data": {
      "text/html": [
       "<table>\n",
       "<thead><tr><th scope=col>JOIN_SN</th><th scope=col>fdeachul</th></tr></thead>\n",
       "<tbody>\n",
       "\t<tr><td>  44      </td><td>  1450.375</td></tr>\n",
       "\t<tr><td> 453      </td><td>  8968.750</td></tr>\n",
       "\t<tr><td>2130      </td><td>108160.000</td></tr>\n",
       "\t<tr><td>2821      </td><td>  1398.000</td></tr>\n",
       "\t<tr><td>3962      </td><td> 11108.696</td></tr>\n",
       "\t<tr><td>5314      </td><td>  7714.634</td></tr>\n",
       "</tbody>\n",
       "</table>\n"
      ],
      "text/latex": [
       "\\begin{tabular}{r|ll}\n",
       " JOIN\\_SN & fdeachul\\\\\n",
       "\\hline\n",
       "\t   44       &   1450.375\\\\\n",
       "\t  453       &   8968.750\\\\\n",
       "\t 2130       & 108160.000\\\\\n",
       "\t 2821       &   1398.000\\\\\n",
       "\t 3962       &  11108.696\\\\\n",
       "\t 5314       &   7714.634\\\\\n",
       "\\end{tabular}\n"
      ],
      "text/markdown": [
       "\n",
       "| JOIN_SN | fdeachul |\n",
       "|---|---|\n",
       "|   44       |   1450.375 |\n",
       "|  453       |   8968.750 |\n",
       "| 2130       | 108160.000 |\n",
       "| 2821       |   1398.000 |\n",
       "| 3962       |  11108.696 |\n",
       "| 5314       |   7714.634 |\n",
       "\n"
      ],
      "text/plain": [
       "  JOIN_SN fdeachul  \n",
       "1   44      1450.375\n",
       "2  453      8968.750\n",
       "3 2130    108160.000\n",
       "4 2821      1398.000\n",
       "5 3962     11108.696\n",
       "6 5314      7714.634"
      ]
     },
     "metadata": {},
     "output_type": "display_data"
    },
    {
     "name": "stdout",
     "output_type": "stream",
     "text": [
      "[1] \"data.table\"\n"
     ]
    },
    {
     "data": {
      "text/html": [
       "<table>\n",
       "<thead><tr><th scope=col>JOIN_SN</th><th scope=col>fdeachul</th></tr></thead>\n",
       "<tbody>\n",
       "\t<tr><td>  44      </td><td>  1450.375</td></tr>\n",
       "\t<tr><td> 453      </td><td>  8968.750</td></tr>\n",
       "\t<tr><td>2130      </td><td>108160.000</td></tr>\n",
       "\t<tr><td>2821      </td><td>  1398.000</td></tr>\n",
       "\t<tr><td>3962      </td><td> 11108.696</td></tr>\n",
       "\t<tr><td>5314      </td><td>  7714.634</td></tr>\n",
       "</tbody>\n",
       "</table>\n"
      ],
      "text/latex": [
       "\\begin{tabular}{r|ll}\n",
       " JOIN\\_SN & fdeachul\\\\\n",
       "\\hline\n",
       "\t   44       &   1450.375\\\\\n",
       "\t  453       &   8968.750\\\\\n",
       "\t 2130       & 108160.000\\\\\n",
       "\t 2821       &   1398.000\\\\\n",
       "\t 3962       &  11108.696\\\\\n",
       "\t 5314       &   7714.634\\\\\n",
       "\\end{tabular}\n"
      ],
      "text/markdown": [
       "\n",
       "| JOIN_SN | fdeachul |\n",
       "|---|---|\n",
       "|   44       |   1450.375 |\n",
       "|  453       |   8968.750 |\n",
       "| 2130       | 108160.000 |\n",
       "| 2821       |   1398.000 |\n",
       "| 3962       |  11108.696 |\n",
       "| 5314       |   7714.634 |\n",
       "\n"
      ],
      "text/plain": [
       "  JOIN_SN fdeachul  \n",
       "1   44      1450.375\n",
       "2  453      8968.750\n",
       "3 2130    108160.000\n",
       "4 2821      1398.000\n",
       "5 3962     11108.696\n",
       "6 5314      7714.634"
      ]
     },
     "metadata": {},
     "output_type": "display_data"
    }
   ],
   "source": [
    "LN1 <- LN %>% subset(select = c('JOIN_SN', 'LN_AMT')) %>% group_by(JOIN_SN) %>% summarise(fdeachul = mean(LN_AMT)) %>% as.data.frame(.)\n",
    "print('dplyr')\n",
    "head(LN1)\n",
    "\n",
    "LN_dt <- setDT(LN)[,c('JOIN_SN', 'LN_AMT')][, .(fdeachul = mean(LN_AMT)), by = \"JOIN_SN\"][order(JOIN_SN)]\n",
    "print('data.table')\n",
    "head(LN_dt)"
   ]
  },
  {
   "cell_type": "code",
   "execution_count": 444,
   "metadata": {},
   "outputs": [],
   "source": [
    "fwrite(LN1, \"fdeachul.csv\")"
   ]
  },
  {
   "cell_type": "markdown",
   "metadata": {},
   "source": [
    "### 신용카드 이용정보\n",
    "* 이용금액\n",
    "    - 동일 년월에 발생한 이용정보들 별도처리 후 월별 평균이용금액\n",
    "* 이용한도\n",
    "    - 평균"
   ]
  },
  {
   "cell_type": "code",
   "execution_count": 559,
   "metadata": {},
   "outputs": [],
   "source": [
    "USG <- fread(\"SDBSAMPLE_P_CD_USG.csv\", header = T, stringsAsFactors = T, sep = \",\")"
   ]
  },
  {
   "cell_type": "code",
   "execution_count": 560,
   "metadata": {},
   "outputs": [
    {
     "data": {
      "text/html": [
       "<ol class=list-inline>\n",
       "\t<li>'YM'</li>\n",
       "\t<li>'JOIN_SN'</li>\n",
       "\t<li>'JOIN_SN_TYP'</li>\n",
       "\t<li>'SCTR_CD'</li>\n",
       "\t<li>'COM_SN'</li>\n",
       "\t<li>'IS_ME'</li>\n",
       "\t<li>'CD_USG_LMT'</li>\n",
       "\t<li>'CD_CA_LMT'</li>\n",
       "\t<li>'CD_USG_AMT'</li>\n",
       "\t<li>'CD_CA_AMT'</li>\n",
       "</ol>\n"
      ],
      "text/latex": [
       "\\begin{enumerate*}\n",
       "\\item 'YM'\n",
       "\\item 'JOIN\\_SN'\n",
       "\\item 'JOIN\\_SN\\_TYP'\n",
       "\\item 'SCTR\\_CD'\n",
       "\\item 'COM\\_SN'\n",
       "\\item 'IS\\_ME'\n",
       "\\item 'CD\\_USG\\_LMT'\n",
       "\\item 'CD\\_CA\\_LMT'\n",
       "\\item 'CD\\_USG\\_AMT'\n",
       "\\item 'CD\\_CA\\_AMT'\n",
       "\\end{enumerate*}\n"
      ],
      "text/markdown": [
       "1. 'YM'\n",
       "2. 'JOIN_SN'\n",
       "3. 'JOIN_SN_TYP'\n",
       "4. 'SCTR_CD'\n",
       "5. 'COM_SN'\n",
       "6. 'IS_ME'\n",
       "7. 'CD_USG_LMT'\n",
       "8. 'CD_CA_LMT'\n",
       "9. 'CD_USG_AMT'\n",
       "10. 'CD_CA_AMT'\n",
       "\n",
       "\n"
      ],
      "text/plain": [
       " [1] \"YM\"          \"JOIN_SN\"     \"JOIN_SN_TYP\" \"SCTR_CD\"     \"COM_SN\"     \n",
       " [6] \"IS_ME\"       \"CD_USG_LMT\"  \"CD_CA_LMT\"   \"CD_USG_AMT\"  \"CD_CA_AMT\"  "
      ]
     },
     "metadata": {},
     "output_type": "display_data"
    }
   ],
   "source": [
    "colnames(USG)"
   ]
  },
  {
   "cell_type": "code",
   "execution_count": 561,
   "metadata": {},
   "outputs": [],
   "source": [
    "USG1 <- USG[,c('YM', 'JOIN_SN', 'CD_CA_AMT')]"
   ]
  },
  {
   "cell_type": "code",
   "execution_count": 562,
   "metadata": {},
   "outputs": [],
   "source": [
    "USG2 <- USG[,c('YM', 'JOIN_SN', 'CD_CA_LMT')]"
   ]
  },
  {
   "cell_type": "code",
   "execution_count": 563,
   "metadata": {},
   "outputs": [],
   "source": [
    "USG1_1 <- USG1 %>% group_by(JOIN_SN, YM) %>% summarise(service = sum(CD_CA_AMT)) %>% as.data.frame()"
   ]
  },
  {
   "cell_type": "code",
   "execution_count": 564,
   "metadata": {},
   "outputs": [
    {
     "data": {
      "text/html": [
       "<table>\n",
       "<thead><tr><th scope=col>JOIN_SN</th><th scope=col>YM</th><th scope=col>service</th></tr></thead>\n",
       "<tbody>\n",
       "\t<tr><td>44    </td><td>201905</td><td>0     </td></tr>\n",
       "\t<tr><td>44    </td><td>201906</td><td>0     </td></tr>\n",
       "\t<tr><td>44    </td><td>201907</td><td>0     </td></tr>\n",
       "\t<tr><td>44    </td><td>201908</td><td>0     </td></tr>\n",
       "\t<tr><td>44    </td><td>201909</td><td>0     </td></tr>\n",
       "\t<tr><td>44    </td><td>201910</td><td>0     </td></tr>\n",
       "</tbody>\n",
       "</table>\n"
      ],
      "text/latex": [
       "\\begin{tabular}{r|lll}\n",
       " JOIN\\_SN & YM & service\\\\\n",
       "\\hline\n",
       "\t 44     & 201905 & 0     \\\\\n",
       "\t 44     & 201906 & 0     \\\\\n",
       "\t 44     & 201907 & 0     \\\\\n",
       "\t 44     & 201908 & 0     \\\\\n",
       "\t 44     & 201909 & 0     \\\\\n",
       "\t 44     & 201910 & 0     \\\\\n",
       "\\end{tabular}\n"
      ],
      "text/markdown": [
       "\n",
       "| JOIN_SN | YM | service |\n",
       "|---|---|---|\n",
       "| 44     | 201905 | 0      |\n",
       "| 44     | 201906 | 0      |\n",
       "| 44     | 201907 | 0      |\n",
       "| 44     | 201908 | 0      |\n",
       "| 44     | 201909 | 0      |\n",
       "| 44     | 201910 | 0      |\n",
       "\n"
      ],
      "text/plain": [
       "  JOIN_SN YM     service\n",
       "1 44      201905 0      \n",
       "2 44      201906 0      \n",
       "3 44      201907 0      \n",
       "4 44      201908 0      \n",
       "5 44      201909 0      \n",
       "6 44      201910 0      "
      ]
     },
     "metadata": {},
     "output_type": "display_data"
    }
   ],
   "source": [
    "head(USG1_1)"
   ]
  },
  {
   "cell_type": "code",
   "execution_count": 565,
   "metadata": {},
   "outputs": [],
   "source": [
    "USG1_2 <- USG1_1 %>% group_by(JOIN_SN) %>% summarise(service = mean(service)) %>% as.data.frame()"
   ]
  },
  {
   "cell_type": "code",
   "execution_count": 566,
   "metadata": {},
   "outputs": [
    {
     "data": {
      "text/html": [
       "<table>\n",
       "<thead><tr><th scope=col>JOIN_SN</th><th scope=col>service</th></tr></thead>\n",
       "<tbody>\n",
       "\t<tr><td>  44    </td><td>  0.0000</td></tr>\n",
       "\t<tr><td> 453    </td><td>231.6667</td></tr>\n",
       "\t<tr><td> 488    </td><td>  0.0000</td></tr>\n",
       "\t<tr><td> 794    </td><td>  0.0000</td></tr>\n",
       "\t<tr><td>2130    </td><td>  0.0000</td></tr>\n",
       "\t<tr><td>3962    </td><td>  0.0000</td></tr>\n",
       "</tbody>\n",
       "</table>\n"
      ],
      "text/latex": [
       "\\begin{tabular}{r|ll}\n",
       " JOIN\\_SN & service\\\\\n",
       "\\hline\n",
       "\t   44     &   0.0000\\\\\n",
       "\t  453     & 231.6667\\\\\n",
       "\t  488     &   0.0000\\\\\n",
       "\t  794     &   0.0000\\\\\n",
       "\t 2130     &   0.0000\\\\\n",
       "\t 3962     &   0.0000\\\\\n",
       "\\end{tabular}\n"
      ],
      "text/markdown": [
       "\n",
       "| JOIN_SN | service |\n",
       "|---|---|\n",
       "|   44     |   0.0000 |\n",
       "|  453     | 231.6667 |\n",
       "|  488     |   0.0000 |\n",
       "|  794     |   0.0000 |\n",
       "| 2130     |   0.0000 |\n",
       "| 3962     |   0.0000 |\n",
       "\n"
      ],
      "text/plain": [
       "  JOIN_SN service \n",
       "1   44      0.0000\n",
       "2  453    231.6667\n",
       "3  488      0.0000\n",
       "4  794      0.0000\n",
       "5 2130      0.0000\n",
       "6 3962      0.0000"
      ]
     },
     "metadata": {},
     "output_type": "display_data"
    }
   ],
   "source": [
    "head(USG1_2)"
   ]
  },
  {
   "cell_type": "code",
   "execution_count": 567,
   "metadata": {},
   "outputs": [],
   "source": [
    "USG2_1 <- USG2 %>% group_by(JOIN_SN) %>% summarise(service_lim = mean(CD_CA_LMT)) %>% as.data.frame()"
   ]
  },
  {
   "cell_type": "code",
   "execution_count": 568,
   "metadata": {},
   "outputs": [
    {
     "data": {
      "text/html": [
       "<table>\n",
       "<thead><tr><th scope=col>JOIN_SN</th><th scope=col>service_lim</th></tr></thead>\n",
       "<tbody>\n",
       "\t<tr><td>  44     </td><td> 4186.957</td></tr>\n",
       "\t<tr><td> 453     </td><td> 2416.667</td></tr>\n",
       "\t<tr><td> 488     </td><td> 6648.855</td></tr>\n",
       "\t<tr><td> 794     </td><td> 5157.143</td></tr>\n",
       "\t<tr><td>2130     </td><td> 3968.000</td></tr>\n",
       "\t<tr><td>3962     </td><td>10552.000</td></tr>\n",
       "</tbody>\n",
       "</table>\n"
      ],
      "text/latex": [
       "\\begin{tabular}{r|ll}\n",
       " JOIN\\_SN & service\\_lim\\\\\n",
       "\\hline\n",
       "\t   44      &  4186.957\\\\\n",
       "\t  453      &  2416.667\\\\\n",
       "\t  488      &  6648.855\\\\\n",
       "\t  794      &  5157.143\\\\\n",
       "\t 2130      &  3968.000\\\\\n",
       "\t 3962      & 10552.000\\\\\n",
       "\\end{tabular}\n"
      ],
      "text/markdown": [
       "\n",
       "| JOIN_SN | service_lim |\n",
       "|---|---|\n",
       "|   44      |  4186.957 |\n",
       "|  453      |  2416.667 |\n",
       "|  488      |  6648.855 |\n",
       "|  794      |  5157.143 |\n",
       "| 2130      |  3968.000 |\n",
       "| 3962      | 10552.000 |\n",
       "\n"
      ],
      "text/plain": [
       "  JOIN_SN service_lim\n",
       "1   44     4186.957  \n",
       "2  453     2416.667  \n",
       "3  488     6648.855  \n",
       "4  794     5157.143  \n",
       "5 2130     3968.000  \n",
       "6 3962    10552.000  "
      ]
     },
     "metadata": {},
     "output_type": "display_data"
    }
   ],
   "source": [
    "head(USG2_1)"
   ]
  },
  {
   "cell_type": "code",
   "execution_count": 569,
   "metadata": {},
   "outputs": [],
   "source": [
    "USG3 <- merge(USG1_2, USG2_1)"
   ]
  },
  {
   "cell_type": "code",
   "execution_count": 570,
   "metadata": {},
   "outputs": [
    {
     "data": {
      "text/html": [
       "<table>\n",
       "<thead><tr><th scope=col>JOIN_SN</th><th scope=col>service</th><th scope=col>service_lim</th></tr></thead>\n",
       "<tbody>\n",
       "\t<tr><td>  44     </td><td>  0.0000 </td><td> 4186.957</td></tr>\n",
       "\t<tr><td> 453     </td><td>231.6667 </td><td> 2416.667</td></tr>\n",
       "\t<tr><td> 488     </td><td>  0.0000 </td><td> 6648.855</td></tr>\n",
       "\t<tr><td> 794     </td><td>  0.0000 </td><td> 5157.143</td></tr>\n",
       "\t<tr><td>2130     </td><td>  0.0000 </td><td> 3968.000</td></tr>\n",
       "\t<tr><td>3962     </td><td>  0.0000 </td><td>10552.000</td></tr>\n",
       "</tbody>\n",
       "</table>\n"
      ],
      "text/latex": [
       "\\begin{tabular}{r|lll}\n",
       " JOIN\\_SN & service & service\\_lim\\\\\n",
       "\\hline\n",
       "\t   44      &   0.0000  &  4186.957\\\\\n",
       "\t  453      & 231.6667  &  2416.667\\\\\n",
       "\t  488      &   0.0000  &  6648.855\\\\\n",
       "\t  794      &   0.0000  &  5157.143\\\\\n",
       "\t 2130      &   0.0000  &  3968.000\\\\\n",
       "\t 3962      &   0.0000  & 10552.000\\\\\n",
       "\\end{tabular}\n"
      ],
      "text/markdown": [
       "\n",
       "| JOIN_SN | service | service_lim |\n",
       "|---|---|---|\n",
       "|   44      |   0.0000  |  4186.957 |\n",
       "|  453      | 231.6667  |  2416.667 |\n",
       "|  488      |   0.0000  |  6648.855 |\n",
       "|  794      |   0.0000  |  5157.143 |\n",
       "| 2130      |   0.0000  |  3968.000 |\n",
       "| 3962      |   0.0000  | 10552.000 |\n",
       "\n"
      ],
      "text/plain": [
       "  JOIN_SN service  service_lim\n",
       "1   44      0.0000  4186.957  \n",
       "2  453    231.6667  2416.667  \n",
       "3  488      0.0000  6648.855  \n",
       "4  794      0.0000  5157.143  \n",
       "5 2130      0.0000  3968.000  \n",
       "6 3962      0.0000 10552.000  "
      ]
     },
     "metadata": {},
     "output_type": "display_data"
    }
   ],
   "source": [
    "head(USG3)"
   ]
  },
  {
   "cell_type": "code",
   "execution_count": 571,
   "metadata": {},
   "outputs": [],
   "source": [
    "fwrite(USG3, \"service.csv\")"
   ]
  },
  {
   "cell_type": "markdown",
   "metadata": {},
   "source": [
    "## JOIN INSURANCE & CREDIT"
   ]
  },
  {
   "cell_type": "code",
   "execution_count": 578,
   "metadata": {},
   "outputs": [
    {
     "data": {
      "text/html": [
       "<table>\n",
       "<thead><tr><th scope=col>JOIN_SN</th><th scope=col>JOIN_SN_TYP</th><th scope=col>SCTR_CD</th><th scope=col>POL_SN</th><th scope=col>MGG_GRP_CD</th><th scope=col>MGG_CD</th><th scope=col>MGG_CNT</th><th scope=col>MGG_AMT_SUM</th><th scope=col>MGG_AMT_MAX</th><th scope=col>MGG_AMT_MIN</th><th scope=col>YM_201806</th><th scope=col>YM_201807</th><th scope=col>YM_201808</th><th scope=col>YM_201809</th><th scope=col>YM_201810</th><th scope=col>YM_201811</th><th scope=col>YM_201812</th><th scope=col>YM_201901</th><th scope=col>YM_201902</th><th scope=col>YM_201903</th><th scope=col>YM_201904</th><th scope=col>YM_201905</th><th scope=col>YM_201906</th><th scope=col>YM_201907</th><th scope=col>YM_201908</th><th scope=col>YM_201909</th><th scope=col>YM_201910</th><th scope=col>YM_201911</th><th scope=col>YM_201912</th><th scope=col>YM_202001</th><th scope=col>YM_202002</th><th scope=col>YM_202003</th><th scope=col>YM_202004</th><th scope=col>YM_202005</th><th scope=col>YM_202006</th></tr></thead>\n",
       "<tbody>\n",
       "\t<tr><td>  23221</td><td>1      </td><td>6      </td><td>5844566</td><td>A5     </td><td>A5302  </td><td>1      </td><td>  540  </td><td>  540  </td><td>  540  </td><td>1      </td><td>1      </td><td>1      </td><td>1      </td><td>1      </td><td>1      </td><td>1      </td><td>1      </td><td>1      </td><td>1      </td><td>1      </td><td>1      </td><td>1      </td><td>1      </td><td>1      </td><td>1      </td><td>1      </td><td>1      </td><td>1      </td><td>1      </td><td>1      </td><td>1      </td><td>1      </td><td>1      </td><td>1      </td></tr>\n",
       "\t<tr><td>1714104</td><td>1      </td><td>6      </td><td>9829672</td><td>A5     </td><td>A5301  </td><td>1      </td><td>  100  </td><td>  100  </td><td>  100  </td><td>1      </td><td>1      </td><td>1      </td><td>1      </td><td>1      </td><td>1      </td><td>1      </td><td>1      </td><td>1      </td><td>1      </td><td>1      </td><td>1      </td><td>1      </td><td>1      </td><td>1      </td><td>1      </td><td>1      </td><td>1      </td><td>1      </td><td>1      </td><td>1      </td><td>1      </td><td>1      </td><td>1      </td><td>1      </td></tr>\n",
       "\t<tr><td>1374241</td><td>1      </td><td>6      </td><td>9885475</td><td>A3     </td><td>A3300  </td><td>1      </td><td>10000  </td><td>10000  </td><td>10000  </td><td>0      </td><td>0      </td><td>0      </td><td>0      </td><td>0      </td><td>0      </td><td>0      </td><td>0      </td><td>0      </td><td>0      </td><td>0      </td><td>0      </td><td>0      </td><td>0      </td><td>0      </td><td>0      </td><td>1      </td><td>1      </td><td>0      </td><td>0      </td><td>0      </td><td>0      </td><td>0      </td><td>0      </td><td>0      </td></tr>\n",
       "\t<tr><td>1067990</td><td>1      </td><td>8      </td><td>5361136</td><td>A7     </td><td>A7300  </td><td>1      </td><td>  100  </td><td>  100  </td><td>  100  </td><td>1      </td><td>1      </td><td>1      </td><td>1      </td><td>1      </td><td>1      </td><td>1      </td><td>1      </td><td>1      </td><td>1      </td><td>1      </td><td>1      </td><td>1      </td><td>1      </td><td>1      </td><td>1      </td><td>1      </td><td>1      </td><td>1      </td><td>1      </td><td>1      </td><td>1      </td><td>1      </td><td>1      </td><td>1      </td></tr>\n",
       "\t<tr><td>1099805</td><td>1      </td><td>6      </td><td>2331847</td><td>A4     </td><td>A4209  </td><td>1      </td><td>40000  </td><td>40000  </td><td>40000  </td><td>0      </td><td>0      </td><td>0      </td><td>1      </td><td>1      </td><td>1      </td><td>1      </td><td>1      </td><td>1      </td><td>1      </td><td>1      </td><td>1      </td><td>1      </td><td>1      </td><td>1      </td><td>1      </td><td>1      </td><td>1      </td><td>1      </td><td>1      </td><td>1      </td><td>1      </td><td>1      </td><td>1      </td><td>1      </td></tr>\n",
       "\t<tr><td>1243249</td><td>1      </td><td>6      </td><td>3602204</td><td>A6     </td><td>A6150  </td><td>3      </td><td>  110  </td><td>  100  </td><td>  100  </td><td>0      </td><td>0      </td><td>0      </td><td>0      </td><td>0      </td><td>0      </td><td>0      </td><td>1      </td><td>1      </td><td>1      </td><td>1      </td><td>0      </td><td>0      </td><td>0      </td><td>0      </td><td>0      </td><td>0      </td><td>0      </td><td>0      </td><td>0      </td><td>0      </td><td>0      </td><td>0      </td><td>0      </td><td>0      </td></tr>\n",
       "</tbody>\n",
       "</table>\n"
      ],
      "text/latex": [
       "\\begin{tabular}{r|lllllllllllllllllllllllllllllllllll}\n",
       " JOIN\\_SN & JOIN\\_SN\\_TYP & SCTR\\_CD & POL\\_SN & MGG\\_GRP\\_CD & MGG\\_CD & MGG\\_CNT & MGG\\_AMT\\_SUM & MGG\\_AMT\\_MAX & MGG\\_AMT\\_MIN & YM\\_201806 & YM\\_201807 & YM\\_201808 & YM\\_201809 & YM\\_201810 & YM\\_201811 & YM\\_201812 & YM\\_201901 & YM\\_201902 & YM\\_201903 & YM\\_201904 & YM\\_201905 & YM\\_201906 & YM\\_201907 & YM\\_201908 & YM\\_201909 & YM\\_201910 & YM\\_201911 & YM\\_201912 & YM\\_202001 & YM\\_202002 & YM\\_202003 & YM\\_202004 & YM\\_202005 & YM\\_202006\\\\\n",
       "\\hline\n",
       "\t   23221 & 1       & 6       & 5844566 & A5      & A5302   & 1       &   540   &   540   &   540   & 1       & 1       & 1       & 1       & 1       & 1       & 1       & 1       & 1       & 1       & 1       & 1       & 1       & 1       & 1       & 1       & 1       & 1       & 1       & 1       & 1       & 1       & 1       & 1       & 1      \\\\\n",
       "\t 1714104 & 1       & 6       & 9829672 & A5      & A5301   & 1       &   100   &   100   &   100   & 1       & 1       & 1       & 1       & 1       & 1       & 1       & 1       & 1       & 1       & 1       & 1       & 1       & 1       & 1       & 1       & 1       & 1       & 1       & 1       & 1       & 1       & 1       & 1       & 1      \\\\\n",
       "\t 1374241 & 1       & 6       & 9885475 & A3      & A3300   & 1       & 10000   & 10000   & 10000   & 0       & 0       & 0       & 0       & 0       & 0       & 0       & 0       & 0       & 0       & 0       & 0       & 0       & 0       & 0       & 0       & 1       & 1       & 0       & 0       & 0       & 0       & 0       & 0       & 0      \\\\\n",
       "\t 1067990 & 1       & 8       & 5361136 & A7      & A7300   & 1       &   100   &   100   &   100   & 1       & 1       & 1       & 1       & 1       & 1       & 1       & 1       & 1       & 1       & 1       & 1       & 1       & 1       & 1       & 1       & 1       & 1       & 1       & 1       & 1       & 1       & 1       & 1       & 1      \\\\\n",
       "\t 1099805 & 1       & 6       & 2331847 & A4      & A4209   & 1       & 40000   & 40000   & 40000   & 0       & 0       & 0       & 1       & 1       & 1       & 1       & 1       & 1       & 1       & 1       & 1       & 1       & 1       & 1       & 1       & 1       & 1       & 1       & 1       & 1       & 1       & 1       & 1       & 1      \\\\\n",
       "\t 1243249 & 1       & 6       & 3602204 & A6      & A6150   & 3       &   110   &   100   &   100   & 0       & 0       & 0       & 0       & 0       & 0       & 0       & 1       & 1       & 1       & 1       & 0       & 0       & 0       & 0       & 0       & 0       & 0       & 0       & 0       & 0       & 0       & 0       & 0       & 0      \\\\\n",
       "\\end{tabular}\n"
      ],
      "text/markdown": [
       "\n",
       "| JOIN_SN | JOIN_SN_TYP | SCTR_CD | POL_SN | MGG_GRP_CD | MGG_CD | MGG_CNT | MGG_AMT_SUM | MGG_AMT_MAX | MGG_AMT_MIN | YM_201806 | YM_201807 | YM_201808 | YM_201809 | YM_201810 | YM_201811 | YM_201812 | YM_201901 | YM_201902 | YM_201903 | YM_201904 | YM_201905 | YM_201906 | YM_201907 | YM_201908 | YM_201909 | YM_201910 | YM_201911 | YM_201912 | YM_202001 | YM_202002 | YM_202003 | YM_202004 | YM_202005 | YM_202006 |\n",
       "|---|---|---|---|---|---|---|---|---|---|---|---|---|---|---|---|---|---|---|---|---|---|---|---|---|---|---|---|---|---|---|---|---|---|---|\n",
       "|   23221 | 1       | 6       | 5844566 | A5      | A5302   | 1       |   540   |   540   |   540   | 1       | 1       | 1       | 1       | 1       | 1       | 1       | 1       | 1       | 1       | 1       | 1       | 1       | 1       | 1       | 1       | 1       | 1       | 1       | 1       | 1       | 1       | 1       | 1       | 1       |\n",
       "| 1714104 | 1       | 6       | 9829672 | A5      | A5301   | 1       |   100   |   100   |   100   | 1       | 1       | 1       | 1       | 1       | 1       | 1       | 1       | 1       | 1       | 1       | 1       | 1       | 1       | 1       | 1       | 1       | 1       | 1       | 1       | 1       | 1       | 1       | 1       | 1       |\n",
       "| 1374241 | 1       | 6       | 9885475 | A3      | A3300   | 1       | 10000   | 10000   | 10000   | 0       | 0       | 0       | 0       | 0       | 0       | 0       | 0       | 0       | 0       | 0       | 0       | 0       | 0       | 0       | 0       | 1       | 1       | 0       | 0       | 0       | 0       | 0       | 0       | 0       |\n",
       "| 1067990 | 1       | 8       | 5361136 | A7      | A7300   | 1       |   100   |   100   |   100   | 1       | 1       | 1       | 1       | 1       | 1       | 1       | 1       | 1       | 1       | 1       | 1       | 1       | 1       | 1       | 1       | 1       | 1       | 1       | 1       | 1       | 1       | 1       | 1       | 1       |\n",
       "| 1099805 | 1       | 6       | 2331847 | A4      | A4209   | 1       | 40000   | 40000   | 40000   | 0       | 0       | 0       | 1       | 1       | 1       | 1       | 1       | 1       | 1       | 1       | 1       | 1       | 1       | 1       | 1       | 1       | 1       | 1       | 1       | 1       | 1       | 1       | 1       | 1       |\n",
       "| 1243249 | 1       | 6       | 3602204 | A6      | A6150   | 3       |   110   |   100   |   100   | 0       | 0       | 0       | 0       | 0       | 0       | 0       | 1       | 1       | 1       | 1       | 0       | 0       | 0       | 0       | 0       | 0       | 0       | 0       | 0       | 0       | 0       | 0       | 0       | 0       |\n",
       "\n"
      ],
      "text/plain": [
       "  JOIN_SN JOIN_SN_TYP SCTR_CD POL_SN  MGG_GRP_CD MGG_CD MGG_CNT MGG_AMT_SUM\n",
       "1   23221 1           6       5844566 A5         A5302  1         540      \n",
       "2 1714104 1           6       9829672 A5         A5301  1         100      \n",
       "3 1374241 1           6       9885475 A3         A3300  1       10000      \n",
       "4 1067990 1           8       5361136 A7         A7300  1         100      \n",
       "5 1099805 1           6       2331847 A4         A4209  1       40000      \n",
       "6 1243249 1           6       3602204 A6         A6150  3         110      \n",
       "  MGG_AMT_MAX MGG_AMT_MIN YM_201806 YM_201807 YM_201808 YM_201809 YM_201810\n",
       "1   540         540       1         1         1         1         1        \n",
       "2   100         100       1         1         1         1         1        \n",
       "3 10000       10000       0         0         0         0         0        \n",
       "4   100         100       1         1         1         1         1        \n",
       "5 40000       40000       0         0         0         1         1        \n",
       "6   100         100       0         0         0         0         0        \n",
       "  YM_201811 YM_201812 YM_201901 YM_201902 YM_201903 YM_201904 YM_201905\n",
       "1 1         1         1         1         1         1         1        \n",
       "2 1         1         1         1         1         1         1        \n",
       "3 0         0         0         0         0         0         0        \n",
       "4 1         1         1         1         1         1         1        \n",
       "5 1         1         1         1         1         1         1        \n",
       "6 0         0         1         1         1         1         0        \n",
       "  YM_201906 YM_201907 YM_201908 YM_201909 YM_201910 YM_201911 YM_201912\n",
       "1 1         1         1         1         1         1         1        \n",
       "2 1         1         1         1         1         1         1        \n",
       "3 0         0         0         0         1         1         0        \n",
       "4 1         1         1         1         1         1         1        \n",
       "5 1         1         1         1         1         1         1        \n",
       "6 0         0         0         0         0         0         0        \n",
       "  YM_202001 YM_202002 YM_202003 YM_202004 YM_202005 YM_202006\n",
       "1 1         1         1         1         1         1        \n",
       "2 1         1         1         1         1         1        \n",
       "3 0         0         0         0         0         0        \n",
       "4 1         1         1         1         1         1        \n",
       "5 1         1         1         1         1         1        \n",
       "6 0         0         0         0         0         0        "
      ]
     },
     "metadata": {},
     "output_type": "display_data"
    },
    {
     "data": {
      "text/html": [
       "<table>\n",
       "<thead><tr><th scope=col>JOIN_SN</th><th scope=col>POL_SN</th></tr></thead>\n",
       "<tbody>\n",
       "\t<tr><td>  23221</td><td>5844566</td></tr>\n",
       "\t<tr><td>1714104</td><td>9829672</td></tr>\n",
       "\t<tr><td>1374241</td><td>9885475</td></tr>\n",
       "\t<tr><td>1067990</td><td>5361136</td></tr>\n",
       "\t<tr><td>1099805</td><td>2331847</td></tr>\n",
       "\t<tr><td>1243249</td><td>3602204</td></tr>\n",
       "</tbody>\n",
       "</table>\n"
      ],
      "text/latex": [
       "\\begin{tabular}{r|ll}\n",
       " JOIN\\_SN & POL\\_SN\\\\\n",
       "\\hline\n",
       "\t   23221 & 5844566\\\\\n",
       "\t 1714104 & 9829672\\\\\n",
       "\t 1374241 & 9885475\\\\\n",
       "\t 1067990 & 5361136\\\\\n",
       "\t 1099805 & 2331847\\\\\n",
       "\t 1243249 & 3602204\\\\\n",
       "\\end{tabular}\n"
      ],
      "text/markdown": [
       "\n",
       "| JOIN_SN | POL_SN |\n",
       "|---|---|\n",
       "|   23221 | 5844566 |\n",
       "| 1714104 | 9829672 |\n",
       "| 1374241 | 9885475 |\n",
       "| 1067990 | 5361136 |\n",
       "| 1099805 | 2331847 |\n",
       "| 1243249 | 3602204 |\n",
       "\n"
      ],
      "text/plain": [
       "  JOIN_SN POL_SN \n",
       "1   23221 5844566\n",
       "2 1714104 9829672\n",
       "3 1374241 9885475\n",
       "4 1067990 5361136\n",
       "5 1099805 2331847\n",
       "6 1243249 3602204"
      ]
     },
     "metadata": {},
     "output_type": "display_data"
    }
   ],
   "source": [
    "ID <- MGG[,c('JOIN_SN', 'POL_SN')]\n",
    "head(ID)"
   ]
  },
  {
   "cell_type": "code",
   "execution_count": 580,
   "metadata": {},
   "outputs": [
    {
     "name": "stdout",
     "output_type": "stream",
     "text": [
      "[1] \"JOIN\"\n"
     ]
    },
    {
     "data": {
      "text/html": [
       "4387"
      ],
      "text/latex": [
       "4387"
      ],
      "text/markdown": [
       "4387"
      ],
      "text/plain": [
       "[1] 4387"
      ]
     },
     "metadata": {},
     "output_type": "display_data"
    },
    {
     "data": {
      "text/html": [
       "11493"
      ],
      "text/latex": [
       "11493"
      ],
      "text/markdown": [
       "11493"
      ],
      "text/plain": [
       "[1] 11493"
      ]
     },
     "metadata": {},
     "output_type": "display_data"
    },
    {
     "data": {
      "text/html": [
       "<ol class=list-inline>\n",
       "\t<li>120188</li>\n",
       "\t<li>33</li>\n",
       "</ol>\n"
      ],
      "text/latex": [
       "\\begin{enumerate*}\n",
       "\\item 120188\n",
       "\\item 33\n",
       "\\end{enumerate*}\n"
      ],
      "text/markdown": [
       "1. 120188\n",
       "2. 33\n",
       "\n",
       "\n"
      ],
      "text/plain": [
       "[1] 120188     33"
      ]
     },
     "metadata": {},
     "output_type": "display_data"
    }
   ],
   "source": [
    "JOIN_ID <- list(JOIN, ID) %>% reduce(left_join, by = 'POL_SN')\n",
    "TJOIN1 <- list(JOIN_ID, USG3,LN1, SP1, DLQ3 ) %>% reduce(left_join, by = 'JOIN_SN')\n",
    "print('JOIN')\n",
    "n_distinct(TJOIN1$JOIN_SN)\n",
    "n_distinct(TJOIN1$POL_SN)\n",
    "dim(TJOIN1)"
   ]
  },
  {
   "cell_type": "markdown",
   "metadata": {},
   "source": [
    "# *** 데이터 탐색"
   ]
  },
  {
   "cell_type": "markdown",
   "metadata": {},
   "source": [
    "#### SKIMMING"
   ]
  },
  {
   "cell_type": "code",
   "execution_count": 600,
   "metadata": {},
   "outputs": [
    {
     "data": {
      "text/html": [
       "<table>\n",
       "<thead><tr><th scope=col>POL_SN</th><th scope=col>SCTR_CD</th><th scope=col>IS_GRP_INS</th><th scope=col>INS_GBN_CD</th><th scope=col>INS_CT_STAT_CD</th><th scope=col>CT_CNCLS_DT</th><th scope=col>CT_EFCTV_DT</th><th scope=col>CT_PY_AMT</th><th scope=col>CT_PY_PD</th><th scope=col>CT_PY_CYCLE_CD</th><th scope=col>CT_CHNL_CD</th><th scope=col>prem</th><th scope=col>CNT1</th><th scope=col>CNT2</th><th scope=col>CNT3</th><th scope=col>CNT4</th><th scope=col>CNT5</th><th scope=col>AMT1</th><th scope=col>AMT2</th><th scope=col>AMT3</th><th scope=col>AMT4</th><th scope=col>AMT5</th><th scope=col>loss1</th><th scope=col>loss2</th><th scope=col>loss3</th><th scope=col>loss4</th><th scope=col>loss5</th><th scope=col>JOIN_SN</th><th scope=col>service</th><th scope=col>service_lim</th><th scope=col>fdeachul</th><th scope=col>deachul</th><th scope=col>yunche</th></tr></thead>\n",
       "<tbody>\n",
       "\t<tr><td>6680267   </td><td>6         </td><td>0         </td><td> 3        </td><td>2         </td><td>201306    </td><td>202012    </td><td> 46       </td><td>30        </td><td>2         </td><td>3         </td><td> 4186     </td><td> 4        </td><td> 6        </td><td> 4        </td><td>3         </td><td> 3        </td><td>250000    </td><td> 77660    </td><td> 7260     </td><td>  310     </td><td>12210     </td><td>0         </td><td>0         </td><td>0         </td><td> 0        </td><td>0         </td><td>  44      </td><td>  0.0000  </td><td> 4186.957 </td><td>  1450.375</td><td>0         </td><td>0         </td></tr>\n",
       "\t<tr><td>  65859   </td><td>6         </td><td>0         </td><td> 5        </td><td>2         </td><td>201912    </td><td>202012    </td><td> 28       </td><td>20        </td><td>2         </td><td>6         </td><td>  364     </td><td> 0        </td><td> 7        </td><td> 1        </td><td>3         </td><td> 4        </td><td>     0    </td><td> 74300    </td><td>  550     </td><td>  170     </td><td>  100     </td><td>0         </td><td>0         </td><td>0         </td><td> 0        </td><td>0         </td><td> 453      </td><td>231.6667  </td><td> 2416.667 </td><td>  8968.750</td><td>0         </td><td>0         </td></tr>\n",
       "\t<tr><td>1205750   </td><td>6         </td><td>0         </td><td>13        </td><td>2         </td><td>201812    </td><td>202012    </td><td> 21       </td><td>20        </td><td>2         </td><td>6         </td><td>  525     </td><td> 4        </td><td> 3        </td><td> 6        </td><td>2         </td><td> 2        </td><td>120000    </td><td>   660    </td><td> 8400     </td><td>  200     </td><td> 1210     </td><td>0         </td><td>0         </td><td>0         </td><td> 0        </td><td>0         </td><td> 453      </td><td>231.6667  </td><td> 2416.667 </td><td>  8968.750</td><td>0         </td><td>0         </td></tr>\n",
       "\t<tr><td>4623216   </td><td>6         </td><td>0         </td><td>99        </td><td>2         </td><td>202002    </td><td>202012    </td><td> 29       </td><td>20        </td><td>2         </td><td>6         </td><td>  319     </td><td> 4        </td><td> 0        </td><td> 2        </td><td>2         </td><td>11        </td><td>140000    </td><td>     0    </td><td>  440     </td><td>  200     </td><td>  630     </td><td>0         </td><td>0         </td><td>0         </td><td> 0        </td><td>0         </td><td> 453      </td><td>231.6667  </td><td> 2416.667 </td><td>  8968.750</td><td>0         </td><td>0         </td></tr>\n",
       "\t<tr><td>6575838   </td><td>6         </td><td>0         </td><td> 4        </td><td>2         </td><td>201910    </td><td>202012    </td><td> 28       </td><td>20        </td><td>2         </td><td>6         </td><td>  420     </td><td> 2        </td><td> 0        </td><td> 7        </td><td>9         </td><td> 0        </td><td> 66000    </td><td>     0    </td><td> 4180     </td><td>  770     </td><td>    0     </td><td>0         </td><td>0         </td><td>0         </td><td> 0        </td><td>0         </td><td> 453      </td><td>231.6667  </td><td> 2416.667 </td><td>  8968.750</td><td>0         </td><td>0         </td></tr>\n",
       "\t<tr><td>7336996   </td><td>6         </td><td>0         </td><td> 3        </td><td>2         </td><td>201908    </td><td>202012    </td><td> 29       </td><td>20        </td><td>2         </td><td>6         </td><td>  493     </td><td> 2        </td><td> 3        </td><td> 2        </td><td>4         </td><td> 4        </td><td> 20000    </td><td> 33000    </td><td>  440     </td><td>  400     </td><td>  130     </td><td>0         </td><td>0         </td><td>0         </td><td> 0        </td><td>0         </td><td> 453      </td><td>231.6667  </td><td> 2416.667 </td><td>  8968.750</td><td>0         </td><td>0         </td></tr>\n",
       "\t<tr><td>8651386   </td><td>6         </td><td>0         </td><td> 5        </td><td>2         </td><td>201905    </td><td>202012    </td><td> 33       </td><td>20        </td><td>2         </td><td>6         </td><td>  660     </td><td> 0        </td><td>10        </td><td> 0        </td><td>1         </td><td> 0        </td><td>     0    </td><td>173300    </td><td>    0     </td><td>  100     </td><td>    0     </td><td>0         </td><td>0         </td><td>0         </td><td> 0        </td><td>0         </td><td> 453      </td><td>231.6667  </td><td> 2416.667 </td><td>  8968.750</td><td>0         </td><td>0         </td></tr>\n",
       "\t<tr><td>2470615   </td><td>8         </td><td>0         </td><td> 1        </td><td>2         </td><td>200803    </td><td>202012    </td><td> 44       </td><td>24        </td><td>2         </td><td>1         </td><td> 6776     </td><td> 3        </td><td> 3        </td><td> 3        </td><td>3         </td><td> 0        </td><td> 94000    </td><td> 20000    </td><td> 2400     </td><td>  300     </td><td>    0     </td><td>0         </td><td>0         </td><td>0         </td><td> 0        </td><td>0         </td><td> 488      </td><td>  0.0000  </td><td> 6648.855 </td><td>     0.000</td><td>0         </td><td>0         </td></tr>\n",
       "\t<tr><td>7154309   </td><td>8         </td><td>0         </td><td>11        </td><td>2         </td><td>201306    </td><td>202012    </td><td> 80       </td><td>10        </td><td>2         </td><td>4         </td><td> 7280     </td><td> 4        </td><td> 0        </td><td> 0        </td><td>0         </td><td> 0        </td><td> 44000    </td><td>     0    </td><td>    0     </td><td>    0     </td><td>    0     </td><td>0         </td><td>0         </td><td>0         </td><td> 0        </td><td>0         </td><td> 488      </td><td>  0.0000  </td><td> 6648.855 </td><td>     0.000</td><td>0         </td><td>0         </td></tr>\n",
       "\t<tr><td> 939833   </td><td>6         </td><td>0         </td><td> 4        </td><td>2         </td><td>201612    </td><td>202012    </td><td>100       </td><td>20        </td><td>2         </td><td>3         </td><td> 4900     </td><td> 7        </td><td> 8        </td><td>19        </td><td>0         </td><td> 2        </td><td>156800    </td><td> 45760    </td><td>58120     </td><td>    0     </td><td>  400     </td><td>0         </td><td>0         </td><td>0         </td><td> 0        </td><td>0         </td><td> 603      </td><td>  0.0000  </td><td>    0.000 </td><td>     0.000</td><td>0         </td><td>0         </td></tr>\n",
       "\t<tr><td>1109948   </td><td>6         </td><td>0         </td><td> 7        </td><td>2         </td><td>200808    </td><td>202012    </td><td> 37       </td><td>15        </td><td>2         </td><td>6         </td><td> 5513     </td><td> 2        </td><td> 0        </td><td> 0        </td><td>0         </td><td> 0        </td><td>  2200    </td><td>     0    </td><td>    0     </td><td>    0     </td><td>    0     </td><td>0         </td><td>0         </td><td>0         </td><td> 0        </td><td>0         </td><td> 759      </td><td>  0.0000  </td><td>    0.000 </td><td>     0.000</td><td>0         </td><td>0         </td></tr>\n",
       "\t<tr><td>5950951   </td><td>6         </td><td>0         </td><td> 4        </td><td>2         </td><td>201903    </td><td>202012    </td><td> 89       </td><td>20        </td><td>2         </td><td>4         </td><td> 1958     </td><td> 5        </td><td> 6        </td><td> 9        </td><td>6         </td><td> 1        </td><td>130000    </td><td> 81000    </td><td>18200     </td><td>  600     </td><td> 2700     </td><td>0         </td><td>0         </td><td>0         </td><td> 0        </td><td>0         </td><td> 794      </td><td>  0.0000  </td><td> 5157.143 </td><td>     0.000</td><td>0         </td><td>0         </td></tr>\n",
       "\t<tr><td>6212674   </td><td>3         </td><td>0         </td><td>16        </td><td>2         </td><td>201206    </td><td>202012    </td><td> 38       </td><td>20        </td><td>2         </td><td>1         </td><td> 3914     </td><td> 1        </td><td> 1        </td><td> 0        </td><td>0         </td><td> 0        </td><td> 10000    </td><td>   270    </td><td>    0     </td><td>    0     </td><td>    0     </td><td>0         </td><td>0         </td><td>0         </td><td> 0        </td><td>0         </td><td> 794      </td><td>  0.0000  </td><td> 5157.143 </td><td>     0.000</td><td>0         </td><td>0         </td></tr>\n",
       "\t<tr><td>7576566   </td><td>3         </td><td>0         </td><td>13        </td><td>2         </td><td>201208    </td><td>202012    </td><td>  8       </td><td>20        </td><td>2         </td><td>1         </td><td>  808     </td><td> 3        </td><td> 0        </td><td> 1        </td><td>1         </td><td> 3        </td><td>109000    </td><td>     0    </td><td>  100     </td><td>  100     </td><td>22300     </td><td>0         </td><td>0         </td><td>0         </td><td> 0        </td><td>0         </td><td> 794      </td><td>  0.0000  </td><td> 5157.143 </td><td>     0.000</td><td>0         </td><td>0         </td></tr>\n",
       "\t<tr><td>9109606   </td><td>8         </td><td>0         </td><td> 3        </td><td>2         </td><td>201601    </td><td>202012    </td><td>130       </td><td>10        </td><td>2         </td><td>4         </td><td> 7800     </td><td> 5        </td><td> 9        </td><td> 3        </td><td>4         </td><td> 0        </td><td>173000    </td><td>158760    </td><td>46540     </td><td>  400     </td><td>    0     </td><td>0         </td><td>0         </td><td>0         </td><td> 0        </td><td>0         </td><td> 794      </td><td>  0.0000  </td><td> 5157.143 </td><td>     0.000</td><td>0         </td><td>0         </td></tr>\n",
       "\t<tr><td>1505693   </td><td>3         </td><td>0         </td><td>11        </td><td>2         </td><td>201204    </td><td>202012    </td><td>210       </td><td> 7        </td><td>2         </td><td>1         </td><td>22050     </td><td> 2        </td><td> 0        </td><td> 0        </td><td>0         </td><td> 0        </td><td>  4400    </td><td>     0    </td><td>    0     </td><td>    0     </td><td>    0     </td><td>0         </td><td>0         </td><td>0         </td><td> 0        </td><td>0         </td><td> 800      </td><td>  0.0000  </td><td>    0.000 </td><td>     0.000</td><td>0         </td><td>0         </td></tr>\n",
       "\t<tr><td>6082043   </td><td>3         </td><td>0         </td><td>10        </td><td>2         </td><td>201708    </td><td>202012    </td><td>320       </td><td> 5        </td><td>2         </td><td>1         </td><td>13120     </td><td> 2        </td><td> 0        </td><td> 0        </td><td>0         </td><td> 0        </td><td>  8000    </td><td>     0    </td><td>    0     </td><td>    0     </td><td>    0     </td><td>0         </td><td>0         </td><td>0         </td><td> 0        </td><td>0         </td><td> 800      </td><td>  0.0000  </td><td>    0.000 </td><td>     0.000</td><td>0         </td><td>0         </td></tr>\n",
       "\t<tr><td>7083246   </td><td>3         </td><td>0         </td><td>11        </td><td>2         </td><td>201407    </td><td>202012    </td><td>250       </td><td>10        </td><td>2         </td><td>1         </td><td>19500     </td><td> 2        </td><td> 0        </td><td> 0        </td><td>0         </td><td> 0        </td><td>  6400    </td><td>     0    </td><td>    0     </td><td>    0     </td><td>    0     </td><td>0         </td><td>0         </td><td>0         </td><td> 0        </td><td>0         </td><td> 800      </td><td>  0.0000  </td><td>    0.000 </td><td>     0.000</td><td>0         </td><td>0         </td></tr>\n",
       "\t<tr><td>7180128   </td><td>3         </td><td>0         </td><td>11        </td><td>2         </td><td>201407    </td><td>202012    </td><td>370       </td><td>10        </td><td>2         </td><td>1         </td><td>28860     </td><td> 2        </td><td> 0        </td><td> 0        </td><td>0         </td><td> 0        </td><td>  9600    </td><td>     0    </td><td>    0     </td><td>    0     </td><td>    0     </td><td>0         </td><td>0         </td><td>0         </td><td> 0        </td><td>0         </td><td> 800      </td><td>  0.0000  </td><td>    0.000 </td><td>     0.000</td><td>0         </td><td>0         </td></tr>\n",
       "\t<tr><td>   9529   </td><td>6         </td><td>0         </td><td>13        </td><td>2         </td><td>201911    </td><td>202012    </td><td> 32       </td><td>20        </td><td>2         </td><td>1         </td><td>  448     </td><td> 0        </td><td> 4        </td><td> 6        </td><td>2         </td><td>10        </td><td>     0    </td><td>  2350    </td><td> 2980     </td><td>  200     </td><td>15810     </td><td>0         </td><td>0         </td><td>0         </td><td> 0        </td><td>0         </td><td>2130      </td><td>  0.0000  </td><td> 3968.000 </td><td>108160.000</td><td>0         </td><td>0         </td></tr>\n",
       "\t<tr><td>9812929   </td><td>8         </td><td>0         </td><td>16        </td><td>2         </td><td>201112    </td><td>202012    </td><td> 29       </td><td> 3        </td><td>2         </td><td>1         </td><td> 3161     </td><td> 2        </td><td> 0        </td><td> 0        </td><td>0         </td><td> 0        </td><td> 18000    </td><td>     0    </td><td>    0     </td><td>    0     </td><td>    0     </td><td>0         </td><td>0         </td><td>0         </td><td> 0        </td><td>0         </td><td>2130      </td><td>  0.0000  </td><td> 3968.000 </td><td>108160.000</td><td>0         </td><td>0         </td></tr>\n",
       "\t<tr><td>9834062   </td><td>8         </td><td>0         </td><td> 1        </td><td>2         </td><td>200910    </td><td>202012    </td><td>120       </td><td>20        </td><td>2         </td><td>1         </td><td>16200     </td><td> 4        </td><td> 4        </td><td> 2        </td><td>4         </td><td> 0        </td><td> 56000    </td><td> 63180    </td><td> 8100     </td><td>  400     </td><td>    0     </td><td>0         </td><td>0         </td><td>0         </td><td> 0        </td><td>0         </td><td>2130      </td><td>  0.0000  </td><td> 3968.000 </td><td>108160.000</td><td>0         </td><td>0         </td></tr>\n",
       "\t<tr><td> 286990   </td><td>6         </td><td>0         </td><td> 7        </td><td>2         </td><td>201809    </td><td>202012    </td><td> 50       </td><td>20        </td><td>2         </td><td>1         </td><td> 1400     </td><td> 2        </td><td> 0        </td><td> 0        </td><td>0         </td><td> 0        </td><td> 18000    </td><td>     0    </td><td>    0     </td><td>    0     </td><td>    0     </td><td>0         </td><td>0         </td><td>0         </td><td> 0        </td><td>0         </td><td>2821      </td><td>  0.0000  </td><td>    0.000 </td><td>  1398.000</td><td>0         </td><td>0         </td></tr>\n",
       "\t<tr><td>6523959   </td><td>6         </td><td>0         </td><td>18        </td><td>2         </td><td>201706    </td><td>202012    </td><td> 45       </td><td>10        </td><td>2         </td><td>4         </td><td> 1935     </td><td> 0        </td><td> 1        </td><td> 0        </td><td>0         </td><td> 0        </td><td>     0    </td><td>   180    </td><td>    0     </td><td>    0     </td><td>    0     </td><td>0         </td><td>0         </td><td>0         </td><td> 0        </td><td>0         </td><td>2821      </td><td>  0.0000  </td><td>    0.000 </td><td>  1398.000</td><td>0         </td><td>0         </td></tr>\n",
       "\t<tr><td>7849656   </td><td>6         </td><td>0         </td><td> 4        </td><td>2         </td><td>201402    </td><td>202012    </td><td>130       </td><td>20        </td><td>2         </td><td>2         </td><td>10790     </td><td> 7        </td><td>11        </td><td>12        </td><td>7         </td><td> 1        </td><td>296200    </td><td>126950    </td><td>12730     </td><td>  710     </td><td> 1100     </td><td>0         </td><td>0         </td><td>0         </td><td>66        </td><td>0         </td><td>3263      </td><td>  0.0000  </td><td>    0.000 </td><td>     0.000</td><td>0         </td><td>0         </td></tr>\n",
       "\t<tr><td>9234793   </td><td>6         </td><td>0         </td><td> 4        </td><td>2         </td><td>200708    </td><td>202012    </td><td> 63       </td><td>20        </td><td>2         </td><td>2         </td><td>10143     </td><td>10        </td><td> 0        </td><td> 5        </td><td>2         </td><td> 0        </td><td>502000    </td><td>     0    </td><td>71500     </td><td> 1110     </td><td>    0     </td><td>0         </td><td>0         </td><td>0         </td><td> 0        </td><td>0         </td><td>3263      </td><td>  0.0000  </td><td>    0.000 </td><td>     0.000</td><td>0         </td><td>0         </td></tr>\n",
       "\t<tr><td>2260159   </td><td>8         </td><td>0         </td><td> 3        </td><td>2         </td><td>201207    </td><td>202012    </td><td>110       </td><td>20        </td><td>2         </td><td>1         </td><td>11220     </td><td> 2        </td><td> 6        </td><td> 3        </td><td>1         </td><td> 0        </td><td> 78000    </td><td>120000    </td><td>33000     </td><td>20000     </td><td>    0     </td><td>0         </td><td>0         </td><td>0         </td><td> 0        </td><td>0         </td><td>3962      </td><td>  0.0000  </td><td>10552.000 </td><td> 11108.696</td><td>0         </td><td>0         </td></tr>\n",
       "\t<tr><td>3958785   </td><td>8         </td><td>0         </td><td> 8        </td><td>2         </td><td>201505    </td><td>202012    </td><td> 45       </td><td> 5        </td><td>2         </td><td>6         </td><td> 3060     </td><td> 0        </td><td> 0        </td><td> 0        </td><td>0         </td><td> 3        </td><td>     0    </td><td>     0    </td><td>    0     </td><td>    0     </td><td> 1560     </td><td>0         </td><td>0         </td><td>0         </td><td> 0        </td><td>0         </td><td>3962      </td><td>  0.0000  </td><td>10552.000 </td><td> 11108.696</td><td>0         </td><td>0         </td></tr>\n",
       "\t<tr><td> 364891   </td><td>6         </td><td>0         </td><td> 3        </td><td>2         </td><td>201302    </td><td>202012    </td><td> 58       </td><td>10        </td><td>2         </td><td>1         </td><td> 5510     </td><td> 5        </td><td> 0        </td><td> 0        </td><td>0         </td><td> 0        </td><td>166800    </td><td>     0    </td><td>    0     </td><td>    0     </td><td>    0     </td><td>0         </td><td>0         </td><td>0         </td><td> 0        </td><td>0         </td><td>4073      </td><td>  0.0000  </td><td>    0.000 </td><td>     0.000</td><td>0         </td><td>0         </td></tr>\n",
       "\t<tr><td>2590746   </td><td>6         </td><td>0         </td><td> 4        </td><td>2         </td><td>201506    </td><td>202012    </td><td> 16       </td><td>10        </td><td>2         </td><td>3         </td><td> 1072     </td><td> 2        </td><td> 5        </td><td> 0        </td><td>0         </td><td> 1        </td><td> 16000    </td><td> 24800    </td><td>    0     </td><td>    0     </td><td>  120     </td><td>0         </td><td>0         </td><td>0         </td><td> 0        </td><td>0         </td><td>4073      </td><td>  0.0000  </td><td>    0.000 </td><td>     0.000</td><td>0         </td><td>0         </td></tr>\n",
       "\t<tr><td>...</td><td>...</td><td>...</td><td>...</td><td>...</td><td>...</td><td>...</td><td>...</td><td>...</td><td>...</td><td>...</td><td>...</td><td>...</td><td>...</td><td>...</td><td>...</td><td>...</td><td>...</td><td>...</td><td>...</td><td>...</td><td>...</td><td>...</td><td>...</td><td>...</td><td>...</td><td>...</td><td>...</td><td>...</td><td>...</td><td>...</td><td>...</td><td>...</td></tr>\n",
       "\t<tr><td>5439826 </td><td>6       </td><td>0       </td><td> 5      </td><td>2       </td><td>201706  </td><td>202012  </td><td>  25    </td><td>33      </td><td>2       </td><td> 1      </td><td>  1075  </td><td> 3      </td><td> 2      </td><td> 0      </td><td> 0      </td><td> 0      </td><td>  35200 </td><td> 39600  </td><td>     0  </td><td>   0    </td><td>    0   </td><td>0       </td><td>0       </td><td>0       </td><td>0       </td><td> 0      </td><td>1957319 </td><td>0       </td><td>5521.622</td><td>    0.00</td><td>0       </td><td>0       </td></tr>\n",
       "\t<tr><td>5896052 </td><td>8       </td><td>0       </td><td> 4      </td><td>2       </td><td>201908  </td><td>202012  </td><td>   1    </td><td> 0      </td><td>1       </td><td> 5      </td><td>    17  </td><td> 1      </td><td> 0      </td><td> 0      </td><td> 0      </td><td> 0      </td><td>  10000 </td><td>     0  </td><td>     0  </td><td>   0    </td><td>    0   </td><td>0       </td><td>0       </td><td>0       </td><td>0       </td><td> 0      </td><td>1957319 </td><td>0       </td><td>5521.622</td><td>    0.00</td><td>0       </td><td>0       </td></tr>\n",
       "\t<tr><td>8283143 </td><td>6       </td><td>0       </td><td> 4      </td><td>2       </td><td>200901  </td><td>202012  </td><td>  49    </td><td>20      </td><td>2       </td><td>99      </td><td>  7056  </td><td> 9      </td><td> 6      </td><td> 8      </td><td> 0      </td><td> 2      </td><td> 173000 </td><td> 34880  </td><td> 11760  </td><td>   0    </td><td> 1200   </td><td>0       </td><td>0       </td><td>0       </td><td>0       </td><td> 0      </td><td>1957319 </td><td>0       </td><td>5521.622</td><td>    0.00</td><td>0       </td><td>0       </td></tr>\n",
       "\t<tr><td>8692358 </td><td>6       </td><td>0       </td><td> 4      </td><td>2       </td><td>201106  </td><td>202012  </td><td> 110    </td><td> 5      </td><td>2       </td><td> 4      </td><td> 12650  </td><td> 2      </td><td> 0      </td><td> 0      </td><td> 0      </td><td> 1      </td><td>   2200 </td><td>     0  </td><td>     0  </td><td>   0    </td><td> 1100   </td><td>0       </td><td>0       </td><td>0       </td><td>0       </td><td> 0      </td><td>1957319 </td><td>0       </td><td>5521.622</td><td>    0.00</td><td>0       </td><td>0       </td></tr>\n",
       "\t<tr><td>9021808 </td><td>8       </td><td>0       </td><td>10      </td><td>2       </td><td>201510  </td><td>202012  </td><td>5000    </td><td> 0      </td><td>1       </td><td> 1      </td><td>315000  </td><td> 2      </td><td> 0      </td><td> 0      </td><td> 0      </td><td> 0      </td><td>   3400 </td><td>     0  </td><td>     0  </td><td>   0    </td><td>    0   </td><td>0       </td><td>0       </td><td>0       </td><td>0       </td><td> 0      </td><td>1957319 </td><td>0       </td><td>5521.622</td><td>    0.00</td><td>0       </td><td>0       </td></tr>\n",
       "\t<tr><td>3420481 </td><td>8       </td><td>0       </td><td> 4      </td><td>2       </td><td>201908  </td><td>202012  </td><td> 330    </td><td> 1      </td><td>3       </td><td> 4      </td><td>  5610  </td><td> 4      </td><td> 2      </td><td> 1      </td><td> 2      </td><td> 0      </td><td> 260000 </td><td>   540  </td><td>   270  </td><td> 200    </td><td>    0   </td><td>0       </td><td>0       </td><td>0       </td><td>0       </td><td> 0      </td><td>1957335 </td><td>0       </td><td>   0.000</td><td> 9000.00</td><td>0       </td><td>0       </td></tr>\n",
       "\t<tr><td>6700753 </td><td>6       </td><td>0       </td><td>13      </td><td>2       </td><td>201903  </td><td>202012  </td><td>  27    </td><td>15      </td><td>2       </td><td> 1      </td><td>   594  </td><td> 2      </td><td> 4      </td><td> 1      </td><td> 1      </td><td> 8      </td><td>  99000 </td><td>  1370  </td><td>   900  </td><td> 100    </td><td>24560   </td><td>0       </td><td>0       </td><td>0       </td><td>0       </td><td> 0      </td><td>1957335 </td><td>0       </td><td>   0.000</td><td> 9000.00</td><td>0       </td><td>0       </td></tr>\n",
       "\t<tr><td> 655009 </td><td>6       </td><td>0       </td><td>13      </td><td>2       </td><td>201101  </td><td>202012  </td><td>  45    </td><td>10      </td><td>2       </td><td> 1      </td><td>  5400  </td><td> 2      </td><td> 2      </td><td> 1      </td><td> 2      </td><td> 4      </td><td> 100000 </td><td>   540  </td><td>   450  </td><td> 370    </td><td> 1280   </td><td>0       </td><td>0       </td><td>0       </td><td>0       </td><td>90      </td><td>1957568 </td><td>0       </td><td>2200.000</td><td>    0.00</td><td>0       </td><td>0       </td></tr>\n",
       "\t<tr><td>5928818 </td><td>8       </td><td>0       </td><td> 1      </td><td>2       </td><td>201609  </td><td>202012  </td><td>5000    </td><td> 0      </td><td>1       </td><td> 3      </td><td>260000  </td><td> 4      </td><td> 0      </td><td> 0      </td><td> 0      </td><td> 0      </td><td> 120000 </td><td>     0  </td><td>     0  </td><td>   0    </td><td>    0   </td><td>0       </td><td>0       </td><td>0       </td><td>0       </td><td> 0      </td><td>1957568 </td><td>0       </td><td>2200.000</td><td>    0.00</td><td>0       </td><td>0       </td></tr>\n",
       "\t<tr><td>3942396 </td><td>8       </td><td>0       </td><td>11      </td><td>2       </td><td>201909  </td><td>202012  </td><td>5000    </td><td> 0      </td><td>1       </td><td> 4      </td><td> 80000  </td><td>11      </td><td> 0      </td><td> 0      </td><td> 0      </td><td> 0      </td><td>  71500 </td><td>     0  </td><td>     0  </td><td>   0    </td><td>    0   </td><td>0       </td><td>0       </td><td>0       </td><td>0       </td><td> 0      </td><td>1958180 </td><td>0       </td><td>   0.000</td><td>    0.00</td><td>0       </td><td>0       </td></tr>\n",
       "\t<tr><td>6168716 </td><td>8       </td><td>0       </td><td> 4      </td><td>2       </td><td>202006  </td><td>202012  </td><td>  65    </td><td> 5      </td><td>2       </td><td> 4      </td><td>   455  </td><td> 3      </td><td> 0      </td><td> 0      </td><td> 0      </td><td> 0      </td><td>  45000 </td><td>     0  </td><td>     0  </td><td>   0    </td><td>    0   </td><td>0       </td><td>0       </td><td>0       </td><td>0       </td><td> 0      </td><td>1958180 </td><td>0       </td><td>   0.000</td><td>    0.00</td><td>0       </td><td>0       </td></tr>\n",
       "\t<tr><td>7547334 </td><td>8       </td><td>0       </td><td>10      </td><td>2       </td><td>202002  </td><td>202012  </td><td>5000    </td><td> 0      </td><td>1       </td><td> 4      </td><td> 55000  </td><td> 1      </td><td> 0      </td><td> 0      </td><td> 0      </td><td> 0      </td><td>    650 </td><td>     0  </td><td>     0  </td><td>   0    </td><td>    0   </td><td>0       </td><td>0       </td><td>0       </td><td>0       </td><td> 0      </td><td>1958180 </td><td>0       </td><td>   0.000</td><td>    0.00</td><td>0       </td><td>0       </td></tr>\n",
       "\t<tr><td>7842951 </td><td>8       </td><td>0       </td><td>11      </td><td>2       </td><td>201008  </td><td>202012  </td><td> 140    </td><td>10      </td><td>2       </td><td> 4      </td><td> 17500  </td><td> 2      </td><td> 0      </td><td> 0      </td><td> 0      </td><td> 0      </td><td>  40000 </td><td>     0  </td><td>     0  </td><td>   0    </td><td>    0   </td><td>0       </td><td>0       </td><td>0       </td><td>0       </td><td> 0      </td><td>1958180 </td><td>0       </td><td>   0.000</td><td>    0.00</td><td>0       </td><td>0       </td></tr>\n",
       "\t<tr><td>2695631 </td><td>8       </td><td>0       </td><td> 1      </td><td>2       </td><td>201901  </td><td>202012  </td><td> 130    </td><td>33      </td><td>2       </td><td> 6      </td><td>  3120  </td><td> 7      </td><td> 4      </td><td> 5      </td><td> 3      </td><td> 0      </td><td> 290000 </td><td> 42260  </td><td>  4080  </td><td> 300    </td><td>    0   </td><td>0       </td><td>0       </td><td>0       </td><td>0       </td><td> 0      </td><td>1958342 </td><td>0       </td><td>   0.000</td><td>    0.00</td><td>0       </td><td>0       </td></tr>\n",
       "\t<tr><td>3687656 </td><td>6       </td><td>0       </td><td> 4      </td><td>2       </td><td>201707  </td><td>202012  </td><td>  56    </td><td>20      </td><td>2       </td><td> 4      </td><td>  2352  </td><td> 1      </td><td> 7      </td><td> 0      </td><td> 0      </td><td> 0      </td><td>  55000 </td><td> 91300  </td><td>     0  </td><td>   0    </td><td>    0   </td><td>0       </td><td>0       </td><td>0       </td><td>0       </td><td> 0      </td><td>1958887 </td><td>0       </td><td>   0.000</td><td>    0.00</td><td>0       </td><td>0       </td></tr>\n",
       "\t<tr><td>4146225 </td><td>8       </td><td>0       </td><td> 3      </td><td>2       </td><td>201707  </td><td>202012  </td><td>  29    </td><td>10      </td><td>2       </td><td> 6      </td><td>  1218  </td><td> 0      </td><td> 3      </td><td> 5      </td><td> 6      </td><td> 0      </td><td>      0 </td><td>110330  </td><td> 26070  </td><td> 600    </td><td>    0   </td><td>0       </td><td>0       </td><td>0       </td><td>0       </td><td> 0      </td><td>1958887 </td><td>0       </td><td>   0.000</td><td>    0.00</td><td>0       </td><td>0       </td></tr>\n",
       "\t<tr><td>4649465 </td><td>8       </td><td>0       </td><td>11      </td><td>2       </td><td>201406  </td><td>202012  </td><td> 170    </td><td>10      </td><td>2       </td><td> 4      </td><td> 13430  </td><td> 2      </td><td> 0      </td><td> 0      </td><td> 0      </td><td> 0      </td><td>   1680 </td><td>     0  </td><td>     0  </td><td>   0    </td><td>    0   </td><td>0       </td><td>0       </td><td>0       </td><td>0       </td><td> 0      </td><td>1958887 </td><td>0       </td><td>   0.000</td><td>    0.00</td><td>0       </td><td>0       </td></tr>\n",
       "\t<tr><td>7188762 </td><td>6       </td><td>0       </td><td> 4      </td><td>2       </td><td>201003  </td><td>202012  </td><td>  26    </td><td>20      </td><td>2       </td><td> 6      </td><td>  3380  </td><td> 2      </td><td> 3      </td><td> 4      </td><td> 0      </td><td> 2      </td><td>  32000 </td><td>   990  </td><td> 44100  </td><td>   0    </td><td> 1200   </td><td>0       </td><td>0       </td><td>0       </td><td>0       </td><td> 0      </td><td>1958887 </td><td>0       </td><td>   0.000</td><td>    0.00</td><td>0       </td><td>0       </td></tr>\n",
       "\t<tr><td> 446399 </td><td>6       </td><td>0       </td><td>13      </td><td>2       </td><td>201601  </td><td>202012  </td><td>  24    </td><td>20      </td><td>2       </td><td> 6      </td><td>  1440  </td><td> 5      </td><td> 1      </td><td> 5      </td><td> 1      </td><td> 4      </td><td> 270000 </td><td>   120  </td><td>  7540  </td><td> 100    </td><td> 2760   </td><td>0       </td><td>0       </td><td>0       </td><td>0       </td><td> 0      </td><td>1959058 </td><td>0       </td><td>2300.000</td><td>    0.00</td><td>0       </td><td>0       </td></tr>\n",
       "\t<tr><td>1600223 </td><td>8       </td><td>0       </td><td> 1      </td><td>2       </td><td>200910  </td><td>202012  </td><td> 550    </td><td>20      </td><td>2       </td><td> 1      </td><td> 74250  </td><td> 2      </td><td> 0      </td><td> 0      </td><td> 0      </td><td> 0      </td><td>1000000 </td><td>     0  </td><td>     0  </td><td>   0    </td><td>    0   </td><td>0       </td><td>0       </td><td>0       </td><td>0       </td><td> 0      </td><td>1959058 </td><td>0       </td><td>2300.000</td><td>    0.00</td><td>0       </td><td>0       </td></tr>\n",
       "\t<tr><td>2928002 </td><td>8       </td><td>0       </td><td> 1      </td><td>2       </td><td>200712  </td><td>202012  </td><td> 680    </td><td>10      </td><td>2       </td><td> 1      </td><td>106760  </td><td> 5      </td><td> 9      </td><td> 6      </td><td> 5      </td><td> 0      </td><td> 860000 </td><td>180240  </td><td> 61200  </td><td> 500    </td><td>    0   </td><td>0       </td><td>0       </td><td>0       </td><td>0       </td><td> 0      </td><td>1959058 </td><td>0       </td><td>2300.000</td><td>    0.00</td><td>0       </td><td>0       </td></tr>\n",
       "\t<tr><td>4863894 </td><td>8       </td><td>0       </td><td> 5      </td><td>2       </td><td>201903  </td><td>202012  </td><td> 150    </td><td>30      </td><td>2       </td><td> 1      </td><td>  3300  </td><td> 1      </td><td> 2      </td><td> 0      </td><td> 0      </td><td> 0      </td><td>  12000 </td><td>156000  </td><td>     0  </td><td>   0    </td><td>    0   </td><td>0       </td><td>0       </td><td>0       </td><td>0       </td><td> 0      </td><td>1959058 </td><td>0       </td><td>2300.000</td><td>    0.00</td><td>0       </td><td>0       </td></tr>\n",
       "\t<tr><td>5538462 </td><td>8       </td><td>0       </td><td> 5      </td><td>2       </td><td>201805  </td><td>202012  </td><td>  27    </td><td>10      </td><td>2       </td><td> 6      </td><td>   864  </td><td> 0      </td><td> 6      </td><td> 0      </td><td> 0      </td><td> 0      </td><td>      0 </td><td>280000  </td><td>     0  </td><td>   0    </td><td>    0   </td><td>0       </td><td>0       </td><td>0       </td><td>0       </td><td> 0      </td><td>1959058 </td><td>0       </td><td>2300.000</td><td>    0.00</td><td>0       </td><td>0       </td></tr>\n",
       "\t<tr><td>6873600 </td><td>8       </td><td>0       </td><td> 2      </td><td>2       </td><td>200708  </td><td>202012  </td><td> 380    </td><td>20      </td><td>2       </td><td> 3      </td><td> 61180  </td><td> 1      </td><td> 0      </td><td> 0      </td><td> 0      </td><td> 0      </td><td> 100000 </td><td>     0  </td><td>     0  </td><td>   0    </td><td>    0   </td><td>0       </td><td>0       </td><td>0       </td><td>0       </td><td> 0      </td><td>1959058 </td><td>0       </td><td>2300.000</td><td>    0.00</td><td>0       </td><td>0       </td></tr>\n",
       "\t<tr><td>7115218 </td><td>6       </td><td>0       </td><td> 3      </td><td>2       </td><td>201401  </td><td>202012  </td><td> 170    </td><td>25      </td><td>2       </td><td> 1      </td><td> 14280  </td><td> 8      </td><td>12      </td><td>17      </td><td> 6      </td><td> 3      </td><td> 292000 </td><td>193800  </td><td> 80520  </td><td> 660    </td><td> 1440   </td><td>0       </td><td>0       </td><td>0       </td><td>0       </td><td> 0      </td><td>1959058 </td><td>0       </td><td>2300.000</td><td>    0.00</td><td>0       </td><td>0       </td></tr>\n",
       "\t<tr><td>8103024 </td><td>8       </td><td>0       </td><td> 3      </td><td>2       </td><td>200902  </td><td>202012  </td><td> 170    </td><td>20      </td><td>2       </td><td> 1      </td><td> 24310  </td><td> 3      </td><td> 6      </td><td> 3      </td><td> 3      </td><td> 0      </td><td> 230000 </td><td>430240  </td><td>100400  </td><td> 300    </td><td>    0   </td><td>0       </td><td>0       </td><td>0       </td><td>0       </td><td> 0      </td><td>1959058 </td><td>0       </td><td>2300.000</td><td>    0.00</td><td>0       </td><td>0       </td></tr>\n",
       "\t<tr><td>4135747 </td><td>6       </td><td>0       </td><td> 3      </td><td>2       </td><td>201202  </td><td>202012  </td><td> 130    </td><td>20      </td><td>2       </td><td> 3      </td><td> 13910  </td><td> 7      </td><td>12      </td><td>11      </td><td> 2      </td><td> 5      </td><td> 110000 </td><td> 60300  </td><td> 63100  </td><td> 200    </td><td> 9800   </td><td>0       </td><td>0       </td><td>0       </td><td>0       </td><td> 0      </td><td>1959358 </td><td>0       </td><td>7656.643</td><td>21641.03</td><td>0       </td><td>0       </td></tr>\n",
       "\t<tr><td>6226554 </td><td>6       </td><td>0       </td><td> 5      </td><td>2       </td><td>201602  </td><td>202012  </td><td>  32    </td><td>15      </td><td>2       </td><td> 3      </td><td>  1888  </td><td> 0      </td><td> 3      </td><td> 0      </td><td> 0      </td><td> 0      </td><td>      0 </td><td> 24000  </td><td>     0  </td><td>   0    </td><td>    0   </td><td>0       </td><td>0       </td><td>0       </td><td>0       </td><td> 0      </td><td>1959358 </td><td>0       </td><td>7656.643</td><td>21641.03</td><td>0       </td><td>0       </td></tr>\n",
       "\t<tr><td>7471357 </td><td>6       </td><td>0       </td><td> 3      </td><td>2       </td><td>201405  </td><td>202012  </td><td>  72    </td><td>20      </td><td>2       </td><td> 3      </td><td>  5760  </td><td> 0      </td><td> 1      </td><td> 0      </td><td> 0      </td><td> 0      </td><td>      0 </td><td> 24000  </td><td>     0  </td><td>   0    </td><td>    0   </td><td>0       </td><td>0       </td><td>0       </td><td>0       </td><td> 0      </td><td>1959358 </td><td>0       </td><td>7656.643</td><td>21641.03</td><td>0       </td><td>0       </td></tr>\n",
       "\t<tr><td>9057152 </td><td>6       </td><td>0       </td><td> 7      </td><td>2       </td><td>201402  </td><td>202012  </td><td>  78    </td><td>30      </td><td>2       </td><td> 1      </td><td>  6474  </td><td> 6      </td><td>21      </td><td>20      </td><td>10      </td><td>11      </td><td>  54000 </td><td>298660  </td><td>129990  </td><td>1020    </td><td>14100   </td><td>0       </td><td>0       </td><td>0       </td><td>0       </td><td> 0      </td><td>1959417 </td><td>0       </td><td>   0.000</td><td>    0.00</td><td>0       </td><td>0       </td></tr>\n",
       "</tbody>\n",
       "</table>\n"
      ],
      "text/latex": [
       "\\begin{tabular}{r|lllllllllllllllllllllllllllllllll}\n",
       " POL\\_SN & SCTR\\_CD & IS\\_GRP\\_INS & INS\\_GBN\\_CD & INS\\_CT\\_STAT\\_CD & CT\\_CNCLS\\_DT & CT\\_EFCTV\\_DT & CT\\_PY\\_AMT & CT\\_PY\\_PD & CT\\_PY\\_CYCLE\\_CD & CT\\_CHNL\\_CD & prem & CNT1 & CNT2 & CNT3 & CNT4 & CNT5 & AMT1 & AMT2 & AMT3 & AMT4 & AMT5 & loss1 & loss2 & loss3 & loss4 & loss5 & JOIN\\_SN & service & service\\_lim & fdeachul & deachul & yunche\\\\\n",
       "\\hline\n",
       "\t 6680267    & 6          & 0          &  3         & 2          & 201306     & 202012     &  46        & 30         & 2          & 3          &  4186      &  4         &  6         &  4         & 3          &  3         & 250000     &  77660     &  7260      &   310      & 12210      & 0          & 0          & 0          &  0         & 0          &   44       &   0.0000   &  4186.957  &   1450.375 & 0          & 0         \\\\\n",
       "\t   65859    & 6          & 0          &  5         & 2          & 201912     & 202012     &  28        & 20         & 2          & 6          &   364      &  0         &  7         &  1         & 3          &  4         &      0     &  74300     &   550      &   170      &   100      & 0          & 0          & 0          &  0         & 0          &  453       & 231.6667   &  2416.667  &   8968.750 & 0          & 0         \\\\\n",
       "\t 1205750    & 6          & 0          & 13         & 2          & 201812     & 202012     &  21        & 20         & 2          & 6          &   525      &  4         &  3         &  6         & 2          &  2         & 120000     &    660     &  8400      &   200      &  1210      & 0          & 0          & 0          &  0         & 0          &  453       & 231.6667   &  2416.667  &   8968.750 & 0          & 0         \\\\\n",
       "\t 4623216    & 6          & 0          & 99         & 2          & 202002     & 202012     &  29        & 20         & 2          & 6          &   319      &  4         &  0         &  2         & 2          & 11         & 140000     &      0     &   440      &   200      &   630      & 0          & 0          & 0          &  0         & 0          &  453       & 231.6667   &  2416.667  &   8968.750 & 0          & 0         \\\\\n",
       "\t 6575838    & 6          & 0          &  4         & 2          & 201910     & 202012     &  28        & 20         & 2          & 6          &   420      &  2         &  0         &  7         & 9          &  0         &  66000     &      0     &  4180      &   770      &     0      & 0          & 0          & 0          &  0         & 0          &  453       & 231.6667   &  2416.667  &   8968.750 & 0          & 0         \\\\\n",
       "\t 7336996    & 6          & 0          &  3         & 2          & 201908     & 202012     &  29        & 20         & 2          & 6          &   493      &  2         &  3         &  2         & 4          &  4         &  20000     &  33000     &   440      &   400      &   130      & 0          & 0          & 0          &  0         & 0          &  453       & 231.6667   &  2416.667  &   8968.750 & 0          & 0         \\\\\n",
       "\t 8651386    & 6          & 0          &  5         & 2          & 201905     & 202012     &  33        & 20         & 2          & 6          &   660      &  0         & 10         &  0         & 1          &  0         &      0     & 173300     &     0      &   100      &     0      & 0          & 0          & 0          &  0         & 0          &  453       & 231.6667   &  2416.667  &   8968.750 & 0          & 0         \\\\\n",
       "\t 2470615    & 8          & 0          &  1         & 2          & 200803     & 202012     &  44        & 24         & 2          & 1          &  6776      &  3         &  3         &  3         & 3          &  0         &  94000     &  20000     &  2400      &   300      &     0      & 0          & 0          & 0          &  0         & 0          &  488       &   0.0000   &  6648.855  &      0.000 & 0          & 0         \\\\\n",
       "\t 7154309    & 8          & 0          & 11         & 2          & 201306     & 202012     &  80        & 10         & 2          & 4          &  7280      &  4         &  0         &  0         & 0          &  0         &  44000     &      0     &     0      &     0      &     0      & 0          & 0          & 0          &  0         & 0          &  488       &   0.0000   &  6648.855  &      0.000 & 0          & 0         \\\\\n",
       "\t  939833    & 6          & 0          &  4         & 2          & 201612     & 202012     & 100        & 20         & 2          & 3          &  4900      &  7         &  8         & 19         & 0          &  2         & 156800     &  45760     & 58120      &     0      &   400      & 0          & 0          & 0          &  0         & 0          &  603       &   0.0000   &     0.000  &      0.000 & 0          & 0         \\\\\n",
       "\t 1109948    & 6          & 0          &  7         & 2          & 200808     & 202012     &  37        & 15         & 2          & 6          &  5513      &  2         &  0         &  0         & 0          &  0         &   2200     &      0     &     0      &     0      &     0      & 0          & 0          & 0          &  0         & 0          &  759       &   0.0000   &     0.000  &      0.000 & 0          & 0         \\\\\n",
       "\t 5950951    & 6          & 0          &  4         & 2          & 201903     & 202012     &  89        & 20         & 2          & 4          &  1958      &  5         &  6         &  9         & 6          &  1         & 130000     &  81000     & 18200      &   600      &  2700      & 0          & 0          & 0          &  0         & 0          &  794       &   0.0000   &  5157.143  &      0.000 & 0          & 0         \\\\\n",
       "\t 6212674    & 3          & 0          & 16         & 2          & 201206     & 202012     &  38        & 20         & 2          & 1          &  3914      &  1         &  1         &  0         & 0          &  0         &  10000     &    270     &     0      &     0      &     0      & 0          & 0          & 0          &  0         & 0          &  794       &   0.0000   &  5157.143  &      0.000 & 0          & 0         \\\\\n",
       "\t 7576566    & 3          & 0          & 13         & 2          & 201208     & 202012     &   8        & 20         & 2          & 1          &   808      &  3         &  0         &  1         & 1          &  3         & 109000     &      0     &   100      &   100      & 22300      & 0          & 0          & 0          &  0         & 0          &  794       &   0.0000   &  5157.143  &      0.000 & 0          & 0         \\\\\n",
       "\t 9109606    & 8          & 0          &  3         & 2          & 201601     & 202012     & 130        & 10         & 2          & 4          &  7800      &  5         &  9         &  3         & 4          &  0         & 173000     & 158760     & 46540      &   400      &     0      & 0          & 0          & 0          &  0         & 0          &  794       &   0.0000   &  5157.143  &      0.000 & 0          & 0         \\\\\n",
       "\t 1505693    & 3          & 0          & 11         & 2          & 201204     & 202012     & 210        &  7         & 2          & 1          & 22050      &  2         &  0         &  0         & 0          &  0         &   4400     &      0     &     0      &     0      &     0      & 0          & 0          & 0          &  0         & 0          &  800       &   0.0000   &     0.000  &      0.000 & 0          & 0         \\\\\n",
       "\t 6082043    & 3          & 0          & 10         & 2          & 201708     & 202012     & 320        &  5         & 2          & 1          & 13120      &  2         &  0         &  0         & 0          &  0         &   8000     &      0     &     0      &     0      &     0      & 0          & 0          & 0          &  0         & 0          &  800       &   0.0000   &     0.000  &      0.000 & 0          & 0         \\\\\n",
       "\t 7083246    & 3          & 0          & 11         & 2          & 201407     & 202012     & 250        & 10         & 2          & 1          & 19500      &  2         &  0         &  0         & 0          &  0         &   6400     &      0     &     0      &     0      &     0      & 0          & 0          & 0          &  0         & 0          &  800       &   0.0000   &     0.000  &      0.000 & 0          & 0         \\\\\n",
       "\t 7180128    & 3          & 0          & 11         & 2          & 201407     & 202012     & 370        & 10         & 2          & 1          & 28860      &  2         &  0         &  0         & 0          &  0         &   9600     &      0     &     0      &     0      &     0      & 0          & 0          & 0          &  0         & 0          &  800       &   0.0000   &     0.000  &      0.000 & 0          & 0         \\\\\n",
       "\t    9529    & 6          & 0          & 13         & 2          & 201911     & 202012     &  32        & 20         & 2          & 1          &   448      &  0         &  4         &  6         & 2          & 10         &      0     &   2350     &  2980      &   200      & 15810      & 0          & 0          & 0          &  0         & 0          & 2130       &   0.0000   &  3968.000  & 108160.000 & 0          & 0         \\\\\n",
       "\t 9812929    & 8          & 0          & 16         & 2          & 201112     & 202012     &  29        &  3         & 2          & 1          &  3161      &  2         &  0         &  0         & 0          &  0         &  18000     &      0     &     0      &     0      &     0      & 0          & 0          & 0          &  0         & 0          & 2130       &   0.0000   &  3968.000  & 108160.000 & 0          & 0         \\\\\n",
       "\t 9834062    & 8          & 0          &  1         & 2          & 200910     & 202012     & 120        & 20         & 2          & 1          & 16200      &  4         &  4         &  2         & 4          &  0         &  56000     &  63180     &  8100      &   400      &     0      & 0          & 0          & 0          &  0         & 0          & 2130       &   0.0000   &  3968.000  & 108160.000 & 0          & 0         \\\\\n",
       "\t  286990    & 6          & 0          &  7         & 2          & 201809     & 202012     &  50        & 20         & 2          & 1          &  1400      &  2         &  0         &  0         & 0          &  0         &  18000     &      0     &     0      &     0      &     0      & 0          & 0          & 0          &  0         & 0          & 2821       &   0.0000   &     0.000  &   1398.000 & 0          & 0         \\\\\n",
       "\t 6523959    & 6          & 0          & 18         & 2          & 201706     & 202012     &  45        & 10         & 2          & 4          &  1935      &  0         &  1         &  0         & 0          &  0         &      0     &    180     &     0      &     0      &     0      & 0          & 0          & 0          &  0         & 0          & 2821       &   0.0000   &     0.000  &   1398.000 & 0          & 0         \\\\\n",
       "\t 7849656    & 6          & 0          &  4         & 2          & 201402     & 202012     & 130        & 20         & 2          & 2          & 10790      &  7         & 11         & 12         & 7          &  1         & 296200     & 126950     & 12730      &   710      &  1100      & 0          & 0          & 0          & 66         & 0          & 3263       &   0.0000   &     0.000  &      0.000 & 0          & 0         \\\\\n",
       "\t 9234793    & 6          & 0          &  4         & 2          & 200708     & 202012     &  63        & 20         & 2          & 2          & 10143      & 10         &  0         &  5         & 2          &  0         & 502000     &      0     & 71500      &  1110      &     0      & 0          & 0          & 0          &  0         & 0          & 3263       &   0.0000   &     0.000  &      0.000 & 0          & 0         \\\\\n",
       "\t 2260159    & 8          & 0          &  3         & 2          & 201207     & 202012     & 110        & 20         & 2          & 1          & 11220      &  2         &  6         &  3         & 1          &  0         &  78000     & 120000     & 33000      & 20000      &     0      & 0          & 0          & 0          &  0         & 0          & 3962       &   0.0000   & 10552.000  &  11108.696 & 0          & 0         \\\\\n",
       "\t 3958785    & 8          & 0          &  8         & 2          & 201505     & 202012     &  45        &  5         & 2          & 6          &  3060      &  0         &  0         &  0         & 0          &  3         &      0     &      0     &     0      &     0      &  1560      & 0          & 0          & 0          &  0         & 0          & 3962       &   0.0000   & 10552.000  &  11108.696 & 0          & 0         \\\\\n",
       "\t  364891    & 6          & 0          &  3         & 2          & 201302     & 202012     &  58        & 10         & 2          & 1          &  5510      &  5         &  0         &  0         & 0          &  0         & 166800     &      0     &     0      &     0      &     0      & 0          & 0          & 0          &  0         & 0          & 4073       &   0.0000   &     0.000  &      0.000 & 0          & 0         \\\\\n",
       "\t 2590746    & 6          & 0          &  4         & 2          & 201506     & 202012     &  16        & 10         & 2          & 3          &  1072      &  2         &  5         &  0         & 0          &  1         &  16000     &  24800     &     0      &     0      &   120      & 0          & 0          & 0          &  0         & 0          & 4073       &   0.0000   &     0.000  &      0.000 & 0          & 0         \\\\\n",
       "\t ... & ... & ... & ... & ... & ... & ... & ... & ... & ... & ... & ... & ... & ... & ... & ... & ... & ... & ... & ... & ... & ... & ... & ... & ... & ... & ... & ... & ... & ... & ... & ... & ...\\\\\n",
       "\t 5439826  & 6        & 0        &  5       & 2        & 201706   & 202012   &   25     & 33       & 2        &  1       &   1075   &  3       &  2       &  0       &  0       &  0       &   35200  &  39600   &      0   &    0     &     0    & 0        & 0        & 0        & 0        &  0       & 1957319  & 0        & 5521.622 &     0.00 & 0        & 0       \\\\\n",
       "\t 5896052  & 8        & 0        &  4       & 2        & 201908   & 202012   &    1     &  0       & 1        &  5       &     17   &  1       &  0       &  0       &  0       &  0       &   10000  &      0   &      0   &    0     &     0    & 0        & 0        & 0        & 0        &  0       & 1957319  & 0        & 5521.622 &     0.00 & 0        & 0       \\\\\n",
       "\t 8283143  & 6        & 0        &  4       & 2        & 200901   & 202012   &   49     & 20       & 2        & 99       &   7056   &  9       &  6       &  8       &  0       &  2       &  173000  &  34880   &  11760   &    0     &  1200    & 0        & 0        & 0        & 0        &  0       & 1957319  & 0        & 5521.622 &     0.00 & 0        & 0       \\\\\n",
       "\t 8692358  & 6        & 0        &  4       & 2        & 201106   & 202012   &  110     &  5       & 2        &  4       &  12650   &  2       &  0       &  0       &  0       &  1       &    2200  &      0   &      0   &    0     &  1100    & 0        & 0        & 0        & 0        &  0       & 1957319  & 0        & 5521.622 &     0.00 & 0        & 0       \\\\\n",
       "\t 9021808  & 8        & 0        & 10       & 2        & 201510   & 202012   & 5000     &  0       & 1        &  1       & 315000   &  2       &  0       &  0       &  0       &  0       &    3400  &      0   &      0   &    0     &     0    & 0        & 0        & 0        & 0        &  0       & 1957319  & 0        & 5521.622 &     0.00 & 0        & 0       \\\\\n",
       "\t 3420481  & 8        & 0        &  4       & 2        & 201908   & 202012   &  330     &  1       & 3        &  4       &   5610   &  4       &  2       &  1       &  2       &  0       &  260000  &    540   &    270   &  200     &     0    & 0        & 0        & 0        & 0        &  0       & 1957335  & 0        &    0.000 &  9000.00 & 0        & 0       \\\\\n",
       "\t 6700753  & 6        & 0        & 13       & 2        & 201903   & 202012   &   27     & 15       & 2        &  1       &    594   &  2       &  4       &  1       &  1       &  8       &   99000  &   1370   &    900   &  100     & 24560    & 0        & 0        & 0        & 0        &  0       & 1957335  & 0        &    0.000 &  9000.00 & 0        & 0       \\\\\n",
       "\t  655009  & 6        & 0        & 13       & 2        & 201101   & 202012   &   45     & 10       & 2        &  1       &   5400   &  2       &  2       &  1       &  2       &  4       &  100000  &    540   &    450   &  370     &  1280    & 0        & 0        & 0        & 0        & 90       & 1957568  & 0        & 2200.000 &     0.00 & 0        & 0       \\\\\n",
       "\t 5928818  & 8        & 0        &  1       & 2        & 201609   & 202012   & 5000     &  0       & 1        &  3       & 260000   &  4       &  0       &  0       &  0       &  0       &  120000  &      0   &      0   &    0     &     0    & 0        & 0        & 0        & 0        &  0       & 1957568  & 0        & 2200.000 &     0.00 & 0        & 0       \\\\\n",
       "\t 3942396  & 8        & 0        & 11       & 2        & 201909   & 202012   & 5000     &  0       & 1        &  4       &  80000   & 11       &  0       &  0       &  0       &  0       &   71500  &      0   &      0   &    0     &     0    & 0        & 0        & 0        & 0        &  0       & 1958180  & 0        &    0.000 &     0.00 & 0        & 0       \\\\\n",
       "\t 6168716  & 8        & 0        &  4       & 2        & 202006   & 202012   &   65     &  5       & 2        &  4       &    455   &  3       &  0       &  0       &  0       &  0       &   45000  &      0   &      0   &    0     &     0    & 0        & 0        & 0        & 0        &  0       & 1958180  & 0        &    0.000 &     0.00 & 0        & 0       \\\\\n",
       "\t 7547334  & 8        & 0        & 10       & 2        & 202002   & 202012   & 5000     &  0       & 1        &  4       &  55000   &  1       &  0       &  0       &  0       &  0       &     650  &      0   &      0   &    0     &     0    & 0        & 0        & 0        & 0        &  0       & 1958180  & 0        &    0.000 &     0.00 & 0        & 0       \\\\\n",
       "\t 7842951  & 8        & 0        & 11       & 2        & 201008   & 202012   &  140     & 10       & 2        &  4       &  17500   &  2       &  0       &  0       &  0       &  0       &   40000  &      0   &      0   &    0     &     0    & 0        & 0        & 0        & 0        &  0       & 1958180  & 0        &    0.000 &     0.00 & 0        & 0       \\\\\n",
       "\t 2695631  & 8        & 0        &  1       & 2        & 201901   & 202012   &  130     & 33       & 2        &  6       &   3120   &  7       &  4       &  5       &  3       &  0       &  290000  &  42260   &   4080   &  300     &     0    & 0        & 0        & 0        & 0        &  0       & 1958342  & 0        &    0.000 &     0.00 & 0        & 0       \\\\\n",
       "\t 3687656  & 6        & 0        &  4       & 2        & 201707   & 202012   &   56     & 20       & 2        &  4       &   2352   &  1       &  7       &  0       &  0       &  0       &   55000  &  91300   &      0   &    0     &     0    & 0        & 0        & 0        & 0        &  0       & 1958887  & 0        &    0.000 &     0.00 & 0        & 0       \\\\\n",
       "\t 4146225  & 8        & 0        &  3       & 2        & 201707   & 202012   &   29     & 10       & 2        &  6       &   1218   &  0       &  3       &  5       &  6       &  0       &       0  & 110330   &  26070   &  600     &     0    & 0        & 0        & 0        & 0        &  0       & 1958887  & 0        &    0.000 &     0.00 & 0        & 0       \\\\\n",
       "\t 4649465  & 8        & 0        & 11       & 2        & 201406   & 202012   &  170     & 10       & 2        &  4       &  13430   &  2       &  0       &  0       &  0       &  0       &    1680  &      0   &      0   &    0     &     0    & 0        & 0        & 0        & 0        &  0       & 1958887  & 0        &    0.000 &     0.00 & 0        & 0       \\\\\n",
       "\t 7188762  & 6        & 0        &  4       & 2        & 201003   & 202012   &   26     & 20       & 2        &  6       &   3380   &  2       &  3       &  4       &  0       &  2       &   32000  &    990   &  44100   &    0     &  1200    & 0        & 0        & 0        & 0        &  0       & 1958887  & 0        &    0.000 &     0.00 & 0        & 0       \\\\\n",
       "\t  446399  & 6        & 0        & 13       & 2        & 201601   & 202012   &   24     & 20       & 2        &  6       &   1440   &  5       &  1       &  5       &  1       &  4       &  270000  &    120   &   7540   &  100     &  2760    & 0        & 0        & 0        & 0        &  0       & 1959058  & 0        & 2300.000 &     0.00 & 0        & 0       \\\\\n",
       "\t 1600223  & 8        & 0        &  1       & 2        & 200910   & 202012   &  550     & 20       & 2        &  1       &  74250   &  2       &  0       &  0       &  0       &  0       & 1000000  &      0   &      0   &    0     &     0    & 0        & 0        & 0        & 0        &  0       & 1959058  & 0        & 2300.000 &     0.00 & 0        & 0       \\\\\n",
       "\t 2928002  & 8        & 0        &  1       & 2        & 200712   & 202012   &  680     & 10       & 2        &  1       & 106760   &  5       &  9       &  6       &  5       &  0       &  860000  & 180240   &  61200   &  500     &     0    & 0        & 0        & 0        & 0        &  0       & 1959058  & 0        & 2300.000 &     0.00 & 0        & 0       \\\\\n",
       "\t 4863894  & 8        & 0        &  5       & 2        & 201903   & 202012   &  150     & 30       & 2        &  1       &   3300   &  1       &  2       &  0       &  0       &  0       &   12000  & 156000   &      0   &    0     &     0    & 0        & 0        & 0        & 0        &  0       & 1959058  & 0        & 2300.000 &     0.00 & 0        & 0       \\\\\n",
       "\t 5538462  & 8        & 0        &  5       & 2        & 201805   & 202012   &   27     & 10       & 2        &  6       &    864   &  0       &  6       &  0       &  0       &  0       &       0  & 280000   &      0   &    0     &     0    & 0        & 0        & 0        & 0        &  0       & 1959058  & 0        & 2300.000 &     0.00 & 0        & 0       \\\\\n",
       "\t 6873600  & 8        & 0        &  2       & 2        & 200708   & 202012   &  380     & 20       & 2        &  3       &  61180   &  1       &  0       &  0       &  0       &  0       &  100000  &      0   &      0   &    0     &     0    & 0        & 0        & 0        & 0        &  0       & 1959058  & 0        & 2300.000 &     0.00 & 0        & 0       \\\\\n",
       "\t 7115218  & 6        & 0        &  3       & 2        & 201401   & 202012   &  170     & 25       & 2        &  1       &  14280   &  8       & 12       & 17       &  6       &  3       &  292000  & 193800   &  80520   &  660     &  1440    & 0        & 0        & 0        & 0        &  0       & 1959058  & 0        & 2300.000 &     0.00 & 0        & 0       \\\\\n",
       "\t 8103024  & 8        & 0        &  3       & 2        & 200902   & 202012   &  170     & 20       & 2        &  1       &  24310   &  3       &  6       &  3       &  3       &  0       &  230000  & 430240   & 100400   &  300     &     0    & 0        & 0        & 0        & 0        &  0       & 1959058  & 0        & 2300.000 &     0.00 & 0        & 0       \\\\\n",
       "\t 4135747  & 6        & 0        &  3       & 2        & 201202   & 202012   &  130     & 20       & 2        &  3       &  13910   &  7       & 12       & 11       &  2       &  5       &  110000  &  60300   &  63100   &  200     &  9800    & 0        & 0        & 0        & 0        &  0       & 1959358  & 0        & 7656.643 & 21641.03 & 0        & 0       \\\\\n",
       "\t 6226554  & 6        & 0        &  5       & 2        & 201602   & 202012   &   32     & 15       & 2        &  3       &   1888   &  0       &  3       &  0       &  0       &  0       &       0  &  24000   &      0   &    0     &     0    & 0        & 0        & 0        & 0        &  0       & 1959358  & 0        & 7656.643 & 21641.03 & 0        & 0       \\\\\n",
       "\t 7471357  & 6        & 0        &  3       & 2        & 201405   & 202012   &   72     & 20       & 2        &  3       &   5760   &  0       &  1       &  0       &  0       &  0       &       0  &  24000   &      0   &    0     &     0    & 0        & 0        & 0        & 0        &  0       & 1959358  & 0        & 7656.643 & 21641.03 & 0        & 0       \\\\\n",
       "\t 9057152  & 6        & 0        &  7       & 2        & 201402   & 202012   &   78     & 30       & 2        &  1       &   6474   &  6       & 21       & 20       & 10       & 11       &   54000  & 298660   & 129990   & 1020     & 14100    & 0        & 0        & 0        & 0        &  0       & 1959417  & 0        &    0.000 &     0.00 & 0        & 0       \\\\\n",
       "\\end{tabular}\n"
      ],
      "text/markdown": [
       "\n",
       "| POL_SN | SCTR_CD | IS_GRP_INS | INS_GBN_CD | INS_CT_STAT_CD | CT_CNCLS_DT | CT_EFCTV_DT | CT_PY_AMT | CT_PY_PD | CT_PY_CYCLE_CD | CT_CHNL_CD | prem | CNT1 | CNT2 | CNT3 | CNT4 | CNT5 | AMT1 | AMT2 | AMT3 | AMT4 | AMT5 | loss1 | loss2 | loss3 | loss4 | loss5 | JOIN_SN | service | service_lim | fdeachul | deachul | yunche |\n",
       "|---|---|---|---|---|---|---|---|---|---|---|---|---|---|---|---|---|---|---|---|---|---|---|---|---|---|---|---|---|---|---|---|---|\n",
       "| 6680267    | 6          | 0          |  3         | 2          | 201306     | 202012     |  46        | 30         | 2          | 3          |  4186      |  4         |  6         |  4         | 3          |  3         | 250000     |  77660     |  7260      |   310      | 12210      | 0          | 0          | 0          |  0         | 0          |   44       |   0.0000   |  4186.957  |   1450.375 | 0          | 0          |\n",
       "|   65859    | 6          | 0          |  5         | 2          | 201912     | 202012     |  28        | 20         | 2          | 6          |   364      |  0         |  7         |  1         | 3          |  4         |      0     |  74300     |   550      |   170      |   100      | 0          | 0          | 0          |  0         | 0          |  453       | 231.6667   |  2416.667  |   8968.750 | 0          | 0          |\n",
       "| 1205750    | 6          | 0          | 13         | 2          | 201812     | 202012     |  21        | 20         | 2          | 6          |   525      |  4         |  3         |  6         | 2          |  2         | 120000     |    660     |  8400      |   200      |  1210      | 0          | 0          | 0          |  0         | 0          |  453       | 231.6667   |  2416.667  |   8968.750 | 0          | 0          |\n",
       "| 4623216    | 6          | 0          | 99         | 2          | 202002     | 202012     |  29        | 20         | 2          | 6          |   319      |  4         |  0         |  2         | 2          | 11         | 140000     |      0     |   440      |   200      |   630      | 0          | 0          | 0          |  0         | 0          |  453       | 231.6667   |  2416.667  |   8968.750 | 0          | 0          |\n",
       "| 6575838    | 6          | 0          |  4         | 2          | 201910     | 202012     |  28        | 20         | 2          | 6          |   420      |  2         |  0         |  7         | 9          |  0         |  66000     |      0     |  4180      |   770      |     0      | 0          | 0          | 0          |  0         | 0          |  453       | 231.6667   |  2416.667  |   8968.750 | 0          | 0          |\n",
       "| 7336996    | 6          | 0          |  3         | 2          | 201908     | 202012     |  29        | 20         | 2          | 6          |   493      |  2         |  3         |  2         | 4          |  4         |  20000     |  33000     |   440      |   400      |   130      | 0          | 0          | 0          |  0         | 0          |  453       | 231.6667   |  2416.667  |   8968.750 | 0          | 0          |\n",
       "| 8651386    | 6          | 0          |  5         | 2          | 201905     | 202012     |  33        | 20         | 2          | 6          |   660      |  0         | 10         |  0         | 1          |  0         |      0     | 173300     |     0      |   100      |     0      | 0          | 0          | 0          |  0         | 0          |  453       | 231.6667   |  2416.667  |   8968.750 | 0          | 0          |\n",
       "| 2470615    | 8          | 0          |  1         | 2          | 200803     | 202012     |  44        | 24         | 2          | 1          |  6776      |  3         |  3         |  3         | 3          |  0         |  94000     |  20000     |  2400      |   300      |     0      | 0          | 0          | 0          |  0         | 0          |  488       |   0.0000   |  6648.855  |      0.000 | 0          | 0          |\n",
       "| 7154309    | 8          | 0          | 11         | 2          | 201306     | 202012     |  80        | 10         | 2          | 4          |  7280      |  4         |  0         |  0         | 0          |  0         |  44000     |      0     |     0      |     0      |     0      | 0          | 0          | 0          |  0         | 0          |  488       |   0.0000   |  6648.855  |      0.000 | 0          | 0          |\n",
       "|  939833    | 6          | 0          |  4         | 2          | 201612     | 202012     | 100        | 20         | 2          | 3          |  4900      |  7         |  8         | 19         | 0          |  2         | 156800     |  45760     | 58120      |     0      |   400      | 0          | 0          | 0          |  0         | 0          |  603       |   0.0000   |     0.000  |      0.000 | 0          | 0          |\n",
       "| 1109948    | 6          | 0          |  7         | 2          | 200808     | 202012     |  37        | 15         | 2          | 6          |  5513      |  2         |  0         |  0         | 0          |  0         |   2200     |      0     |     0      |     0      |     0      | 0          | 0          | 0          |  0         | 0          |  759       |   0.0000   |     0.000  |      0.000 | 0          | 0          |\n",
       "| 5950951    | 6          | 0          |  4         | 2          | 201903     | 202012     |  89        | 20         | 2          | 4          |  1958      |  5         |  6         |  9         | 6          |  1         | 130000     |  81000     | 18200      |   600      |  2700      | 0          | 0          | 0          |  0         | 0          |  794       |   0.0000   |  5157.143  |      0.000 | 0          | 0          |\n",
       "| 6212674    | 3          | 0          | 16         | 2          | 201206     | 202012     |  38        | 20         | 2          | 1          |  3914      |  1         |  1         |  0         | 0          |  0         |  10000     |    270     |     0      |     0      |     0      | 0          | 0          | 0          |  0         | 0          |  794       |   0.0000   |  5157.143  |      0.000 | 0          | 0          |\n",
       "| 7576566    | 3          | 0          | 13         | 2          | 201208     | 202012     |   8        | 20         | 2          | 1          |   808      |  3         |  0         |  1         | 1          |  3         | 109000     |      0     |   100      |   100      | 22300      | 0          | 0          | 0          |  0         | 0          |  794       |   0.0000   |  5157.143  |      0.000 | 0          | 0          |\n",
       "| 9109606    | 8          | 0          |  3         | 2          | 201601     | 202012     | 130        | 10         | 2          | 4          |  7800      |  5         |  9         |  3         | 4          |  0         | 173000     | 158760     | 46540      |   400      |     0      | 0          | 0          | 0          |  0         | 0          |  794       |   0.0000   |  5157.143  |      0.000 | 0          | 0          |\n",
       "| 1505693    | 3          | 0          | 11         | 2          | 201204     | 202012     | 210        |  7         | 2          | 1          | 22050      |  2         |  0         |  0         | 0          |  0         |   4400     |      0     |     0      |     0      |     0      | 0          | 0          | 0          |  0         | 0          |  800       |   0.0000   |     0.000  |      0.000 | 0          | 0          |\n",
       "| 6082043    | 3          | 0          | 10         | 2          | 201708     | 202012     | 320        |  5         | 2          | 1          | 13120      |  2         |  0         |  0         | 0          |  0         |   8000     |      0     |     0      |     0      |     0      | 0          | 0          | 0          |  0         | 0          |  800       |   0.0000   |     0.000  |      0.000 | 0          | 0          |\n",
       "| 7083246    | 3          | 0          | 11         | 2          | 201407     | 202012     | 250        | 10         | 2          | 1          | 19500      |  2         |  0         |  0         | 0          |  0         |   6400     |      0     |     0      |     0      |     0      | 0          | 0          | 0          |  0         | 0          |  800       |   0.0000   |     0.000  |      0.000 | 0          | 0          |\n",
       "| 7180128    | 3          | 0          | 11         | 2          | 201407     | 202012     | 370        | 10         | 2          | 1          | 28860      |  2         |  0         |  0         | 0          |  0         |   9600     |      0     |     0      |     0      |     0      | 0          | 0          | 0          |  0         | 0          |  800       |   0.0000   |     0.000  |      0.000 | 0          | 0          |\n",
       "|    9529    | 6          | 0          | 13         | 2          | 201911     | 202012     |  32        | 20         | 2          | 1          |   448      |  0         |  4         |  6         | 2          | 10         |      0     |   2350     |  2980      |   200      | 15810      | 0          | 0          | 0          |  0         | 0          | 2130       |   0.0000   |  3968.000  | 108160.000 | 0          | 0          |\n",
       "| 9812929    | 8          | 0          | 16         | 2          | 201112     | 202012     |  29        |  3         | 2          | 1          |  3161      |  2         |  0         |  0         | 0          |  0         |  18000     |      0     |     0      |     0      |     0      | 0          | 0          | 0          |  0         | 0          | 2130       |   0.0000   |  3968.000  | 108160.000 | 0          | 0          |\n",
       "| 9834062    | 8          | 0          |  1         | 2          | 200910     | 202012     | 120        | 20         | 2          | 1          | 16200      |  4         |  4         |  2         | 4          |  0         |  56000     |  63180     |  8100      |   400      |     0      | 0          | 0          | 0          |  0         | 0          | 2130       |   0.0000   |  3968.000  | 108160.000 | 0          | 0          |\n",
       "|  286990    | 6          | 0          |  7         | 2          | 201809     | 202012     |  50        | 20         | 2          | 1          |  1400      |  2         |  0         |  0         | 0          |  0         |  18000     |      0     |     0      |     0      |     0      | 0          | 0          | 0          |  0         | 0          | 2821       |   0.0000   |     0.000  |   1398.000 | 0          | 0          |\n",
       "| 6523959    | 6          | 0          | 18         | 2          | 201706     | 202012     |  45        | 10         | 2          | 4          |  1935      |  0         |  1         |  0         | 0          |  0         |      0     |    180     |     0      |     0      |     0      | 0          | 0          | 0          |  0         | 0          | 2821       |   0.0000   |     0.000  |   1398.000 | 0          | 0          |\n",
       "| 7849656    | 6          | 0          |  4         | 2          | 201402     | 202012     | 130        | 20         | 2          | 2          | 10790      |  7         | 11         | 12         | 7          |  1         | 296200     | 126950     | 12730      |   710      |  1100      | 0          | 0          | 0          | 66         | 0          | 3263       |   0.0000   |     0.000  |      0.000 | 0          | 0          |\n",
       "| 9234793    | 6          | 0          |  4         | 2          | 200708     | 202012     |  63        | 20         | 2          | 2          | 10143      | 10         |  0         |  5         | 2          |  0         | 502000     |      0     | 71500      |  1110      |     0      | 0          | 0          | 0          |  0         | 0          | 3263       |   0.0000   |     0.000  |      0.000 | 0          | 0          |\n",
       "| 2260159    | 8          | 0          |  3         | 2          | 201207     | 202012     | 110        | 20         | 2          | 1          | 11220      |  2         |  6         |  3         | 1          |  0         |  78000     | 120000     | 33000      | 20000      |     0      | 0          | 0          | 0          |  0         | 0          | 3962       |   0.0000   | 10552.000  |  11108.696 | 0          | 0          |\n",
       "| 3958785    | 8          | 0          |  8         | 2          | 201505     | 202012     |  45        |  5         | 2          | 6          |  3060      |  0         |  0         |  0         | 0          |  3         |      0     |      0     |     0      |     0      |  1560      | 0          | 0          | 0          |  0         | 0          | 3962       |   0.0000   | 10552.000  |  11108.696 | 0          | 0          |\n",
       "|  364891    | 6          | 0          |  3         | 2          | 201302     | 202012     |  58        | 10         | 2          | 1          |  5510      |  5         |  0         |  0         | 0          |  0         | 166800     |      0     |     0      |     0      |     0      | 0          | 0          | 0          |  0         | 0          | 4073       |   0.0000   |     0.000  |      0.000 | 0          | 0          |\n",
       "| 2590746    | 6          | 0          |  4         | 2          | 201506     | 202012     |  16        | 10         | 2          | 3          |  1072      |  2         |  5         |  0         | 0          |  1         |  16000     |  24800     |     0      |     0      |   120      | 0          | 0          | 0          |  0         | 0          | 4073       |   0.0000   |     0.000  |      0.000 | 0          | 0          |\n",
       "| ... | ... | ... | ... | ... | ... | ... | ... | ... | ... | ... | ... | ... | ... | ... | ... | ... | ... | ... | ... | ... | ... | ... | ... | ... | ... | ... | ... | ... | ... | ... | ... | ... |\n",
       "| 5439826  | 6        | 0        |  5       | 2        | 201706   | 202012   |   25     | 33       | 2        |  1       |   1075   |  3       |  2       |  0       |  0       |  0       |   35200  |  39600   |      0   |    0     |     0    | 0        | 0        | 0        | 0        |  0       | 1957319  | 0        | 5521.622 |     0.00 | 0        | 0        |\n",
       "| 5896052  | 8        | 0        |  4       | 2        | 201908   | 202012   |    1     |  0       | 1        |  5       |     17   |  1       |  0       |  0       |  0       |  0       |   10000  |      0   |      0   |    0     |     0    | 0        | 0        | 0        | 0        |  0       | 1957319  | 0        | 5521.622 |     0.00 | 0        | 0        |\n",
       "| 8283143  | 6        | 0        |  4       | 2        | 200901   | 202012   |   49     | 20       | 2        | 99       |   7056   |  9       |  6       |  8       |  0       |  2       |  173000  |  34880   |  11760   |    0     |  1200    | 0        | 0        | 0        | 0        |  0       | 1957319  | 0        | 5521.622 |     0.00 | 0        | 0        |\n",
       "| 8692358  | 6        | 0        |  4       | 2        | 201106   | 202012   |  110     |  5       | 2        |  4       |  12650   |  2       |  0       |  0       |  0       |  1       |    2200  |      0   |      0   |    0     |  1100    | 0        | 0        | 0        | 0        |  0       | 1957319  | 0        | 5521.622 |     0.00 | 0        | 0        |\n",
       "| 9021808  | 8        | 0        | 10       | 2        | 201510   | 202012   | 5000     |  0       | 1        |  1       | 315000   |  2       |  0       |  0       |  0       |  0       |    3400  |      0   |      0   |    0     |     0    | 0        | 0        | 0        | 0        |  0       | 1957319  | 0        | 5521.622 |     0.00 | 0        | 0        |\n",
       "| 3420481  | 8        | 0        |  4       | 2        | 201908   | 202012   |  330     |  1       | 3        |  4       |   5610   |  4       |  2       |  1       |  2       |  0       |  260000  |    540   |    270   |  200     |     0    | 0        | 0        | 0        | 0        |  0       | 1957335  | 0        |    0.000 |  9000.00 | 0        | 0        |\n",
       "| 6700753  | 6        | 0        | 13       | 2        | 201903   | 202012   |   27     | 15       | 2        |  1       |    594   |  2       |  4       |  1       |  1       |  8       |   99000  |   1370   |    900   |  100     | 24560    | 0        | 0        | 0        | 0        |  0       | 1957335  | 0        |    0.000 |  9000.00 | 0        | 0        |\n",
       "|  655009  | 6        | 0        | 13       | 2        | 201101   | 202012   |   45     | 10       | 2        |  1       |   5400   |  2       |  2       |  1       |  2       |  4       |  100000  |    540   |    450   |  370     |  1280    | 0        | 0        | 0        | 0        | 90       | 1957568  | 0        | 2200.000 |     0.00 | 0        | 0        |\n",
       "| 5928818  | 8        | 0        |  1       | 2        | 201609   | 202012   | 5000     |  0       | 1        |  3       | 260000   |  4       |  0       |  0       |  0       |  0       |  120000  |      0   |      0   |    0     |     0    | 0        | 0        | 0        | 0        |  0       | 1957568  | 0        | 2200.000 |     0.00 | 0        | 0        |\n",
       "| 3942396  | 8        | 0        | 11       | 2        | 201909   | 202012   | 5000     |  0       | 1        |  4       |  80000   | 11       |  0       |  0       |  0       |  0       |   71500  |      0   |      0   |    0     |     0    | 0        | 0        | 0        | 0        |  0       | 1958180  | 0        |    0.000 |     0.00 | 0        | 0        |\n",
       "| 6168716  | 8        | 0        |  4       | 2        | 202006   | 202012   |   65     |  5       | 2        |  4       |    455   |  3       |  0       |  0       |  0       |  0       |   45000  |      0   |      0   |    0     |     0    | 0        | 0        | 0        | 0        |  0       | 1958180  | 0        |    0.000 |     0.00 | 0        | 0        |\n",
       "| 7547334  | 8        | 0        | 10       | 2        | 202002   | 202012   | 5000     |  0       | 1        |  4       |  55000   |  1       |  0       |  0       |  0       |  0       |     650  |      0   |      0   |    0     |     0    | 0        | 0        | 0        | 0        |  0       | 1958180  | 0        |    0.000 |     0.00 | 0        | 0        |\n",
       "| 7842951  | 8        | 0        | 11       | 2        | 201008   | 202012   |  140     | 10       | 2        |  4       |  17500   |  2       |  0       |  0       |  0       |  0       |   40000  |      0   |      0   |    0     |     0    | 0        | 0        | 0        | 0        |  0       | 1958180  | 0        |    0.000 |     0.00 | 0        | 0        |\n",
       "| 2695631  | 8        | 0        |  1       | 2        | 201901   | 202012   |  130     | 33       | 2        |  6       |   3120   |  7       |  4       |  5       |  3       |  0       |  290000  |  42260   |   4080   |  300     |     0    | 0        | 0        | 0        | 0        |  0       | 1958342  | 0        |    0.000 |     0.00 | 0        | 0        |\n",
       "| 3687656  | 6        | 0        |  4       | 2        | 201707   | 202012   |   56     | 20       | 2        |  4       |   2352   |  1       |  7       |  0       |  0       |  0       |   55000  |  91300   |      0   |    0     |     0    | 0        | 0        | 0        | 0        |  0       | 1958887  | 0        |    0.000 |     0.00 | 0        | 0        |\n",
       "| 4146225  | 8        | 0        |  3       | 2        | 201707   | 202012   |   29     | 10       | 2        |  6       |   1218   |  0       |  3       |  5       |  6       |  0       |       0  | 110330   |  26070   |  600     |     0    | 0        | 0        | 0        | 0        |  0       | 1958887  | 0        |    0.000 |     0.00 | 0        | 0        |\n",
       "| 4649465  | 8        | 0        | 11       | 2        | 201406   | 202012   |  170     | 10       | 2        |  4       |  13430   |  2       |  0       |  0       |  0       |  0       |    1680  |      0   |      0   |    0     |     0    | 0        | 0        | 0        | 0        |  0       | 1958887  | 0        |    0.000 |     0.00 | 0        | 0        |\n",
       "| 7188762  | 6        | 0        |  4       | 2        | 201003   | 202012   |   26     | 20       | 2        |  6       |   3380   |  2       |  3       |  4       |  0       |  2       |   32000  |    990   |  44100   |    0     |  1200    | 0        | 0        | 0        | 0        |  0       | 1958887  | 0        |    0.000 |     0.00 | 0        | 0        |\n",
       "|  446399  | 6        | 0        | 13       | 2        | 201601   | 202012   |   24     | 20       | 2        |  6       |   1440   |  5       |  1       |  5       |  1       |  4       |  270000  |    120   |   7540   |  100     |  2760    | 0        | 0        | 0        | 0        |  0       | 1959058  | 0        | 2300.000 |     0.00 | 0        | 0        |\n",
       "| 1600223  | 8        | 0        |  1       | 2        | 200910   | 202012   |  550     | 20       | 2        |  1       |  74250   |  2       |  0       |  0       |  0       |  0       | 1000000  |      0   |      0   |    0     |     0    | 0        | 0        | 0        | 0        |  0       | 1959058  | 0        | 2300.000 |     0.00 | 0        | 0        |\n",
       "| 2928002  | 8        | 0        |  1       | 2        | 200712   | 202012   |  680     | 10       | 2        |  1       | 106760   |  5       |  9       |  6       |  5       |  0       |  860000  | 180240   |  61200   |  500     |     0    | 0        | 0        | 0        | 0        |  0       | 1959058  | 0        | 2300.000 |     0.00 | 0        | 0        |\n",
       "| 4863894  | 8        | 0        |  5       | 2        | 201903   | 202012   |  150     | 30       | 2        |  1       |   3300   |  1       |  2       |  0       |  0       |  0       |   12000  | 156000   |      0   |    0     |     0    | 0        | 0        | 0        | 0        |  0       | 1959058  | 0        | 2300.000 |     0.00 | 0        | 0        |\n",
       "| 5538462  | 8        | 0        |  5       | 2        | 201805   | 202012   |   27     | 10       | 2        |  6       |    864   |  0       |  6       |  0       |  0       |  0       |       0  | 280000   |      0   |    0     |     0    | 0        | 0        | 0        | 0        |  0       | 1959058  | 0        | 2300.000 |     0.00 | 0        | 0        |\n",
       "| 6873600  | 8        | 0        |  2       | 2        | 200708   | 202012   |  380     | 20       | 2        |  3       |  61180   |  1       |  0       |  0       |  0       |  0       |  100000  |      0   |      0   |    0     |     0    | 0        | 0        | 0        | 0        |  0       | 1959058  | 0        | 2300.000 |     0.00 | 0        | 0        |\n",
       "| 7115218  | 6        | 0        |  3       | 2        | 201401   | 202012   |  170     | 25       | 2        |  1       |  14280   |  8       | 12       | 17       |  6       |  3       |  292000  | 193800   |  80520   |  660     |  1440    | 0        | 0        | 0        | 0        |  0       | 1959058  | 0        | 2300.000 |     0.00 | 0        | 0        |\n",
       "| 8103024  | 8        | 0        |  3       | 2        | 200902   | 202012   |  170     | 20       | 2        |  1       |  24310   |  3       |  6       |  3       |  3       |  0       |  230000  | 430240   | 100400   |  300     |     0    | 0        | 0        | 0        | 0        |  0       | 1959058  | 0        | 2300.000 |     0.00 | 0        | 0        |\n",
       "| 4135747  | 6        | 0        |  3       | 2        | 201202   | 202012   |  130     | 20       | 2        |  3       |  13910   |  7       | 12       | 11       |  2       |  5       |  110000  |  60300   |  63100   |  200     |  9800    | 0        | 0        | 0        | 0        |  0       | 1959358  | 0        | 7656.643 | 21641.03 | 0        | 0        |\n",
       "| 6226554  | 6        | 0        |  5       | 2        | 201602   | 202012   |   32     | 15       | 2        |  3       |   1888   |  0       |  3       |  0       |  0       |  0       |       0  |  24000   |      0   |    0     |     0    | 0        | 0        | 0        | 0        |  0       | 1959358  | 0        | 7656.643 | 21641.03 | 0        | 0        |\n",
       "| 7471357  | 6        | 0        |  3       | 2        | 201405   | 202012   |   72     | 20       | 2        |  3       |   5760   |  0       |  1       |  0       |  0       |  0       |       0  |  24000   |      0   |    0     |     0    | 0        | 0        | 0        | 0        |  0       | 1959358  | 0        | 7656.643 | 21641.03 | 0        | 0        |\n",
       "| 9057152  | 6        | 0        |  7       | 2        | 201402   | 202012   |   78     | 30       | 2        |  1       |   6474   |  6       | 21       | 20       | 10       | 11       |   54000  | 298660   | 129990   | 1020     | 14100    | 0        | 0        | 0        | 0        |  0       | 1959417  | 0        |    0.000 |     0.00 | 0        | 0        |\n",
       "\n"
      ],
      "text/plain": [
       "      POL_SN  SCTR_CD IS_GRP_INS INS_GBN_CD INS_CT_STAT_CD CT_CNCLS_DT\n",
       "1     6680267 6       0           3         2              201306     \n",
       "2       65859 6       0           5         2              201912     \n",
       "3     1205750 6       0          13         2              201812     \n",
       "4     4623216 6       0          99         2              202002     \n",
       "5     6575838 6       0           4         2              201910     \n",
       "6     7336996 6       0           3         2              201908     \n",
       "7     8651386 6       0           5         2              201905     \n",
       "8     2470615 8       0           1         2              200803     \n",
       "9     7154309 8       0          11         2              201306     \n",
       "10     939833 6       0           4         2              201612     \n",
       "11    1109948 6       0           7         2              200808     \n",
       "12    5950951 6       0           4         2              201903     \n",
       "13    6212674 3       0          16         2              201206     \n",
       "14    7576566 3       0          13         2              201208     \n",
       "15    9109606 8       0           3         2              201601     \n",
       "16    1505693 3       0          11         2              201204     \n",
       "17    6082043 3       0          10         2              201708     \n",
       "18    7083246 3       0          11         2              201407     \n",
       "19    7180128 3       0          11         2              201407     \n",
       "20       9529 6       0          13         2              201911     \n",
       "21    9812929 8       0          16         2              201112     \n",
       "22    9834062 8       0           1         2              200910     \n",
       "23     286990 6       0           7         2              201809     \n",
       "24    6523959 6       0          18         2              201706     \n",
       "25    7849656 6       0           4         2              201402     \n",
       "26    9234793 6       0           4         2              200708     \n",
       "27    2260159 8       0           3         2              201207     \n",
       "28    3958785 8       0           8         2              201505     \n",
       "29     364891 6       0           3         2              201302     \n",
       "30    2590746 6       0           4         2              201506     \n",
       "...   ...     ...     ...        ...        ...            ...        \n",
       "10050 5439826 6       0           5         2              201706     \n",
       "10051 5896052 8       0           4         2              201908     \n",
       "10052 8283143 6       0           4         2              200901     \n",
       "10053 8692358 6       0           4         2              201106     \n",
       "10054 9021808 8       0          10         2              201510     \n",
       "10055 3420481 8       0           4         2              201908     \n",
       "10056 6700753 6       0          13         2              201903     \n",
       "10057  655009 6       0          13         2              201101     \n",
       "10058 5928818 8       0           1         2              201609     \n",
       "10059 3942396 8       0          11         2              201909     \n",
       "10060 6168716 8       0           4         2              202006     \n",
       "10061 7547334 8       0          10         2              202002     \n",
       "10062 7842951 8       0          11         2              201008     \n",
       "10063 2695631 8       0           1         2              201901     \n",
       "10064 3687656 6       0           4         2              201707     \n",
       "10065 4146225 8       0           3         2              201707     \n",
       "10066 4649465 8       0          11         2              201406     \n",
       "10067 7188762 6       0           4         2              201003     \n",
       "10068  446399 6       0          13         2              201601     \n",
       "10069 1600223 8       0           1         2              200910     \n",
       "10070 2928002 8       0           1         2              200712     \n",
       "10071 4863894 8       0           5         2              201903     \n",
       "10072 5538462 8       0           5         2              201805     \n",
       "10073 6873600 8       0           2         2              200708     \n",
       "10074 7115218 6       0           3         2              201401     \n",
       "10075 8103024 8       0           3         2              200902     \n",
       "10076 4135747 6       0           3         2              201202     \n",
       "10077 6226554 6       0           5         2              201602     \n",
       "10078 7471357 6       0           3         2              201405     \n",
       "10079 9057152 6       0           7         2              201402     \n",
       "      CT_EFCTV_DT CT_PY_AMT CT_PY_PD CT_PY_CYCLE_CD CT_CHNL_CD prem   CNT1 CNT2\n",
       "1     202012       46       30       2              3           4186   4    6  \n",
       "2     202012       28       20       2              6            364   0    7  \n",
       "3     202012       21       20       2              6            525   4    3  \n",
       "4     202012       29       20       2              6            319   4    0  \n",
       "5     202012       28       20       2              6            420   2    0  \n",
       "6     202012       29       20       2              6            493   2    3  \n",
       "7     202012       33       20       2              6            660   0   10  \n",
       "8     202012       44       24       2              1           6776   3    3  \n",
       "9     202012       80       10       2              4           7280   4    0  \n",
       "10    202012      100       20       2              3           4900   7    8  \n",
       "11    202012       37       15       2              6           5513   2    0  \n",
       "12    202012       89       20       2              4           1958   5    6  \n",
       "13    202012       38       20       2              1           3914   1    1  \n",
       "14    202012        8       20       2              1            808   3    0  \n",
       "15    202012      130       10       2              4           7800   5    9  \n",
       "16    202012      210        7       2              1          22050   2    0  \n",
       "17    202012      320        5       2              1          13120   2    0  \n",
       "18    202012      250       10       2              1          19500   2    0  \n",
       "19    202012      370       10       2              1          28860   2    0  \n",
       "20    202012       32       20       2              1            448   0    4  \n",
       "21    202012       29        3       2              1           3161   2    0  \n",
       "22    202012      120       20       2              1          16200   4    4  \n",
       "23    202012       50       20       2              1           1400   2    0  \n",
       "24    202012       45       10       2              4           1935   0    1  \n",
       "25    202012      130       20       2              2          10790   7   11  \n",
       "26    202012       63       20       2              2          10143  10    0  \n",
       "27    202012      110       20       2              1          11220   2    6  \n",
       "28    202012       45        5       2              6           3060   0    0  \n",
       "29    202012       58       10       2              1           5510   5    0  \n",
       "30    202012       16       10       2              3           1072   2    5  \n",
       "...   ...         ...       ...      ...            ...        ...    ...  ... \n",
       "10050 202012        25      33       2               1           1075  3    2  \n",
       "10051 202012         1       0       1               5             17  1    0  \n",
       "10052 202012        49      20       2              99           7056  9    6  \n",
       "10053 202012       110       5       2               4          12650  2    0  \n",
       "10054 202012      5000       0       1               1         315000  2    0  \n",
       "10055 202012       330       1       3               4           5610  4    2  \n",
       "10056 202012        27      15       2               1            594  2    4  \n",
       "10057 202012        45      10       2               1           5400  2    2  \n",
       "10058 202012      5000       0       1               3         260000  4    0  \n",
       "10059 202012      5000       0       1               4          80000 11    0  \n",
       "10060 202012        65       5       2               4            455  3    0  \n",
       "10061 202012      5000       0       1               4          55000  1    0  \n",
       "10062 202012       140      10       2               4          17500  2    0  \n",
       "10063 202012       130      33       2               6           3120  7    4  \n",
       "10064 202012        56      20       2               4           2352  1    7  \n",
       "10065 202012        29      10       2               6           1218  0    3  \n",
       "10066 202012       170      10       2               4          13430  2    0  \n",
       "10067 202012        26      20       2               6           3380  2    3  \n",
       "10068 202012        24      20       2               6           1440  5    1  \n",
       "10069 202012       550      20       2               1          74250  2    0  \n",
       "10070 202012       680      10       2               1         106760  5    9  \n",
       "10071 202012       150      30       2               1           3300  1    2  \n",
       "10072 202012        27      10       2               6            864  0    6  \n",
       "10073 202012       380      20       2               3          61180  1    0  \n",
       "10074 202012       170      25       2               1          14280  8   12  \n",
       "10075 202012       170      20       2               1          24310  3    6  \n",
       "10076 202012       130      20       2               3          13910  7   12  \n",
       "10077 202012        32      15       2               3           1888  0    3  \n",
       "10078 202012        72      20       2               3           5760  0    1  \n",
       "10079 202012        78      30       2               1           6474  6   21  \n",
       "      CNT3 CNT4 CNT5 AMT1    AMT2   AMT3   AMT4  AMT5  loss1 loss2 loss3 loss4\n",
       "1      4   3     3   250000   77660  7260    310 12210 0     0     0      0   \n",
       "2      1   3     4        0   74300   550    170   100 0     0     0      0   \n",
       "3      6   2     2   120000     660  8400    200  1210 0     0     0      0   \n",
       "4      2   2    11   140000       0   440    200   630 0     0     0      0   \n",
       "5      7   9     0    66000       0  4180    770     0 0     0     0      0   \n",
       "6      2   4     4    20000   33000   440    400   130 0     0     0      0   \n",
       "7      0   1     0        0  173300     0    100     0 0     0     0      0   \n",
       "8      3   3     0    94000   20000  2400    300     0 0     0     0      0   \n",
       "9      0   0     0    44000       0     0      0     0 0     0     0      0   \n",
       "10    19   0     2   156800   45760 58120      0   400 0     0     0      0   \n",
       "11     0   0     0     2200       0     0      0     0 0     0     0      0   \n",
       "12     9   6     1   130000   81000 18200    600  2700 0     0     0      0   \n",
       "13     0   0     0    10000     270     0      0     0 0     0     0      0   \n",
       "14     1   1     3   109000       0   100    100 22300 0     0     0      0   \n",
       "15     3   4     0   173000  158760 46540    400     0 0     0     0      0   \n",
       "16     0   0     0     4400       0     0      0     0 0     0     0      0   \n",
       "17     0   0     0     8000       0     0      0     0 0     0     0      0   \n",
       "18     0   0     0     6400       0     0      0     0 0     0     0      0   \n",
       "19     0   0     0     9600       0     0      0     0 0     0     0      0   \n",
       "20     6   2    10        0    2350  2980    200 15810 0     0     0      0   \n",
       "21     0   0     0    18000       0     0      0     0 0     0     0      0   \n",
       "22     2   4     0    56000   63180  8100    400     0 0     0     0      0   \n",
       "23     0   0     0    18000       0     0      0     0 0     0     0      0   \n",
       "24     0   0     0        0     180     0      0     0 0     0     0      0   \n",
       "25    12   7     1   296200  126950 12730    710  1100 0     0     0     66   \n",
       "26     5   2     0   502000       0 71500   1110     0 0     0     0      0   \n",
       "27     3   1     0    78000  120000 33000  20000     0 0     0     0      0   \n",
       "28     0   0     3        0       0     0      0  1560 0     0     0      0   \n",
       "29     0   0     0   166800       0     0      0     0 0     0     0      0   \n",
       "30     0   0     1    16000   24800     0      0   120 0     0     0      0   \n",
       "...   ...  ...  ...  ...     ...    ...    ...   ...   ...   ...   ...   ...  \n",
       "10050  0    0    0     35200  39600      0    0      0 0     0     0     0    \n",
       "10051  0    0    0     10000      0      0    0      0 0     0     0     0    \n",
       "10052  8    0    2    173000  34880  11760    0   1200 0     0     0     0    \n",
       "10053  0    0    1      2200      0      0    0   1100 0     0     0     0    \n",
       "10054  0    0    0      3400      0      0    0      0 0     0     0     0    \n",
       "10055  1    2    0    260000    540    270  200      0 0     0     0     0    \n",
       "10056  1    1    8     99000   1370    900  100  24560 0     0     0     0    \n",
       "10057  1    2    4    100000    540    450  370   1280 0     0     0     0    \n",
       "10058  0    0    0    120000      0      0    0      0 0     0     0     0    \n",
       "10059  0    0    0     71500      0      0    0      0 0     0     0     0    \n",
       "10060  0    0    0     45000      0      0    0      0 0     0     0     0    \n",
       "10061  0    0    0       650      0      0    0      0 0     0     0     0    \n",
       "10062  0    0    0     40000      0      0    0      0 0     0     0     0    \n",
       "10063  5    3    0    290000  42260   4080  300      0 0     0     0     0    \n",
       "10064  0    0    0     55000  91300      0    0      0 0     0     0     0    \n",
       "10065  5    6    0         0 110330  26070  600      0 0     0     0     0    \n",
       "10066  0    0    0      1680      0      0    0      0 0     0     0     0    \n",
       "10067  4    0    2     32000    990  44100    0   1200 0     0     0     0    \n",
       "10068  5    1    4    270000    120   7540  100   2760 0     0     0     0    \n",
       "10069  0    0    0   1000000      0      0    0      0 0     0     0     0    \n",
       "10070  6    5    0    860000 180240  61200  500      0 0     0     0     0    \n",
       "10071  0    0    0     12000 156000      0    0      0 0     0     0     0    \n",
       "10072  0    0    0         0 280000      0    0      0 0     0     0     0    \n",
       "10073  0    0    0    100000      0      0    0      0 0     0     0     0    \n",
       "10074 17    6    3    292000 193800  80520  660   1440 0     0     0     0    \n",
       "10075  3    3    0    230000 430240 100400  300      0 0     0     0     0    \n",
       "10076 11    2    5    110000  60300  63100  200   9800 0     0     0     0    \n",
       "10077  0    0    0         0  24000      0    0      0 0     0     0     0    \n",
       "10078  0    0    0         0  24000      0    0      0 0     0     0     0    \n",
       "10079 20   10   11     54000 298660 129990 1020  14100 0     0     0     0    \n",
       "      loss5 JOIN_SN service  service_lim fdeachul   deachul yunche\n",
       "1     0       44      0.0000  4186.957     1450.375 0       0     \n",
       "2     0      453    231.6667  2416.667     8968.750 0       0     \n",
       "3     0      453    231.6667  2416.667     8968.750 0       0     \n",
       "4     0      453    231.6667  2416.667     8968.750 0       0     \n",
       "5     0      453    231.6667  2416.667     8968.750 0       0     \n",
       "6     0      453    231.6667  2416.667     8968.750 0       0     \n",
       "7     0      453    231.6667  2416.667     8968.750 0       0     \n",
       "8     0      488      0.0000  6648.855        0.000 0       0     \n",
       "9     0      488      0.0000  6648.855        0.000 0       0     \n",
       "10    0      603      0.0000     0.000        0.000 0       0     \n",
       "11    0      759      0.0000     0.000        0.000 0       0     \n",
       "12    0      794      0.0000  5157.143        0.000 0       0     \n",
       "13    0      794      0.0000  5157.143        0.000 0       0     \n",
       "14    0      794      0.0000  5157.143        0.000 0       0     \n",
       "15    0      794      0.0000  5157.143        0.000 0       0     \n",
       "16    0      800      0.0000     0.000        0.000 0       0     \n",
       "17    0      800      0.0000     0.000        0.000 0       0     \n",
       "18    0      800      0.0000     0.000        0.000 0       0     \n",
       "19    0      800      0.0000     0.000        0.000 0       0     \n",
       "20    0     2130      0.0000  3968.000   108160.000 0       0     \n",
       "21    0     2130      0.0000  3968.000   108160.000 0       0     \n",
       "22    0     2130      0.0000  3968.000   108160.000 0       0     \n",
       "23    0     2821      0.0000     0.000     1398.000 0       0     \n",
       "24    0     2821      0.0000     0.000     1398.000 0       0     \n",
       "25    0     3263      0.0000     0.000        0.000 0       0     \n",
       "26    0     3263      0.0000     0.000        0.000 0       0     \n",
       "27    0     3962      0.0000 10552.000    11108.696 0       0     \n",
       "28    0     3962      0.0000 10552.000    11108.696 0       0     \n",
       "29    0     4073      0.0000     0.000        0.000 0       0     \n",
       "30    0     4073      0.0000     0.000        0.000 0       0     \n",
       "...   ...   ...     ...      ...         ...        ...     ...   \n",
       "10050  0    1957319 0        5521.622        0.00   0       0     \n",
       "10051  0    1957319 0        5521.622        0.00   0       0     \n",
       "10052  0    1957319 0        5521.622        0.00   0       0     \n",
       "10053  0    1957319 0        5521.622        0.00   0       0     \n",
       "10054  0    1957319 0        5521.622        0.00   0       0     \n",
       "10055  0    1957335 0           0.000     9000.00   0       0     \n",
       "10056  0    1957335 0           0.000     9000.00   0       0     \n",
       "10057 90    1957568 0        2200.000        0.00   0       0     \n",
       "10058  0    1957568 0        2200.000        0.00   0       0     \n",
       "10059  0    1958180 0           0.000        0.00   0       0     \n",
       "10060  0    1958180 0           0.000        0.00   0       0     \n",
       "10061  0    1958180 0           0.000        0.00   0       0     \n",
       "10062  0    1958180 0           0.000        0.00   0       0     \n",
       "10063  0    1958342 0           0.000        0.00   0       0     \n",
       "10064  0    1958887 0           0.000        0.00   0       0     \n",
       "10065  0    1958887 0           0.000        0.00   0       0     \n",
       "10066  0    1958887 0           0.000        0.00   0       0     \n",
       "10067  0    1958887 0           0.000        0.00   0       0     \n",
       "10068  0    1959058 0        2300.000        0.00   0       0     \n",
       "10069  0    1959058 0        2300.000        0.00   0       0     \n",
       "10070  0    1959058 0        2300.000        0.00   0       0     \n",
       "10071  0    1959058 0        2300.000        0.00   0       0     \n",
       "10072  0    1959058 0        2300.000        0.00   0       0     \n",
       "10073  0    1959058 0        2300.000        0.00   0       0     \n",
       "10074  0    1959058 0        2300.000        0.00   0       0     \n",
       "10075  0    1959058 0        2300.000        0.00   0       0     \n",
       "10076  0    1959358 0        7656.643    21641.03   0       0     \n",
       "10077  0    1959358 0        7656.643    21641.03   0       0     \n",
       "10078  0    1959358 0        7656.643    21641.03   0       0     \n",
       "10079  0    1959417 0           0.000        0.00   0       0     "
      ]
     },
     "metadata": {},
     "output_type": "display_data"
    }
   ],
   "source": [
    "TJ <- setDT(TJOIN1)[order(JOIN_SN, POL_SN)][JOIN_SN != 'NA']\n",
    "TJ[is.na(TJ)] <- 0\n",
    "unique(TJ)[order(JOIN_SN, POL_SN)]#[, c('POL_SN', 'SCTR_CD', 'INS_GBN_CD', 'CT_CNCLS_DT', 'CT_PY_PD', 'CT_CHNL_CD', 'JOIN_SN')]"
   ]
  },
  {
   "cell_type": "markdown",
   "metadata": {},
   "source": [
    "#### ZOOM IN"
   ]
  },
  {
   "cell_type": "code",
   "execution_count": 599,
   "metadata": {},
   "outputs": [
    {
     "data": {
      "text/html": [
       "<table>\n",
       "<thead><tr><th scope=col>POL_SN</th><th scope=col>SCTR_CD</th><th scope=col>INS_GBN_CD</th><th scope=col>CT_CNCLS_DT</th><th scope=col>CT_PY_PD</th><th scope=col>CT_CHNL_CD</th><th scope=col>JOIN_SN</th></tr></thead>\n",
       "<tbody>\n",
       "\t<tr><td>6680267</td><td>6      </td><td> 3     </td><td>201306 </td><td>30     </td><td>3      </td><td>  44   </td></tr>\n",
       "\t<tr><td>  65859</td><td>6      </td><td> 5     </td><td>201912 </td><td>20     </td><td>6      </td><td> 453   </td></tr>\n",
       "\t<tr><td>1205750</td><td>6      </td><td>13     </td><td>201812 </td><td>20     </td><td>6      </td><td> 453   </td></tr>\n",
       "\t<tr><td>4623216</td><td>6      </td><td>99     </td><td>202002 </td><td>20     </td><td>6      </td><td> 453   </td></tr>\n",
       "\t<tr><td>6575838</td><td>6      </td><td> 4     </td><td>201910 </td><td>20     </td><td>6      </td><td> 453   </td></tr>\n",
       "\t<tr><td>7336996</td><td>6      </td><td> 3     </td><td>201908 </td><td>20     </td><td>6      </td><td> 453   </td></tr>\n",
       "\t<tr><td>8651386</td><td>6      </td><td> 5     </td><td>201905 </td><td>20     </td><td>6      </td><td> 453   </td></tr>\n",
       "\t<tr><td>2470615</td><td>8      </td><td> 1     </td><td>200803 </td><td>24     </td><td>1      </td><td> 488   </td></tr>\n",
       "\t<tr><td>7154309</td><td>8      </td><td>11     </td><td>201306 </td><td>10     </td><td>4      </td><td> 488   </td></tr>\n",
       "\t<tr><td> 939833</td><td>6      </td><td> 4     </td><td>201612 </td><td>20     </td><td>3      </td><td> 603   </td></tr>\n",
       "\t<tr><td>1109948</td><td>6      </td><td> 7     </td><td>200808 </td><td>15     </td><td>6      </td><td> 759   </td></tr>\n",
       "\t<tr><td>5950951</td><td>6      </td><td> 4     </td><td>201903 </td><td>20     </td><td>4      </td><td> 794   </td></tr>\n",
       "\t<tr><td>6212674</td><td>3      </td><td>16     </td><td>201206 </td><td>20     </td><td>1      </td><td> 794   </td></tr>\n",
       "\t<tr><td>7576566</td><td>3      </td><td>13     </td><td>201208 </td><td>20     </td><td>1      </td><td> 794   </td></tr>\n",
       "\t<tr><td>9109606</td><td>8      </td><td> 3     </td><td>201601 </td><td>10     </td><td>4      </td><td> 794   </td></tr>\n",
       "\t<tr><td>1505693</td><td>3      </td><td>11     </td><td>201204 </td><td> 7     </td><td>1      </td><td> 800   </td></tr>\n",
       "\t<tr><td>6082043</td><td>3      </td><td>10     </td><td>201708 </td><td> 5     </td><td>1      </td><td> 800   </td></tr>\n",
       "\t<tr><td>7083246</td><td>3      </td><td>11     </td><td>201407 </td><td>10     </td><td>1      </td><td> 800   </td></tr>\n",
       "\t<tr><td>7180128</td><td>3      </td><td>11     </td><td>201407 </td><td>10     </td><td>1      </td><td> 800   </td></tr>\n",
       "\t<tr><td>   9529</td><td>6      </td><td>13     </td><td>201911 </td><td>20     </td><td>1      </td><td>2130   </td></tr>\n",
       "\t<tr><td>9812929</td><td>8      </td><td>16     </td><td>201112 </td><td> 3     </td><td>1      </td><td>2130   </td></tr>\n",
       "\t<tr><td>9834062</td><td>8      </td><td> 1     </td><td>200910 </td><td>20     </td><td>1      </td><td>2130   </td></tr>\n",
       "\t<tr><td> 286990</td><td>6      </td><td> 7     </td><td>201809 </td><td>20     </td><td>1      </td><td>2821   </td></tr>\n",
       "\t<tr><td>6523959</td><td>6      </td><td>18     </td><td>201706 </td><td>10     </td><td>4      </td><td>2821   </td></tr>\n",
       "\t<tr><td>7849656</td><td>6      </td><td> 4     </td><td>201402 </td><td>20     </td><td>2      </td><td>3263   </td></tr>\n",
       "\t<tr><td>9234793</td><td>6      </td><td> 4     </td><td>200708 </td><td>20     </td><td>2      </td><td>3263   </td></tr>\n",
       "\t<tr><td>2260159</td><td>8      </td><td> 3     </td><td>201207 </td><td>20     </td><td>1      </td><td>3962   </td></tr>\n",
       "\t<tr><td>3958785</td><td>8      </td><td> 8     </td><td>201505 </td><td> 5     </td><td>6      </td><td>3962   </td></tr>\n",
       "\t<tr><td> 364891</td><td>6      </td><td> 3     </td><td>201302 </td><td>10     </td><td>1      </td><td>4073   </td></tr>\n",
       "\t<tr><td>2590746</td><td>6      </td><td> 4     </td><td>201506 </td><td>10     </td><td>3      </td><td>4073   </td></tr>\n",
       "\t<tr><td>...</td><td>...</td><td>...</td><td>...</td><td>...</td><td>...</td><td>...</td></tr>\n",
       "\t<tr><td>5439826</td><td>6      </td><td> 5     </td><td>201706 </td><td>33     </td><td> 1     </td><td>1957319</td></tr>\n",
       "\t<tr><td>5896052</td><td>8      </td><td> 4     </td><td>201908 </td><td> 0     </td><td> 5     </td><td>1957319</td></tr>\n",
       "\t<tr><td>8283143</td><td>6      </td><td> 4     </td><td>200901 </td><td>20     </td><td>99     </td><td>1957319</td></tr>\n",
       "\t<tr><td>8692358</td><td>6      </td><td> 4     </td><td>201106 </td><td> 5     </td><td> 4     </td><td>1957319</td></tr>\n",
       "\t<tr><td>9021808</td><td>8      </td><td>10     </td><td>201510 </td><td> 0     </td><td> 1     </td><td>1957319</td></tr>\n",
       "\t<tr><td>3420481</td><td>8      </td><td> 4     </td><td>201908 </td><td> 1     </td><td> 4     </td><td>1957335</td></tr>\n",
       "\t<tr><td>6700753</td><td>6      </td><td>13     </td><td>201903 </td><td>15     </td><td> 1     </td><td>1957335</td></tr>\n",
       "\t<tr><td> 655009</td><td>6      </td><td>13     </td><td>201101 </td><td>10     </td><td> 1     </td><td>1957568</td></tr>\n",
       "\t<tr><td>5928818</td><td>8      </td><td> 1     </td><td>201609 </td><td> 0     </td><td> 3     </td><td>1957568</td></tr>\n",
       "\t<tr><td>3942396</td><td>8      </td><td>11     </td><td>201909 </td><td> 0     </td><td> 4     </td><td>1958180</td></tr>\n",
       "\t<tr><td>6168716</td><td>8      </td><td> 4     </td><td>202006 </td><td> 5     </td><td> 4     </td><td>1958180</td></tr>\n",
       "\t<tr><td>7547334</td><td>8      </td><td>10     </td><td>202002 </td><td> 0     </td><td> 4     </td><td>1958180</td></tr>\n",
       "\t<tr><td>7842951</td><td>8      </td><td>11     </td><td>201008 </td><td>10     </td><td> 4     </td><td>1958180</td></tr>\n",
       "\t<tr><td>2695631</td><td>8      </td><td> 1     </td><td>201901 </td><td>33     </td><td> 6     </td><td>1958342</td></tr>\n",
       "\t<tr><td>3687656</td><td>6      </td><td> 4     </td><td>201707 </td><td>20     </td><td> 4     </td><td>1958887</td></tr>\n",
       "\t<tr><td>4146225</td><td>8      </td><td> 3     </td><td>201707 </td><td>10     </td><td> 6     </td><td>1958887</td></tr>\n",
       "\t<tr><td>4649465</td><td>8      </td><td>11     </td><td>201406 </td><td>10     </td><td> 4     </td><td>1958887</td></tr>\n",
       "\t<tr><td>7188762</td><td>6      </td><td> 4     </td><td>201003 </td><td>20     </td><td> 6     </td><td>1958887</td></tr>\n",
       "\t<tr><td> 446399</td><td>6      </td><td>13     </td><td>201601 </td><td>20     </td><td> 6     </td><td>1959058</td></tr>\n",
       "\t<tr><td>1600223</td><td>8      </td><td> 1     </td><td>200910 </td><td>20     </td><td> 1     </td><td>1959058</td></tr>\n",
       "\t<tr><td>2928002</td><td>8      </td><td> 1     </td><td>200712 </td><td>10     </td><td> 1     </td><td>1959058</td></tr>\n",
       "\t<tr><td>4863894</td><td>8      </td><td> 5     </td><td>201903 </td><td>30     </td><td> 1     </td><td>1959058</td></tr>\n",
       "\t<tr><td>5538462</td><td>8      </td><td> 5     </td><td>201805 </td><td>10     </td><td> 6     </td><td>1959058</td></tr>\n",
       "\t<tr><td>6873600</td><td>8      </td><td> 2     </td><td>200708 </td><td>20     </td><td> 3     </td><td>1959058</td></tr>\n",
       "\t<tr><td>7115218</td><td>6      </td><td> 3     </td><td>201401 </td><td>25     </td><td> 1     </td><td>1959058</td></tr>\n",
       "\t<tr><td>8103024</td><td>8      </td><td> 3     </td><td>200902 </td><td>20     </td><td> 1     </td><td>1959058</td></tr>\n",
       "\t<tr><td>4135747</td><td>6      </td><td> 3     </td><td>201202 </td><td>20     </td><td> 3     </td><td>1959358</td></tr>\n",
       "\t<tr><td>6226554</td><td>6      </td><td> 5     </td><td>201602 </td><td>15     </td><td> 3     </td><td>1959358</td></tr>\n",
       "\t<tr><td>7471357</td><td>6      </td><td> 3     </td><td>201405 </td><td>20     </td><td> 3     </td><td>1959358</td></tr>\n",
       "\t<tr><td>9057152</td><td>6      </td><td> 7     </td><td>201402 </td><td>30     </td><td> 1     </td><td>1959417</td></tr>\n",
       "</tbody>\n",
       "</table>\n"
      ],
      "text/latex": [
       "\\begin{tabular}{r|lllllll}\n",
       " POL\\_SN & SCTR\\_CD & INS\\_GBN\\_CD & CT\\_CNCLS\\_DT & CT\\_PY\\_PD & CT\\_CHNL\\_CD & JOIN\\_SN\\\\\n",
       "\\hline\n",
       "\t 6680267 & 6       &  3      & 201306  & 30      & 3       &   44   \\\\\n",
       "\t   65859 & 6       &  5      & 201912  & 20      & 6       &  453   \\\\\n",
       "\t 1205750 & 6       & 13      & 201812  & 20      & 6       &  453   \\\\\n",
       "\t 4623216 & 6       & 99      & 202002  & 20      & 6       &  453   \\\\\n",
       "\t 6575838 & 6       &  4      & 201910  & 20      & 6       &  453   \\\\\n",
       "\t 7336996 & 6       &  3      & 201908  & 20      & 6       &  453   \\\\\n",
       "\t 8651386 & 6       &  5      & 201905  & 20      & 6       &  453   \\\\\n",
       "\t 2470615 & 8       &  1      & 200803  & 24      & 1       &  488   \\\\\n",
       "\t 7154309 & 8       & 11      & 201306  & 10      & 4       &  488   \\\\\n",
       "\t  939833 & 6       &  4      & 201612  & 20      & 3       &  603   \\\\\n",
       "\t 1109948 & 6       &  7      & 200808  & 15      & 6       &  759   \\\\\n",
       "\t 5950951 & 6       &  4      & 201903  & 20      & 4       &  794   \\\\\n",
       "\t 6212674 & 3       & 16      & 201206  & 20      & 1       &  794   \\\\\n",
       "\t 7576566 & 3       & 13      & 201208  & 20      & 1       &  794   \\\\\n",
       "\t 9109606 & 8       &  3      & 201601  & 10      & 4       &  794   \\\\\n",
       "\t 1505693 & 3       & 11      & 201204  &  7      & 1       &  800   \\\\\n",
       "\t 6082043 & 3       & 10      & 201708  &  5      & 1       &  800   \\\\\n",
       "\t 7083246 & 3       & 11      & 201407  & 10      & 1       &  800   \\\\\n",
       "\t 7180128 & 3       & 11      & 201407  & 10      & 1       &  800   \\\\\n",
       "\t    9529 & 6       & 13      & 201911  & 20      & 1       & 2130   \\\\\n",
       "\t 9812929 & 8       & 16      & 201112  &  3      & 1       & 2130   \\\\\n",
       "\t 9834062 & 8       &  1      & 200910  & 20      & 1       & 2130   \\\\\n",
       "\t  286990 & 6       &  7      & 201809  & 20      & 1       & 2821   \\\\\n",
       "\t 6523959 & 6       & 18      & 201706  & 10      & 4       & 2821   \\\\\n",
       "\t 7849656 & 6       &  4      & 201402  & 20      & 2       & 3263   \\\\\n",
       "\t 9234793 & 6       &  4      & 200708  & 20      & 2       & 3263   \\\\\n",
       "\t 2260159 & 8       &  3      & 201207  & 20      & 1       & 3962   \\\\\n",
       "\t 3958785 & 8       &  8      & 201505  &  5      & 6       & 3962   \\\\\n",
       "\t  364891 & 6       &  3      & 201302  & 10      & 1       & 4073   \\\\\n",
       "\t 2590746 & 6       &  4      & 201506  & 10      & 3       & 4073   \\\\\n",
       "\t ... & ... & ... & ... & ... & ... & ...\\\\\n",
       "\t 5439826 & 6       &  5      & 201706  & 33      &  1      & 1957319\\\\\n",
       "\t 5896052 & 8       &  4      & 201908  &  0      &  5      & 1957319\\\\\n",
       "\t 8283143 & 6       &  4      & 200901  & 20      & 99      & 1957319\\\\\n",
       "\t 8692358 & 6       &  4      & 201106  &  5      &  4      & 1957319\\\\\n",
       "\t 9021808 & 8       & 10      & 201510  &  0      &  1      & 1957319\\\\\n",
       "\t 3420481 & 8       &  4      & 201908  &  1      &  4      & 1957335\\\\\n",
       "\t 6700753 & 6       & 13      & 201903  & 15      &  1      & 1957335\\\\\n",
       "\t  655009 & 6       & 13      & 201101  & 10      &  1      & 1957568\\\\\n",
       "\t 5928818 & 8       &  1      & 201609  &  0      &  3      & 1957568\\\\\n",
       "\t 3942396 & 8       & 11      & 201909  &  0      &  4      & 1958180\\\\\n",
       "\t 6168716 & 8       &  4      & 202006  &  5      &  4      & 1958180\\\\\n",
       "\t 7547334 & 8       & 10      & 202002  &  0      &  4      & 1958180\\\\\n",
       "\t 7842951 & 8       & 11      & 201008  & 10      &  4      & 1958180\\\\\n",
       "\t 2695631 & 8       &  1      & 201901  & 33      &  6      & 1958342\\\\\n",
       "\t 3687656 & 6       &  4      & 201707  & 20      &  4      & 1958887\\\\\n",
       "\t 4146225 & 8       &  3      & 201707  & 10      &  6      & 1958887\\\\\n",
       "\t 4649465 & 8       & 11      & 201406  & 10      &  4      & 1958887\\\\\n",
       "\t 7188762 & 6       &  4      & 201003  & 20      &  6      & 1958887\\\\\n",
       "\t  446399 & 6       & 13      & 201601  & 20      &  6      & 1959058\\\\\n",
       "\t 1600223 & 8       &  1      & 200910  & 20      &  1      & 1959058\\\\\n",
       "\t 2928002 & 8       &  1      & 200712  & 10      &  1      & 1959058\\\\\n",
       "\t 4863894 & 8       &  5      & 201903  & 30      &  1      & 1959058\\\\\n",
       "\t 5538462 & 8       &  5      & 201805  & 10      &  6      & 1959058\\\\\n",
       "\t 6873600 & 8       &  2      & 200708  & 20      &  3      & 1959058\\\\\n",
       "\t 7115218 & 6       &  3      & 201401  & 25      &  1      & 1959058\\\\\n",
       "\t 8103024 & 8       &  3      & 200902  & 20      &  1      & 1959058\\\\\n",
       "\t 4135747 & 6       &  3      & 201202  & 20      &  3      & 1959358\\\\\n",
       "\t 6226554 & 6       &  5      & 201602  & 15      &  3      & 1959358\\\\\n",
       "\t 7471357 & 6       &  3      & 201405  & 20      &  3      & 1959358\\\\\n",
       "\t 9057152 & 6       &  7      & 201402  & 30      &  1      & 1959417\\\\\n",
       "\\end{tabular}\n"
      ],
      "text/markdown": [
       "\n",
       "| POL_SN | SCTR_CD | INS_GBN_CD | CT_CNCLS_DT | CT_PY_PD | CT_CHNL_CD | JOIN_SN |\n",
       "|---|---|---|---|---|---|---|\n",
       "| 6680267 | 6       |  3      | 201306  | 30      | 3       |   44    |\n",
       "|   65859 | 6       |  5      | 201912  | 20      | 6       |  453    |\n",
       "| 1205750 | 6       | 13      | 201812  | 20      | 6       |  453    |\n",
       "| 4623216 | 6       | 99      | 202002  | 20      | 6       |  453    |\n",
       "| 6575838 | 6       |  4      | 201910  | 20      | 6       |  453    |\n",
       "| 7336996 | 6       |  3      | 201908  | 20      | 6       |  453    |\n",
       "| 8651386 | 6       |  5      | 201905  | 20      | 6       |  453    |\n",
       "| 2470615 | 8       |  1      | 200803  | 24      | 1       |  488    |\n",
       "| 7154309 | 8       | 11      | 201306  | 10      | 4       |  488    |\n",
       "|  939833 | 6       |  4      | 201612  | 20      | 3       |  603    |\n",
       "| 1109948 | 6       |  7      | 200808  | 15      | 6       |  759    |\n",
       "| 5950951 | 6       |  4      | 201903  | 20      | 4       |  794    |\n",
       "| 6212674 | 3       | 16      | 201206  | 20      | 1       |  794    |\n",
       "| 7576566 | 3       | 13      | 201208  | 20      | 1       |  794    |\n",
       "| 9109606 | 8       |  3      | 201601  | 10      | 4       |  794    |\n",
       "| 1505693 | 3       | 11      | 201204  |  7      | 1       |  800    |\n",
       "| 6082043 | 3       | 10      | 201708  |  5      | 1       |  800    |\n",
       "| 7083246 | 3       | 11      | 201407  | 10      | 1       |  800    |\n",
       "| 7180128 | 3       | 11      | 201407  | 10      | 1       |  800    |\n",
       "|    9529 | 6       | 13      | 201911  | 20      | 1       | 2130    |\n",
       "| 9812929 | 8       | 16      | 201112  |  3      | 1       | 2130    |\n",
       "| 9834062 | 8       |  1      | 200910  | 20      | 1       | 2130    |\n",
       "|  286990 | 6       |  7      | 201809  | 20      | 1       | 2821    |\n",
       "| 6523959 | 6       | 18      | 201706  | 10      | 4       | 2821    |\n",
       "| 7849656 | 6       |  4      | 201402  | 20      | 2       | 3263    |\n",
       "| 9234793 | 6       |  4      | 200708  | 20      | 2       | 3263    |\n",
       "| 2260159 | 8       |  3      | 201207  | 20      | 1       | 3962    |\n",
       "| 3958785 | 8       |  8      | 201505  |  5      | 6       | 3962    |\n",
       "|  364891 | 6       |  3      | 201302  | 10      | 1       | 4073    |\n",
       "| 2590746 | 6       |  4      | 201506  | 10      | 3       | 4073    |\n",
       "| ... | ... | ... | ... | ... | ... | ... |\n",
       "| 5439826 | 6       |  5      | 201706  | 33      |  1      | 1957319 |\n",
       "| 5896052 | 8       |  4      | 201908  |  0      |  5      | 1957319 |\n",
       "| 8283143 | 6       |  4      | 200901  | 20      | 99      | 1957319 |\n",
       "| 8692358 | 6       |  4      | 201106  |  5      |  4      | 1957319 |\n",
       "| 9021808 | 8       | 10      | 201510  |  0      |  1      | 1957319 |\n",
       "| 3420481 | 8       |  4      | 201908  |  1      |  4      | 1957335 |\n",
       "| 6700753 | 6       | 13      | 201903  | 15      |  1      | 1957335 |\n",
       "|  655009 | 6       | 13      | 201101  | 10      |  1      | 1957568 |\n",
       "| 5928818 | 8       |  1      | 201609  |  0      |  3      | 1957568 |\n",
       "| 3942396 | 8       | 11      | 201909  |  0      |  4      | 1958180 |\n",
       "| 6168716 | 8       |  4      | 202006  |  5      |  4      | 1958180 |\n",
       "| 7547334 | 8       | 10      | 202002  |  0      |  4      | 1958180 |\n",
       "| 7842951 | 8       | 11      | 201008  | 10      |  4      | 1958180 |\n",
       "| 2695631 | 8       |  1      | 201901  | 33      |  6      | 1958342 |\n",
       "| 3687656 | 6       |  4      | 201707  | 20      |  4      | 1958887 |\n",
       "| 4146225 | 8       |  3      | 201707  | 10      |  6      | 1958887 |\n",
       "| 4649465 | 8       | 11      | 201406  | 10      |  4      | 1958887 |\n",
       "| 7188762 | 6       |  4      | 201003  | 20      |  6      | 1958887 |\n",
       "|  446399 | 6       | 13      | 201601  | 20      |  6      | 1959058 |\n",
       "| 1600223 | 8       |  1      | 200910  | 20      |  1      | 1959058 |\n",
       "| 2928002 | 8       |  1      | 200712  | 10      |  1      | 1959058 |\n",
       "| 4863894 | 8       |  5      | 201903  | 30      |  1      | 1959058 |\n",
       "| 5538462 | 8       |  5      | 201805  | 10      |  6      | 1959058 |\n",
       "| 6873600 | 8       |  2      | 200708  | 20      |  3      | 1959058 |\n",
       "| 7115218 | 6       |  3      | 201401  | 25      |  1      | 1959058 |\n",
       "| 8103024 | 8       |  3      | 200902  | 20      |  1      | 1959058 |\n",
       "| 4135747 | 6       |  3      | 201202  | 20      |  3      | 1959358 |\n",
       "| 6226554 | 6       |  5      | 201602  | 15      |  3      | 1959358 |\n",
       "| 7471357 | 6       |  3      | 201405  | 20      |  3      | 1959358 |\n",
       "| 9057152 | 6       |  7      | 201402  | 30      |  1      | 1959417 |\n",
       "\n"
      ],
      "text/plain": [
       "      POL_SN  SCTR_CD INS_GBN_CD CT_CNCLS_DT CT_PY_PD CT_CHNL_CD JOIN_SN\n",
       "1     6680267 6        3         201306      30       3            44   \n",
       "2       65859 6        5         201912      20       6           453   \n",
       "3     1205750 6       13         201812      20       6           453   \n",
       "4     4623216 6       99         202002      20       6           453   \n",
       "5     6575838 6        4         201910      20       6           453   \n",
       "6     7336996 6        3         201908      20       6           453   \n",
       "7     8651386 6        5         201905      20       6           453   \n",
       "8     2470615 8        1         200803      24       1           488   \n",
       "9     7154309 8       11         201306      10       4           488   \n",
       "10     939833 6        4         201612      20       3           603   \n",
       "11    1109948 6        7         200808      15       6           759   \n",
       "12    5950951 6        4         201903      20       4           794   \n",
       "13    6212674 3       16         201206      20       1           794   \n",
       "14    7576566 3       13         201208      20       1           794   \n",
       "15    9109606 8        3         201601      10       4           794   \n",
       "16    1505693 3       11         201204       7       1           800   \n",
       "17    6082043 3       10         201708       5       1           800   \n",
       "18    7083246 3       11         201407      10       1           800   \n",
       "19    7180128 3       11         201407      10       1           800   \n",
       "20       9529 6       13         201911      20       1          2130   \n",
       "21    9812929 8       16         201112       3       1          2130   \n",
       "22    9834062 8        1         200910      20       1          2130   \n",
       "23     286990 6        7         201809      20       1          2821   \n",
       "24    6523959 6       18         201706      10       4          2821   \n",
       "25    7849656 6        4         201402      20       2          3263   \n",
       "26    9234793 6        4         200708      20       2          3263   \n",
       "27    2260159 8        3         201207      20       1          3962   \n",
       "28    3958785 8        8         201505       5       6          3962   \n",
       "29     364891 6        3         201302      10       1          4073   \n",
       "30    2590746 6        4         201506      10       3          4073   \n",
       "...   ...     ...     ...        ...         ...      ...        ...    \n",
       "10050 5439826 6        5         201706      33        1         1957319\n",
       "10051 5896052 8        4         201908       0        5         1957319\n",
       "10052 8283143 6        4         200901      20       99         1957319\n",
       "10053 8692358 6        4         201106       5        4         1957319\n",
       "10054 9021808 8       10         201510       0        1         1957319\n",
       "10055 3420481 8        4         201908       1        4         1957335\n",
       "10056 6700753 6       13         201903      15        1         1957335\n",
       "10057  655009 6       13         201101      10        1         1957568\n",
       "10058 5928818 8        1         201609       0        3         1957568\n",
       "10059 3942396 8       11         201909       0        4         1958180\n",
       "10060 6168716 8        4         202006       5        4         1958180\n",
       "10061 7547334 8       10         202002       0        4         1958180\n",
       "10062 7842951 8       11         201008      10        4         1958180\n",
       "10063 2695631 8        1         201901      33        6         1958342\n",
       "10064 3687656 6        4         201707      20        4         1958887\n",
       "10065 4146225 8        3         201707      10        6         1958887\n",
       "10066 4649465 8       11         201406      10        4         1958887\n",
       "10067 7188762 6        4         201003      20        6         1958887\n",
       "10068  446399 6       13         201601      20        6         1959058\n",
       "10069 1600223 8        1         200910      20        1         1959058\n",
       "10070 2928002 8        1         200712      10        1         1959058\n",
       "10071 4863894 8        5         201903      30        1         1959058\n",
       "10072 5538462 8        5         201805      10        6         1959058\n",
       "10073 6873600 8        2         200708      20        3         1959058\n",
       "10074 7115218 6        3         201401      25        1         1959058\n",
       "10075 8103024 8        3         200902      20        1         1959058\n",
       "10076 4135747 6        3         201202      20        3         1959358\n",
       "10077 6226554 6        5         201602      15        3         1959358\n",
       "10078 7471357 6        3         201405      20        3         1959358\n",
       "10079 9057152 6        7         201402      30        1         1959417"
      ]
     },
     "metadata": {},
     "output_type": "display_data"
    }
   ],
   "source": [
    "unique(TJ)[order(JOIN_SN, POL_SN)][, c('POL_SN', 'SCTR_CD', 'INS_GBN_CD', 'CT_CNCLS_DT', 'CT_PY_PD', 'CT_CHNL_CD', 'JOIN_SN')]"
   ]
  },
  {
   "cell_type": "markdown",
   "metadata": {},
   "source": [
    "### 증권 2개 이상 집단 탐색"
   ]
  },
  {
   "cell_type": "code",
   "execution_count": 659,
   "metadata": {},
   "outputs": [
    {
     "name": "stdout",
     "output_type": "stream",
     "text": [
      "[1] \"미청구 포함 증번 및 차주\"\n"
     ]
    },
    {
     "data": {
      "text/html": [
       "<ol class=list-inline>\n",
       "\t<li>8202</li>\n",
       "\t<li>7</li>\n",
       "</ol>\n"
      ],
      "text/latex": [
       "\\begin{enumerate*}\n",
       "\\item 8202\n",
       "\\item 7\n",
       "\\end{enumerate*}\n"
      ],
      "text/markdown": [
       "1. 8202\n",
       "2. 7\n",
       "\n",
       "\n"
      ],
      "text/plain": [
       "[1] 8202    7"
      ]
     },
     "metadata": {},
     "output_type": "display_data"
    },
    {
     "data": {
      "text/html": [
       "2509"
      ],
      "text/latex": [
       "2509"
      ],
      "text/markdown": [
       "2509"
      ],
      "text/plain": [
       "[1] 2509"
      ]
     },
     "metadata": {},
     "output_type": "display_data"
    },
    {
     "data": {
      "text/html": [
       "<table>\n",
       "<thead><tr><th scope=col>JOIN_SN</th><th scope=col>POL_SN</th><th scope=col>SCTR_CD</th><th scope=col>INS_GBN_CD</th><th scope=col>CT_CNCLS_DT</th><th scope=col>CT_PY_PD</th><th scope=col>CT_CHNL_CD</th></tr></thead>\n",
       "<tbody>\n",
       "\t<tr><td>453    </td><td>  65859</td><td>6      </td><td> 5     </td><td>201912 </td><td>20     </td><td>6      </td></tr>\n",
       "\t<tr><td>453    </td><td>1205750</td><td>6      </td><td>13     </td><td>201812 </td><td>20     </td><td>6      </td></tr>\n",
       "\t<tr><td>453    </td><td>4623216</td><td>6      </td><td>99     </td><td>202002 </td><td>20     </td><td>6      </td></tr>\n",
       "\t<tr><td>453    </td><td>6575838</td><td>6      </td><td> 4     </td><td>201910 </td><td>20     </td><td>6      </td></tr>\n",
       "\t<tr><td>453    </td><td>7336996</td><td>6      </td><td> 3     </td><td>201908 </td><td>20     </td><td>6      </td></tr>\n",
       "\t<tr><td>453    </td><td>8651386</td><td>6      </td><td> 5     </td><td>201905 </td><td>20     </td><td>6      </td></tr>\n",
       "</tbody>\n",
       "</table>\n"
      ],
      "text/latex": [
       "\\begin{tabular}{r|lllllll}\n",
       " JOIN\\_SN & POL\\_SN & SCTR\\_CD & INS\\_GBN\\_CD & CT\\_CNCLS\\_DT & CT\\_PY\\_PD & CT\\_CHNL\\_CD\\\\\n",
       "\\hline\n",
       "\t 453     &   65859 & 6       &  5      & 201912  & 20      & 6      \\\\\n",
       "\t 453     & 1205750 & 6       & 13      & 201812  & 20      & 6      \\\\\n",
       "\t 453     & 4623216 & 6       & 99      & 202002  & 20      & 6      \\\\\n",
       "\t 453     & 6575838 & 6       &  4      & 201910  & 20      & 6      \\\\\n",
       "\t 453     & 7336996 & 6       &  3      & 201908  & 20      & 6      \\\\\n",
       "\t 453     & 8651386 & 6       &  5      & 201905  & 20      & 6      \\\\\n",
       "\\end{tabular}\n"
      ],
      "text/markdown": [
       "\n",
       "| JOIN_SN | POL_SN | SCTR_CD | INS_GBN_CD | CT_CNCLS_DT | CT_PY_PD | CT_CHNL_CD |\n",
       "|---|---|---|---|---|---|---|\n",
       "| 453     |   65859 | 6       |  5      | 201912  | 20      | 6       |\n",
       "| 453     | 1205750 | 6       | 13      | 201812  | 20      | 6       |\n",
       "| 453     | 4623216 | 6       | 99      | 202002  | 20      | 6       |\n",
       "| 453     | 6575838 | 6       |  4      | 201910  | 20      | 6       |\n",
       "| 453     | 7336996 | 6       |  3      | 201908  | 20      | 6       |\n",
       "| 453     | 8651386 | 6       |  5      | 201905  | 20      | 6       |\n",
       "\n"
      ],
      "text/plain": [
       "  JOIN_SN POL_SN  SCTR_CD INS_GBN_CD CT_CNCLS_DT CT_PY_PD CT_CHNL_CD\n",
       "1 453       65859 6        5         201912      20       6         \n",
       "2 453     1205750 6       13         201812      20       6         \n",
       "3 453     4623216 6       99         202002      20       6         \n",
       "4 453     6575838 6        4         201910      20       6         \n",
       "5 453     7336996 6        3         201908      20       6         \n",
       "6 453     8651386 6        5         201905      20       6         "
      ]
     },
     "metadata": {},
     "output_type": "display_data"
    },
    {
     "name": "stdout",
     "output_type": "stream",
     "text": [
      "[1] \"청구가 한번이라도 일어난 증번 및 차주\"\n"
     ]
    },
    {
     "data": {
      "text/html": [
       "<ol class=list-inline>\n",
       "\t<li>226</li>\n",
       "\t<li>7</li>\n",
       "</ol>\n"
      ],
      "text/latex": [
       "\\begin{enumerate*}\n",
       "\\item 226\n",
       "\\item 7\n",
       "\\end{enumerate*}\n"
      ],
      "text/markdown": [
       "1. 226\n",
       "2. 7\n",
       "\n",
       "\n"
      ],
      "text/plain": [
       "[1] 226   7"
      ]
     },
     "metadata": {},
     "output_type": "display_data"
    },
    {
     "data": {
      "text/html": [
       "96"
      ],
      "text/latex": [
       "96"
      ],
      "text/markdown": [
       "96"
      ],
      "text/plain": [
       "[1] 96"
      ]
     },
     "metadata": {},
     "output_type": "display_data"
    },
    {
     "data": {
      "text/html": [
       "<table>\n",
       "<thead><tr><th scope=col>JOIN_SN</th><th scope=col>POL_SN</th><th scope=col>SCTR_CD</th><th scope=col>INS_GBN_CD</th><th scope=col>CT_CNCLS_DT</th><th scope=col>CT_PY_PD</th><th scope=col>CT_CHNL_CD</th></tr></thead>\n",
       "<tbody>\n",
       "\t<tr><td>27752  </td><td>6471836</td><td>8      </td><td>1      </td><td>200612 </td><td>20     </td><td>1      </td></tr>\n",
       "\t<tr><td>27752  </td><td>7222581</td><td>6      </td><td>4      </td><td>201111 </td><td>20     </td><td>3      </td></tr>\n",
       "\t<tr><td>32127  </td><td>7748610</td><td>6      </td><td>3      </td><td>201005 </td><td>20     </td><td>3      </td></tr>\n",
       "\t<tr><td>32127  </td><td>9803686</td><td>8      </td><td>7      </td><td>201404 </td><td>20     </td><td>3      </td></tr>\n",
       "\t<tr><td>91452  </td><td>3190492</td><td>8      </td><td>1      </td><td>201804 </td><td>20     </td><td>1      </td></tr>\n",
       "\t<tr><td>91452  </td><td>4212670</td><td>8      </td><td>7      </td><td>201703 </td><td>30     </td><td>6      </td></tr>\n",
       "</tbody>\n",
       "</table>\n"
      ],
      "text/latex": [
       "\\begin{tabular}{r|lllllll}\n",
       " JOIN\\_SN & POL\\_SN & SCTR\\_CD & INS\\_GBN\\_CD & CT\\_CNCLS\\_DT & CT\\_PY\\_PD & CT\\_CHNL\\_CD\\\\\n",
       "\\hline\n",
       "\t 27752   & 6471836 & 8       & 1       & 200612  & 20      & 1      \\\\\n",
       "\t 27752   & 7222581 & 6       & 4       & 201111  & 20      & 3      \\\\\n",
       "\t 32127   & 7748610 & 6       & 3       & 201005  & 20      & 3      \\\\\n",
       "\t 32127   & 9803686 & 8       & 7       & 201404  & 20      & 3      \\\\\n",
       "\t 91452   & 3190492 & 8       & 1       & 201804  & 20      & 1      \\\\\n",
       "\t 91452   & 4212670 & 8       & 7       & 201703  & 30      & 6      \\\\\n",
       "\\end{tabular}\n"
      ],
      "text/markdown": [
       "\n",
       "| JOIN_SN | POL_SN | SCTR_CD | INS_GBN_CD | CT_CNCLS_DT | CT_PY_PD | CT_CHNL_CD |\n",
       "|---|---|---|---|---|---|---|\n",
       "| 27752   | 6471836 | 8       | 1       | 200612  | 20      | 1       |\n",
       "| 27752   | 7222581 | 6       | 4       | 201111  | 20      | 3       |\n",
       "| 32127   | 7748610 | 6       | 3       | 201005  | 20      | 3       |\n",
       "| 32127   | 9803686 | 8       | 7       | 201404  | 20      | 3       |\n",
       "| 91452   | 3190492 | 8       | 1       | 201804  | 20      | 1       |\n",
       "| 91452   | 4212670 | 8       | 7       | 201703  | 30      | 6       |\n",
       "\n"
      ],
      "text/plain": [
       "  JOIN_SN POL_SN  SCTR_CD INS_GBN_CD CT_CNCLS_DT CT_PY_PD CT_CHNL_CD\n",
       "1 27752   6471836 8       1          200612      20       1         \n",
       "2 27752   7222581 6       4          201111      20       3         \n",
       "3 32127   7748610 6       3          201005      20       3         \n",
       "4 32127   9803686 8       7          201404      20       3         \n",
       "5 91452   3190492 8       1          201804      20       1         \n",
       "6 91452   4212670 8       7          201703      30       6         "
      ]
     },
     "metadata": {},
     "output_type": "display_data"
    }
   ],
   "source": [
    "TJ1 <- unique(TJ)\n",
    "\n",
    "TJ2 <- TJ1[order(JOIN_SN, POL_SN)\n",
    "        ][ , lapply(.SD, as.numeric), by=.(loss1, loss2, loss3, loss4, loss5)\n",
    "            ][, SUMloss := (loss1 + loss2 + loss3 + loss4 + loss5) \n",
    "                 ][, c('POL_SN', 'SCTR_CD', 'INS_GBN_CD', 'CT_CNCLS_DT', 'CT_PY_PD', 'CT_CHNL_CD', 'JOIN_SN')\n",
    "                           ][order(JOIN_SN)\n",
    "                                ][, if(.N > 1) .SD, by = JOIN_SN]\n",
    "print(\"미청구 포함 증번 및 차주\")\n",
    "dim(TJ2)\n",
    "n_distinct(TJ2$JOIN_SN)\n",
    "head(TJ2)\n",
    "TJ2_nz <- TJ1[order(JOIN_SN, POL_SN)\n",
    "        ][ , lapply(.SD, as.numeric), by=.(loss1, loss2, loss3, loss4, loss5)\n",
    "            ][, SUMloss := (loss1 + loss2 + loss3 + loss4 + loss5)\n",
    "                ][SUMloss > 0\n",
    "                 ][, c('POL_SN', 'SCTR_CD', 'INS_GBN_CD', 'CT_CNCLS_DT', 'CT_PY_PD', 'CT_CHNL_CD', 'JOIN_SN')\n",
    "                           ][order(JOIN_SN)\n",
    "                                ][, if(.N > 1) .SD, by = JOIN_SN]\n",
    "print('청구가 한번이라도 일어난 증번 및 차주')\n",
    "dim(TJ2_nz)\n",
    "n_distinct(TJ2_nz$JOIN_SN)                                  \n",
    "head(TJ2_nz)"
   ]
  },
  {
   "cell_type": "code",
   "execution_count": 660,
   "metadata": {},
   "outputs": [
    {
     "data": {
      "text/html": [
       "<ol class=list-inline>\n",
       "\t<li>8202</li>\n",
       "\t<li>4</li>\n",
       "</ol>\n"
      ],
      "text/latex": [
       "\\begin{enumerate*}\n",
       "\\item 8202\n",
       "\\item 4\n",
       "\\end{enumerate*}\n"
      ],
      "text/markdown": [
       "1. 8202\n",
       "2. 4\n",
       "\n",
       "\n"
      ],
      "text/plain": [
       "[1] 8202    4"
      ]
     },
     "metadata": {},
     "output_type": "display_data"
    },
    {
     "name": "stdout",
     "output_type": "stream",
     "text": [
      "[1] \" 차주가 보유한 증권들 중 SCTR_CD, INS_GBN_CD, CT_CHNL_CD 가 모두 같을때 다른 열 더하거나 최대값으로 줄임 \"\n"
     ]
    },
    {
     "data": {
      "text/html": [
       "<ol class=list-inline>\n",
       "\t<li>7224</li>\n",
       "\t<li>4</li>\n",
       "</ol>\n"
      ],
      "text/latex": [
       "\\begin{enumerate*}\n",
       "\\item 7224\n",
       "\\item 4\n",
       "\\end{enumerate*}\n"
      ],
      "text/markdown": [
       "1. 7224\n",
       "2. 4\n",
       "\n",
       "\n"
      ],
      "text/plain": [
       "[1] 7224    4"
      ]
     },
     "metadata": {},
     "output_type": "display_data"
    },
    {
     "data": {
      "text/html": [
       "<table>\n",
       "<thead><tr><th scope=col>SCTR_CD</th><th scope=col>INS_GBN_CD</th><th scope=col>CT_CHNL_CD</th><th scope=col>JOIN_SN</th></tr></thead>\n",
       "<tbody>\n",
       "\t<tr><td>6  </td><td> 5 </td><td>6  </td><td>453</td></tr>\n",
       "\t<tr><td>6  </td><td>13 </td><td>6  </td><td>453</td></tr>\n",
       "\t<tr><td>6  </td><td>99 </td><td>6  </td><td>453</td></tr>\n",
       "\t<tr><td>6  </td><td> 4 </td><td>6  </td><td>453</td></tr>\n",
       "\t<tr><td>6  </td><td> 3 </td><td>6  </td><td>453</td></tr>\n",
       "\t<tr><td>8  </td><td> 1 </td><td>1  </td><td>488</td></tr>\n",
       "</tbody>\n",
       "</table>\n"
      ],
      "text/latex": [
       "\\begin{tabular}{r|llll}\n",
       " SCTR\\_CD & INS\\_GBN\\_CD & CT\\_CHNL\\_CD & JOIN\\_SN\\\\\n",
       "\\hline\n",
       "\t 6   &  5  & 6   & 453\\\\\n",
       "\t 6   & 13  & 6   & 453\\\\\n",
       "\t 6   & 99  & 6   & 453\\\\\n",
       "\t 6   &  4  & 6   & 453\\\\\n",
       "\t 6   &  3  & 6   & 453\\\\\n",
       "\t 8   &  1  & 1   & 488\\\\\n",
       "\\end{tabular}\n"
      ],
      "text/markdown": [
       "\n",
       "| SCTR_CD | INS_GBN_CD | CT_CHNL_CD | JOIN_SN |\n",
       "|---|---|---|---|\n",
       "| 6   |  5  | 6   | 453 |\n",
       "| 6   | 13  | 6   | 453 |\n",
       "| 6   | 99  | 6   | 453 |\n",
       "| 6   |  4  | 6   | 453 |\n",
       "| 6   |  3  | 6   | 453 |\n",
       "| 8   |  1  | 1   | 488 |\n",
       "\n"
      ],
      "text/plain": [
       "  SCTR_CD INS_GBN_CD CT_CHNL_CD JOIN_SN\n",
       "1 6        5         6          453    \n",
       "2 6       13         6          453    \n",
       "3 6       99         6          453    \n",
       "4 6        4         6          453    \n",
       "5 6        3         6          453    \n",
       "6 8        1         1          488    "
      ]
     },
     "metadata": {},
     "output_type": "display_data"
    },
    {
     "data": {
      "text/html": [
       "<ol class=list-inline>\n",
       "\t<li>226</li>\n",
       "\t<li>4</li>\n",
       "</ol>\n"
      ],
      "text/latex": [
       "\\begin{enumerate*}\n",
       "\\item 226\n",
       "\\item 4\n",
       "\\end{enumerate*}\n"
      ],
      "text/markdown": [
       "1. 226\n",
       "2. 4\n",
       "\n",
       "\n"
      ],
      "text/plain": [
       "[1] 226   4"
      ]
     },
     "metadata": {},
     "output_type": "display_data"
    },
    {
     "name": "stdout",
     "output_type": "stream",
     "text": [
      "[1] \" 1번 이상 청구가 일어난 증번 한정 차주가 보유한 증권들 중 SCTR_CD, INS_GBN_CD, CT_CHNL_CD 가 모두 같을때 다른 열 더하거나 최대값으로 줄임 \"\n"
     ]
    },
    {
     "data": {
      "text/html": [
       "<ol class=list-inline>\n",
       "\t<li>215</li>\n",
       "\t<li>4</li>\n",
       "</ol>\n"
      ],
      "text/latex": [
       "\\begin{enumerate*}\n",
       "\\item 215\n",
       "\\item 4\n",
       "\\end{enumerate*}\n"
      ],
      "text/markdown": [
       "1. 215\n",
       "2. 4\n",
       "\n",
       "\n"
      ],
      "text/plain": [
       "[1] 215   4"
      ]
     },
     "metadata": {},
     "output_type": "display_data"
    },
    {
     "data": {
      "text/html": [
       "<table>\n",
       "<thead><tr><th scope=col>SCTR_CD</th><th scope=col>INS_GBN_CD</th><th scope=col>CT_CHNL_CD</th><th scope=col>JOIN_SN</th></tr></thead>\n",
       "<tbody>\n",
       "\t<tr><td>8    </td><td>1    </td><td>1    </td><td>27752</td></tr>\n",
       "\t<tr><td>6    </td><td>4    </td><td>3    </td><td>27752</td></tr>\n",
       "\t<tr><td>6    </td><td>3    </td><td>3    </td><td>32127</td></tr>\n",
       "\t<tr><td>8    </td><td>7    </td><td>3    </td><td>32127</td></tr>\n",
       "\t<tr><td>8    </td><td>1    </td><td>1    </td><td>91452</td></tr>\n",
       "\t<tr><td>8    </td><td>7    </td><td>6    </td><td>91452</td></tr>\n",
       "</tbody>\n",
       "</table>\n"
      ],
      "text/latex": [
       "\\begin{tabular}{r|llll}\n",
       " SCTR\\_CD & INS\\_GBN\\_CD & CT\\_CHNL\\_CD & JOIN\\_SN\\\\\n",
       "\\hline\n",
       "\t 8     & 1     & 1     & 27752\\\\\n",
       "\t 6     & 4     & 3     & 27752\\\\\n",
       "\t 6     & 3     & 3     & 32127\\\\\n",
       "\t 8     & 7     & 3     & 32127\\\\\n",
       "\t 8     & 1     & 1     & 91452\\\\\n",
       "\t 8     & 7     & 6     & 91452\\\\\n",
       "\\end{tabular}\n"
      ],
      "text/markdown": [
       "\n",
       "| SCTR_CD | INS_GBN_CD | CT_CHNL_CD | JOIN_SN |\n",
       "|---|---|---|---|\n",
       "| 8     | 1     | 1     | 27752 |\n",
       "| 6     | 4     | 3     | 27752 |\n",
       "| 6     | 3     | 3     | 32127 |\n",
       "| 8     | 7     | 3     | 32127 |\n",
       "| 8     | 1     | 1     | 91452 |\n",
       "| 8     | 7     | 6     | 91452 |\n",
       "\n"
      ],
      "text/plain": [
       "  SCTR_CD INS_GBN_CD CT_CHNL_CD JOIN_SN\n",
       "1 8       1          1          27752  \n",
       "2 6       4          3          27752  \n",
       "3 6       3          3          32127  \n",
       "4 8       7          3          32127  \n",
       "5 8       1          1          91452  \n",
       "6 8       7          6          91452  "
      ]
     },
     "metadata": {},
     "output_type": "display_data"
    }
   ],
   "source": [
    "TJ3 <- TJ2[, c('SCTR_CD', 'INS_GBN_CD', 'CT_CHNL_CD', 'JOIN_SN')]\n",
    "dim(TJ3)\n",
    "TJ4 <- unique(TJ3)\n",
    "print(' 차주가 보유한 증권들 중 SCTR_CD, INS_GBN_CD, CT_CHNL_CD 가 모두 같을때 다른 열 더하거나 최대값으로 줄임 ') # 적용 할 사항1\n",
    "dim(TJ4)\n",
    "head(TJ4)\n",
    "\n",
    "TJ2_nz1 <- TJ2_nz[, c('SCTR_CD', 'INS_GBN_CD', 'CT_CHNL_CD', 'JOIN_SN')]\n",
    "dim(TJ2_nz1)\n",
    "TJ2_nz2 <- unique(TJ2_nz1)\n",
    "print(' 1번 이상 청구가 일어난 증번 한정 차주가 보유한 증권들 중 SCTR_CD, INS_GBN_CD, CT_CHNL_CD 가 모두 같을때 다른 열 더하거나 최대값으로 줄임 ') # 적용 할 사항1\n",
    "dim(TJ2_nz2)\n",
    "head(TJ2_nz2)\n"
   ]
  },
  {
   "cell_type": "markdown",
   "metadata": {},
   "source": [
    "# 분석 I. 청구가 일어난 경우, 보험료 대비 청구액  "
   ]
  },
  {
   "cell_type": "markdown",
   "metadata": {},
   "source": [
    "### 1. 업권코드 / 보험종류 선택하여 개별 분석(Group화 하여 분석한다)"
   ]
  },
  {
   "cell_type": "markdown",
   "metadata": {},
   "source": [
    "### 2. 업권코드/보험종류 선택하지 않을 경우, 아래를 가정하여 하나의 계약자를 여럿으로 나눈다. \n",
    "### 가정 설정 : 채널별 보험료합 비율로 신용 데이터를 자른다\n",
    "* 채널이 같을때 (보험/신용) = (SUM) / (MAX)\n",
    "* 채널이 다를 경우 (보험/신용) = (SUMgroup1), (SUMgroup2), ...  /  (MAX/SUM * SUMgroup1), (MAX/SUM * SUMgroup2), ..."
   ]
  },
  {
   "cell_type": "markdown",
   "metadata": {},
   "source": [
    "### Grouped Regression for 분석 I-1"
   ]
  },
  {
   "cell_type": "code",
   "execution_count": 449,
   "metadata": {},
   "outputs": [
    {
     "ename": "ERROR",
     "evalue": "Error in setDT(): argument \"name\" is missing, with no default\n",
     "output_type": "error",
     "traceback": [
      "Error in setDT(): argument \"name\" is missing, with no default\nTraceback:\n",
      "1. setDT()"
     ]
    }
   ],
   "source": [
    "DT <- setDT(   ) \n",
    "y <-  \n",
    "x1 <-\n",
    "x2 <-\n",
    "grouped <- \n",
    "\n",
    "# Overall coefficient for comparison\n",
    "overall_coef <- DT[, coef(glm(y ~ x))['x'], by = grouped]\n",
    "\n",
    "# plot\n",
    "CONT2[, if(.N > 20L) .(w_coef = coef(lm(y~ x))['x']), by = grouped\n",
    "     ][, hist(w_coef, 100L, las = 1L,\n",
    "             xlab = \"x\",\n",
    "             ylab = \"y\", col = 'darkgreen',\n",
    "             main = \"x on y\")]\n",
    "abline(v = overall_coef, lty = 2L, col = 'red')"
   ]
  },
  {
   "cell_type": "code",
   "execution_count": 681,
   "metadata": {},
   "outputs": [],
   "source": [
    "## 분석 II. (청구가 일어남1/청구가 일어나지 않음0)"
   ]
  },
  {
   "cell_type": "code",
   "execution_count": 683,
   "metadata": {},
   "outputs": [],
   "source": [
    "### logit/probit/extreme link model"
   ]
  },
  {
   "cell_type": "code",
   "execution_count": null,
   "metadata": {},
   "outputs": [],
   "source": []
  }
 ],
 "metadata": {
  "kernelspec": {
   "display_name": "R",
   "language": "R",
   "name": "ir"
  },
  "language_info": {
   "codemirror_mode": "r",
   "file_extension": ".r",
   "mimetype": "text/x-r-source",
   "name": "R",
   "pygments_lexer": "r",
   "version": "3.6.1"
  }
 },
 "nbformat": 4,
 "nbformat_minor": 2
}
