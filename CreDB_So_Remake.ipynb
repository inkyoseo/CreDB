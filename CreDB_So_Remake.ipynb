{
 "cells": [
  {
   "cell_type": "markdown",
   "id": "7e5bdcc4-4d28-4c0b-bec2-4fa5acdfca42",
   "metadata": {},
   "source": []
  },
  {
   "cell_type": "code",
   "execution_count": 1,
   "id": "68f14174-f21f-40bf-add2-5a7c7aaf3941",
   "metadata": {},
   "outputs": [
    {
     "data": {
      "text/html": [
       "'/Users/inkyoseo'"
      ],
      "text/latex": [
       "'/Users/inkyoseo'"
      ],
      "text/markdown": [
       "'/Users/inkyoseo'"
      ],
      "text/plain": [
       "[1] \"/Users/inkyoseo\""
      ]
     },
     "metadata": {},
     "output_type": "display_data"
    }
   ],
   "source": [
    "getwd()"
   ]
  },
  {
   "cell_type": "code",
   "execution_count": null,
   "id": "f8b1c182-e41b-4ed7-ade5-f12b5935ff12",
   "metadata": {},
   "outputs": [],
   "source": []
  },
  {
   "cell_type": "code",
   "execution_count": null,
   "id": "3f4b4ae5-e5db-46eb-a31d-74f3ff8d12e4",
   "metadata": {},
   "outputs": [],
   "source": []
  },
  {
   "cell_type": "code",
   "execution_count": null,
   "id": "35cae66c-ba92-40f3-b7ab-9c0220c6fc6f",
   "metadata": {},
   "outputs": [],
   "source": []
  },
  {
   "cell_type": "code",
   "execution_count": null,
   "id": "97b06d58-8bec-447c-8197-c940e48cacc4",
   "metadata": {},
   "outputs": [],
   "source": []
  }
 ],
 "metadata": {
  "kernelspec": {
   "display_name": "R",
   "language": "R",
   "name": "ir"
  },
  "language_info": {
   "codemirror_mode": "r",
   "file_extension": ".r",
   "mimetype": "text/x-r-source",
   "name": "R",
   "pygments_lexer": "r",
   "version": "3.6.1"
  }
 },
 "nbformat": 4,
 "nbformat_minor": 5
}
